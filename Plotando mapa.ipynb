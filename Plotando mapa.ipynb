{
 "cells": [
  {
   "cell_type": "code",
   "execution_count": 13,
   "id": "7664e2ec",
   "metadata": {},
   "outputs": [],
   "source": [
    "import folium;\n",
    "import pandas as pd;"
   ]
  },
  {
   "cell_type": "code",
   "execution_count": 14,
   "id": "97f78918",
   "metadata": {},
   "outputs": [],
   "source": [
    "mapa = folium.Map(location=[-19.916667,-43.933333],\n",
    "                     tiles = 'Stamen Terrain',\n",
    "                     zoom_start = 4);\n",
    "\n",
    "mapaSolo = folium.Map(location=[-19.916667,-43.933333],\n",
    "                     tiles = 'Stamen Terrain',\n",
    "                     zoom_start = 4);\n"
   ]
  },
  {
   "cell_type": "code",
   "execution_count": 15,
   "id": "ae278fbf",
   "metadata": {},
   "outputs": [],
   "source": [
    "# único ponto no Mapa\n",
    "# folium.Marker([-17.8411111,-53.28944444],popup='ALTO TAQUARI').add_to(mapa);"
   ]
  },
  {
   "cell_type": "code",
   "execution_count": 28,
   "id": "e3ef8337",
   "metadata": {},
   "outputs": [],
   "source": [
    "coordenadas = pd.read_csv(\"datasets\\coords.csv\",\";\");  \n",
    "coordenadasSolo = pd.read_csv(\"datasets\\CoordSoloMapeadoFiltrado.csv\",\";\");  \n",
    "\n",
    "coordenadasSolo = coordenadasSolo[coordenadasSolo['LATITUDE'].notna()];\n",
    "coordenadasSolo = coordenadasSolo[coordenadasSolo['LONGITUDE'].notna()];\n"
   ]
  },
  {
   "cell_type": "code",
   "execution_count": 5,
   "id": "35f298b2",
   "metadata": {},
   "outputs": [],
   "source": [
    "#for _, coord in coordenadas.iterrows():\n",
    "#    folium.Marker(\n",
    "#        location=[coord['LATITUDE'], coord['LONGITUDE']],\n",
    "#    ).add_to(mapa) "
   ]
  },
  {
   "cell_type": "code",
   "execution_count": 17,
   "id": "e8e279ef",
   "metadata": {},
   "outputs": [],
   "source": [
    "colors = {\n",
    " 'NE': 'purple',\n",
    " 'N': 'blue',\n",
    " 'CO': 'green',\n",
    " 'S': 'orange',\n",
    " 'SE': 'red'\n",
    "}"
   ]
  },
  {
   "cell_type": "code",
   "execution_count": 7,
   "id": "37462d25",
   "metadata": {},
   "outputs": [],
   "source": [
    "#for _, coord in coordenadas.iterrows():\n",
    "#    if coord['REGIAO'] in colors.keys():\n",
    "#        folium.Marker(\n",
    "#           location=[coord['LATITUDE'], coord['LONGITUDE']],\n",
    "#            icon=folium.Icon(color=colors[coord['REGIAO']])\n",
    "#        ).add_to(mapa)       \n",
    "\n",
    "        "
   ]
  },
  {
   "cell_type": "code",
   "execution_count": 24,
   "id": "afe0bb51",
   "metadata": {},
   "outputs": [],
   "source": [
    "#Pontos do Solo mapeados no OpenSoils\n",
    "for _, coord in coordenadasSolo.iterrows():\n",
    "    folium.CircleMarker(location=[coord['LATITUDE'], coord['LONGITUDE']],\n",
    "                            radius=5 \n",
    "                           ).add_to(mapaSolo)"
   ]
  },
  {
   "cell_type": "code",
   "execution_count": 18,
   "id": "1b0aa89c",
   "metadata": {},
   "outputs": [],
   "source": [
    "#Pontos das Estações mapeados no arquivo do INMET\n",
    "for _, coord in coordenadas.iterrows():\n",
    "    if coord['REGIAO'] in colors.keys():\n",
    "        folium.CircleMarker(location=[coord['LATITUDE'], coord['LONGITUDE']],\n",
    "                            radius=5, \n",
    "                            #fill_color=colors[coord['REGIAO']]\n",
    "                            color =colors[coord['REGIAO']],\n",
    "                            popup=coord['NOME'],\n",
    "                           ).add_to(mapa)"
   ]
  },
  {
   "cell_type": "code",
   "execution_count": 29,
   "id": "3f3c00ee",
   "metadata": {
    "scrolled": true
   },
   "outputs": [],
   "source": [
    "mapa;"
   ]
  },
  {
   "cell_type": "code",
   "execution_count": 25,
   "id": "e019e07d",
   "metadata": {},
   "outputs": [],
   "source": [
    "mapaSolo;"
   ]
  },
  {
   "cell_type": "code",
   "execution_count": 26,
   "id": "3b429047",
   "metadata": {},
   "outputs": [],
   "source": [
    "mapa.save('mapas_htmls/mapa_some_colors.html');\n",
    "mapaSolo.save('mapas_htmls/mapaSolo_some_colors.html');"
   ]
  },
  {
   "cell_type": "code",
   "execution_count": null,
   "id": "bae70e1e",
   "metadata": {},
   "outputs": [],
   "source": []
  }
 ],
 "metadata": {
  "kernelspec": {
   "display_name": "Python 3",
   "language": "python",
   "name": "python3"
  },
  "language_info": {
   "codemirror_mode": {
    "name": "ipython",
    "version": 3
   },
   "file_extension": ".py",
   "mimetype": "text/x-python",
   "name": "python",
   "nbconvert_exporter": "python",
   "pygments_lexer": "ipython3",
   "version": "3.8.8"
  }
 },
 "nbformat": 4,
 "nbformat_minor": 5
}
