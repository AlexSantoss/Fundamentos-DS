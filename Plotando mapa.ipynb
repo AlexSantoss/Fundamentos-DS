{
 "cells": [
  {
   "cell_type": "code",
   "execution_count": 1,
   "id": "7664e2ec",
   "metadata": {},
   "outputs": [],
   "source": [
    "import folium;\n",
    "import pandas as pd;"
   ]
  },
  {
   "cell_type": "code",
   "execution_count": 2,
   "id": "97f78918",
   "metadata": {},
   "outputs": [],
   "source": [
    "mapa = folium.Map(location=[-19.916667,-43.933333],\n",
    "                     tiles = 'Stamen Terrain',\n",
    "                     zoom_start = 4);\n",
    "\n",
    "mapaSolo = folium.Map(location=[-19.916667,-43.933333],\n",
    "                     tiles = 'Stamen Terrain',\n",
    "                     zoom_start = 4);\n"
   ]
  },
  {
   "cell_type": "code",
   "execution_count": 3,
   "id": "ae278fbf",
   "metadata": {},
   "outputs": [],
   "source": [
    "# único ponto no Mapa\n",
    "# folium.Marker([-17.8411111,-53.28944444],popup='ALTO TAQUARI').add_to(mapa);"
   ]
  },
  {
   "cell_type": "code",
   "execution_count": 4,
   "id": "e3ef8337",
   "metadata": {},
   "outputs": [],
   "source": [
    "coordenadas = pd.read_csv(\"datasets\\coords.csv\",\";\");  \n",
    "coordenadasSolo = pd.read_csv(\"datasets\\coordsSoloOpenSoilsFiltrada.csv\",\";\");  \n",
    "\n",
    "coordenadasSolo = coordenadasSolo[coordenadasSolo['LATITUDE'].notna()];\n",
    "coordenadasSolo = coordenadasSolo[coordenadasSolo['LONGITUDE'].notna()];\n",
    "coordenadasSolo = coordenadasSolo[coordenadasSolo['LONGITUDE'] !='-'];"
   ]
  },
  {
   "cell_type": "code",
   "execution_count": 5,
   "id": "35f298b2",
   "metadata": {},
   "outputs": [],
   "source": [
    "#for _, coord in coordenadas.iterrows():\n",
    "#    folium.Marker(\n",
    "#        location=[coord['LATITUDE'], coord['LONGITUDE']],\n",
    "#    ).add_to(mapa) "
   ]
  },
  {
   "cell_type": "code",
   "execution_count": 6,
   "id": "4d1453db",
   "metadata": {},
   "outputs": [
    {
     "data": {
      "text/html": [
       "<div>\n",
       "<style scoped>\n",
       "    .dataframe tbody tr th:only-of-type {\n",
       "        vertical-align: middle;\n",
       "    }\n",
       "\n",
       "    .dataframe tbody tr th {\n",
       "        vertical-align: top;\n",
       "    }\n",
       "\n",
       "    .dataframe thead th {\n",
       "        text-align: right;\n",
       "    }\n",
       "</style>\n",
       "<table border=\"1\" class=\"dataframe\">\n",
       "  <thead>\n",
       "    <tr style=\"text-align: right;\">\n",
       "      <th></th>\n",
       "      <th>ID_OBSERVACAO</th>\n",
       "      <th>ID_DESCRICAO</th>\n",
       "      <th>ID_PROJETO</th>\n",
       "      <th>LONGITUDE</th>\n",
       "      <th>LATITUDE</th>\n",
       "      <th>FOTO</th>\n",
       "      <th>TIPO_OBSERVACAO</th>\n",
       "      <th>ALTITUDE</th>\n",
       "      <th>IDENTIFICACAO_CAMPO</th>\n",
       "      <th>RELACAO_B_A</th>\n",
       "      <th>COMENTARIO</th>\n",
       "      <th>ESTADO</th>\n",
       "      <th>MUNICIPIO</th>\n",
       "      <th>DATUM</th>\n",
       "      <th>TIPO_PERFIL</th>\n",
       "      <th>DATA_NOVO</th>\n",
       "      <th>CURADORIA</th>\n",
       "    </tr>\n",
       "  </thead>\n",
       "  <tbody>\n",
       "  </tbody>\n",
       "</table>\n",
       "</div>"
      ],
      "text/plain": [
       "Empty DataFrame\n",
       "Columns: [ID_OBSERVACAO, ID_DESCRICAO, ID_PROJETO, LONGITUDE, LATITUDE, FOTO, TIPO_OBSERVACAO, ALTITUDE, IDENTIFICACAO_CAMPO, RELACAO_B_A, COMENTARIO, ESTADO, MUNICIPIO, DATUM, TIPO_PERFIL, DATA_NOVO, CURADORIA]\n",
       "Index: []"
      ]
     },
     "metadata": {},
     "output_type": "display_data"
    }
   ],
   "source": [
    "                            "
   ]
  },
  {
   "cell_type": "code",
   "execution_count": 7,
   "id": "e8e279ef",
   "metadata": {},
   "outputs": [],
   "source": [
    "colors = {\n",
    " 'NE': 'purple',\n",
    " 'N': 'blue',\n",
    " 'CO': 'green',\n",
    " 'S': 'orange',\n",
    " 'SE': 'red'\n",
    "}"
   ]
  },
  {
   "cell_type": "code",
   "execution_count": 8,
   "id": "37462d25",
   "metadata": {},
   "outputs": [],
   "source": [
    "#for _, coord in coordenadas.iterrows():\n",
    "#    if coord['REGIAO'] in colors.keys():\n",
    "#        folium.Marker(\n",
    "#           location=[coord['LATITUDE'], coord['LONGITUDE']],\n",
    "#            icon=folium.Icon(color=colors[coord['REGIAO']])\n",
    "#        ).add_to(mapa)       \n",
    "\n",
    "        "
   ]
  },
  {
   "cell_type": "code",
   "execution_count": 9,
   "id": "afe0bb51",
   "metadata": {},
   "outputs": [],
   "source": [
    "#Pontos do Solo mapeados no OpenSoils\n",
    "for _, coord in coordenadasSolo.iterrows():\n",
    "    folium.CircleMarker(location=[coord['LATITUDE'], coord['LONGITUDE']],\n",
    "                            radius=5 \n",
    "                           ).add_to(mapaSolo)"
   ]
  },
  {
   "cell_type": "code",
   "execution_count": 10,
   "id": "1b0aa89c",
   "metadata": {},
   "outputs": [],
   "source": [
    "#Pontos das Estações mapeados no arquivo do INMET\n",
    "for _, coord in coordenadas.iterrows():\n",
    "    if coord['REGIAO'] in colors.keys():\n",
    "        folium.CircleMarker(location=[coord['LATITUDE'], coord['LONGITUDE']],\n",
    "                            radius=5, \n",
    "                            #fill_color=colors[coord['REGIAO']]\n",
    "                            color =colors[coord['REGIAO']],\n",
    "                            popup=coord['NOME'],\n",
    "                           ).add_to(mapa)"
   ]
  },
  {
   "cell_type": "code",
   "execution_count": 15,
   "id": "3f3c00ee",
   "metadata": {
    "scrolled": true
   },
   "outputs": [],
   "source": [
    "mapa;"
   ]
  },
  {
   "cell_type": "code",
   "execution_count": 12,
   "id": "e019e07d",
   "metadata": {},
   "outputs": [],
   "source": [
    "mapaSolo;"
   ]
  },
  {
   "cell_type": "code",
   "execution_count": 16,
   "id": "3b429047",
   "metadata": {},
   "outputs": [],
   "source": [
    "mapa.save('c:\\OutDados/mapa_some_colors.html');\n",
    "mapaSolo.save('c:\\OutDados/mapaSolo_some_colors.html');"
   ]
  },
  {
   "cell_type": "code",
   "execution_count": 17,
   "id": "bae70e1e",
   "metadata": {
    "scrolled": true
   },
   "outputs": [
    {
     "data": {
      "application/vnd.plotly.v1+json": {
       "config": {
        "plotlyServerURL": "https://plot.ly"
       },
       "data": [
        {
         "coloraxis": "coloraxis",
         "customdata": [
          [
           "BARBALHA",
           "A315",
           "CE"
          ],
          [
           "TOME ACU",
           "A213",
           "PA"
          ],
          [
           "BRASILANDIA",
           "S705",
           "MS"
          ],
          [
           "MARECHAL THAUMATURGO",
           "A137",
           "AC"
          ],
          [
           "ACARAU",
           "A360",
           "CE"
          ],
          [
           "PIRANHAS",
           "A371",
           "AL"
          ],
          [
           "APODI",
           "A340",
           "RN"
          ],
          [
           "BRAZLANDIA",
           "A042",
           "DF"
          ],
          [
           "VILHENA",
           "A938",
           "RO"
          ],
          [
           "IMPERATRIZ",
           "A225",
           "MA"
          ],
          [
           "TANGARA DA SERRA",
           "A902",
           "MT"
          ],
          [
           "LINS",
           "A727",
           "SP"
          ],
          [
           "ICARAIMA",
           "A824",
           "PR"
          ],
          [
           "ECOPORANGA",
           "A631",
           "ES"
          ],
          [
           "SANTANA DO LIVRAMENTO",
           "A804",
           "RS"
          ],
          [
           "COLINAS DO TOCANTINS",
           "A049",
           "TO"
          ],
          [
           "AREIA",
           "A310",
           "PB"
          ],
          [
           "URUSSANGA",
           "A814",
           "SC"
          ],
          [
           "CANELA",
           "A879",
           "RS"
          ],
          [
           "BOCA DO ACRE",
           "A110",
           "AM"
          ],
          [
           "EUCLIDES DA CUNHA",
           "A442",
           "BA"
          ],
          [
           "CHAPADINHA",
           "A206",
           "MA"
          ],
          [
           "SAO ROMAO",
           "A547",
           "MG"
          ],
          [
           "BAURU",
           "A705",
           "SP"
          ],
          [
           "AQUIDAUANA",
           "A719",
           "MS"
          ],
          [
           "CACADOR",
           "A859",
           "SC"
          ],
          [
           "CAIAPONIA",
           "A023",
           "GO"
          ],
          [
           "AFONSO CLAUDIO",
           "A657",
           "ES"
          ],
          [
           "ALTA FLORESTA",
           "A924",
           "MT"
          ],
          [
           "PASSO FUNDO",
           "A839",
           "RS"
          ],
          [
           "POSSE",
           "A017",
           "GO"
          ],
          [
           "AGUA BOA",
           "A908",
           "MT"
          ],
          [
           "BELO HORIZONTE - CERCADINHO",
           "F501",
           "MG"
          ],
          [
           "MACHADO",
           "A567",
           "MG"
          ],
          [
           "SAO PAULO - INTERLAGOS",
           "A771",
           "SP"
          ],
          [
           "MARIANOPOLIS DO TO",
           "A041",
           "TO"
          ],
          [
           "VITORIA DA CONQUISTA",
           "A414",
           "BA"
          ],
          [
           "VITORIA",
           "A612",
           "ES"
          ],
          [
           "ITAQUIRAI",
           "A752",
           "MS"
          ],
          [
           "ALMENARA",
           "A508",
           "MG"
          ],
          [
           "CRMN MANAUS",
           "S103",
           "AM"
          ],
          [
           "ESTREITO",
           "A224",
           "MA"
          ],
          [
           "IGUATU",
           "A319",
           "CE"
          ],
          [
           "DIANOPOLIS",
           "A038",
           "TO"
          ],
          [
           "PALMEIRA DAS MISSOES",
           "A856",
           "RS"
          ],
          [
           "RONDON DO PARA",
           "A214",
           "PA"
          ],
          [
           "IVAI",
           "A818",
           "PR"
          ],
          [
           "NOVO ARIPUANA",
           "A144",
           "AM"
          ],
          [
           "LENCOIS",
           "A425",
           "BA"
          ],
          [
           "CAMETA",
           "A236",
           "PA"
          ],
          [
           "BOA VISTA",
           "A135",
           "RR"
          ],
          [
           "VOTUPORANGA",
           "A729",
           "SP"
          ],
          [
           "CHAPADAO DO SUL",
           "A730",
           "MS"
          ],
          [
           "VILA BELA DA SANTISSIMA TRINDADE",
           "A922",
           "MT"
          ],
          [
           "NOVO HORIZONTE",
           "A816",
           "SC"
          ],
          [
           "PILAO ARCADO",
           "A449",
           "BA"
          ],
          [
           "URUCUI",
           "A346",
           "PI"
          ],
          [
           "ITAUBAL",
           "A251",
           "AP"
          ],
          [
           "CATALAO",
           "A034",
           "GO"
          ],
          [
           "JAGUARAO",
           "A836",
           "RS"
          ],
          [
           "PARANA",
           "A010",
           "TO"
          ],
          [
           "FREDERICO WESTPHALEN",
           "A854",
           "RS"
          ],
          [
           "SALGUEIRO",
           "A370",
           "PE"
          ],
          [
           "PARATI",
           "A619",
           "RJ"
          ],
          [
           "EIRUNEPE",
           "A109",
           "AM"
          ],
          [
           "BEBEDOURO",
           "A764",
           "SP"
          ],
          [
           "CURVELO",
           "A538",
           "MG"
          ],
          [
           "CORRENTE",
           "A374",
           "PI"
          ],
          [
           "ITAPOA",
           "A851",
           "SC"
          ],
          [
           "MARIA DA FE",
           "A531",
           "MG"
          ],
          [
           "DTCEA VILHENA",
           "S104",
           "RO"
          ],
          [
           "ARQ.SAO PEDRO E SAO PAULO",
           "A302",
           "RN"
          ],
          [
           "ANGELICA",
           "S701",
           "MS"
          ],
          [
           "SAO PAULO - MIRANTE",
           "A701",
           "SP"
          ],
          [
           "CRUZ DAS ALMAS",
           "A406",
           "BA"
          ],
          [
           "BURITICUPU",
           "A238",
           "MA"
          ],
          [
           "CAMPO NOVO DOS PARECIS",
           "A905",
           "MT"
          ],
          [
           "RIO SONO",
           "A050",
           "TO"
          ],
          [
           "QUIXADA",
           "A369",
           "CE"
          ],
          [
           "NOVA UBIRATA",
           "A929",
           "MT"
          ],
          [
           "ITABAIANA",
           "A451",
           "SE"
          ],
          [
           "PEDRO AFONSO",
           "A020",
           "TO"
          ],
          [
           "JANUARIA",
           "A559",
           "MG"
          ],
          [
           "SAO SIMAO",
           "A770",
           "SP"
          ],
          [
           "POMPEU",
           "A560",
           "MG"
          ],
          [
           "EB",
           "S122",
           "MG"
          ],
          [
           "PEDRO GOMES",
           "S714",
           "MS"
          ],
          [
           "SORRISO",
           "A904",
           "MT"
          ],
          [
           "MURIAE",
           "A517",
           "MG"
          ],
          [
           "MARILANDIA",
           "A632",
           "ES"
          ],
          [
           "SAO RAIMUNDO NONATO",
           "A345",
           "PI"
          ],
          [
           "PONTA PORA",
           "A703",
           "MS"
          ],
          [
           "SAO PEDRO DO PIAUI",
           "A362",
           "PI"
          ],
          [
           "SALINOPOLIS",
           "A215",
           "PA"
          ],
          [
           "NOVA VENECIA",
           "A623",
           "ES"
          ],
          [
           "BREVES",
           "A228",
           "PA"
          ],
          [
           "PRESIDENTE PRUDENTE",
           "A707",
           "SP"
          ],
          [
           "COXIM",
           "A720",
           "MS"
          ],
          [
           "CAPITAO POCO",
           "A248",
           "PA"
          ],
          [
           "SAO BENTO",
           "S108",
           "MA"
          ],
          [
           "MAUES",
           "A122",
           "AM"
          ],
          [
           "FORTE PRINCIPE",
           "S101",
           "RO"
          ],
          [
           "LARANJEIRAS DO SUL",
           "B804",
           "PR"
          ],
          [
           "MORRETES",
           "A873",
           "PR"
          ],
          [
           "RIO BRILHANTE",
           "A743",
           "MS"
          ],
          [
           "MARAU",
           "A438",
           "BA"
          ],
          [
           "VENDA NOVA DO IMIGRANTE",
           "A633",
           "ES"
          ],
          [
           "GAUCHA DO NORTE",
           "A930",
           "MT"
          ],
          [
           "BREJO GRANDE",
           "A421",
           "SE"
          ],
          [
           "SAO LUIS",
           "A203",
           "MA"
          ],
          [
           "PORTO GRANDE",
           "A244",
           "AP"
          ],
          [
           "RIO NEGRINHO",
           "A862",
           "SC"
          ],
          [
           "BOM JESUS DA LAPA",
           "A418",
           "BA"
          ],
          [
           "RIO VERDE",
           "A025",
           "GO"
          ],
          [
           "SANTAREM",
           "A250",
           "PA"
          ],
          [
           "CRIOSFERA",
           "C891",
           "SP"
          ],
          [
           "DELFINO",
           "A443",
           "BA"
          ],
          [
           "MOSTARDAS",
           "A878",
           "RS"
          ],
          [
           "COTRIGUACU",
           "A919",
           "MT"
          ],
          [
           "BELMONTE",
           "A447",
           "BA"
          ],
          [
           "ENCRUZILHADA DO SUL",
           "A893",
           "RS"
          ],
          [
           "BRAGANCA",
           "A226",
           "PA"
          ],
          [
           "PEF YAUARETE",
           "S115",
           "AM"
          ],
          [
           "SEROPEDICA-ECOLOGIA AGRICOLA",
           "A601",
           "RJ"
          ],
          [
           "ERECHIM",
           "A828",
           "RS"
          ],
          [
           "AMAMBAI",
           "A750",
           "MS"
          ],
          [
           "RIO PARDO DE MINAS",
           "A551",
           "MG"
          ],
          [
           "ZE DOCA",
           "A255",
           "MA"
          ],
          [
           "TERESINA",
           "A312",
           "PI"
          ],
          [
           "LINHARES",
           "A614",
           "ES"
          ],
          [
           "TAUBATE",
           "A728",
           "SP"
          ],
          [
           "VACARIA",
           "A880",
           "RS"
          ],
          [
           "FORMOSA DO RIO PRETO",
           "A452",
           "BA"
          ],
          [
           "OIAPOQUE",
           "A242",
           "AP"
          ],
          [
           "HUMAITA",
           "A112",
           "AM"
          ],
          [
           "ARARANGUA",
           "A867",
           "SC"
          ],
          [
           "EPITACIOLANDIA",
           "A140",
           "AC"
          ],
          [
           "IBIRITE (ROLA MOCA)",
           "A555",
           "MG"
          ],
          [
           "UBERABA",
           "A568",
           "MG"
          ],
          [
           "GILBUES",
           "A364",
           "PI"
          ],
          [
           "SAO MIGUEL ARCANJO",
           "A715",
           "SP"
          ],
          [
           "ALTO ARAGUAIA",
           "A909",
           "MT"
          ],
          [
           "SAO JOSE DOS AUSENTES",
           "A829",
           "RS"
          ],
          [
           "GOIANESIA",
           "A022",
           "GO"
          ],
          [
           "SINOP",
           "A917",
           "MT"
          ],
          [
           "SERRA DOS AIMORES",
           "A522",
           "MG"
          ],
          [
           "ALFREDO CHAVES",
           "A615",
           "ES"
          ],
          [
           "TIANGUA",
           "A368",
           "CE"
          ],
          [
           "CANTO DO BURITI",
           "A365",
           "PI"
          ],
          [
           "SANTA RITA DE CASSIA",
           "A415",
           "BA"
          ],
          [
           "ITAITUBA",
           "A231",
           "PA"
          ],
          [
           "SAO FELIX  DO ARAGUAIA",
           "A921",
           "MT"
          ],
          [
           "VENTANIA",
           "A872",
           "PR"
          ],
          [
           "APUI",
           "A113",
           "AM"
          ],
          [
           "ITIQUIRA",
           "A933",
           "MT"
          ],
          [
           "MANTENA",
           "A540",
           "MG"
          ],
          [
           "CAMPOS DOS GOYTACAZES",
           "A607",
           "RJ"
          ],
          [
           "MINEIROS",
           "A026",
           "GO"
          ],
          [
           "POCO VERDE",
           "A419",
           "SE"
          ],
          [
           "TRES MARIAS",
           "A528",
           "MG"
          ],
          [
           "FEIRA DE SANTANA",
           "A413",
           "BA"
          ],
          [
           "SAQUAREMA - SAMPAIO CORREIA",
           "A667",
           "RJ"
          ],
          [
           "DOM ELISEU",
           "S107",
           "PA"
          ],
          [
           "ARAXA",
           "A505",
           "MG"
          ],
          [
           "FEIJO",
           "A138",
           "AC"
          ],
          [
           "ITABERABA",
           "A408",
           "BA"
          ],
          [
           "ITUMBIARA",
           "A035",
           "GO"
          ],
          [
           "OLIVEIRA",
           "A570",
           "MG"
          ],
          [
           "JUINA",
           "A920",
           "MT"
          ],
          [
           "RESENDE",
           "A609",
           "RJ"
          ],
          [
           "SAO LUIS DO PARAITINGA",
           "A740",
           "SP"
          ],
          [
           "PEF ESTIRAO DO EQUADOR",
           "S116",
           "AM"
          ],
          [
           "ITAPIPOCA",
           "A359",
           "CE"
          ],
          [
           "PARINTINS",
           "A123",
           "AM"
          ],
          [
           "ARAGUAINA",
           "A021",
           "TO"
          ],
          [
           "VARGINHA",
           "A515",
           "MG"
          ],
          [
           "SANTIAGO",
           "A833",
           "RS"
          ],
          [
           "RIO PARDO",
           "A813",
           "RS"
          ],
          [
           "ANGRA DOS REIS",
           "A628",
           "RJ"
          ],
          [
           "CONCEICAO DAS ALAGOAS",
           "A520",
           "MG"
          ],
          [
           "DIVINOPOLIS",
           "A564",
           "MG"
          ],
          [
           "FORTALEZA",
           "A305",
           "CE"
          ],
          [
           "BANDEIRANTES",
           "S703",
           "MS"
          ],
          [
           "CAXIAS",
           "A237",
           "MA"
          ],
          [
           "COLOMBO",
           "B806",
           "PR"
          ],
          [
           "FATIMA DO SUL",
           "S708",
           "MS"
          ],
          [
           "SANTA MARIA",
           "A803",
           "RS"
          ],
          [
           "CAMAQUA",
           "A838",
           "RS"
          ],
          [
           "MATEIROS",
           "A040",
           "TO"
          ],
          [
           "PATOS DE MINAS",
           "A562",
           "MG"
          ],
          [
           "PARANAIBA",
           "A710",
           "MS"
          ],
          [
           "PASSOS",
           "A516",
           "MG"
          ],
          [
           "ARACUAI",
           "A566",
           "MG"
          ],
          [
           "ITAJAI",
           "A868",
           "SC"
          ],
          [
           "CONCEICAO DO ARAGUAIA",
           "A241",
           "PA"
          ],
          [
           "ESPERANTINA",
           "A338",
           "PI"
          ],
          [
           "ITAPORANGA",
           "A373",
           "PB"
          ],
          [
           "OURINHOS",
           "A716",
           "SP"
          ],
          [
           "SALTO DO CEU",
           "A936",
           "MT"
          ],
          [
           "SAO VICENTE DO SUL",
           "A889",
           "RS"
          ],
          [
           "PETROLINA",
           "A307",
           "PE"
          ],
          [
           "GUARANTA DO NORTE",
           "A906",
           "MT"
          ],
          [
           "TUCURUI",
           "A229",
           "PA"
          ],
          [
           "GUANAMBI",
           "A426",
           "BA"
          ],
          [
           "CACHOEIRA PAULISTA",
           "A769",
           "SP"
          ],
          [
           "JALES",
           "A733",
           "SP"
          ],
          [
           "QUARAI",
           "A831",
           "RS"
          ],
          [
           "PEF IPIRANGA",
           "S102",
           "AM"
          ],
          [
           "CAMBARA DO SUL",
           "A897",
           "RS"
          ],
          [
           "TUCUMA",
           "A234",
           "PA"
          ],
          [
           "MEDICILANDIA",
           "A209",
           "PA"
          ],
          [
           "VALENCA",
           "A444",
           "BA"
          ],
          [
           "OURICURI",
           "A366",
           "PE"
          ],
          [
           "ARAPIRACA",
           "A353",
           "AL"
          ],
          [
           "S.J. DO RIO CLARO",
           "A903",
           "MT"
          ],
          [
           "CARMO",
           "A629",
           "RJ"
          ],
          [
           "URUGUAIANA",
           "A809",
           "RS"
          ],
          [
           "XINGUARA",
           "A247",
           "PA"
          ],
          [
           "CAMAPUA",
           "S707",
           "MS"
          ],
          [
           "NOVA ALVORADA DO SUL",
           "S712",
           "MS"
          ],
          [
           "UNA",
           "A437",
           "BA"
          ],
          [
           "CAMPOS DO JORDAO",
           "A706",
           "SP"
          ],
          [
           "COLINAS",
           "A222",
           "MA"
          ],
          [
           "ITAPACI",
           "A015",
           "GO"
          ],
          [
           "DIAMANTE DO NORTE",
           "A849",
           "PR"
          ],
          [
           "CORRENTINA",
           "A416",
           "BA"
          ],
          [
           "PORTO SEGURO",
           "A427",
           "BA"
          ],
          [
           "CRUZEIRO DO SUL",
           "A108",
           "AC"
          ],
          [
           "CORUMBA",
           "A724",
           "MS"
          ],
          [
           "BAIXA GRANDE DO RIBEIRO",
           "A375",
           "PI"
          ],
          [
           "BERTIOGA",
           "A765",
           "SP"
          ],
          [
           "VALENCA",
           "A611",
           "RJ"
          ],
          [
           "TIMOTEO",
           "A511",
           "MG"
          ],
          [
           "BELA VISTA",
           "A757",
           "MS"
          ],
          [
           "SAO JOSE DO XINGU",
           "A942",
           "MT"
          ],
          [
           "BURITIS",
           "A544",
           "MG"
          ],
          [
           "REMANSO",
           "A423",
           "BA"
          ],
          [
           "REDENCAO",
           "A254",
           "PA"
          ],
          [
           "ALEGRE",
           "A617",
           "ES"
          ],
          [
           "PRIMAVERA DO LESTE",
           "A923",
           "MT"
          ],
          [
           "PALMARES",
           "A357",
           "PE"
          ],
          [
           "SERRA DOS CARAJAS",
           "A230",
           "PA"
          ],
          [
           "ITABAIANINHA",
           "A417",
           "SE"
          ],
          [
           "SAO SEBASTIAO",
           "A767",
           "SP"
          ],
          [
           "PARANATINGA",
           "A915",
           "MT"
          ],
          [
           "SAO JOAQUIM",
           "A815",
           "SC"
          ],
          [
           "ARAGUACU",
           "A054",
           "TO"
          ],
          [
           "BACABAL",
           "A220",
           "MA"
          ],
          [
           "JARDIM",
           "A758",
           "MS"
          ],
          [
           "SAO FELIX DO XINGU",
           "A216",
           "PA"
          ],
          [
           "UBERLANDIA",
           "A507",
           "MG"
          ],
          [
           "IGUAPE",
           "A712",
           "SP"
          ],
          [
           "IBOTIRAMA",
           "A439",
           "BA"
          ],
          [
           "CAPELINHA",
           "A541",
           "MG"
          ],
          [
           "VILA VELHA",
           "A634",
           "ES"
          ],
          [
           "OEIRAS",
           "A354",
           "PI"
          ],
          [
           "CAMPOS SALES",
           "A347",
           "CE"
          ],
          [
           "PORTO WALTER",
           "A136",
           "AC"
          ],
          [
           "FLORESTAL",
           "A535",
           "MG"
          ],
          [
           "BARBACENA",
           "A502",
           "MG"
          ],
          [
           "ARAL MOREIRA",
           "S702",
           "MS"
          ],
          [
           "CURITIBA",
           "A807",
           "PR"
          ],
          [
           "MOCAMBINHO",
           "A539",
           "MG"
          ],
          [
           "MACAU",
           "A317",
           "RN"
          ],
          [
           "PIRAPORA",
           "A545",
           "MG"
          ],
          [
           "SAO MIGUEL DO OESTE",
           "A857",
           "SC"
          ],
          [
           "BRASNORTE (NOVO MUNDO)",
           "A927",
           "MT"
          ],
          [
           "PASSA QUATRO",
           "A529",
           "MG"
          ],
          [
           "AGUAS VERMELHAS",
           "A549",
           "MG"
          ],
          [
           "ITATIAIA",
           "A635",
           "RJ"
          ],
          [
           "CORURIPE",
           "A355",
           "AL"
          ],
          [
           "BALSAS",
           "A204",
           "MA"
          ],
          [
           "SAO LUIS DO QUITUNDE",
           "A356",
           "AL"
          ],
          [
           "COMODORO",
           "A913",
           "MT"
          ],
          [
           "SETE LAGOAS",
           "A569",
           "MG"
          ],
          [
           "FORMIGA",
           "A524",
           "MG"
          ],
          [
           "ARRAIAL DO CABO",
           "A606",
           "RJ"
          ],
          [
           "QUIXERAMOBIM",
           "A325",
           "CE"
          ],
          [
           "JOAO PESSOA",
           "A320",
           "PB"
          ],
          [
           "MOSSORO",
           "A318",
           "RN"
          ],
          [
           "SAO MATEUS",
           "A616",
           "ES"
          ],
          [
           "TRES RIOS",
           "A625",
           "RJ"
          ],
          [
           "RIO DE JANEIRO - FORTE DE COPACABANA",
           "A652",
           "RJ"
          ],
          [
           "APIACAS",
           "A910",
           "MT"
          ],
          [
           "JATAI",
           "A016",
           "GO"
          ],
          [
           "SAO SIMAO",
           "A011",
           "GO"
          ],
          [
           "LAGES",
           "A865",
           "SC"
          ],
          [
           "PARQUE ESTADUAL CHANDLESS",
           "A102",
           "AC"
          ],
          [
           "CAMPOS DOS GOYTACAZES - SAO TOME",
           "A620",
           "RJ"
          ],
          [
           "ARACAJU",
           "A409",
           "SE"
          ],
          [
           "RANCHARIA",
           "A718",
           "SP"
          ],
          [
           "RECIFE",
           "A301",
           "PE"
          ],
          [
           "PAO DE ACUCAR",
           "A323",
           "AL"
          ],
          [
           "MONTE ALEGRE DE GOIAS",
           "A032",
           "GO"
          ],
          [
           "MONTE ALEGRE",
           "A239",
           "PA"
          ],
          [
           "DOIS VIZINHOS",
           "A843",
           "PR"
          ],
          [
           "SAO SEBASTIAO DO PARAISO",
           "A561",
           "MG"
          ],
          [
           "MONTALVANIA",
           "A526",
           "MG"
          ],
          [
           "JOAQUIM TAVORA",
           "A821",
           "PR"
          ],
          [
           "MONTE VERDE",
           "A509",
           "MG"
          ],
          [
           "DORES DO INDAIA",
           "A536",
           "MG"
          ],
          [
           "LAGOA VERMELHA",
           "A844",
           "RS"
          ],
          [
           "CAMPINA DA LAGOA",
           "B803",
           "PR"
          ],
          [
           "TRES LAGOAS",
           "A704",
           "MS"
          ],
          [
           "CORONEL PACHECO",
           "A557",
           "MG"
          ],
          [
           "EDEIA",
           "A029",
           "GO"
          ],
          [
           "SAPEZAL",
           "A911",
           "MT"
          ],
          [
           "RIBEIRA DO AMPARO",
           "A458",
           "BA"
          ],
          [
           "QUERENCIA",
           "A916",
           "MT"
          ],
          [
           "BAGE",
           "A827",
           "RS"
          ],
          [
           "MACAPA",
           "A249",
           "AP"
          ],
          [
           "GOVERNADOR VALADARES",
           "A532",
           "MG"
          ],
          [
           "SALVADOR (RADIO FAROL)",
           "A456",
           "BA"
          ],
          [
           "PORTO ESTRELA",
           "A935",
           "MT"
          ],
          [
           "TAUA",
           "A324",
           "CE"
          ],
          [
           "CIDADE GAUCHA",
           "A869",
           "PR"
          ],
          [
           "GOIAS",
           "A014",
           "GO"
          ],
          [
           "TORRES",
           "A808",
           "RS"
          ],
          [
           "CAICO",
           "A316",
           "RN"
          ],
          [
           "CARIRA",
           "A420",
           "SE"
          ],
          [
           "BARUERI",
           "A755",
           "SP"
          ],
          [
           "BARRA DO TURVO",
           "A746",
           "SP"
          ],
          [
           "DTCEA GUAJARA-MIRIM",
           "S110",
           "RO"
          ],
          [
           "PACARAIMA",
           "S114",
           "RR"
          ],
          [
           "LABREA",
           "A111",
           "AM"
          ],
          [
           "CURITIBANOS",
           "A860",
           "SC"
          ],
          [
           "Laguna  - Farol de Santa Marta",
           "A866",
           "SC"
          ],
          [
           "UAUA",
           "A435",
           "BA"
          ],
          [
           "RIO CLARO",
           "A626",
           "RJ"
          ],
          [
           "GAMA (PONTE ALTA)",
           "A046",
           "DF"
          ],
          [
           "ARAGUATINS",
           "A044",
           "TO"
          ],
          [
           "NITEROI",
           "A627",
           "RJ"
          ],
          [
           "SAO CARLOS",
           "A711",
           "SP"
          ],
          [
           "ITAPETINGA",
           "A446",
           "BA"
          ],
          [
           "NOVA ANDRADINA",
           "S713",
           "MS"
          ],
          [
           "ALTO PARAISO DE GOIAS",
           "A024",
           "GO"
          ],
          [
           "PARAUNA",
           "A027",
           "GO"
          ],
          [
           "IVINHEMA",
           "A709",
           "MS"
          ],
          [
           "ALTAMIRA",
           "A253",
           "PA"
          ],
          [
           "QUEIMADAS",
           "A436",
           "BA"
          ],
          [
           "ITAPEVA",
           "A714",
           "SP"
          ],
          [
           "MARACAJU",
           "A731",
           "MS"
          ],
          [
           "SAO GONCALO",
           "A333",
           "PB"
          ],
          [
           "MACAE",
           "A608",
           "RJ"
          ],
          [
           "MIRANDA",
           "A722",
           "MS"
          ],
          [
           "CASTANHAL",
           "A202",
           "PA"
          ],
          [
           "LAGOA DA CONFUSAO",
           "A055",
           "TO"
          ],
          [
           "SAO MATEUS DO SUL",
           "A874",
           "PR"
          ],
          [
           "PONTES E LACERDA",
           "A937",
           "MT"
          ],
          [
           "BURITIRAMA",
           "A432",
           "BA"
          ],
          [
           "VALPARAISO",
           "A734",
           "SP"
          ],
          [
           "CAMPOS LINDOS",
           "A043",
           "TO"
          ],
          [
           "BELEM",
           "A201",
           "PA"
          ],
          [
           "CLEVELANDIA",
           "A876",
           "PR"
          ],
          [
           "URUCARA",
           "A124",
           "AM"
          ],
          [
           "MANHUACU",
           "A556",
           "MG"
          ],
          [
           "PARACATU",
           "A571",
           "MG"
          ],
          [
           "PRADOPOLIS",
           "A747",
           "SP"
          ],
          [
           "REGISTRO",
           "A766",
           "SP"
          ],
          [
           "JUIZ DE FORA",
           "A518",
           "MG"
          ],
          [
           "COSTA RICA",
           "A760",
           "MS"
          ],
          [
           "PATROCINIO",
           "A523",
           "MG"
          ],
          [
           "AUTAZES",
           "A120",
           "AM"
          ],
          [
           "MARABA",
           "A240",
           "PA"
          ],
          [
           "PREGUICAS",
           "A218",
           "MA"
          ],
          [
           "GARANHUNS",
           "A322",
           "PE"
          ],
          [
           "CRISTALINA (FAZENDA SANTA MONICA)",
           "A056",
           "GO"
          ],
          [
           "SANTANA DO ARAGUAIA",
           "A233",
           "PA"
          ],
          [
           "CACAPAVA DO SUL",
           "A812",
           "RS"
          ],
          [
           "SERRA NOVA DOURADA",
           "A943",
           "MT"
          ],
          [
           "TEUTONIA",
           "A882",
           "RS"
          ],
          [
           "GURUPI",
           "A019",
           "TO"
          ],
          [
           "GOIOERE",
           "A825",
           "PR"
          ],
          [
           "PARNAIBA",
           "A308",
           "PI"
          ],
          [
           "IPORA",
           "A028",
           "GO"
          ],
          [
           "CALCANHAR",
           "A344",
           "RN"
          ],
          [
           "DUQUE DE CAXIAS - XEREM",
           "A603",
           "RJ"
          ],
          [
           "ALTO TAQUARI",
           "A934",
           "MT"
          ],
          [
           "FRANCA",
           "A708",
           "SP"
          ],
          [
           "TEOFILO OTONI",
           "A527",
           "MG"
          ],
          [
           "ARIQUEMES",
           "A940",
           "RO"
          ],
          [
           "ITACOATIARA",
           "A121",
           "AM"
          ],
          [
           "CABROBO",
           "A329",
           "PE"
          ],
          [
           "CARUARU",
           "A341",
           "PE"
          ],
          [
           "SANTO ANTONIO DO LESTE",
           "A931",
           "MT"
          ],
          [
           "SERAFINA CORREA",
           "A894",
           "RS"
          ],
          [
           "SILVA JARDIM",
           "A659",
           "RJ"
          ],
          [
           "DIONISIO CERQUEIRA",
           "A848",
           "SC"
          ],
          [
           "RIO DE JANEIRO-MARAMBAIA",
           "A602",
           "RJ"
          ],
          [
           "TRAMANDAI",
           "A834",
           "RS"
          ],
          [
           "CANGUCU",
           "A811",
           "RS"
          ],
          [
           "TURIACU",
           "A219",
           "MA"
          ],
          [
           "ILHA DO MEL",
           "A847",
           "PR"
          ],
          [
           "SIDROLANDIA",
           "A754",
           "MS"
          ],
          [
           "Santa Vitoria do Palmar - Barra do Chui",
           "A899",
           "RS"
          ],
          [
           "ITUVERAVA",
           "A753",
           "SP"
          ],
          [
           "PRESIDENTE FIGUEIREDO",
           "A126",
           "AM"
          ],
          [
           "SETE QUEDAS",
           "A751",
           "MS"
          ],
          [
           "PLANALTO",
           "A855",
           "PR"
          ],
          [
           "FOZ DO IGUACU",
           "A846",
           "PR"
          ],
          [
           "AMARGOSA",
           "A434",
           "BA"
          ],
          [
           "PEIXE",
           "A018",
           "TO"
          ],
          [
           "CAMARATUBA",
           "A352",
           "PB"
          ],
          [
           "IPANGUACU",
           "A372",
           "RN"
          ],
          [
           "RIO BRANCO",
           "A104",
           "AC"
          ],
          [
           "RIBAS DO RIO PARDO",
           "S715",
           "MS"
          ],
          [
           "SANTA CRUZ",
           "A367",
           "RN"
          ],
          [
           "JAPIRA",
           "A871",
           "PR"
          ],
          [
           "JEREMOABO",
           "A450",
           "BA"
          ],
          [
           "PALMAS",
           "A009",
           "TO"
          ],
          [
           "GENERAL CARNEIRO",
           "A875",
           "PR"
          ],
          [
           "SAO MIGUEL DO ARAGUAIA",
           "A031",
           "GO"
          ],
          [
           "GRAJAU",
           "A207",
           "MA"
          ],
          [
           "IBITINGA",
           "A737",
           "SP"
          ],
          [
           "SOURE",
           "A227",
           "PA"
          ],
          [
           "BARRA",
           "A429",
           "BA"
          ],
          [
           "BOM JARDIM DA SERRA - MORRO DA IGREJA",
           "A845",
           "SC"
          ],
          [
           "MINA DO PALITO",
           "A246",
           "PA"
          ],
          [
           "SERRINHA",
           "A441",
           "BA"
          ],
          [
           "CAMPO BOM",
           "A884",
           "RS"
          ],
          [
           "RANCHO QUEIMADO",
           "A870",
           "SC"
          ],
          [
           "SANTA MARIA MADALENA",
           "A630",
           "RJ"
          ],
          [
           "BAMBUI",
           "A565",
           "MG"
          ],
          [
           "OURO BRANCO",
           "A513",
           "MG"
          ],
          [
           "INDAIAL",
           "A817",
           "SC"
          ],
          [
           "S. G. DA CACHOEIRA",
           "A134",
           "AM"
          ],
          [
           "FAROL de SANTANA",
           "A217",
           "MA"
          ],
          [
           "BELO HORIZONTE (PAMPULHA)",
           "A521",
           "MG"
          ],
          [
           "IGUATEMI",
           "S709",
           "MS"
          ],
          [
           "ITAOBIM",
           "A550",
           "MG"
          ],
          [
           "OBIDOS",
           "A232",
           "PA"
          ],
          [
           "CAARAPO",
           "S706",
           "MS"
          ],
          [
           "PIRIPIRI",
           "A335",
           "PI"
          ],
          [
           "GOIANIA",
           "A002",
           "GO"
          ],
          [
           "SANTA ROSA",
           "A810",
           "RS"
          ],
          [
           "GUARDA-MOR",
           "A546",
           "MG"
          ],
          [
           "PRES. KENNEDY",
           "A622",
           "ES"
          ],
          [
           "CHAPADA GAUCHA",
           "A548",
           "MG"
          ],
          [
           "RIO DE JANEIRO - VILA MILITAR",
           "A621",
           "RJ"
          ],
          [
           "CRUZ ALTA",
           "A853",
           "RS"
          ],
          [
           "NOVA FRIBURGO - SALINAS",
           "A624",
           "RJ"
          ],
          [
           "TUPANCIRETA",
           "A886",
           "RS"
          ],
          [
           "PORTO ALEGRE",
           "A801",
           "RS"
          ],
          [
           "MARINGA",
           "A835",
           "PR"
          ],
          [
           "SANTA TERESA",
           "A613",
           "ES"
          ],
          [
           "MANAUS",
           "A101",
           "AM"
          ],
          [
           "PIRES DO RIO",
           "A033",
           "GO"
          ],
          [
           "LAGUNA CARAPA",
           "S711",
           "MS"
          ],
          [
           "PALMEIRA DOS INDIOS",
           "A327",
           "AL"
          ],
          [
           "JOSE BONIFACIO",
           "A735",
           "SP"
          ],
          [
           "JAGUARIBE",
           "A358",
           "CE"
          ],
          [
           "MONTES CLAROS",
           "A506",
           "MG"
          ],
          [
           "SANTA ROSA DO TOCANTINS",
           "A052",
           "TO"
          ],
          [
           "PORTO MURTINHO",
           "A723",
           "MS"
          ],
          [
           "PIUM",
           "A051",
           "TO"
          ],
          [
           "ARAGARCAS",
           "A013",
           "GO"
          ],
          [
           "BRASILIA",
           "A001",
           "DF"
          ],
          [
           "PLACAS",
           "A211",
           "PA"
          ],
          [
           "JACOBINA",
           "A440",
           "BA"
          ],
          [
           "BARRA DO CORDA",
           "A221",
           "MA"
          ],
          [
           "CARACOL",
           "A337",
           "PI"
          ],
          [
           "BARRETOS",
           "A748",
           "SP"
          ],
          [
           "GUARAMIRANGA",
           "A314",
           "CE"
          ],
          [
           "MACAJUBA",
           "A412",
           "BA"
          ],
          [
           "ARIRANHA",
           "A736",
           "SP"
          ],
          [
           "CUIABA",
           "A901",
           "MT"
          ],
          [
           "RONDONOPOLIS",
           "A907",
           "MT"
          ],
          [
           "VICOSA",
           "A510",
           "MG"
          ],
          [
           "SAO GABRIEL DO OESTE",
           "A732",
           "MS"
          ],
          [
           "SAO JOAO DEL REI",
           "A514",
           "MG"
          ],
          [
           "BARCELOS",
           "A128",
           "AM"
          ],
          [
           "NOVA FATIMA",
           "A842",
           "PR"
          ],
          [
           "CAMBUCI",
           "A604",
           "RJ"
          ],
          [
           "BARRA BONITA",
           "A741",
           "SP"
          ],
          [
           "SANTO AUGUSTO",
           "A805",
           "RS"
          ],
          [
           "ARCO VERDE",
           "A309",
           "PE"
          ],
          [
           "NOVA TEBAS",
           "A822",
           "PR"
          ],
          [
           "MORADA NOVA",
           "A332",
           "CE"
          ],
          [
           "PACAJA",
           "A210",
           "PA"
          ],
          [
           "SANTA RITA DO PARDO",
           "S716",
           "MS"
          ],
          [
           "VALENCA DO PIAUI",
           "A363",
           "PI"
          ],
          [
           "ANGICAL DO PIAUI",
           "A377",
           "PI"
          ],
          [
           "SANTA FE DO ARAGUAIA",
           "A048",
           "TO"
          ],
          [
           "PICOS",
           "A343",
           "PI"
          ],
          [
           "DRACENA",
           "A762",
           "SP"
          ],
          [
           "DTCEA TABATINGA",
           "S105",
           "AM"
          ],
          [
           "MANACAPURU",
           "A119",
           "AM"
          ],
          [
           "CAMPOS NOVOS",
           "A898",
           "SC"
          ],
          [
           "NATAL",
           "A304",
           "RN"
          ],
          [
           "ALTO PARNAIBA",
           "A223",
           "MA"
          ],
          [
           "FORMOSO DO ARAGUAIA",
           "A039",
           "TO"
          ],
          [
           "SELVIRIA",
           "S717",
           "MS"
          ],
          [
           "CRATEUS",
           "A342",
           "CE"
          ],
          [
           "SERRA TALHADA",
           "A350",
           "PE"
          ],
          [
           "RIO URUBU",
           "A125",
           "AM"
          ],
          [
           "INACIO MARTINS",
           "A823",
           "PR"
          ],
          [
           "COARI",
           "A117",
           "AM"
          ],
          [
           "PIATA",
           "A430",
           "BA"
          ],
          [
           "SILVANIA",
           "A037",
           "GO"
          ],
          [
           "UNAI",
           "A542",
           "MG"
          ],
          [
           "CAMPO GRANDE",
           "A702",
           "MS"
          ],
          [
           "MORRINHOS",
           "A003",
           "GO"
          ],
          [
           "BOM JESUS DO PIAUI",
           "A326",
           "PI"
          ],
          [
           "RIO DO CAMPO",
           "A861",
           "SC"
          ],
          [
           "CAMPINA GRANDE",
           "A313",
           "PB"
          ],
          [
           "ABROLHOS",
           "A422",
           "BA"
          ],
          [
           "ESPINOSA",
           "A543",
           "MG"
          ],
          [
           "CASTELO DO PIAUI",
           "A361",
           "PI"
          ],
          [
           "SAO LUIZ GONZAGA",
           "A852",
           "RS"
          ],
          [
           "SONORA",
           "A761",
           "MS"
          ],
          [
           "JANAUBA",
           "A563",
           "MG"
          ],
          [
           "CAMPINA VERDE",
           "A519",
           "MG"
          ],
          [
           "SAO JOAO DO PIAUI",
           "A331",
           "PI"
          ],
          [
           "SOBRAL",
           "A306",
           "CE"
          ],
          [
           "SACRAMENTO",
           "A525",
           "MG"
          ],
          [
           "IPIAU",
           "A445",
           "BA"
          ],
          [
           "JUARA",
           "A914",
           "MT"
          ],
          [
           "MAL. CANDIDO RONDON",
           "A820",
           "PR"
          ],
          [
           "SANTA MARIA DAS BARREIRAS",
           "A256",
           "PA"
          ],
          [
           "CACOAL",
           "A939",
           "RO"
          ],
          [
           "MAJOR VIEIRA",
           "A864",
           "SC"
          ],
          [
           "SAO GABRIEL",
           "A832",
           "RS"
          ],
          [
           "ITAPORA",
           "S710",
           "MS"
          ],
          [
           "PORANGATU",
           "A005",
           "GO"
          ],
          [
           "SURUBIM",
           "A328",
           "PE"
          ],
          [
           "XANXERE",
           "A858",
           "SC"
          ],
          [
           "ULIANOPOLIS",
           "S111",
           "PA"
          ],
          [
           "SOROCABA",
           "A713",
           "SP"
          ],
          [
           "PARANOA (COOPA-DF)",
           "A047",
           "DF"
          ],
          [
           "CARLINDA",
           "A926",
           "MT"
          ],
          [
           "LUZIANIA",
           "A012",
           "GO"
          ],
          [
           "DOM PEDRITO",
           "A881",
           "RS"
          ],
          [
           "PARANAPOEMA",
           "A850",
           "PR"
          ],
          [
           "DTCEA TEFE",
           "S117",
           "AM"
          ],
          [
           "TUPA",
           "A768",
           "SP"
          ],
          [
           "BONITO",
           "S704",
           "MS"
          ],
          [
           "SALVADOR",
           "A401",
           "BA"
          ],
          [
           "MONTEIRO",
           "A334",
           "PB"
          ],
          [
           "CAPAO DO LEAO (PELOTAS)",
           "A887",
           "RS"
          ],
          [
           "ALVORADA DO GURGUEIA",
           "A336",
           "PI"
          ],
          [
           "RIO GRANDE",
           "A802",
           "RS"
          ],
          [
           "ILHEUS",
           "A410",
           "BA"
          ],
          [
           "BRAGANCA PAULISTA",
           "A744",
           "SP"
          ],
          [
           "AVARE",
           "A725",
           "SP"
          ],
          [
           "NOVO REPARTIMENTO",
           "A235",
           "PA"
          ],
          [
           "ITUPORANGA",
           "A863",
           "SC"
          ],
          [
           "SANTA ISABEL DO RIO NEGRO",
           "S121",
           "AM"
          ],
          [
           "SOLEDADE",
           "A837",
           "RS"
          ],
          [
           "GUANHAES",
           "A533",
           "MG"
          ],
          [
           "GUIRATINGA",
           "A932",
           "MT"
          ],
          [
           "ALEGRETE",
           "A826",
           "RS"
          ],
          [
           "CASTRO",
           "A819",
           "PR"
          ],
          [
           "IBIRUBA",
           "A883",
           "RS"
          ],
          [
           "CRISTALINA",
           "A036",
           "GO"
          ],
          [
           "ROSARIO OESTE",
           "A944",
           "MT"
          ],
          [
           "DOM ELISEU",
           "A252",
           "PA"
          ],
          [
           "NOSSA SENHORA DA GLORIA",
           "A453",
           "SE"
          ],
          [
           "SALINAS",
           "A552",
           "MG"
          ],
          [
           "MARILIA",
           "A763",
           "SP"
          ],
          [
           "TERESOPOLIS-PARQUE NACIONAL",
           "A618",
           "RJ"
          ],
          [
           "MANICORE",
           "A133",
           "AM"
          ],
          [
           "FLORESTA",
           "A351",
           "PE"
          ],
          [
           "MACEIO",
           "A303",
           "AL"
          ],
          [
           "ALMAS",
           "A053",
           "TO"
          ],
          [
           "BARREIRAS",
           "A402",
           "BA"
          ],
          [
           "ITUIUTABA",
           "A512",
           "MG"
          ],
          [
           "NOVA MARINGA",
           "A928",
           "MT"
          ],
          [
           "CONDE",
           "A431",
           "BA"
          ],
          [
           "CASA BRANCA",
           "A738",
           "SP"
          ],
          [
           "ITAPIRA",
           "A739",
           "SP"
          ],
          [
           "AGUAS EMENDADAS",
           "A045",
           "DF"
          ],
          [
           "SENHOR DO BONFIM",
           "A428",
           "BA"
          ],
          [
           "CAMPO MAIOR",
           "A376",
           "PI"
          ],
          [
           "JAGUARUANA",
           "A339",
           "CE"
          ],
          [
           "PATOS",
           "A321",
           "PB"
          ],
          [
           "FLORIANO",
           "A311",
           "PI"
          ],
          [
           "BENTO GONCALVES",
           "A840",
           "RS"
          ],
          [
           "RIO DE JANEIRO - JACAREPAGUA",
           "A636",
           "RJ"
          ],
          [
           "AGUA CLARA",
           "A756",
           "MS"
          ],
          [
           "SAO BORJA",
           "A830",
           "RS"
          ],
          [
           "JOAO PINHEIRO",
           "A553",
           "MG"
          ],
          [
           "NHUMIRIM",
           "A717",
           "MS"
          ],
          [
           "DOURADOS",
           "A721",
           "MS"
          ],
          [
           "MACAUBAS",
           "A454",
           "BA"
          ],
          [
           "CACERES",
           "A941",
           "MT"
          ],
          [
           "CARATINGA",
           "A554",
           "MG"
          ],
          [
           "JUTI",
           "A749",
           "MS"
          ],
          [
           "CAMPO VERDE",
           "A912",
           "MT"
          ],
          [
           "PORTO VELHO",
           "A925",
           "RO"
          ],
          [
           "IRECE",
           "A424",
           "BA"
          ],
          [
           "CAROLINA",
           "A205",
           "MA"
          ],
          [
           "BALIZA",
           "S113",
           "RR"
          ],
          [
           "CALDAS",
           "A530",
           "MG"
          ],
          [
           "JOACABA",
           "A841",
           "SC"
          ],
          [
           "CURACA",
           "A448",
           "BA"
          ],
          [
           "CASSILANDIA",
           "A742",
           "MS"
          ],
          [
           "PIRACICABA",
           "A726",
           "SP"
          ],
          [
           "BATAGUASSU",
           "A759",
           "MS"
          ],
          [
           "CHAPECO",
           "A895",
           "SC"
          ],
          [
           "CABACEIRAS",
           "A348",
           "PB"
          ],
          [
           "LUIZ EDUARDO MAGALHAES",
           "A404",
           "BA"
          ],
          [
           "ITIRUCU",
           "A407",
           "BA"
          ],
          [
           "CARAVELAS",
           "A405",
           "BA"
          ],
          [
           "DTCEA JACAREACANGA",
           "S120",
           "PA"
          ],
          [
           "PARAGOMINAS",
           "A212",
           "PA"
          ],
          [
           "IBIMIRIM",
           "A349",
           "PE"
          ],
          [
           "PICO DO COUTO",
           "A610",
           "RJ"
          ],
          [
           "ITAMARAJU",
           "A455",
           "BA"
          ],
          [
           "PAULISTANA",
           "A330",
           "PI"
          ],
          [
           "AIMORES",
           "A534",
           "MG"
          ],
          [
           "DIAMANTINA",
           "A537",
           "MG"
          ],
          [
           "FLORIANOPOLIS",
           "A806",
           "SC"
          ],
          [
           "BRUMADO",
           "A433",
           "BA"
          ]
         ],
         "hovertemplate": "LATITUDE=%{lat}<br>LONGITUDE=%{lon}<br>NOME=%{customdata[0]}<br>CODIGO=%{customdata[1]}<br>ESTADO=%{customdata[2]}<extra></extra>",
         "lat": [
          -7.30083333,
          -2.59249999,
          -21.29833333,
          -8.95,
          -3.1211111,
          -9.62222221,
          -5.62666666,
          -15.59972221,
          -12.73499999,
          -5.555723,
          -14.65,
          -21.66611111,
          -23.39027777,
          -18.29138888,
          -30.75055555,
          -8.092708,
          -6.975451,
          -28.53249999,
          -29.36888888,
          -8.77666666,
          -10.537233,
          -3.74277777,
          -16.362747,
          -22.358052,
          -20.47555554,
          -26.819156,
          -16.96694443,
          -20.10416666,
          -10.07722221,
          -28.226805,
          -14.08916666,
          -14.01638888,
          -19.97999999,
          -21.680722,
          -23.724501,
          -9.576389,
          -14.88638888,
          -20.27083332,
          -23.449501,
          -16.166773,
          -3.02249999,
          -6.65333333,
          -6.39638888,
          -11.59444444,
          -27.92027777,
          -4.82749999,
          -25.01083333,
          -8.0911111,
          -12.557854,
          -2.23972221,
          2.81694443,
          -20.40333333,
          -18.80222222,
          -15.06277777,
          -26.40638888,
          -10.01833332,
          -7.44138888,
          0.56777777,
          -18.154779,
          -32.53472221,
          -12.615,
          -27.39555555,
          -8.05805555,
          -23.2236111,
          -6.65027777,
          -20.94916666,
          -18.747711,
          -10.42916666,
          -26.08138888,
          -22.314567,
          -12.75055555,
          0.916877,
          -22.148083,
          -23.496294,
          -12.67555554,
          -4.32055554,
          -13.78583333,
          -9.793363,
          -4.97888888,
          -13.41111111,
          -10.67166666,
          -8.968677,
          -15.448089,
          -21.46111111,
          -19.23249999,
          3.35888888,
          -18.07277777,
          -12.555,
          -21.105,
          -19.407181,
          -9.03333333,
          -22.5525,
          -5.91111111,
          -0.61888888,
          -18.69527777,
          -1.68027777,
          -22.119867,
          -18.51222222,
          -1.73472221,
          -2.7,
          -3.39888888,
          -12.42999999,
          -25.36888888,
          -25.508935,
          -21.774944,
          -13.90694444,
          -20.38555555,
          -13.18472221,
          -10.47388888,
          -2.52666666,
          0.69416666,
          -26.2486111,
          -13.25111111,
          -17.78527777,
          -2.5025,
          -84,
          -10.455,
          -31.24833333,
          -9.90638888,
          -16.08805555,
          -30.54305555,
          -1.04722221,
          0.59944444,
          -22.75777777,
          -27.65771,
          -23.0025,
          -15.72305554,
          -3.26916666,
          -5.03472221,
          -19.35694444,
          -23.04166666,
          -28.513602,
          -11.05222222,
          3.81361111,
          -7.5525,
          -28.931353,
          -11.02388888,
          -20.031457,
          -19.71,
          -9.87527777,
          -23.85194444,
          -17.33944444,
          -28.7486111,
          -15.22027777,
          -11.98222221,
          -17.79888888,
          -20.63638888,
          -3.73222221,
          -8.117939,
          -11.00277777,
          -4.27694443,
          -11.61888888,
          -24.28027777,
          -7.20555555,
          -17.17499999,
          -18.78062,
          -21.71472222,
          -17.45472222,
          -10.73805555,
          -18.200855,
          -12.1961111,
          -22.8711111,
          -4.28999999,
          -19.605696,
          -8.14277777,
          -12.52416666,
          -18.40972222,
          -20.715,
          -11.375126,
          -22.45138888,
          -23.22833332,
          -4.52999999,
          -3.48416666,
          -2.63916666,
          -7.10388888,
          -21.56638888,
          -29.191599,
          -29.87222221,
          -22.97555554,
          -19.98586,
          -20.17333332,
          -3.81583333,
          -19.94555555,
          -4.82138888,
          -25.322464,
          -22.30861111,
          -29.72499999,
          -30.807953,
          -10.43444444,
          -18.52055554,
          -19.69555555,
          -20.745237,
          -16.84888888,
          -26.95083333,
          -8.30361111,
          -3.90083333,
          -7.31833332,
          -22.94888888,
          -15.12472221,
          -29.70222222,
          -9.388323,
          -9.9525,
          -3.82277777,
          -14.20805555,
          -22.68888888,
          -20.165,
          -30.368578,
          -2.93055554,
          -29.04916666,
          -6.74333333,
          -3.51083333,
          -13.3436111,
          -7.88583333,
          -9.80444444,
          -13.45388888,
          -21.938745,
          -29.83987,
          -7.110518,
          -19.58749999,
          -21.450972,
          -15.28027777,
          -22.75027777,
          -6.03305554,
          -14.97972221,
          -22.63944444,
          -13.33249999,
          -16.38888888,
          -7.61083333,
          -18.99666666,
          -8.333531,
          -23.84472221,
          -22.35805555,
          -19.57388888,
          -22.10166666,
          -10.48416666,
          -15.52416666,
          -9.62555554,
          -8.04333333,
          -20.75055555,
          -15.57999999,
          -8.66666666,
          -6.07749999,
          -11.2725,
          -23.81083333,
          -14.42138888,
          -28.27564,
          -12.59222221,
          -4.24305555,
          -21.4786111,
          -6.639622,
          -18.91694443,
          -24.67166666,
          -12.19305555,
          -17.70555555,
          -20.46694443,
          -6.97416666,
          -7.07777777,
          -8.26722221,
          -19.885398,
          -21.22833332,
          -22.955,
          -25.4486111,
          -15.085958,
          -5.15111111,
          -17.258064,
          -26.7861111,
          -12.52194443,
          -22.395799,
          -15.751536,
          -22.37388888,
          -10.1286111,
          -7.45555555,
          -9.28749999,
          -13.70805555,
          -19.45527777,
          -20.455,
          -22.97527777,
          -5.17444443,
          -7.16527777,
          -4.90416666,
          -18.676198,
          -22.09833333,
          -22.98833333,
          -9.56333333,
          -17.923622,
          -18.969142,
          -27.80222222,
          -9.35833333,
          -22.04166666,
          -10.9525,
          -22.37277777,
          -8.05916666,
          -9.74916666,
          -13.253521,
          -2,
          -25.69916666,
          -20.91,
          -14.40833333,
          -23.505266,
          -22.86166666,
          -19.481935,
          -28.222381,
          -24.57083332,
          -20.78333333,
          -21.54666666,
          -17.33694444,
          -13.30388888,
          -11.05861111,
          -12.627315,
          -31.34777777,
          0.03499999,
          -18.830354,
          -12.80833333,
          -15.32472221,
          -6.01749999,
          -23.359156,
          -15.93972221,
          -29.35027777,
          -6.46749999,
          -10.39972221,
          -23.52388888,
          -24.96277777,
          -10.78999999,
          4.47749999,
          -7.26055555,
          -27.288624,
          -28.60444444,
          -9.8336111,
          -22.653579,
          -15.93527777,
          -5.6436111,
          -22.867389,
          -21.980353,
          -15.24472221,
          -22.0786111,
          -14.13305554,
          -16.962536,
          -22.30055555,
          -3.27027777,
          -10.98472221,
          -23.98194443,
          -21.60916666,
          -6.835777,
          -22.3761111,
          -20.39555555,
          -1.30083333,
          -10.828286,
          -25.83555555,
          -15.23444444,
          -10.72305554,
          -21.31916666,
          -8.15472222,
          -1.411228,
          -26.41722221,
          -2.53472221,
          -20.26333333,
          -17.24444444,
          -21.33833333,
          -24.53305554,
          -21.769965,
          -18.49277777,
          -18.996684,
          -3.58333333,
          -5.36638888,
          -2.59222221,
          -8.91083333,
          -16.39944444,
          -9.3386111,
          -30.54527777,
          -11.98777777,
          -29.44916666,
          -11.74583333,
          -24.15833333,
          -3.08666666,
          -16.42305554,
          -5.16,
          -22.58972221,
          -17.8411111,
          -20.58444444,
          -17.89284,
          -9.94888888,
          -3.13333333,
          -8.504,
          -8.36527777,
          -14.92777777,
          -28.70472222,
          -22.64583333,
          -26.286562,
          -23.05027777,
          -30.01027777,
          -31.40333333,
          -1.66111111,
          -25.49444444,
          -20.98166666,
          -33.74222221,
          -20.35972222,
          -2.05666666,
          -23.96694443,
          -25.72194443,
          -25.60194444,
          -13.009468,
          -12.015377,
          -6.56194444,
          -5.53499999,
          -9.67972221,
          -20.466694,
          -6.22805554,
          -23.77333332,
          -10.08083332,
          -10.19083333,
          -26.3986111,
          -12.82055554,
          -5.81611111,
          -21.85555555,
          -0.72777777,
          -11.08472221,
          -28.126992,
          -6.31999999,
          -11.66472222,
          -29.674293,
          -27.6786111,
          -21.95055555,
          -20.0311111,
          -20.55666666,
          -26.91361111,
          -0.125207,
          -2.27083332,
          -19.88388888,
          -23.64444444,
          -16.575667,
          -1.88083332,
          -22.657056,
          -4.276047,
          -16.642841,
          -27.89055555,
          -17.56138888,
          -21.10083333,
          -15.30027777,
          -22.86138888,
          -28.60344,
          -22.33472221,
          -29.0893814,
          -30.05361111,
          -23.40527777,
          -19.988388,
          -3.10333333,
          -17.30416666,
          -22.575389,
          -9.42027777,
          -21.08555555,
          -5.90555555,
          -16.68638888,
          -11.42888888,
          -21.70583333,
          -10.47694443,
          -15.90277777,
          -15.78944444,
          -3.86416666,
          -11.205,
          -5.50666666,
          -9.28583333,
          -20.55916666,
          -4.26138888,
          -12.13166666,
          -21.13305554,
          -15.559295,
          -16.4625,
          -20.762607,
          -19.42027777,
          -21.106502,
          -0.98722221,
          -23.41527777,
          -21.58749999,
          -22.4711111,
          -27.854345,
          -8.4336111,
          -24.43722221,
          -5.13666666,
          -3.8436111,
          -21.305889,
          -6.39916666,
          -6.08944444,
          -7.124191,
          -7.0711111,
          -21.45777777,
          -4.25055555,
          -3.29472221,
          -27.3886111,
          -5.83722221,
          -9.10833333,
          -11.88749999,
          -20.35138888,
          -5.18666666,
          -7.954277,
          -2.6336111,
          -25.567879,
          -4.09749999,
          -13.155681,
          -16.67972221,
          -16.55416666,
          -20.447195,
          -17.745066,
          -9.08333333,
          -26.93749999,
          -7.225574,
          -17.96305555,
          -14.91222222,
          -5.34916666,
          -28.41722221,
          -17.63527777,
          -15.80277777,
          -19.53921,
          -8.36444444,
          -3.74805555,
          -19.87527777,
          -14.17138888,
          -11.28027777,
          -24.53333333,
          -8.72972221,
          -11.44583333,
          -26.3936111,
          -30.341438,
          -22.092833,
          -13.30944444,
          -7.83972221,
          -26.938666,
          -3.8,
          -23.4261111,
          -16.012222,
          -9.97055554,
          -16.26055555,
          -31.0025,
          -22.65833333,
          -3.37722221,
          -21.927251,
          -21.24666666,
          -13.005515,
          -7.89444444,
          -31.8025,
          -8.44166666,
          -32.07888888,
          -14.65888888,
          -22.951944,
          -23.10166666,
          -4.24388888,
          -27.41833332,
          -0.41444444,
          -28.859211,
          -18.78694444,
          -16.34166666,
          -29.709083,
          -24.78694444,
          -28.65333333,
          -16.78499999,
          -14.82888888,
          -4.28055554,
          -10.20777777,
          -16.16027777,
          -22.235222,
          -22.4486111,
          -5.7886111,
          -8.59888888,
          -9.55111111,
          -11.28416666,
          -12.12472221,
          -18.95277777,
          -13.0386111,
          -12.03583333,
          -21.78055554,
          -22.415,
          -15.596491,
          -10.44305555,
          -4.86416666,
          -4.78694444,
          -7.07972221,
          -6.76138888,
          -29.164581,
          -22.93999999,
          -20.44444444,
          -28.65,
          -17.784477,
          -18.9886111,
          -22.19388888,
          -13.03888888,
          -16.07472221,
          -19.735757,
          -22.85722222,
          -15.53138888,
          -8.7936111,
          -11.328998,
          -7.33722221,
          0.94777777,
          -21.918066,
          -27.16916666,
          -9.00138888,
          -19.12249999,
          -22.70305555,
          -21.75,
          -27.0853111,
          -7.48333333,
          -12.1525,
          -13.527828,
          -17.73944444,
          -6.23722221,
          -2.99027777,
          -8.50944444,
          -22.46472222,
          -17.00694444,
          -8.132288,
          -19.53277777,
          -18.231052,
          -27.60253,
          -14.18194443
         ],
         "lon": [
          -39.2711111,
          -48.36055555,
          -52.06888888,
          -72.78666666,
          -40.08722221,
          -37.76722221,
          -37.815,
          -48.1311111,
          -60.15777777,
          -47.459794,
          -57.43166666,
          -49.73472221,
          -53.63583333,
          -40.73638888,
          -55.40138888,
          -48.478605,
          -35.718128,
          -49.31527777,
          -50.82722221,
          -67.33249999,
          -38.996605,
          -43.35222222,
          -45.123801,
          -49.028877,
          -55.78388888,
          -50.98552,
          -51.81749999,
          -41.10694444,
          -56.17916666,
          -52.403582,
          -46.36638888,
          -52.21166666,
          -43.95861111,
          -45.944389,
          -46.677501,
          -49.723333,
          -40.80138888,
          -40.30583333,
          -54.181858,
          -40.687756,
          -60.05555555,
          -47.41833332,
          -39.26888888,
          -46.84722221,
          -53.31805554,
          -48.1736111,
          -50.85388888,
          -60.38055554,
          -41.388808,
          -49.49972221,
          -60.69083333,
          -49.96611111,
          -52.6025,
          -59.87305554,
          -52.85027777,
          -42.50027777,
          -44.34499999,
          -50.8236111,
          -47.927614,
          -53.37583332,
          -47.87194443,
          -53.42944443,
          -39.0961111,
          -44.72694443,
          -69.8686111,
          -48.48999999,
          -44.453785,
          -45.17305554,
          -48.64166666,
          -45.373049,
          -60.14916666,
          -29.345904,
          -53.763736,
          -46.620088,
          -39.08944444,
          -46.44944444,
          -57.8386111,
          -47.132732,
          -39.05722222,
          -54.75222222,
          -37.47138888,
          -48.177259,
          -44.366313,
          -47.57944443,
          -44.96416666,
          -59.82388888,
          -54.54888888,
          -55.72277777,
          -42.37583332,
          -40.539825,
          -42.70111111,
          -55.71638888,
          -42.7186111,
          -47.35666666,
          -40.39055555,
          -50.47805554,
          -51.408637,
          -54.7361111,
          -47.0575,
          -44.85,
          -57.67388888,
          -64.41999999,
          -52.39194444,
          -48.808681,
          -54.528108,
          -38.97222221,
          -41.18999999,
          -53.2575,
          -36.48194443,
          -44.21361111,
          -51.40388888,
          -49.57416666,
          -43.40527777,
          -50.965,
          -54.72027777,
          -79.49416666,
          -41.20694444,
          -50.90638888,
          -58.57222221,
          -39.21527777,
          -52.52472221,
          -46.78583333,
          -69.19194444,
          -43.68472221,
          -52.305805,
          -55.32944443,
          -42.43583333,
          -45.65111111,
          -42.80138888,
          -40.0686111,
          -45.52083332,
          -50.882738,
          -45.20083333,
          -51.8625,
          -63.07138888,
          -49.49792,
          -68.73527777,
          -44.011249,
          -47.96194444,
          -45.34583333,
          -48.16472222,
          -53.22444443,
          -50.05777777,
          -48.98999999,
          -55.56611111,
          -40.25,
          -40.74194444,
          -41.01194444,
          -42.975721,
          -44.52499999,
          -55.99305555,
          -50.72777777,
          -50.21027777,
          -59.8886111,
          -54.50166666,
          -40.986505,
          -41.34388888,
          -52.60111111,
          -38.10833333,
          -45.459836,
          -38.96749999,
          -42.60888888,
          -47.55,
          -46.949617,
          -70.3436111,
          -40.29972221,
          -49.19194444,
          -44.86444444,
          -58.774785,
          -44.44499999,
          -45.41694443,
          -71.61749999,
          -39.5886111,
          -56.75611111,
          -48.20111111,
          -45.40416666,
          -54.885653,
          -52.38194443,
          -44.30333333,
          -48.151574,
          -44.87499999,
          -38.53777777,
          -54.3686111,
          -43.3436111,
          -49.157733,
          -54.32583332,
          -53.72055554,
          -51.83424,
          -45.92194443,
          -46.44055555,
          -51.18166666,
          -46.633916,
          -42.03527777,
          -48.76194444,
          -49.28277777,
          -42.23694444,
          -38.14083333,
          -49.89444444,
          -58.12722221,
          -54.69444444,
          -40.523262,
          -54.89777777,
          -49.67499999,
          -42.74972221,
          -45.00555555,
          -50.59499999,
          -56.437115,
          -69.69527777,
          -50.14972221,
          -51.14194444,
          -52.96333333,
          -39.12666666,
          -40.10277777,
          -36.61916666,
          -56.67722221,
          -42.600936,
          -57.081899,
          -49.926072,
          -54.02999999,
          -54.341972,
          -39.09138888,
          -45.60388888,
          -44.23333333,
          -49.53999999,
          -52.89027777,
          -44.61749999,
          -39.18249999,
          -72.68138888,
          -57.63749999,
          -45.094625,
          -46.14333333,
          -43.69555555,
          -42.62249999,
          -56.54083333,
          -52.37249999,
          -46.43555555,
          -42.07722221,
          -50.00694444,
          -41.48888888,
          -54.3811111,
          -35.56805554,
          -50.14222221,
          -37.795,
          -45.4025,
          -54.0361111,
          -49.934617,
          -49.5286111,
          -44.79499999,
          -56.13777777,
          -51.956966,
          -48.25555555,
          -47.54583333,
          -43.21333333,
          -42.38916666,
          -40.40388888,
          -42.14694444,
          -40.36277777,
          -72.74777777,
          -44.416883,
          -43.76777777,
          -55.6261111,
          -49.23055554,
          -44.016036,
          -36.57305554,
          -44.835556,
          -53.51388888,
          -58.23138888,
          -44.961909,
          -41.457787,
          -44.70305555,
          -36.28638888,
          -46.02749999,
          -35.56583333,
          -59.7625,
          -44.17333332,
          -45.45388888,
          -42.02138888,
          -39.28944444,
          -34.81555555,
          -37.36694443,
          -39.864051,
          -43.20833333,
          -43.19055555,
          -57.3936111,
          -51.717467,
          -50.633449,
          -50.33555555,
          -69.92638888,
          -41.05166666,
          -37.05444444,
          -50.97472221,
          -34.95916666,
          -37.43083332,
          -46.890326,
          -54.07638888,
          -53.09527777,
          -47.11416666,
          -44.40416666,
          -49.946387,
          -46.04333333,
          -45.593932,
          -51.512845,
          -52.80027777,
          -51.71222222,
          -43.26111111,
          -49.91472222,
          -58.76333333,
          -38.44416666,
          -52.220891,
          -54.01333333,
          -51.08888888,
          -41.977007,
          -38.49583333,
          -57.22583332,
          -40.28138888,
          -52.931912,
          -50.14138888,
          -49.73333333,
          -37.08499999,
          -37.74749999,
          -46.86944443,
          -48.41638888,
          -65.33277777,
          -61.14916666,
          -64.7886111,
          -50.604283,
          -48.81333333,
          -39.49555555,
          -44.040916,
          -48.13749999,
          -48.11194444,
          -43.102056,
          -47.883927,
          -40.22944443,
          -53.46583333,
          -47.52333332,
          -50.42545,
          -53.82277777,
          -52.39472221,
          -39.61694443,
          -48.88583333,
          -55.17749999,
          -38.311583,
          -41.81194444,
          -56.43166666,
          -47.94805555,
          -49.847882,
          -50.36888888,
          -59.3461111,
          -43.65111111,
          -50.93027777,
          -46.63944444,
          -48.439512,
          -52.3486111,
          -57.75805555,
          -42.18277777,
          -46.88166666,
          -48.11388888,
          -47.86416666,
          -43.364329,
          -53.17138888,
          -46.985935,
          -59.12944443,
          -49.05111111,
          -42.7075,
          -36.49333333,
          -47.62583332,
          -50.35027777,
          -53.46694443,
          -51.4261111,
          -51.82333332,
          -49.04972221,
          -53.03055554,
          -41.78305554,
          -51.14888888,
          -35.48749999,
          -43.28222221,
          -53.28944444,
          -47.38249999,
          -41.515423,
          -62.96194444,
          -58.48277777,
          -39.31528,
          -36.02833332,
          -53.8836111,
          -51.87083332,
          -42.41555555,
          -53.633114,
          -43.59555555,
          -50.13583333,
          -52.70083333,
          -45.37249999,
          -48.32583332,
          -54.97194443,
          -53.37222221,
          -47.77527777,
          -60.02583332,
          -55.02416666,
          -53.74805555,
          -54.48305554,
          -39.616881,
          -48.544517,
          -35.13527777,
          -36.87222221,
          -68.16527777,
          -53.763028,
          -36.02666666,
          -50.18055554,
          -38.34583333,
          -48.30194444,
          -51.35361111,
          -50.33583333,
          -46.16222222,
          -48.79972221,
          -48.51583333,
          -43.13888888,
          -49.47961,
          -55.78777777,
          -39.02305554,
          -51.064042,
          -49.04194444,
          -42.01027777,
          -46.00888888,
          -43.75611111,
          -49.26805554,
          -67.061246,
          -43.62416666,
          -43.96944443,
          -54.57027777,
          -41.485588,
          -55.51972221,
          -54.819306,
          -41.794568,
          -49.220222,
          -54.47999999,
          -47.19916666,
          -41.03944444,
          -45.61749999,
          -43.41138888,
          -53.673597,
          -42.67694443,
          -53.82665025,
          -51.17472221,
          -51.93277777,
          -40.579572,
          -60.01638888,
          -48.28416666,
          -55.160333,
          -36.62027777,
          -49.92027777,
          -38.62777777,
          -43.84388888,
          -48.18499999,
          -57.88666666,
          -49.62944443,
          -52.24527777,
          -47.92583332,
          -54.21638888,
          -40.465,
          -45.23694444,
          -43.32444443,
          -48.54499999,
          -38.9311111,
          -40.35416666,
          -48.84055555,
          -56.062951,
          -54.58027777,
          -42.864013,
          -54.55305555,
          -44.250928,
          -62.92416666,
          -50.57777777,
          -41.95833333,
          -48.5575,
          -53.791179,
          -37.05555555,
          -51.96305555,
          -38.35666666,
          -50.63805555,
          -52.820375,
          -41.73999999,
          -42.72749999,
          -48.781267,
          -41.40416666,
          -51.55222222,
          -69.93499999,
          -60.62833332,
          -51.21583333,
          -35.20805555,
          -45.93194443,
          -49.60833333,
          -51.43027777,
          -40.67222221,
          -38.295082,
          -59.60055555,
          -51.077946,
          -63.14527777,
          -41.774125,
          -48.61805554,
          -46.88194443,
          -54.722615,
          -49.101698,
          -44.32638888,
          -50.14555555,
          -35.904831,
          -38.70333333,
          -42.80861111,
          -41.51222222,
          -54.9625,
          -54.76055555,
          -43.29694444,
          -49.518133,
          -42.2525,
          -40.34583333,
          -47.43416666,
          -39.69249999,
          -57.52666666,
          -54.01916666,
          -49.85638888,
          -61.43416666,
          -50.36333333,
          -54.310909,
          -54.798833,
          -49.11749999,
          -35.80111111,
          -52.39809,
          -47.51,
          -47.58555555,
          -47.557417,
          -55.82749999,
          -47.96694443,
          -54.61805554,
          -52.13444444,
          -64.72305554,
          -50.490251,
          -56.45055555,
          -38.50576,
          -37.12472221,
          -52.40722222,
          -43.86555555,
          -52.16777777,
          -39.18138888,
          -46.530556,
          -48.9411111,
          -49.93944444,
          -49.64694444,
          -65.01749999,
          -52.542387,
          -42.94305555,
          -53.76611111,
          -55.525486,
          -49.99916666,
          -53.11194444,
          -47.61305555,
          -56.44194444,
          -47.56388888,
          -37.43194443,
          -42.31027777,
          -49.965111,
          -42.98694444,
          -61.28833333,
          -38.58416666,
          -35.77027777,
          -47.21222222,
          -45.02694443,
          -49.52499999,
          -57.09222221,
          -37.68388888,
          -47.07527777,
          -46.80527777,
          -47.625801,
          -40.14833333,
          -42.14555555,
          -37.76666666,
          -37.27277777,
          -43.00333333,
          -51.534202,
          -43.40277777,
          -52.87583332,
          -56.01638888,
          -46.119394,
          -56.62277777,
          -54.91138888,
          -42.61722221,
          -57.69305555,
          -42.137146,
          -54.60555555,
          -55.13555555,
          -63.84583333,
          -41.864504,
          -47.45972222,
          -59.74638888,
          -46.382996,
          -51.55888888,
          -39.9125,
          -51.72083332,
          -47.62333332,
          -52.47138888,
          -52.6357111,
          -36.28638888,
          -45.82972221,
          -40.119752,
          -39.25861111,
          -57.77499999,
          -47.40777777,
          -37.71166666,
          -43.29138888,
          -39.55805555,
          -41.142945,
          -41.09083333,
          -43.648269,
          -48.620096,
          -41.67222221
         ],
         "name": "",
         "radius": 5,
         "subplot": "mapbox",
         "type": "densitymapbox"
        }
       ],
       "layout": {
        "coloraxis": {
         "colorscale": [
          [
           0,
           "#0d0887"
          ],
          [
           0.1111111111111111,
           "#46039f"
          ],
          [
           0.2222222222222222,
           "#7201a8"
          ],
          [
           0.3333333333333333,
           "#9c179e"
          ],
          [
           0.4444444444444444,
           "#bd3786"
          ],
          [
           0.5555555555555556,
           "#d8576b"
          ],
          [
           0.6666666666666666,
           "#ed7953"
          ],
          [
           0.7777777777777778,
           "#fb9f3a"
          ],
          [
           0.8888888888888888,
           "#fdca26"
          ],
          [
           1,
           "#f0f921"
          ]
         ]
        },
        "height": 800,
        "legend": {
         "tracegroupgap": 0
        },
        "mapbox": {
         "center": {
          "lat": -15,
          "lon": -60
         },
         "domain": {
          "x": [
           0,
           1
          ],
          "y": [
           0,
           1
          ]
         },
         "style": "carto-darkmatter",
         "zoom": 3
        },
        "margin": {
         "t": 60
        },
        "template": {
         "data": {
          "bar": [
           {
            "error_x": {
             "color": "#2a3f5f"
            },
            "error_y": {
             "color": "#2a3f5f"
            },
            "marker": {
             "line": {
              "color": "#E5ECF6",
              "width": 0.5
             },
             "pattern": {
              "fillmode": "overlay",
              "size": 10,
              "solidity": 0.2
             }
            },
            "type": "bar"
           }
          ],
          "barpolar": [
           {
            "marker": {
             "line": {
              "color": "#E5ECF6",
              "width": 0.5
             },
             "pattern": {
              "fillmode": "overlay",
              "size": 10,
              "solidity": 0.2
             }
            },
            "type": "barpolar"
           }
          ],
          "carpet": [
           {
            "aaxis": {
             "endlinecolor": "#2a3f5f",
             "gridcolor": "white",
             "linecolor": "white",
             "minorgridcolor": "white",
             "startlinecolor": "#2a3f5f"
            },
            "baxis": {
             "endlinecolor": "#2a3f5f",
             "gridcolor": "white",
             "linecolor": "white",
             "minorgridcolor": "white",
             "startlinecolor": "#2a3f5f"
            },
            "type": "carpet"
           }
          ],
          "choropleth": [
           {
            "colorbar": {
             "outlinewidth": 0,
             "ticks": ""
            },
            "type": "choropleth"
           }
          ],
          "contour": [
           {
            "colorbar": {
             "outlinewidth": 0,
             "ticks": ""
            },
            "colorscale": [
             [
              0,
              "#0d0887"
             ],
             [
              0.1111111111111111,
              "#46039f"
             ],
             [
              0.2222222222222222,
              "#7201a8"
             ],
             [
              0.3333333333333333,
              "#9c179e"
             ],
             [
              0.4444444444444444,
              "#bd3786"
             ],
             [
              0.5555555555555556,
              "#d8576b"
             ],
             [
              0.6666666666666666,
              "#ed7953"
             ],
             [
              0.7777777777777778,
              "#fb9f3a"
             ],
             [
              0.8888888888888888,
              "#fdca26"
             ],
             [
              1,
              "#f0f921"
             ]
            ],
            "type": "contour"
           }
          ],
          "contourcarpet": [
           {
            "colorbar": {
             "outlinewidth": 0,
             "ticks": ""
            },
            "type": "contourcarpet"
           }
          ],
          "heatmap": [
           {
            "colorbar": {
             "outlinewidth": 0,
             "ticks": ""
            },
            "colorscale": [
             [
              0,
              "#0d0887"
             ],
             [
              0.1111111111111111,
              "#46039f"
             ],
             [
              0.2222222222222222,
              "#7201a8"
             ],
             [
              0.3333333333333333,
              "#9c179e"
             ],
             [
              0.4444444444444444,
              "#bd3786"
             ],
             [
              0.5555555555555556,
              "#d8576b"
             ],
             [
              0.6666666666666666,
              "#ed7953"
             ],
             [
              0.7777777777777778,
              "#fb9f3a"
             ],
             [
              0.8888888888888888,
              "#fdca26"
             ],
             [
              1,
              "#f0f921"
             ]
            ],
            "type": "heatmap"
           }
          ],
          "heatmapgl": [
           {
            "colorbar": {
             "outlinewidth": 0,
             "ticks": ""
            },
            "colorscale": [
             [
              0,
              "#0d0887"
             ],
             [
              0.1111111111111111,
              "#46039f"
             ],
             [
              0.2222222222222222,
              "#7201a8"
             ],
             [
              0.3333333333333333,
              "#9c179e"
             ],
             [
              0.4444444444444444,
              "#bd3786"
             ],
             [
              0.5555555555555556,
              "#d8576b"
             ],
             [
              0.6666666666666666,
              "#ed7953"
             ],
             [
              0.7777777777777778,
              "#fb9f3a"
             ],
             [
              0.8888888888888888,
              "#fdca26"
             ],
             [
              1,
              "#f0f921"
             ]
            ],
            "type": "heatmapgl"
           }
          ],
          "histogram": [
           {
            "marker": {
             "pattern": {
              "fillmode": "overlay",
              "size": 10,
              "solidity": 0.2
             }
            },
            "type": "histogram"
           }
          ],
          "histogram2d": [
           {
            "colorbar": {
             "outlinewidth": 0,
             "ticks": ""
            },
            "colorscale": [
             [
              0,
              "#0d0887"
             ],
             [
              0.1111111111111111,
              "#46039f"
             ],
             [
              0.2222222222222222,
              "#7201a8"
             ],
             [
              0.3333333333333333,
              "#9c179e"
             ],
             [
              0.4444444444444444,
              "#bd3786"
             ],
             [
              0.5555555555555556,
              "#d8576b"
             ],
             [
              0.6666666666666666,
              "#ed7953"
             ],
             [
              0.7777777777777778,
              "#fb9f3a"
             ],
             [
              0.8888888888888888,
              "#fdca26"
             ],
             [
              1,
              "#f0f921"
             ]
            ],
            "type": "histogram2d"
           }
          ],
          "histogram2dcontour": [
           {
            "colorbar": {
             "outlinewidth": 0,
             "ticks": ""
            },
            "colorscale": [
             [
              0,
              "#0d0887"
             ],
             [
              0.1111111111111111,
              "#46039f"
             ],
             [
              0.2222222222222222,
              "#7201a8"
             ],
             [
              0.3333333333333333,
              "#9c179e"
             ],
             [
              0.4444444444444444,
              "#bd3786"
             ],
             [
              0.5555555555555556,
              "#d8576b"
             ],
             [
              0.6666666666666666,
              "#ed7953"
             ],
             [
              0.7777777777777778,
              "#fb9f3a"
             ],
             [
              0.8888888888888888,
              "#fdca26"
             ],
             [
              1,
              "#f0f921"
             ]
            ],
            "type": "histogram2dcontour"
           }
          ],
          "mesh3d": [
           {
            "colorbar": {
             "outlinewidth": 0,
             "ticks": ""
            },
            "type": "mesh3d"
           }
          ],
          "parcoords": [
           {
            "line": {
             "colorbar": {
              "outlinewidth": 0,
              "ticks": ""
             }
            },
            "type": "parcoords"
           }
          ],
          "pie": [
           {
            "automargin": true,
            "type": "pie"
           }
          ],
          "scatter": [
           {
            "fillpattern": {
             "fillmode": "overlay",
             "size": 10,
             "solidity": 0.2
            },
            "type": "scatter"
           }
          ],
          "scatter3d": [
           {
            "line": {
             "colorbar": {
              "outlinewidth": 0,
              "ticks": ""
             }
            },
            "marker": {
             "colorbar": {
              "outlinewidth": 0,
              "ticks": ""
             }
            },
            "type": "scatter3d"
           }
          ],
          "scattercarpet": [
           {
            "marker": {
             "colorbar": {
              "outlinewidth": 0,
              "ticks": ""
             }
            },
            "type": "scattercarpet"
           }
          ],
          "scattergeo": [
           {
            "marker": {
             "colorbar": {
              "outlinewidth": 0,
              "ticks": ""
             }
            },
            "type": "scattergeo"
           }
          ],
          "scattergl": [
           {
            "marker": {
             "colorbar": {
              "outlinewidth": 0,
              "ticks": ""
             }
            },
            "type": "scattergl"
           }
          ],
          "scattermapbox": [
           {
            "marker": {
             "colorbar": {
              "outlinewidth": 0,
              "ticks": ""
             }
            },
            "type": "scattermapbox"
           }
          ],
          "scatterpolar": [
           {
            "marker": {
             "colorbar": {
              "outlinewidth": 0,
              "ticks": ""
             }
            },
            "type": "scatterpolar"
           }
          ],
          "scatterpolargl": [
           {
            "marker": {
             "colorbar": {
              "outlinewidth": 0,
              "ticks": ""
             }
            },
            "type": "scatterpolargl"
           }
          ],
          "scatterternary": [
           {
            "marker": {
             "colorbar": {
              "outlinewidth": 0,
              "ticks": ""
             }
            },
            "type": "scatterternary"
           }
          ],
          "surface": [
           {
            "colorbar": {
             "outlinewidth": 0,
             "ticks": ""
            },
            "colorscale": [
             [
              0,
              "#0d0887"
             ],
             [
              0.1111111111111111,
              "#46039f"
             ],
             [
              0.2222222222222222,
              "#7201a8"
             ],
             [
              0.3333333333333333,
              "#9c179e"
             ],
             [
              0.4444444444444444,
              "#bd3786"
             ],
             [
              0.5555555555555556,
              "#d8576b"
             ],
             [
              0.6666666666666666,
              "#ed7953"
             ],
             [
              0.7777777777777778,
              "#fb9f3a"
             ],
             [
              0.8888888888888888,
              "#fdca26"
             ],
             [
              1,
              "#f0f921"
             ]
            ],
            "type": "surface"
           }
          ],
          "table": [
           {
            "cells": {
             "fill": {
              "color": "#EBF0F8"
             },
             "line": {
              "color": "white"
             }
            },
            "header": {
             "fill": {
              "color": "#C8D4E3"
             },
             "line": {
              "color": "white"
             }
            },
            "type": "table"
           }
          ]
         },
         "layout": {
          "annotationdefaults": {
           "arrowcolor": "#2a3f5f",
           "arrowhead": 0,
           "arrowwidth": 1
          },
          "autotypenumbers": "strict",
          "coloraxis": {
           "colorbar": {
            "outlinewidth": 0,
            "ticks": ""
           }
          },
          "colorscale": {
           "diverging": [
            [
             0,
             "#8e0152"
            ],
            [
             0.1,
             "#c51b7d"
            ],
            [
             0.2,
             "#de77ae"
            ],
            [
             0.3,
             "#f1b6da"
            ],
            [
             0.4,
             "#fde0ef"
            ],
            [
             0.5,
             "#f7f7f7"
            ],
            [
             0.6,
             "#e6f5d0"
            ],
            [
             0.7,
             "#b8e186"
            ],
            [
             0.8,
             "#7fbc41"
            ],
            [
             0.9,
             "#4d9221"
            ],
            [
             1,
             "#276419"
            ]
           ],
           "sequential": [
            [
             0,
             "#0d0887"
            ],
            [
             0.1111111111111111,
             "#46039f"
            ],
            [
             0.2222222222222222,
             "#7201a8"
            ],
            [
             0.3333333333333333,
             "#9c179e"
            ],
            [
             0.4444444444444444,
             "#bd3786"
            ],
            [
             0.5555555555555556,
             "#d8576b"
            ],
            [
             0.6666666666666666,
             "#ed7953"
            ],
            [
             0.7777777777777778,
             "#fb9f3a"
            ],
            [
             0.8888888888888888,
             "#fdca26"
            ],
            [
             1,
             "#f0f921"
            ]
           ],
           "sequentialminus": [
            [
             0,
             "#0d0887"
            ],
            [
             0.1111111111111111,
             "#46039f"
            ],
            [
             0.2222222222222222,
             "#7201a8"
            ],
            [
             0.3333333333333333,
             "#9c179e"
            ],
            [
             0.4444444444444444,
             "#bd3786"
            ],
            [
             0.5555555555555556,
             "#d8576b"
            ],
            [
             0.6666666666666666,
             "#ed7953"
            ],
            [
             0.7777777777777778,
             "#fb9f3a"
            ],
            [
             0.8888888888888888,
             "#fdca26"
            ],
            [
             1,
             "#f0f921"
            ]
           ]
          },
          "colorway": [
           "#636efa",
           "#EF553B",
           "#00cc96",
           "#ab63fa",
           "#FFA15A",
           "#19d3f3",
           "#FF6692",
           "#B6E880",
           "#FF97FF",
           "#FECB52"
          ],
          "font": {
           "color": "#2a3f5f"
          },
          "geo": {
           "bgcolor": "white",
           "lakecolor": "white",
           "landcolor": "#E5ECF6",
           "showlakes": true,
           "showland": true,
           "subunitcolor": "white"
          },
          "hoverlabel": {
           "align": "left"
          },
          "hovermode": "closest",
          "mapbox": {
           "style": "light"
          },
          "paper_bgcolor": "white",
          "plot_bgcolor": "#E5ECF6",
          "polar": {
           "angularaxis": {
            "gridcolor": "white",
            "linecolor": "white",
            "ticks": ""
           },
           "bgcolor": "#E5ECF6",
           "radialaxis": {
            "gridcolor": "white",
            "linecolor": "white",
            "ticks": ""
           }
          },
          "scene": {
           "xaxis": {
            "backgroundcolor": "#E5ECF6",
            "gridcolor": "white",
            "gridwidth": 2,
            "linecolor": "white",
            "showbackground": true,
            "ticks": "",
            "zerolinecolor": "white"
           },
           "yaxis": {
            "backgroundcolor": "#E5ECF6",
            "gridcolor": "white",
            "gridwidth": 2,
            "linecolor": "white",
            "showbackground": true,
            "ticks": "",
            "zerolinecolor": "white"
           },
           "zaxis": {
            "backgroundcolor": "#E5ECF6",
            "gridcolor": "white",
            "gridwidth": 2,
            "linecolor": "white",
            "showbackground": true,
            "ticks": "",
            "zerolinecolor": "white"
           }
          },
          "shapedefaults": {
           "line": {
            "color": "#2a3f5f"
           }
          },
          "ternary": {
           "aaxis": {
            "gridcolor": "white",
            "linecolor": "white",
            "ticks": ""
           },
           "baxis": {
            "gridcolor": "white",
            "linecolor": "white",
            "ticks": ""
           },
           "bgcolor": "#E5ECF6",
           "caxis": {
            "gridcolor": "white",
            "linecolor": "white",
            "ticks": ""
           }
          },
          "title": {
           "x": 0.05
          },
          "xaxis": {
           "automargin": true,
           "gridcolor": "white",
           "linecolor": "white",
           "ticks": "",
           "title": {
            "standoff": 15
           },
           "zerolinecolor": "white",
           "zerolinewidth": 2
          },
          "yaxis": {
           "automargin": true,
           "gridcolor": "white",
           "linecolor": "white",
           "ticks": "",
           "title": {
            "standoff": 15
           },
           "zerolinecolor": "white",
           "zerolinewidth": 2
          }
         }
        },
        "title": {
         "text": "Estações INMET"
        }
       }
      },
      "text/html": [
       "<div>                            <div id=\"f7fc299d-e76f-4a66-a129-1351a09f8d84\" class=\"plotly-graph-div\" style=\"height:800px; width:100%;\"></div>            <script type=\"text/javascript\">                require([\"plotly\"], function(Plotly) {                    window.PLOTLYENV=window.PLOTLYENV || {};                                    if (document.getElementById(\"f7fc299d-e76f-4a66-a129-1351a09f8d84\")) {                    Plotly.newPlot(                        \"f7fc299d-e76f-4a66-a129-1351a09f8d84\",                        [{\"coloraxis\":\"coloraxis\",\"customdata\":[[\"BARBALHA\",\"A315\",\"CE\"],[\"TOME ACU\",\"A213\",\"PA\"],[\"BRASILANDIA\",\"S705\",\"MS\"],[\"MARECHAL THAUMATURGO\",\"A137\",\"AC\"],[\"ACARAU\",\"A360\",\"CE\"],[\"PIRANHAS\",\"A371\",\"AL\"],[\"APODI\",\"A340\",\"RN\"],[\"BRAZLANDIA\",\"A042\",\"DF\"],[\"VILHENA\",\"A938\",\"RO\"],[\"IMPERATRIZ\",\"A225\",\"MA\"],[\"TANGARA DA SERRA\",\"A902\",\"MT\"],[\"LINS\",\"A727\",\"SP\"],[\"ICARAIMA\",\"A824\",\"PR\"],[\"ECOPORANGA\",\"A631\",\"ES\"],[\"SANTANA DO LIVRAMENTO\",\"A804\",\"RS\"],[\"COLINAS DO TOCANTINS\",\"A049\",\"TO\"],[\"AREIA\",\"A310\",\"PB\"],[\"URUSSANGA\",\"A814\",\"SC\"],[\"CANELA\",\"A879\",\"RS\"],[\"BOCA DO ACRE\",\"A110\",\"AM\"],[\"EUCLIDES DA CUNHA\",\"A442\",\"BA\"],[\"CHAPADINHA\",\"A206\",\"MA\"],[\"SAO ROMAO\",\"A547\",\"MG\"],[\"BAURU\",\"A705\",\"SP\"],[\"AQUIDAUANA\",\"A719\",\"MS\"],[\"CACADOR\",\"A859\",\"SC\"],[\"CAIAPONIA\",\"A023\",\"GO\"],[\"AFONSO CLAUDIO\",\"A657\",\"ES\"],[\"ALTA FLORESTA\",\"A924\",\"MT\"],[\"PASSO FUNDO\",\"A839\",\"RS\"],[\"POSSE\",\"A017\",\"GO\"],[\"AGUA BOA\",\"A908\",\"MT\"],[\"BELO HORIZONTE - CERCADINHO\",\"F501\",\"MG\"],[\"MACHADO\",\"A567\",\"MG\"],[\"SAO PAULO - INTERLAGOS\",\"A771\",\"SP\"],[\"MARIANOPOLIS DO TO\",\"A041\",\"TO\"],[\"VITORIA DA CONQUISTA\",\"A414\",\"BA\"],[\"VITORIA\",\"A612\",\"ES\"],[\"ITAQUIRAI\",\"A752\",\"MS\"],[\"ALMENARA\",\"A508\",\"MG\"],[\"CRMN MANAUS\",\"S103\",\"AM\"],[\"ESTREITO\",\"A224\",\"MA\"],[\"IGUATU\",\"A319\",\"CE\"],[\"DIANOPOLIS\",\"A038\",\"TO\"],[\"PALMEIRA DAS MISSOES\",\"A856\",\"RS\"],[\"RONDON DO PARA\",\"A214\",\"PA\"],[\"IVAI\",\"A818\",\"PR\"],[\"NOVO ARIPUANA\",\"A144\",\"AM\"],[\"LENCOIS\",\"A425\",\"BA\"],[\"CAMETA\",\"A236\",\"PA\"],[\"BOA VISTA\",\"A135\",\"RR\"],[\"VOTUPORANGA\",\"A729\",\"SP\"],[\"CHAPADAO DO SUL\",\"A730\",\"MS\"],[\"VILA BELA DA SANTISSIMA TRINDADE\",\"A922\",\"MT\"],[\"NOVO HORIZONTE\",\"A816\",\"SC\"],[\"PILAO ARCADO\",\"A449\",\"BA\"],[\"URUCUI\",\"A346\",\"PI\"],[\"ITAUBAL\",\"A251\",\"AP\"],[\"CATALAO\",\"A034\",\"GO\"],[\"JAGUARAO\",\"A836\",\"RS\"],[\"PARANA\",\"A010\",\"TO\"],[\"FREDERICO WESTPHALEN\",\"A854\",\"RS\"],[\"SALGUEIRO\",\"A370\",\"PE\"],[\"PARATI\",\"A619\",\"RJ\"],[\"EIRUNEPE\",\"A109\",\"AM\"],[\"BEBEDOURO\",\"A764\",\"SP\"],[\"CURVELO\",\"A538\",\"MG\"],[\"CORRENTE\",\"A374\",\"PI\"],[\"ITAPOA\",\"A851\",\"SC\"],[\"MARIA DA FE\",\"A531\",\"MG\"],[\"DTCEA VILHENA\",\"S104\",\"RO\"],[\"ARQ.SAO PEDRO E SAO PAULO\",\"A302\",\"RN\"],[\"ANGELICA\",\"S701\",\"MS\"],[\"SAO PAULO - MIRANTE\",\"A701\",\"SP\"],[\"CRUZ DAS ALMAS\",\"A406\",\"BA\"],[\"BURITICUPU\",\"A238\",\"MA\"],[\"CAMPO NOVO DOS PARECIS\",\"A905\",\"MT\"],[\"RIO SONO\",\"A050\",\"TO\"],[\"QUIXADA\",\"A369\",\"CE\"],[\"NOVA UBIRATA\",\"A929\",\"MT\"],[\"ITABAIANA\",\"A451\",\"SE\"],[\"PEDRO AFONSO\",\"A020\",\"TO\"],[\"JANUARIA\",\"A559\",\"MG\"],[\"SAO SIMAO\",\"A770\",\"SP\"],[\"POMPEU\",\"A560\",\"MG\"],[\"EB\",\"S122\",\"MG\"],[\"PEDRO GOMES\",\"S714\",\"MS\"],[\"SORRISO\",\"A904\",\"MT\"],[\"MURIAE\",\"A517\",\"MG\"],[\"MARILANDIA\",\"A632\",\"ES\"],[\"SAO RAIMUNDO NONATO\",\"A345\",\"PI\"],[\"PONTA PORA\",\"A703\",\"MS\"],[\"SAO PEDRO DO PIAUI\",\"A362\",\"PI\"],[\"SALINOPOLIS\",\"A215\",\"PA\"],[\"NOVA VENECIA\",\"A623\",\"ES\"],[\"BREVES\",\"A228\",\"PA\"],[\"PRESIDENTE PRUDENTE\",\"A707\",\"SP\"],[\"COXIM\",\"A720\",\"MS\"],[\"CAPITAO POCO\",\"A248\",\"PA\"],[\"SAO BENTO\",\"S108\",\"MA\"],[\"MAUES\",\"A122\",\"AM\"],[\"FORTE PRINCIPE\",\"S101\",\"RO\"],[\"LARANJEIRAS DO SUL\",\"B804\",\"PR\"],[\"MORRETES\",\"A873\",\"PR\"],[\"RIO BRILHANTE\",\"A743\",\"MS\"],[\"MARAU\",\"A438\",\"BA\"],[\"VENDA NOVA DO IMIGRANTE\",\"A633\",\"ES\"],[\"GAUCHA DO NORTE\",\"A930\",\"MT\"],[\"BREJO GRANDE\",\"A421\",\"SE\"],[\"SAO LUIS\",\"A203\",\"MA\"],[\"PORTO GRANDE\",\"A244\",\"AP\"],[\"RIO NEGRINHO\",\"A862\",\"SC\"],[\"BOM JESUS DA LAPA\",\"A418\",\"BA\"],[\"RIO VERDE\",\"A025\",\"GO\"],[\"SANTAREM\",\"A250\",\"PA\"],[\"CRIOSFERA\",\"C891\",\"SP\"],[\"DELFINO\",\"A443\",\"BA\"],[\"MOSTARDAS\",\"A878\",\"RS\"],[\"COTRIGUACU\",\"A919\",\"MT\"],[\"BELMONTE\",\"A447\",\"BA\"],[\"ENCRUZILHADA DO SUL\",\"A893\",\"RS\"],[\"BRAGANCA\",\"A226\",\"PA\"],[\"PEF YAUARETE\",\"S115\",\"AM\"],[\"SEROPEDICA-ECOLOGIA AGRICOLA\",\"A601\",\"RJ\"],[\"ERECHIM\",\"A828\",\"RS\"],[\"AMAMBAI\",\"A750\",\"MS\"],[\"RIO PARDO DE MINAS\",\"A551\",\"MG\"],[\"ZE DOCA\",\"A255\",\"MA\"],[\"TERESINA\",\"A312\",\"PI\"],[\"LINHARES\",\"A614\",\"ES\"],[\"TAUBATE\",\"A728\",\"SP\"],[\"VACARIA\",\"A880\",\"RS\"],[\"FORMOSA DO RIO PRETO\",\"A452\",\"BA\"],[\"OIAPOQUE\",\"A242\",\"AP\"],[\"HUMAITA\",\"A112\",\"AM\"],[\"ARARANGUA\",\"A867\",\"SC\"],[\"EPITACIOLANDIA\",\"A140\",\"AC\"],[\"IBIRITE (ROLA MOCA)\",\"A555\",\"MG\"],[\"UBERABA\",\"A568\",\"MG\"],[\"GILBUES\",\"A364\",\"PI\"],[\"SAO MIGUEL ARCANJO\",\"A715\",\"SP\"],[\"ALTO ARAGUAIA\",\"A909\",\"MT\"],[\"SAO JOSE DOS AUSENTES\",\"A829\",\"RS\"],[\"GOIANESIA\",\"A022\",\"GO\"],[\"SINOP\",\"A917\",\"MT\"],[\"SERRA DOS AIMORES\",\"A522\",\"MG\"],[\"ALFREDO CHAVES\",\"A615\",\"ES\"],[\"TIANGUA\",\"A368\",\"CE\"],[\"CANTO DO BURITI\",\"A365\",\"PI\"],[\"SANTA RITA DE CASSIA\",\"A415\",\"BA\"],[\"ITAITUBA\",\"A231\",\"PA\"],[\"SAO FELIX  DO ARAGUAIA\",\"A921\",\"MT\"],[\"VENTANIA\",\"A872\",\"PR\"],[\"APUI\",\"A113\",\"AM\"],[\"ITIQUIRA\",\"A933\",\"MT\"],[\"MANTENA\",\"A540\",\"MG\"],[\"CAMPOS DOS GOYTACAZES\",\"A607\",\"RJ\"],[\"MINEIROS\",\"A026\",\"GO\"],[\"POCO VERDE\",\"A419\",\"SE\"],[\"TRES MARIAS\",\"A528\",\"MG\"],[\"FEIRA DE SANTANA\",\"A413\",\"BA\"],[\"SAQUAREMA - SAMPAIO CORREIA\",\"A667\",\"RJ\"],[\"DOM ELISEU\",\"S107\",\"PA\"],[\"ARAXA\",\"A505\",\"MG\"],[\"FEIJO\",\"A138\",\"AC\"],[\"ITABERABA\",\"A408\",\"BA\"],[\"ITUMBIARA\",\"A035\",\"GO\"],[\"OLIVEIRA\",\"A570\",\"MG\"],[\"JUINA\",\"A920\",\"MT\"],[\"RESENDE\",\"A609\",\"RJ\"],[\"SAO LUIS DO PARAITINGA\",\"A740\",\"SP\"],[\"PEF ESTIRAO DO EQUADOR\",\"S116\",\"AM\"],[\"ITAPIPOCA\",\"A359\",\"CE\"],[\"PARINTINS\",\"A123\",\"AM\"],[\"ARAGUAINA\",\"A021\",\"TO\"],[\"VARGINHA\",\"A515\",\"MG\"],[\"SANTIAGO\",\"A833\",\"RS\"],[\"RIO PARDO\",\"A813\",\"RS\"],[\"ANGRA DOS REIS\",\"A628\",\"RJ\"],[\"CONCEICAO DAS ALAGOAS\",\"A520\",\"MG\"],[\"DIVINOPOLIS\",\"A564\",\"MG\"],[\"FORTALEZA\",\"A305\",\"CE\"],[\"BANDEIRANTES\",\"S703\",\"MS\"],[\"CAXIAS\",\"A237\",\"MA\"],[\"COLOMBO\",\"B806\",\"PR\"],[\"FATIMA DO SUL\",\"S708\",\"MS\"],[\"SANTA MARIA\",\"A803\",\"RS\"],[\"CAMAQUA\",\"A838\",\"RS\"],[\"MATEIROS\",\"A040\",\"TO\"],[\"PATOS DE MINAS\",\"A562\",\"MG\"],[\"PARANAIBA\",\"A710\",\"MS\"],[\"PASSOS\",\"A516\",\"MG\"],[\"ARACUAI\",\"A566\",\"MG\"],[\"ITAJAI\",\"A868\",\"SC\"],[\"CONCEICAO DO ARAGUAIA\",\"A241\",\"PA\"],[\"ESPERANTINA\",\"A338\",\"PI\"],[\"ITAPORANGA\",\"A373\",\"PB\"],[\"OURINHOS\",\"A716\",\"SP\"],[\"SALTO DO CEU\",\"A936\",\"MT\"],[\"SAO VICENTE DO SUL\",\"A889\",\"RS\"],[\"PETROLINA\",\"A307\",\"PE\"],[\"GUARANTA DO NORTE\",\"A906\",\"MT\"],[\"TUCURUI\",\"A229\",\"PA\"],[\"GUANAMBI\",\"A426\",\"BA\"],[\"CACHOEIRA PAULISTA\",\"A769\",\"SP\"],[\"JALES\",\"A733\",\"SP\"],[\"QUARAI\",\"A831\",\"RS\"],[\"PEF IPIRANGA\",\"S102\",\"AM\"],[\"CAMBARA DO SUL\",\"A897\",\"RS\"],[\"TUCUMA\",\"A234\",\"PA\"],[\"MEDICILANDIA\",\"A209\",\"PA\"],[\"VALENCA\",\"A444\",\"BA\"],[\"OURICURI\",\"A366\",\"PE\"],[\"ARAPIRACA\",\"A353\",\"AL\"],[\"S.J. DO RIO CLARO\",\"A903\",\"MT\"],[\"CARMO\",\"A629\",\"RJ\"],[\"URUGUAIANA\",\"A809\",\"RS\"],[\"XINGUARA\",\"A247\",\"PA\"],[\"CAMAPUA\",\"S707\",\"MS\"],[\"NOVA ALVORADA DO SUL\",\"S712\",\"MS\"],[\"UNA\",\"A437\",\"BA\"],[\"CAMPOS DO JORDAO\",\"A706\",\"SP\"],[\"COLINAS\",\"A222\",\"MA\"],[\"ITAPACI\",\"A015\",\"GO\"],[\"DIAMANTE DO NORTE\",\"A849\",\"PR\"],[\"CORRENTINA\",\"A416\",\"BA\"],[\"PORTO SEGURO\",\"A427\",\"BA\"],[\"CRUZEIRO DO SUL\",\"A108\",\"AC\"],[\"CORUMBA\",\"A724\",\"MS\"],[\"BAIXA GRANDE DO RIBEIRO\",\"A375\",\"PI\"],[\"BERTIOGA\",\"A765\",\"SP\"],[\"VALENCA\",\"A611\",\"RJ\"],[\"TIMOTEO\",\"A511\",\"MG\"],[\"BELA VISTA\",\"A757\",\"MS\"],[\"SAO JOSE DO XINGU\",\"A942\",\"MT\"],[\"BURITIS\",\"A544\",\"MG\"],[\"REMANSO\",\"A423\",\"BA\"],[\"REDENCAO\",\"A254\",\"PA\"],[\"ALEGRE\",\"A617\",\"ES\"],[\"PRIMAVERA DO LESTE\",\"A923\",\"MT\"],[\"PALMARES\",\"A357\",\"PE\"],[\"SERRA DOS CARAJAS\",\"A230\",\"PA\"],[\"ITABAIANINHA\",\"A417\",\"SE\"],[\"SAO SEBASTIAO\",\"A767\",\"SP\"],[\"PARANATINGA\",\"A915\",\"MT\"],[\"SAO JOAQUIM\",\"A815\",\"SC\"],[\"ARAGUACU\",\"A054\",\"TO\"],[\"BACABAL\",\"A220\",\"MA\"],[\"JARDIM\",\"A758\",\"MS\"],[\"SAO FELIX DO XINGU\",\"A216\",\"PA\"],[\"UBERLANDIA\",\"A507\",\"MG\"],[\"IGUAPE\",\"A712\",\"SP\"],[\"IBOTIRAMA\",\"A439\",\"BA\"],[\"CAPELINHA\",\"A541\",\"MG\"],[\"VILA VELHA\",\"A634\",\"ES\"],[\"OEIRAS\",\"A354\",\"PI\"],[\"CAMPOS SALES\",\"A347\",\"CE\"],[\"PORTO WALTER\",\"A136\",\"AC\"],[\"FLORESTAL\",\"A535\",\"MG\"],[\"BARBACENA\",\"A502\",\"MG\"],[\"ARAL MOREIRA\",\"S702\",\"MS\"],[\"CURITIBA\",\"A807\",\"PR\"],[\"MOCAMBINHO\",\"A539\",\"MG\"],[\"MACAU\",\"A317\",\"RN\"],[\"PIRAPORA\",\"A545\",\"MG\"],[\"SAO MIGUEL DO OESTE\",\"A857\",\"SC\"],[\"BRASNORTE (NOVO MUNDO)\",\"A927\",\"MT\"],[\"PASSA QUATRO\",\"A529\",\"MG\"],[\"AGUAS VERMELHAS\",\"A549\",\"MG\"],[\"ITATIAIA\",\"A635\",\"RJ\"],[\"CORURIPE\",\"A355\",\"AL\"],[\"BALSAS\",\"A204\",\"MA\"],[\"SAO LUIS DO QUITUNDE\",\"A356\",\"AL\"],[\"COMODORO\",\"A913\",\"MT\"],[\"SETE LAGOAS\",\"A569\",\"MG\"],[\"FORMIGA\",\"A524\",\"MG\"],[\"ARRAIAL DO CABO\",\"A606\",\"RJ\"],[\"QUIXERAMOBIM\",\"A325\",\"CE\"],[\"JOAO PESSOA\",\"A320\",\"PB\"],[\"MOSSORO\",\"A318\",\"RN\"],[\"SAO MATEUS\",\"A616\",\"ES\"],[\"TRES RIOS\",\"A625\",\"RJ\"],[\"RIO DE JANEIRO - FORTE DE COPACABANA\",\"A652\",\"RJ\"],[\"APIACAS\",\"A910\",\"MT\"],[\"JATAI\",\"A016\",\"GO\"],[\"SAO SIMAO\",\"A011\",\"GO\"],[\"LAGES\",\"A865\",\"SC\"],[\"PARQUE ESTADUAL CHANDLESS\",\"A102\",\"AC\"],[\"CAMPOS DOS GOYTACAZES - SAO TOME\",\"A620\",\"RJ\"],[\"ARACAJU\",\"A409\",\"SE\"],[\"RANCHARIA\",\"A718\",\"SP\"],[\"RECIFE\",\"A301\",\"PE\"],[\"PAO DE ACUCAR\",\"A323\",\"AL\"],[\"MONTE ALEGRE DE GOIAS\",\"A032\",\"GO\"],[\"MONTE ALEGRE\",\"A239\",\"PA\"],[\"DOIS VIZINHOS\",\"A843\",\"PR\"],[\"SAO SEBASTIAO DO PARAISO\",\"A561\",\"MG\"],[\"MONTALVANIA\",\"A526\",\"MG\"],[\"JOAQUIM TAVORA\",\"A821\",\"PR\"],[\"MONTE VERDE\",\"A509\",\"MG\"],[\"DORES DO INDAIA\",\"A536\",\"MG\"],[\"LAGOA VERMELHA\",\"A844\",\"RS\"],[\"CAMPINA DA LAGOA\",\"B803\",\"PR\"],[\"TRES LAGOAS\",\"A704\",\"MS\"],[\"CORONEL PACHECO\",\"A557\",\"MG\"],[\"EDEIA\",\"A029\",\"GO\"],[\"SAPEZAL\",\"A911\",\"MT\"],[\"RIBEIRA DO AMPARO\",\"A458\",\"BA\"],[\"QUERENCIA\",\"A916\",\"MT\"],[\"BAGE\",\"A827\",\"RS\"],[\"MACAPA\",\"A249\",\"AP\"],[\"GOVERNADOR VALADARES\",\"A532\",\"MG\"],[\"SALVADOR (RADIO FAROL)\",\"A456\",\"BA\"],[\"PORTO ESTRELA\",\"A935\",\"MT\"],[\"TAUA\",\"A324\",\"CE\"],[\"CIDADE GAUCHA\",\"A869\",\"PR\"],[\"GOIAS\",\"A014\",\"GO\"],[\"TORRES\",\"A808\",\"RS\"],[\"CAICO\",\"A316\",\"RN\"],[\"CARIRA\",\"A420\",\"SE\"],[\"BARUERI\",\"A755\",\"SP\"],[\"BARRA DO TURVO\",\"A746\",\"SP\"],[\"DTCEA GUAJARA-MIRIM\",\"S110\",\"RO\"],[\"PACARAIMA\",\"S114\",\"RR\"],[\"LABREA\",\"A111\",\"AM\"],[\"CURITIBANOS\",\"A860\",\"SC\"],[\"Laguna  - Farol de Santa Marta\",\"A866\",\"SC\"],[\"UAUA\",\"A435\",\"BA\"],[\"RIO CLARO\",\"A626\",\"RJ\"],[\"GAMA (PONTE ALTA)\",\"A046\",\"DF\"],[\"ARAGUATINS\",\"A044\",\"TO\"],[\"NITEROI\",\"A627\",\"RJ\"],[\"SAO CARLOS\",\"A711\",\"SP\"],[\"ITAPETINGA\",\"A446\",\"BA\"],[\"NOVA ANDRADINA\",\"S713\",\"MS\"],[\"ALTO PARAISO DE GOIAS\",\"A024\",\"GO\"],[\"PARAUNA\",\"A027\",\"GO\"],[\"IVINHEMA\",\"A709\",\"MS\"],[\"ALTAMIRA\",\"A253\",\"PA\"],[\"QUEIMADAS\",\"A436\",\"BA\"],[\"ITAPEVA\",\"A714\",\"SP\"],[\"MARACAJU\",\"A731\",\"MS\"],[\"SAO GONCALO\",\"A333\",\"PB\"],[\"MACAE\",\"A608\",\"RJ\"],[\"MIRANDA\",\"A722\",\"MS\"],[\"CASTANHAL\",\"A202\",\"PA\"],[\"LAGOA DA CONFUSAO\",\"A055\",\"TO\"],[\"SAO MATEUS DO SUL\",\"A874\",\"PR\"],[\"PONTES E LACERDA\",\"A937\",\"MT\"],[\"BURITIRAMA\",\"A432\",\"BA\"],[\"VALPARAISO\",\"A734\",\"SP\"],[\"CAMPOS LINDOS\",\"A043\",\"TO\"],[\"BELEM\",\"A201\",\"PA\"],[\"CLEVELANDIA\",\"A876\",\"PR\"],[\"URUCARA\",\"A124\",\"AM\"],[\"MANHUACU\",\"A556\",\"MG\"],[\"PARACATU\",\"A571\",\"MG\"],[\"PRADOPOLIS\",\"A747\",\"SP\"],[\"REGISTRO\",\"A766\",\"SP\"],[\"JUIZ DE FORA\",\"A518\",\"MG\"],[\"COSTA RICA\",\"A760\",\"MS\"],[\"PATROCINIO\",\"A523\",\"MG\"],[\"AUTAZES\",\"A120\",\"AM\"],[\"MARABA\",\"A240\",\"PA\"],[\"PREGUICAS\",\"A218\",\"MA\"],[\"GARANHUNS\",\"A322\",\"PE\"],[\"CRISTALINA (FAZENDA SANTA MONICA)\",\"A056\",\"GO\"],[\"SANTANA DO ARAGUAIA\",\"A233\",\"PA\"],[\"CACAPAVA DO SUL\",\"A812\",\"RS\"],[\"SERRA NOVA DOURADA\",\"A943\",\"MT\"],[\"TEUTONIA\",\"A882\",\"RS\"],[\"GURUPI\",\"A019\",\"TO\"],[\"GOIOERE\",\"A825\",\"PR\"],[\"PARNAIBA\",\"A308\",\"PI\"],[\"IPORA\",\"A028\",\"GO\"],[\"CALCANHAR\",\"A344\",\"RN\"],[\"DUQUE DE CAXIAS - XEREM\",\"A603\",\"RJ\"],[\"ALTO TAQUARI\",\"A934\",\"MT\"],[\"FRANCA\",\"A708\",\"SP\"],[\"TEOFILO OTONI\",\"A527\",\"MG\"],[\"ARIQUEMES\",\"A940\",\"RO\"],[\"ITACOATIARA\",\"A121\",\"AM\"],[\"CABROBO\",\"A329\",\"PE\"],[\"CARUARU\",\"A341\",\"PE\"],[\"SANTO ANTONIO DO LESTE\",\"A931\",\"MT\"],[\"SERAFINA CORREA\",\"A894\",\"RS\"],[\"SILVA JARDIM\",\"A659\",\"RJ\"],[\"DIONISIO CERQUEIRA\",\"A848\",\"SC\"],[\"RIO DE JANEIRO-MARAMBAIA\",\"A602\",\"RJ\"],[\"TRAMANDAI\",\"A834\",\"RS\"],[\"CANGUCU\",\"A811\",\"RS\"],[\"TURIACU\",\"A219\",\"MA\"],[\"ILHA DO MEL\",\"A847\",\"PR\"],[\"SIDROLANDIA\",\"A754\",\"MS\"],[\"Santa Vitoria do Palmar - Barra do Chui\",\"A899\",\"RS\"],[\"ITUVERAVA\",\"A753\",\"SP\"],[\"PRESIDENTE FIGUEIREDO\",\"A126\",\"AM\"],[\"SETE QUEDAS\",\"A751\",\"MS\"],[\"PLANALTO\",\"A855\",\"PR\"],[\"FOZ DO IGUACU\",\"A846\",\"PR\"],[\"AMARGOSA\",\"A434\",\"BA\"],[\"PEIXE\",\"A018\",\"TO\"],[\"CAMARATUBA\",\"A352\",\"PB\"],[\"IPANGUACU\",\"A372\",\"RN\"],[\"RIO BRANCO\",\"A104\",\"AC\"],[\"RIBAS DO RIO PARDO\",\"S715\",\"MS\"],[\"SANTA CRUZ\",\"A367\",\"RN\"],[\"JAPIRA\",\"A871\",\"PR\"],[\"JEREMOABO\",\"A450\",\"BA\"],[\"PALMAS\",\"A009\",\"TO\"],[\"GENERAL CARNEIRO\",\"A875\",\"PR\"],[\"SAO MIGUEL DO ARAGUAIA\",\"A031\",\"GO\"],[\"GRAJAU\",\"A207\",\"MA\"],[\"IBITINGA\",\"A737\",\"SP\"],[\"SOURE\",\"A227\",\"PA\"],[\"BARRA\",\"A429\",\"BA\"],[\"BOM JARDIM DA SERRA - MORRO DA IGREJA\",\"A845\",\"SC\"],[\"MINA DO PALITO\",\"A246\",\"PA\"],[\"SERRINHA\",\"A441\",\"BA\"],[\"CAMPO BOM\",\"A884\",\"RS\"],[\"RANCHO QUEIMADO\",\"A870\",\"SC\"],[\"SANTA MARIA MADALENA\",\"A630\",\"RJ\"],[\"BAMBUI\",\"A565\",\"MG\"],[\"OURO BRANCO\",\"A513\",\"MG\"],[\"INDAIAL\",\"A817\",\"SC\"],[\"S. G. DA CACHOEIRA\",\"A134\",\"AM\"],[\"FAROL de SANTANA\",\"A217\",\"MA\"],[\"BELO HORIZONTE (PAMPULHA)\",\"A521\",\"MG\"],[\"IGUATEMI\",\"S709\",\"MS\"],[\"ITAOBIM\",\"A550\",\"MG\"],[\"OBIDOS\",\"A232\",\"PA\"],[\"CAARAPO\",\"S706\",\"MS\"],[\"PIRIPIRI\",\"A335\",\"PI\"],[\"GOIANIA\",\"A002\",\"GO\"],[\"SANTA ROSA\",\"A810\",\"RS\"],[\"GUARDA-MOR\",\"A546\",\"MG\"],[\"PRES. KENNEDY\",\"A622\",\"ES\"],[\"CHAPADA GAUCHA\",\"A548\",\"MG\"],[\"RIO DE JANEIRO - VILA MILITAR\",\"A621\",\"RJ\"],[\"CRUZ ALTA\",\"A853\",\"RS\"],[\"NOVA FRIBURGO - SALINAS\",\"A624\",\"RJ\"],[\"TUPANCIRETA\",\"A886\",\"RS\"],[\"PORTO ALEGRE\",\"A801\",\"RS\"],[\"MARINGA\",\"A835\",\"PR\"],[\"SANTA TERESA\",\"A613\",\"ES\"],[\"MANAUS\",\"A101\",\"AM\"],[\"PIRES DO RIO\",\"A033\",\"GO\"],[\"LAGUNA CARAPA\",\"S711\",\"MS\"],[\"PALMEIRA DOS INDIOS\",\"A327\",\"AL\"],[\"JOSE BONIFACIO\",\"A735\",\"SP\"],[\"JAGUARIBE\",\"A358\",\"CE\"],[\"MONTES CLAROS\",\"A506\",\"MG\"],[\"SANTA ROSA DO TOCANTINS\",\"A052\",\"TO\"],[\"PORTO MURTINHO\",\"A723\",\"MS\"],[\"PIUM\",\"A051\",\"TO\"],[\"ARAGARCAS\",\"A013\",\"GO\"],[\"BRASILIA\",\"A001\",\"DF\"],[\"PLACAS\",\"A211\",\"PA\"],[\"JACOBINA\",\"A440\",\"BA\"],[\"BARRA DO CORDA\",\"A221\",\"MA\"],[\"CARACOL\",\"A337\",\"PI\"],[\"BARRETOS\",\"A748\",\"SP\"],[\"GUARAMIRANGA\",\"A314\",\"CE\"],[\"MACAJUBA\",\"A412\",\"BA\"],[\"ARIRANHA\",\"A736\",\"SP\"],[\"CUIABA\",\"A901\",\"MT\"],[\"RONDONOPOLIS\",\"A907\",\"MT\"],[\"VICOSA\",\"A510\",\"MG\"],[\"SAO GABRIEL DO OESTE\",\"A732\",\"MS\"],[\"SAO JOAO DEL REI\",\"A514\",\"MG\"],[\"BARCELOS\",\"A128\",\"AM\"],[\"NOVA FATIMA\",\"A842\",\"PR\"],[\"CAMBUCI\",\"A604\",\"RJ\"],[\"BARRA BONITA\",\"A741\",\"SP\"],[\"SANTO AUGUSTO\",\"A805\",\"RS\"],[\"ARCO VERDE\",\"A309\",\"PE\"],[\"NOVA TEBAS\",\"A822\",\"PR\"],[\"MORADA NOVA\",\"A332\",\"CE\"],[\"PACAJA\",\"A210\",\"PA\"],[\"SANTA RITA DO PARDO\",\"S716\",\"MS\"],[\"VALENCA DO PIAUI\",\"A363\",\"PI\"],[\"ANGICAL DO PIAUI\",\"A377\",\"PI\"],[\"SANTA FE DO ARAGUAIA\",\"A048\",\"TO\"],[\"PICOS\",\"A343\",\"PI\"],[\"DRACENA\",\"A762\",\"SP\"],[\"DTCEA TABATINGA\",\"S105\",\"AM\"],[\"MANACAPURU\",\"A119\",\"AM\"],[\"CAMPOS NOVOS\",\"A898\",\"SC\"],[\"NATAL\",\"A304\",\"RN\"],[\"ALTO PARNAIBA\",\"A223\",\"MA\"],[\"FORMOSO DO ARAGUAIA\",\"A039\",\"TO\"],[\"SELVIRIA\",\"S717\",\"MS\"],[\"CRATEUS\",\"A342\",\"CE\"],[\"SERRA TALHADA\",\"A350\",\"PE\"],[\"RIO URUBU\",\"A125\",\"AM\"],[\"INACIO MARTINS\",\"A823\",\"PR\"],[\"COARI\",\"A117\",\"AM\"],[\"PIATA\",\"A430\",\"BA\"],[\"SILVANIA\",\"A037\",\"GO\"],[\"UNAI\",\"A542\",\"MG\"],[\"CAMPO GRANDE\",\"A702\",\"MS\"],[\"MORRINHOS\",\"A003\",\"GO\"],[\"BOM JESUS DO PIAUI\",\"A326\",\"PI\"],[\"RIO DO CAMPO\",\"A861\",\"SC\"],[\"CAMPINA GRANDE\",\"A313\",\"PB\"],[\"ABROLHOS\",\"A422\",\"BA\"],[\"ESPINOSA\",\"A543\",\"MG\"],[\"CASTELO DO PIAUI\",\"A361\",\"PI\"],[\"SAO LUIZ GONZAGA\",\"A852\",\"RS\"],[\"SONORA\",\"A761\",\"MS\"],[\"JANAUBA\",\"A563\",\"MG\"],[\"CAMPINA VERDE\",\"A519\",\"MG\"],[\"SAO JOAO DO PIAUI\",\"A331\",\"PI\"],[\"SOBRAL\",\"A306\",\"CE\"],[\"SACRAMENTO\",\"A525\",\"MG\"],[\"IPIAU\",\"A445\",\"BA\"],[\"JUARA\",\"A914\",\"MT\"],[\"MAL. CANDIDO RONDON\",\"A820\",\"PR\"],[\"SANTA MARIA DAS BARREIRAS\",\"A256\",\"PA\"],[\"CACOAL\",\"A939\",\"RO\"],[\"MAJOR VIEIRA\",\"A864\",\"SC\"],[\"SAO GABRIEL\",\"A832\",\"RS\"],[\"ITAPORA\",\"S710\",\"MS\"],[\"PORANGATU\",\"A005\",\"GO\"],[\"SURUBIM\",\"A328\",\"PE\"],[\"XANXERE\",\"A858\",\"SC\"],[\"ULIANOPOLIS\",\"S111\",\"PA\"],[\"SOROCABA\",\"A713\",\"SP\"],[\"PARANOA (COOPA-DF)\",\"A047\",\"DF\"],[\"CARLINDA\",\"A926\",\"MT\"],[\"LUZIANIA\",\"A012\",\"GO\"],[\"DOM PEDRITO\",\"A881\",\"RS\"],[\"PARANAPOEMA\",\"A850\",\"PR\"],[\"DTCEA TEFE\",\"S117\",\"AM\"],[\"TUPA\",\"A768\",\"SP\"],[\"BONITO\",\"S704\",\"MS\"],[\"SALVADOR\",\"A401\",\"BA\"],[\"MONTEIRO\",\"A334\",\"PB\"],[\"CAPAO DO LEAO (PELOTAS)\",\"A887\",\"RS\"],[\"ALVORADA DO GURGUEIA\",\"A336\",\"PI\"],[\"RIO GRANDE\",\"A802\",\"RS\"],[\"ILHEUS\",\"A410\",\"BA\"],[\"BRAGANCA PAULISTA\",\"A744\",\"SP\"],[\"AVARE\",\"A725\",\"SP\"],[\"NOVO REPARTIMENTO\",\"A235\",\"PA\"],[\"ITUPORANGA\",\"A863\",\"SC\"],[\"SANTA ISABEL DO RIO NEGRO\",\"S121\",\"AM\"],[\"SOLEDADE\",\"A837\",\"RS\"],[\"GUANHAES\",\"A533\",\"MG\"],[\"GUIRATINGA\",\"A932\",\"MT\"],[\"ALEGRETE\",\"A826\",\"RS\"],[\"CASTRO\",\"A819\",\"PR\"],[\"IBIRUBA\",\"A883\",\"RS\"],[\"CRISTALINA\",\"A036\",\"GO\"],[\"ROSARIO OESTE\",\"A944\",\"MT\"],[\"DOM ELISEU\",\"A252\",\"PA\"],[\"NOSSA SENHORA DA GLORIA\",\"A453\",\"SE\"],[\"SALINAS\",\"A552\",\"MG\"],[\"MARILIA\",\"A763\",\"SP\"],[\"TERESOPOLIS-PARQUE NACIONAL\",\"A618\",\"RJ\"],[\"MANICORE\",\"A133\",\"AM\"],[\"FLORESTA\",\"A351\",\"PE\"],[\"MACEIO\",\"A303\",\"AL\"],[\"ALMAS\",\"A053\",\"TO\"],[\"BARREIRAS\",\"A402\",\"BA\"],[\"ITUIUTABA\",\"A512\",\"MG\"],[\"NOVA MARINGA\",\"A928\",\"MT\"],[\"CONDE\",\"A431\",\"BA\"],[\"CASA BRANCA\",\"A738\",\"SP\"],[\"ITAPIRA\",\"A739\",\"SP\"],[\"AGUAS EMENDADAS\",\"A045\",\"DF\"],[\"SENHOR DO BONFIM\",\"A428\",\"BA\"],[\"CAMPO MAIOR\",\"A376\",\"PI\"],[\"JAGUARUANA\",\"A339\",\"CE\"],[\"PATOS\",\"A321\",\"PB\"],[\"FLORIANO\",\"A311\",\"PI\"],[\"BENTO GONCALVES\",\"A840\",\"RS\"],[\"RIO DE JANEIRO - JACAREPAGUA\",\"A636\",\"RJ\"],[\"AGUA CLARA\",\"A756\",\"MS\"],[\"SAO BORJA\",\"A830\",\"RS\"],[\"JOAO PINHEIRO\",\"A553\",\"MG\"],[\"NHUMIRIM\",\"A717\",\"MS\"],[\"DOURADOS\",\"A721\",\"MS\"],[\"MACAUBAS\",\"A454\",\"BA\"],[\"CACERES\",\"A941\",\"MT\"],[\"CARATINGA\",\"A554\",\"MG\"],[\"JUTI\",\"A749\",\"MS\"],[\"CAMPO VERDE\",\"A912\",\"MT\"],[\"PORTO VELHO\",\"A925\",\"RO\"],[\"IRECE\",\"A424\",\"BA\"],[\"CAROLINA\",\"A205\",\"MA\"],[\"BALIZA\",\"S113\",\"RR\"],[\"CALDAS\",\"A530\",\"MG\"],[\"JOACABA\",\"A841\",\"SC\"],[\"CURACA\",\"A448\",\"BA\"],[\"CASSILANDIA\",\"A742\",\"MS\"],[\"PIRACICABA\",\"A726\",\"SP\"],[\"BATAGUASSU\",\"A759\",\"MS\"],[\"CHAPECO\",\"A895\",\"SC\"],[\"CABACEIRAS\",\"A348\",\"PB\"],[\"LUIZ EDUARDO MAGALHAES\",\"A404\",\"BA\"],[\"ITIRUCU\",\"A407\",\"BA\"],[\"CARAVELAS\",\"A405\",\"BA\"],[\"DTCEA JACAREACANGA\",\"S120\",\"PA\"],[\"PARAGOMINAS\",\"A212\",\"PA\"],[\"IBIMIRIM\",\"A349\",\"PE\"],[\"PICO DO COUTO\",\"A610\",\"RJ\"],[\"ITAMARAJU\",\"A455\",\"BA\"],[\"PAULISTANA\",\"A330\",\"PI\"],[\"AIMORES\",\"A534\",\"MG\"],[\"DIAMANTINA\",\"A537\",\"MG\"],[\"FLORIANOPOLIS\",\"A806\",\"SC\"],[\"BRUMADO\",\"A433\",\"BA\"]],\"hovertemplate\":\"LATITUDE=%{lat}<br>LONGITUDE=%{lon}<br>NOME=%{customdata[0]}<br>CODIGO=%{customdata[1]}<br>ESTADO=%{customdata[2]}<extra></extra>\",\"lat\":[-7.30083333,-2.59249999,-21.29833333,-8.95,-3.1211111,-9.62222221,-5.62666666,-15.59972221,-12.73499999,-5.555723,-14.65,-21.66611111,-23.39027777,-18.29138888,-30.75055555,-8.092708,-6.975451,-28.53249999,-29.36888888,-8.77666666,-10.537233,-3.74277777,-16.362747,-22.358052,-20.47555554,-26.819156,-16.96694443,-20.10416666,-10.07722221,-28.226805,-14.08916666,-14.01638888,-19.97999999,-21.680722,-23.724501,-9.576389,-14.88638888,-20.27083332,-23.449501,-16.166773,-3.02249999,-6.65333333,-6.39638888,-11.59444444,-27.92027777,-4.82749999,-25.01083333,-8.0911111,-12.557854,-2.23972221,2.81694443,-20.40333333,-18.80222222,-15.06277777,-26.40638888,-10.01833332,-7.44138888,0.56777777,-18.154779,-32.53472221,-12.615,-27.39555555,-8.05805555,-23.2236111,-6.65027777,-20.94916666,-18.747711,-10.42916666,-26.08138888,-22.314567,-12.75055555,0.916877,-22.148083,-23.496294,-12.67555554,-4.32055554,-13.78583333,-9.793363,-4.97888888,-13.41111111,-10.67166666,-8.968677,-15.448089,-21.46111111,-19.23249999,3.35888888,-18.07277777,-12.555,-21.105,-19.407181,-9.03333333,-22.5525,-5.91111111,-0.61888888,-18.69527777,-1.68027777,-22.119867,-18.51222222,-1.73472221,-2.7,-3.39888888,-12.42999999,-25.36888888,-25.508935,-21.774944,-13.90694444,-20.38555555,-13.18472221,-10.47388888,-2.52666666,0.69416666,-26.2486111,-13.25111111,-17.78527777,-2.5025,-84.0,-10.455,-31.24833333,-9.90638888,-16.08805555,-30.54305555,-1.04722221,0.59944444,-22.75777777,-27.65771,-23.0025,-15.72305554,-3.26916666,-5.03472221,-19.35694444,-23.04166666,-28.513602,-11.05222222,3.81361111,-7.5525,-28.931353,-11.02388888,-20.031457,-19.71,-9.87527777,-23.85194444,-17.33944444,-28.7486111,-15.22027777,-11.98222221,-17.79888888,-20.63638888,-3.73222221,-8.117939,-11.00277777,-4.27694443,-11.61888888,-24.28027777,-7.20555555,-17.17499999,-18.78062,-21.71472222,-17.45472222,-10.73805555,-18.200855,-12.1961111,-22.8711111,-4.28999999,-19.605696,-8.14277777,-12.52416666,-18.40972222,-20.715,-11.375126,-22.45138888,-23.22833332,-4.52999999,-3.48416666,-2.63916666,-7.10388888,-21.56638888,-29.191599,-29.87222221,-22.97555554,-19.98586,-20.17333332,-3.81583333,-19.94555555,-4.82138888,-25.322464,-22.30861111,-29.72499999,-30.807953,-10.43444444,-18.52055554,-19.69555555,-20.745237,-16.84888888,-26.95083333,-8.30361111,-3.90083333,-7.31833332,-22.94888888,-15.12472221,-29.70222222,-9.388323,-9.9525,-3.82277777,-14.20805555,-22.68888888,-20.165,-30.368578,-2.93055554,-29.04916666,-6.74333333,-3.51083333,-13.3436111,-7.88583333,-9.80444444,-13.45388888,-21.938745,-29.83987,-7.110518,-19.58749999,-21.450972,-15.28027777,-22.75027777,-6.03305554,-14.97972221,-22.63944444,-13.33249999,-16.38888888,-7.61083333,-18.99666666,-8.333531,-23.84472221,-22.35805555,-19.57388888,-22.10166666,-10.48416666,-15.52416666,-9.62555554,-8.04333333,-20.75055555,-15.57999999,-8.66666666,-6.07749999,-11.2725,-23.81083333,-14.42138888,-28.27564,-12.59222221,-4.24305555,-21.4786111,-6.639622,-18.91694443,-24.67166666,-12.19305555,-17.70555555,-20.46694443,-6.97416666,-7.07777777,-8.26722221,-19.885398,-21.22833332,-22.955,-25.4486111,-15.085958,-5.15111111,-17.258064,-26.7861111,-12.52194443,-22.395799,-15.751536,-22.37388888,-10.1286111,-7.45555555,-9.28749999,-13.70805555,-19.45527777,-20.455,-22.97527777,-5.17444443,-7.16527777,-4.90416666,-18.676198,-22.09833333,-22.98833333,-9.56333333,-17.923622,-18.969142,-27.80222222,-9.35833333,-22.04166666,-10.9525,-22.37277777,-8.05916666,-9.74916666,-13.253521,-2.0,-25.69916666,-20.91,-14.40833333,-23.505266,-22.86166666,-19.481935,-28.222381,-24.57083332,-20.78333333,-21.54666666,-17.33694444,-13.30388888,-11.05861111,-12.627315,-31.34777777,0.03499999,-18.830354,-12.80833333,-15.32472221,-6.01749999,-23.359156,-15.93972221,-29.35027777,-6.46749999,-10.39972221,-23.52388888,-24.96277777,-10.78999999,4.47749999,-7.26055555,-27.288624,-28.60444444,-9.8336111,-22.653579,-15.93527777,-5.6436111,-22.867389,-21.980353,-15.24472221,-22.0786111,-14.13305554,-16.962536,-22.30055555,-3.27027777,-10.98472221,-23.98194443,-21.60916666,-6.835777,-22.3761111,-20.39555555,-1.30083333,-10.828286,-25.83555555,-15.23444444,-10.72305554,-21.31916666,-8.15472222,-1.411228,-26.41722221,-2.53472221,-20.26333333,-17.24444444,-21.33833333,-24.53305554,-21.769965,-18.49277777,-18.996684,-3.58333333,-5.36638888,-2.59222221,-8.91083333,-16.39944444,-9.3386111,-30.54527777,-11.98777777,-29.44916666,-11.74583333,-24.15833333,-3.08666666,-16.42305554,-5.16,-22.58972221,-17.8411111,-20.58444444,-17.89284,-9.94888888,-3.13333333,-8.504,-8.36527777,-14.92777777,-28.70472222,-22.64583333,-26.286562,-23.05027777,-30.01027777,-31.40333333,-1.66111111,-25.49444444,-20.98166666,-33.74222221,-20.35972222,-2.05666666,-23.96694443,-25.72194443,-25.60194444,-13.009468,-12.015377,-6.56194444,-5.53499999,-9.67972221,-20.466694,-6.22805554,-23.77333332,-10.08083332,-10.19083333,-26.3986111,-12.82055554,-5.81611111,-21.85555555,-0.72777777,-11.08472221,-28.126992,-6.31999999,-11.66472222,-29.674293,-27.6786111,-21.95055555,-20.0311111,-20.55666666,-26.91361111,-0.125207,-2.27083332,-19.88388888,-23.64444444,-16.575667,-1.88083332,-22.657056,-4.276047,-16.642841,-27.89055555,-17.56138888,-21.10083333,-15.30027777,-22.86138888,-28.60344,-22.33472221,-29.0893814,-30.05361111,-23.40527777,-19.988388,-3.10333333,-17.30416666,-22.575389,-9.42027777,-21.08555555,-5.90555555,-16.68638888,-11.42888888,-21.70583333,-10.47694443,-15.90277777,-15.78944444,-3.86416666,-11.205,-5.50666666,-9.28583333,-20.55916666,-4.26138888,-12.13166666,-21.13305554,-15.559295,-16.4625,-20.762607,-19.42027777,-21.106502,-0.98722221,-23.41527777,-21.58749999,-22.4711111,-27.854345,-8.4336111,-24.43722221,-5.13666666,-3.8436111,-21.305889,-6.39916666,-6.08944444,-7.124191,-7.0711111,-21.45777777,-4.25055555,-3.29472221,-27.3886111,-5.83722221,-9.10833333,-11.88749999,-20.35138888,-5.18666666,-7.954277,-2.6336111,-25.567879,-4.09749999,-13.155681,-16.67972221,-16.55416666,-20.447195,-17.745066,-9.08333333,-26.93749999,-7.225574,-17.96305555,-14.91222222,-5.34916666,-28.41722221,-17.63527777,-15.80277777,-19.53921,-8.36444444,-3.74805555,-19.87527777,-14.17138888,-11.28027777,-24.53333333,-8.72972221,-11.44583333,-26.3936111,-30.341438,-22.092833,-13.30944444,-7.83972221,-26.938666,-3.8,-23.4261111,-16.012222,-9.97055554,-16.26055555,-31.0025,-22.65833333,-3.37722221,-21.927251,-21.24666666,-13.005515,-7.89444444,-31.8025,-8.44166666,-32.07888888,-14.65888888,-22.951944,-23.10166666,-4.24388888,-27.41833332,-0.41444444,-28.859211,-18.78694444,-16.34166666,-29.709083,-24.78694444,-28.65333333,-16.78499999,-14.82888888,-4.28055554,-10.20777777,-16.16027777,-22.235222,-22.4486111,-5.7886111,-8.59888888,-9.55111111,-11.28416666,-12.12472221,-18.95277777,-13.0386111,-12.03583333,-21.78055554,-22.415,-15.596491,-10.44305555,-4.86416666,-4.78694444,-7.07972221,-6.76138888,-29.164581,-22.93999999,-20.44444444,-28.65,-17.784477,-18.9886111,-22.19388888,-13.03888888,-16.07472221,-19.735757,-22.85722222,-15.53138888,-8.7936111,-11.328998,-7.33722221,0.94777777,-21.918066,-27.16916666,-9.00138888,-19.12249999,-22.70305555,-21.75,-27.0853111,-7.48333333,-12.1525,-13.527828,-17.73944444,-6.23722221,-2.99027777,-8.50944444,-22.46472222,-17.00694444,-8.132288,-19.53277777,-18.231052,-27.60253,-14.18194443],\"lon\":[-39.2711111,-48.36055555,-52.06888888,-72.78666666,-40.08722221,-37.76722221,-37.815,-48.1311111,-60.15777777,-47.459794,-57.43166666,-49.73472221,-53.63583333,-40.73638888,-55.40138888,-48.478605,-35.718128,-49.31527777,-50.82722221,-67.33249999,-38.996605,-43.35222222,-45.123801,-49.028877,-55.78388888,-50.98552,-51.81749999,-41.10694444,-56.17916666,-52.403582,-46.36638888,-52.21166666,-43.95861111,-45.944389,-46.677501,-49.723333,-40.80138888,-40.30583333,-54.181858,-40.687756,-60.05555555,-47.41833332,-39.26888888,-46.84722221,-53.31805554,-48.1736111,-50.85388888,-60.38055554,-41.388808,-49.49972221,-60.69083333,-49.96611111,-52.6025,-59.87305554,-52.85027777,-42.50027777,-44.34499999,-50.8236111,-47.927614,-53.37583332,-47.87194443,-53.42944443,-39.0961111,-44.72694443,-69.8686111,-48.48999999,-44.453785,-45.17305554,-48.64166666,-45.373049,-60.14916666,-29.345904,-53.763736,-46.620088,-39.08944444,-46.44944444,-57.8386111,-47.132732,-39.05722222,-54.75222222,-37.47138888,-48.177259,-44.366313,-47.57944443,-44.96416666,-59.82388888,-54.54888888,-55.72277777,-42.37583332,-40.539825,-42.70111111,-55.71638888,-42.7186111,-47.35666666,-40.39055555,-50.47805554,-51.408637,-54.7361111,-47.0575,-44.85,-57.67388888,-64.41999999,-52.39194444,-48.808681,-54.528108,-38.97222221,-41.18999999,-53.2575,-36.48194443,-44.21361111,-51.40388888,-49.57416666,-43.40527777,-50.965,-54.72027777,-79.49416666,-41.20694444,-50.90638888,-58.57222221,-39.21527777,-52.52472221,-46.78583333,-69.19194444,-43.68472221,-52.305805,-55.32944443,-42.43583333,-45.65111111,-42.80138888,-40.0686111,-45.52083332,-50.882738,-45.20083333,-51.8625,-63.07138888,-49.49792,-68.73527777,-44.011249,-47.96194444,-45.34583333,-48.16472222,-53.22444443,-50.05777777,-48.98999999,-55.56611111,-40.25,-40.74194444,-41.01194444,-42.975721,-44.52499999,-55.99305555,-50.72777777,-50.21027777,-59.8886111,-54.50166666,-40.986505,-41.34388888,-52.60111111,-38.10833333,-45.459836,-38.96749999,-42.60888888,-47.55,-46.949617,-70.3436111,-40.29972221,-49.19194444,-44.86444444,-58.774785,-44.44499999,-45.41694443,-71.61749999,-39.5886111,-56.75611111,-48.20111111,-45.40416666,-54.885653,-52.38194443,-44.30333333,-48.151574,-44.87499999,-38.53777777,-54.3686111,-43.3436111,-49.157733,-54.32583332,-53.72055554,-51.83424,-45.92194443,-46.44055555,-51.18166666,-46.633916,-42.03527777,-48.76194444,-49.28277777,-42.23694444,-38.14083333,-49.89444444,-58.12722221,-54.69444444,-40.523262,-54.89777777,-49.67499999,-42.74972221,-45.00555555,-50.59499999,-56.437115,-69.69527777,-50.14972221,-51.14194444,-52.96333333,-39.12666666,-40.10277777,-36.61916666,-56.67722221,-42.600936,-57.081899,-49.926072,-54.02999999,-54.341972,-39.09138888,-45.60388888,-44.23333333,-49.53999999,-52.89027777,-44.61749999,-39.18249999,-72.68138888,-57.63749999,-45.094625,-46.14333333,-43.69555555,-42.62249999,-56.54083333,-52.37249999,-46.43555555,-42.07722221,-50.00694444,-41.48888888,-54.3811111,-35.56805554,-50.14222221,-37.795,-45.4025,-54.0361111,-49.934617,-49.5286111,-44.79499999,-56.13777777,-51.956966,-48.25555555,-47.54583333,-43.21333333,-42.38916666,-40.40388888,-42.14694444,-40.36277777,-72.74777777,-44.416883,-43.76777777,-55.6261111,-49.23055554,-44.016036,-36.57305554,-44.835556,-53.51388888,-58.23138888,-44.961909,-41.457787,-44.70305555,-36.28638888,-46.02749999,-35.56583333,-59.7625,-44.17333332,-45.45388888,-42.02138888,-39.28944444,-34.81555555,-37.36694443,-39.864051,-43.20833333,-43.19055555,-57.3936111,-51.717467,-50.633449,-50.33555555,-69.92638888,-41.05166666,-37.05444444,-50.97472221,-34.95916666,-37.43083332,-46.890326,-54.07638888,-53.09527777,-47.11416666,-44.40416666,-49.946387,-46.04333333,-45.593932,-51.512845,-52.80027777,-51.71222222,-43.26111111,-49.91472222,-58.76333333,-38.44416666,-52.220891,-54.01333333,-51.08888888,-41.977007,-38.49583333,-57.22583332,-40.28138888,-52.931912,-50.14138888,-49.73333333,-37.08499999,-37.74749999,-46.86944443,-48.41638888,-65.33277777,-61.14916666,-64.7886111,-50.604283,-48.81333333,-39.49555555,-44.040916,-48.13749999,-48.11194444,-43.102056,-47.883927,-40.22944443,-53.46583333,-47.52333332,-50.42545,-53.82277777,-52.39472221,-39.61694443,-48.88583333,-55.17749999,-38.311583,-41.81194444,-56.43166666,-47.94805555,-49.847882,-50.36888888,-59.3461111,-43.65111111,-50.93027777,-46.63944444,-48.439512,-52.3486111,-57.75805555,-42.18277777,-46.88166666,-48.11388888,-47.86416666,-43.364329,-53.17138888,-46.985935,-59.12944443,-49.05111111,-42.7075,-36.49333333,-47.62583332,-50.35027777,-53.46694443,-51.4261111,-51.82333332,-49.04972221,-53.03055554,-41.78305554,-51.14888888,-35.48749999,-43.28222221,-53.28944444,-47.38249999,-41.515423,-62.96194444,-58.48277777,-39.31528,-36.02833332,-53.8836111,-51.87083332,-42.41555555,-53.633114,-43.59555555,-50.13583333,-52.70083333,-45.37249999,-48.32583332,-54.97194443,-53.37222221,-47.77527777,-60.02583332,-55.02416666,-53.74805555,-54.48305554,-39.616881,-48.544517,-35.13527777,-36.87222221,-68.16527777,-53.763028,-36.02666666,-50.18055554,-38.34583333,-48.30194444,-51.35361111,-50.33583333,-46.16222222,-48.79972221,-48.51583333,-43.13888888,-49.47961,-55.78777777,-39.02305554,-51.064042,-49.04194444,-42.01027777,-46.00888888,-43.75611111,-49.26805554,-67.061246,-43.62416666,-43.96944443,-54.57027777,-41.485588,-55.51972221,-54.819306,-41.794568,-49.220222,-54.47999999,-47.19916666,-41.03944444,-45.61749999,-43.41138888,-53.673597,-42.67694443,-53.82665025,-51.17472221,-51.93277777,-40.579572,-60.01638888,-48.28416666,-55.160333,-36.62027777,-49.92027777,-38.62777777,-43.84388888,-48.18499999,-57.88666666,-49.62944443,-52.24527777,-47.92583332,-54.21638888,-40.465,-45.23694444,-43.32444443,-48.54499999,-38.9311111,-40.35416666,-48.84055555,-56.062951,-54.58027777,-42.864013,-54.55305555,-44.250928,-62.92416666,-50.57777777,-41.95833333,-48.5575,-53.791179,-37.05555555,-51.96305555,-38.35666666,-50.63805555,-52.820375,-41.73999999,-42.72749999,-48.781267,-41.40416666,-51.55222222,-69.93499999,-60.62833332,-51.21583333,-35.20805555,-45.93194443,-49.60833333,-51.43027777,-40.67222221,-38.295082,-59.60055555,-51.077946,-63.14527777,-41.774125,-48.61805554,-46.88194443,-54.722615,-49.101698,-44.32638888,-50.14555555,-35.904831,-38.70333333,-42.80861111,-41.51222222,-54.9625,-54.76055555,-43.29694444,-49.518133,-42.2525,-40.34583333,-47.43416666,-39.69249999,-57.52666666,-54.01916666,-49.85638888,-61.43416666,-50.36333333,-54.310909,-54.798833,-49.11749999,-35.80111111,-52.39809,-47.51,-47.58555555,-47.557417,-55.82749999,-47.96694443,-54.61805554,-52.13444444,-64.72305554,-50.490251,-56.45055555,-38.50576,-37.12472221,-52.40722222,-43.86555555,-52.16777777,-39.18138888,-46.530556,-48.9411111,-49.93944444,-49.64694444,-65.01749999,-52.542387,-42.94305555,-53.76611111,-55.525486,-49.99916666,-53.11194444,-47.61305555,-56.44194444,-47.56388888,-37.43194443,-42.31027777,-49.965111,-42.98694444,-61.28833333,-38.58416666,-35.77027777,-47.21222222,-45.02694443,-49.52499999,-57.09222221,-37.68388888,-47.07527777,-46.80527777,-47.625801,-40.14833333,-42.14555555,-37.76666666,-37.27277777,-43.00333333,-51.534202,-43.40277777,-52.87583332,-56.01638888,-46.119394,-56.62277777,-54.91138888,-42.61722221,-57.69305555,-42.137146,-54.60555555,-55.13555555,-63.84583333,-41.864504,-47.45972222,-59.74638888,-46.382996,-51.55888888,-39.9125,-51.72083332,-47.62333332,-52.47138888,-52.6357111,-36.28638888,-45.82972221,-40.119752,-39.25861111,-57.77499999,-47.40777777,-37.71166666,-43.29138888,-39.55805555,-41.142945,-41.09083333,-43.648269,-48.620096,-41.67222221],\"name\":\"\",\"radius\":5,\"subplot\":\"mapbox\",\"type\":\"densitymapbox\"}],                        {\"template\":{\"data\":{\"histogram2dcontour\":[{\"type\":\"histogram2dcontour\",\"colorbar\":{\"outlinewidth\":0,\"ticks\":\"\"},\"colorscale\":[[0.0,\"#0d0887\"],[0.1111111111111111,\"#46039f\"],[0.2222222222222222,\"#7201a8\"],[0.3333333333333333,\"#9c179e\"],[0.4444444444444444,\"#bd3786\"],[0.5555555555555556,\"#d8576b\"],[0.6666666666666666,\"#ed7953\"],[0.7777777777777778,\"#fb9f3a\"],[0.8888888888888888,\"#fdca26\"],[1.0,\"#f0f921\"]]}],\"choropleth\":[{\"type\":\"choropleth\",\"colorbar\":{\"outlinewidth\":0,\"ticks\":\"\"}}],\"histogram2d\":[{\"type\":\"histogram2d\",\"colorbar\":{\"outlinewidth\":0,\"ticks\":\"\"},\"colorscale\":[[0.0,\"#0d0887\"],[0.1111111111111111,\"#46039f\"],[0.2222222222222222,\"#7201a8\"],[0.3333333333333333,\"#9c179e\"],[0.4444444444444444,\"#bd3786\"],[0.5555555555555556,\"#d8576b\"],[0.6666666666666666,\"#ed7953\"],[0.7777777777777778,\"#fb9f3a\"],[0.8888888888888888,\"#fdca26\"],[1.0,\"#f0f921\"]]}],\"heatmap\":[{\"type\":\"heatmap\",\"colorbar\":{\"outlinewidth\":0,\"ticks\":\"\"},\"colorscale\":[[0.0,\"#0d0887\"],[0.1111111111111111,\"#46039f\"],[0.2222222222222222,\"#7201a8\"],[0.3333333333333333,\"#9c179e\"],[0.4444444444444444,\"#bd3786\"],[0.5555555555555556,\"#d8576b\"],[0.6666666666666666,\"#ed7953\"],[0.7777777777777778,\"#fb9f3a\"],[0.8888888888888888,\"#fdca26\"],[1.0,\"#f0f921\"]]}],\"heatmapgl\":[{\"type\":\"heatmapgl\",\"colorbar\":{\"outlinewidth\":0,\"ticks\":\"\"},\"colorscale\":[[0.0,\"#0d0887\"],[0.1111111111111111,\"#46039f\"],[0.2222222222222222,\"#7201a8\"],[0.3333333333333333,\"#9c179e\"],[0.4444444444444444,\"#bd3786\"],[0.5555555555555556,\"#d8576b\"],[0.6666666666666666,\"#ed7953\"],[0.7777777777777778,\"#fb9f3a\"],[0.8888888888888888,\"#fdca26\"],[1.0,\"#f0f921\"]]}],\"contourcarpet\":[{\"type\":\"contourcarpet\",\"colorbar\":{\"outlinewidth\":0,\"ticks\":\"\"}}],\"contour\":[{\"type\":\"contour\",\"colorbar\":{\"outlinewidth\":0,\"ticks\":\"\"},\"colorscale\":[[0.0,\"#0d0887\"],[0.1111111111111111,\"#46039f\"],[0.2222222222222222,\"#7201a8\"],[0.3333333333333333,\"#9c179e\"],[0.4444444444444444,\"#bd3786\"],[0.5555555555555556,\"#d8576b\"],[0.6666666666666666,\"#ed7953\"],[0.7777777777777778,\"#fb9f3a\"],[0.8888888888888888,\"#fdca26\"],[1.0,\"#f0f921\"]]}],\"surface\":[{\"type\":\"surface\",\"colorbar\":{\"outlinewidth\":0,\"ticks\":\"\"},\"colorscale\":[[0.0,\"#0d0887\"],[0.1111111111111111,\"#46039f\"],[0.2222222222222222,\"#7201a8\"],[0.3333333333333333,\"#9c179e\"],[0.4444444444444444,\"#bd3786\"],[0.5555555555555556,\"#d8576b\"],[0.6666666666666666,\"#ed7953\"],[0.7777777777777778,\"#fb9f3a\"],[0.8888888888888888,\"#fdca26\"],[1.0,\"#f0f921\"]]}],\"mesh3d\":[{\"type\":\"mesh3d\",\"colorbar\":{\"outlinewidth\":0,\"ticks\":\"\"}}],\"scatter\":[{\"fillpattern\":{\"fillmode\":\"overlay\",\"size\":10,\"solidity\":0.2},\"type\":\"scatter\"}],\"parcoords\":[{\"type\":\"parcoords\",\"line\":{\"colorbar\":{\"outlinewidth\":0,\"ticks\":\"\"}}}],\"scatterpolargl\":[{\"type\":\"scatterpolargl\",\"marker\":{\"colorbar\":{\"outlinewidth\":0,\"ticks\":\"\"}}}],\"bar\":[{\"error_x\":{\"color\":\"#2a3f5f\"},\"error_y\":{\"color\":\"#2a3f5f\"},\"marker\":{\"line\":{\"color\":\"#E5ECF6\",\"width\":0.5},\"pattern\":{\"fillmode\":\"overlay\",\"size\":10,\"solidity\":0.2}},\"type\":\"bar\"}],\"scattergeo\":[{\"type\":\"scattergeo\",\"marker\":{\"colorbar\":{\"outlinewidth\":0,\"ticks\":\"\"}}}],\"scatterpolar\":[{\"type\":\"scatterpolar\",\"marker\":{\"colorbar\":{\"outlinewidth\":0,\"ticks\":\"\"}}}],\"histogram\":[{\"marker\":{\"pattern\":{\"fillmode\":\"overlay\",\"size\":10,\"solidity\":0.2}},\"type\":\"histogram\"}],\"scattergl\":[{\"type\":\"scattergl\",\"marker\":{\"colorbar\":{\"outlinewidth\":0,\"ticks\":\"\"}}}],\"scatter3d\":[{\"type\":\"scatter3d\",\"line\":{\"colorbar\":{\"outlinewidth\":0,\"ticks\":\"\"}},\"marker\":{\"colorbar\":{\"outlinewidth\":0,\"ticks\":\"\"}}}],\"scattermapbox\":[{\"type\":\"scattermapbox\",\"marker\":{\"colorbar\":{\"outlinewidth\":0,\"ticks\":\"\"}}}],\"scatterternary\":[{\"type\":\"scatterternary\",\"marker\":{\"colorbar\":{\"outlinewidth\":0,\"ticks\":\"\"}}}],\"scattercarpet\":[{\"type\":\"scattercarpet\",\"marker\":{\"colorbar\":{\"outlinewidth\":0,\"ticks\":\"\"}}}],\"carpet\":[{\"aaxis\":{\"endlinecolor\":\"#2a3f5f\",\"gridcolor\":\"white\",\"linecolor\":\"white\",\"minorgridcolor\":\"white\",\"startlinecolor\":\"#2a3f5f\"},\"baxis\":{\"endlinecolor\":\"#2a3f5f\",\"gridcolor\":\"white\",\"linecolor\":\"white\",\"minorgridcolor\":\"white\",\"startlinecolor\":\"#2a3f5f\"},\"type\":\"carpet\"}],\"table\":[{\"cells\":{\"fill\":{\"color\":\"#EBF0F8\"},\"line\":{\"color\":\"white\"}},\"header\":{\"fill\":{\"color\":\"#C8D4E3\"},\"line\":{\"color\":\"white\"}},\"type\":\"table\"}],\"barpolar\":[{\"marker\":{\"line\":{\"color\":\"#E5ECF6\",\"width\":0.5},\"pattern\":{\"fillmode\":\"overlay\",\"size\":10,\"solidity\":0.2}},\"type\":\"barpolar\"}],\"pie\":[{\"automargin\":true,\"type\":\"pie\"}]},\"layout\":{\"autotypenumbers\":\"strict\",\"colorway\":[\"#636efa\",\"#EF553B\",\"#00cc96\",\"#ab63fa\",\"#FFA15A\",\"#19d3f3\",\"#FF6692\",\"#B6E880\",\"#FF97FF\",\"#FECB52\"],\"font\":{\"color\":\"#2a3f5f\"},\"hovermode\":\"closest\",\"hoverlabel\":{\"align\":\"left\"},\"paper_bgcolor\":\"white\",\"plot_bgcolor\":\"#E5ECF6\",\"polar\":{\"bgcolor\":\"#E5ECF6\",\"angularaxis\":{\"gridcolor\":\"white\",\"linecolor\":\"white\",\"ticks\":\"\"},\"radialaxis\":{\"gridcolor\":\"white\",\"linecolor\":\"white\",\"ticks\":\"\"}},\"ternary\":{\"bgcolor\":\"#E5ECF6\",\"aaxis\":{\"gridcolor\":\"white\",\"linecolor\":\"white\",\"ticks\":\"\"},\"baxis\":{\"gridcolor\":\"white\",\"linecolor\":\"white\",\"ticks\":\"\"},\"caxis\":{\"gridcolor\":\"white\",\"linecolor\":\"white\",\"ticks\":\"\"}},\"coloraxis\":{\"colorbar\":{\"outlinewidth\":0,\"ticks\":\"\"}},\"colorscale\":{\"sequential\":[[0.0,\"#0d0887\"],[0.1111111111111111,\"#46039f\"],[0.2222222222222222,\"#7201a8\"],[0.3333333333333333,\"#9c179e\"],[0.4444444444444444,\"#bd3786\"],[0.5555555555555556,\"#d8576b\"],[0.6666666666666666,\"#ed7953\"],[0.7777777777777778,\"#fb9f3a\"],[0.8888888888888888,\"#fdca26\"],[1.0,\"#f0f921\"]],\"sequentialminus\":[[0.0,\"#0d0887\"],[0.1111111111111111,\"#46039f\"],[0.2222222222222222,\"#7201a8\"],[0.3333333333333333,\"#9c179e\"],[0.4444444444444444,\"#bd3786\"],[0.5555555555555556,\"#d8576b\"],[0.6666666666666666,\"#ed7953\"],[0.7777777777777778,\"#fb9f3a\"],[0.8888888888888888,\"#fdca26\"],[1.0,\"#f0f921\"]],\"diverging\":[[0,\"#8e0152\"],[0.1,\"#c51b7d\"],[0.2,\"#de77ae\"],[0.3,\"#f1b6da\"],[0.4,\"#fde0ef\"],[0.5,\"#f7f7f7\"],[0.6,\"#e6f5d0\"],[0.7,\"#b8e186\"],[0.8,\"#7fbc41\"],[0.9,\"#4d9221\"],[1,\"#276419\"]]},\"xaxis\":{\"gridcolor\":\"white\",\"linecolor\":\"white\",\"ticks\":\"\",\"title\":{\"standoff\":15},\"zerolinecolor\":\"white\",\"automargin\":true,\"zerolinewidth\":2},\"yaxis\":{\"gridcolor\":\"white\",\"linecolor\":\"white\",\"ticks\":\"\",\"title\":{\"standoff\":15},\"zerolinecolor\":\"white\",\"automargin\":true,\"zerolinewidth\":2},\"scene\":{\"xaxis\":{\"backgroundcolor\":\"#E5ECF6\",\"gridcolor\":\"white\",\"linecolor\":\"white\",\"showbackground\":true,\"ticks\":\"\",\"zerolinecolor\":\"white\",\"gridwidth\":2},\"yaxis\":{\"backgroundcolor\":\"#E5ECF6\",\"gridcolor\":\"white\",\"linecolor\":\"white\",\"showbackground\":true,\"ticks\":\"\",\"zerolinecolor\":\"white\",\"gridwidth\":2},\"zaxis\":{\"backgroundcolor\":\"#E5ECF6\",\"gridcolor\":\"white\",\"linecolor\":\"white\",\"showbackground\":true,\"ticks\":\"\",\"zerolinecolor\":\"white\",\"gridwidth\":2}},\"shapedefaults\":{\"line\":{\"color\":\"#2a3f5f\"}},\"annotationdefaults\":{\"arrowcolor\":\"#2a3f5f\",\"arrowhead\":0,\"arrowwidth\":1},\"geo\":{\"bgcolor\":\"white\",\"landcolor\":\"#E5ECF6\",\"subunitcolor\":\"white\",\"showland\":true,\"showlakes\":true,\"lakecolor\":\"white\"},\"title\":{\"x\":0.05},\"mapbox\":{\"style\":\"light\"}}},\"mapbox\":{\"domain\":{\"x\":[0.0,1.0],\"y\":[0.0,1.0]},\"center\":{\"lat\":-15,\"lon\":-60},\"zoom\":3,\"style\":\"carto-darkmatter\"},\"coloraxis\":{\"colorscale\":[[0.0,\"#0d0887\"],[0.1111111111111111,\"#46039f\"],[0.2222222222222222,\"#7201a8\"],[0.3333333333333333,\"#9c179e\"],[0.4444444444444444,\"#bd3786\"],[0.5555555555555556,\"#d8576b\"],[0.6666666666666666,\"#ed7953\"],[0.7777777777777778,\"#fb9f3a\"],[0.8888888888888888,\"#fdca26\"],[1.0,\"#f0f921\"]]},\"legend\":{\"tracegroupgap\":0},\"margin\":{\"t\":60},\"height\":800,\"title\":{\"text\":\"Esta\\u00e7\\u00f5es INMET\"}},                        {\"responsive\": true}                    ).then(function(){\n",
       "                            \n",
       "var gd = document.getElementById('f7fc299d-e76f-4a66-a129-1351a09f8d84');\n",
       "var x = new MutationObserver(function (mutations, observer) {{\n",
       "        var display = window.getComputedStyle(gd).display;\n",
       "        if (!display || display === 'none') {{\n",
       "            console.log([gd, 'removed!']);\n",
       "            Plotly.purge(gd);\n",
       "            observer.disconnect();\n",
       "        }}\n",
       "}});\n",
       "\n",
       "// Listen for the removal of the full notebook cells\n",
       "var notebookContainer = gd.closest('#notebook-container');\n",
       "if (notebookContainer) {{\n",
       "    x.observe(notebookContainer, {childList: true});\n",
       "}}\n",
       "\n",
       "// Listen for the clearing of the current output cell\n",
       "var outputEl = gd.closest('.output');\n",
       "if (outputEl) {{\n",
       "    x.observe(outputEl, {childList: true});\n",
       "}}\n",
       "\n",
       "                        })                };                });            </script>        </div>"
      ]
     },
     "metadata": {},
     "output_type": "display_data"
    }
   ],
   "source": [
    "## Heat map\n",
    "import plotly.express as px;\n",
    "import pandas as pd;\n",
    "coords =  pd.read_csv(\"datasets/coords.csv\", sep=\";\");  \n",
    "fig = px.density_mapbox(coords, \n",
    "                        lat='LATITUDE', \n",
    "                        lon='LONGITUDE', \n",
    "                        radius=5,\n",
    "                        center={'lat':-15, 'lon':-60}, \n",
    "                        zoom=3,\n",
    "                        hover_data=[\"NOME\", \"CODIGO\", \"ESTADO\"],\n",
    "                        height=800,\n",
    "                        mapbox_style=\"carto-darkmatter\"\n",
    "                       )\n",
    "\n",
    "fig.update_layout(\n",
    "    title_text = 'Estações INMET' )\n",
    "fig.show()"
   ]
  },
  {
   "cell_type": "code",
   "execution_count": null,
   "id": "a4701ad9",
   "metadata": {},
   "outputs": [],
   "source": []
  }
 ],
 "metadata": {
  "kernelspec": {
   "display_name": "Python 3",
   "language": "python",
   "name": "python3"
  },
  "language_info": {
   "codemirror_mode": {
    "name": "ipython",
    "version": 3
   },
   "file_extension": ".py",
   "mimetype": "text/x-python",
   "name": "python",
   "nbconvert_exporter": "python",
   "pygments_lexer": "ipython3",
   "version": "3.8.8"
  }
 },
 "nbformat": 4,
 "nbformat_minor": 5
}
