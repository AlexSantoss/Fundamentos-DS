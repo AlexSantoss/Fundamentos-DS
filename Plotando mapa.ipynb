{
 "cells": [
  {
   "cell_type": "code",
   "execution_count": 1,
   "id": "7664e2ec",
   "metadata": {},
   "outputs": [],
   "source": [
    "import folium;\n",
    "import pandas as pd;"
   ]
  },
  {
   "cell_type": "code",
   "execution_count": 2,
   "id": "97f78918",
   "metadata": {},
   "outputs": [],
   "source": [
    "mapa = folium.Map(location=[-19.916667,-43.933333],\n",
    "                     tiles = 'Stamen Terrain',\n",
    "                     zoom_start = 4);\n",
    "\n",
    "mapaSolo = folium.Map(location=[-19.916667,-43.933333],\n",
    "                     tiles = 'Stamen Terrain',\n",
    "                     zoom_start = 4);\n"
   ]
  },
  {
   "cell_type": "code",
   "execution_count": 3,
   "id": "ae278fbf",
   "metadata": {},
   "outputs": [],
   "source": [
    "# único ponto no Mapa\n",
    "# folium.Marker([-17.8411111,-53.28944444],popup='ALTO TAQUARI').add_to(mapa);"
   ]
  },
  {
   "cell_type": "code",
   "execution_count": 4,
   "id": "e3ef8337",
   "metadata": {},
   "outputs": [],
   "source": [
    "coordenadas = pd.read_csv(\"datasets\\coords.csv\",\";\");  \n",
    "#coordenadasSolo = pd.read_csv(\"datasets\\CoordSoloMapeadoFiltrado.csv\",\";\");  \n",
    "coordenadasSolo = pd.read_csv(\"datasets\\Pasta1.csv\",\";\");  \n",
    "\n",
    "coordenadasSolo = coordenadasSolo[coordenadasSolo['LATITUDE'].notna()];\n",
    "coordenadasSolo = coordenadasSolo[coordenadasSolo['LONGITUDE'].notna()];\n"
   ]
  },
  {
   "cell_type": "code",
   "execution_count": 5,
   "id": "35f298b2",
   "metadata": {},
   "outputs": [],
   "source": [
    "#for _, coord in coordenadas.iterrows():\n",
    "#    folium.Marker(\n",
    "#        location=[coord['LATITUDE'], coord['LONGITUDE']],\n",
    "#    ).add_to(mapa) "
   ]
  },
  {
   "cell_type": "code",
   "execution_count": 6,
   "id": "e8e279ef",
   "metadata": {},
   "outputs": [],
   "source": [
    "colors = {\n",
    " 'NE': 'purple',\n",
    " 'N': 'blue',\n",
    " 'CO': 'green',\n",
    " 'S': 'orange',\n",
    " 'SE': 'red'\n",
    "}"
   ]
  },
  {
   "cell_type": "code",
   "execution_count": 7,
   "id": "37462d25",
   "metadata": {},
   "outputs": [],
   "source": [
    "#for _, coord in coordenadas.iterrows():\n",
    "#    if coord['REGIAO'] in colors.keys():\n",
    "#        folium.Marker(\n",
    "#           location=[coord['LATITUDE'], coord['LONGITUDE']],\n",
    "#            icon=folium.Icon(color=colors[coord['REGIAO']])\n",
    "#        ).add_to(mapa)       \n",
    "\n",
    "        "
   ]
  },
  {
   "cell_type": "code",
   "execution_count": 8,
   "id": "afe0bb51",
   "metadata": {},
   "outputs": [
    {
     "ename": "ValueError",
     "evalue": "Location should consist of two numerical values, but '-1.559.972.221' of type <class 'str'> is not convertible to float.",
     "output_type": "error",
     "traceback": [
      "\u001b[1;31m---------------------------------------------------------------------------\u001b[0m",
      "\u001b[1;31mValueError\u001b[0m                                Traceback (most recent call last)",
      "\u001b[1;32mC:\\ProgramData\\Anaconda3\\lib\\site-packages\\folium\\utilities.py\u001b[0m in \u001b[0;36mvalidate_location\u001b[1;34m(location)\u001b[0m\n\u001b[0;32m     59\u001b[0m         \u001b[1;32mtry\u001b[0m\u001b[1;33m:\u001b[0m\u001b[1;33m\u001b[0m\u001b[1;33m\u001b[0m\u001b[0m\n\u001b[1;32m---> 60\u001b[1;33m             \u001b[0mfloat\u001b[0m\u001b[1;33m(\u001b[0m\u001b[0mcoord\u001b[0m\u001b[1;33m)\u001b[0m\u001b[1;33m\u001b[0m\u001b[1;33m\u001b[0m\u001b[0m\n\u001b[0m\u001b[0;32m     61\u001b[0m         \u001b[1;32mexcept\u001b[0m \u001b[1;33m(\u001b[0m\u001b[0mTypeError\u001b[0m\u001b[1;33m,\u001b[0m \u001b[0mValueError\u001b[0m\u001b[1;33m)\u001b[0m\u001b[1;33m:\u001b[0m\u001b[1;33m\u001b[0m\u001b[1;33m\u001b[0m\u001b[0m\n",
      "\u001b[1;31mValueError\u001b[0m: could not convert string to float: '-1.559.972.221'",
      "\nDuring handling of the above exception, another exception occurred:\n",
      "\u001b[1;31mValueError\u001b[0m                                Traceback (most recent call last)",
      "\u001b[1;32m<ipython-input-8-426d40bf522d>\u001b[0m in \u001b[0;36m<module>\u001b[1;34m\u001b[0m\n\u001b[0;32m      1\u001b[0m \u001b[1;31m#Pontos do Solo mapeados no OpenSoils\u001b[0m\u001b[1;33m\u001b[0m\u001b[1;33m\u001b[0m\u001b[1;33m\u001b[0m\u001b[0m\n\u001b[0;32m      2\u001b[0m \u001b[1;32mfor\u001b[0m \u001b[0m_\u001b[0m\u001b[1;33m,\u001b[0m \u001b[0mcoord\u001b[0m \u001b[1;32min\u001b[0m \u001b[0mcoordenadasSolo\u001b[0m\u001b[1;33m.\u001b[0m\u001b[0miterrows\u001b[0m\u001b[1;33m(\u001b[0m\u001b[1;33m)\u001b[0m\u001b[1;33m:\u001b[0m\u001b[1;33m\u001b[0m\u001b[1;33m\u001b[0m\u001b[0m\n\u001b[1;32m----> 3\u001b[1;33m     folium.CircleMarker(location=[coord['LATITUDE'], coord['LONGITUDE']],\n\u001b[0m\u001b[0;32m      4\u001b[0m                             \u001b[0mradius\u001b[0m\u001b[1;33m=\u001b[0m\u001b[1;36m5\u001b[0m\u001b[1;33m\u001b[0m\u001b[1;33m\u001b[0m\u001b[0m\n\u001b[0;32m      5\u001b[0m                            ).add_to(mapaSolo)\n",
      "\u001b[1;32mC:\\ProgramData\\Anaconda3\\lib\\site-packages\\folium\\vector_layers.py\u001b[0m in \u001b[0;36m__init__\u001b[1;34m(self, location, radius, popup, tooltip, **kwargs)\u001b[0m\n\u001b[0;32m    302\u001b[0m \u001b[1;33m\u001b[0m\u001b[0m\n\u001b[0;32m    303\u001b[0m     \u001b[1;32mdef\u001b[0m \u001b[0m__init__\u001b[0m\u001b[1;33m(\u001b[0m\u001b[0mself\u001b[0m\u001b[1;33m,\u001b[0m \u001b[0mlocation\u001b[0m\u001b[1;33m=\u001b[0m\u001b[1;32mNone\u001b[0m\u001b[1;33m,\u001b[0m \u001b[0mradius\u001b[0m\u001b[1;33m=\u001b[0m\u001b[1;36m10\u001b[0m\u001b[1;33m,\u001b[0m \u001b[0mpopup\u001b[0m\u001b[1;33m=\u001b[0m\u001b[1;32mNone\u001b[0m\u001b[1;33m,\u001b[0m \u001b[0mtooltip\u001b[0m\u001b[1;33m=\u001b[0m\u001b[1;32mNone\u001b[0m\u001b[1;33m,\u001b[0m \u001b[1;33m**\u001b[0m\u001b[0mkwargs\u001b[0m\u001b[1;33m)\u001b[0m\u001b[1;33m:\u001b[0m\u001b[1;33m\u001b[0m\u001b[1;33m\u001b[0m\u001b[0m\n\u001b[1;32m--> 304\u001b[1;33m         super(CircleMarker, self).__init__(location, popup=popup,\n\u001b[0m\u001b[0;32m    305\u001b[0m                                            tooltip=tooltip)\n\u001b[0;32m    306\u001b[0m         \u001b[0mself\u001b[0m\u001b[1;33m.\u001b[0m\u001b[0m_name\u001b[0m \u001b[1;33m=\u001b[0m \u001b[1;34m'CircleMarker'\u001b[0m\u001b[1;33m\u001b[0m\u001b[1;33m\u001b[0m\u001b[0m\n",
      "\u001b[1;32mC:\\ProgramData\\Anaconda3\\lib\\site-packages\\folium\\map.py\u001b[0m in \u001b[0;36m__init__\u001b[1;34m(self, location, popup, tooltip, icon, draggable, **kwargs)\u001b[0m\n\u001b[0;32m    275\u001b[0m         \u001b[0msuper\u001b[0m\u001b[1;33m(\u001b[0m\u001b[0mMarker\u001b[0m\u001b[1;33m,\u001b[0m \u001b[0mself\u001b[0m\u001b[1;33m)\u001b[0m\u001b[1;33m.\u001b[0m\u001b[0m__init__\u001b[0m\u001b[1;33m(\u001b[0m\u001b[1;33m)\u001b[0m\u001b[1;33m\u001b[0m\u001b[1;33m\u001b[0m\u001b[0m\n\u001b[0;32m    276\u001b[0m         \u001b[0mself\u001b[0m\u001b[1;33m.\u001b[0m\u001b[0m_name\u001b[0m \u001b[1;33m=\u001b[0m \u001b[1;34m'Marker'\u001b[0m\u001b[1;33m\u001b[0m\u001b[1;33m\u001b[0m\u001b[0m\n\u001b[1;32m--> 277\u001b[1;33m         \u001b[0mself\u001b[0m\u001b[1;33m.\u001b[0m\u001b[0mlocation\u001b[0m \u001b[1;33m=\u001b[0m \u001b[0mvalidate_location\u001b[0m\u001b[1;33m(\u001b[0m\u001b[0mlocation\u001b[0m\u001b[1;33m)\u001b[0m \u001b[1;32mif\u001b[0m \u001b[0mlocation\u001b[0m \u001b[1;32melse\u001b[0m \u001b[1;32mNone\u001b[0m\u001b[1;33m\u001b[0m\u001b[1;33m\u001b[0m\u001b[0m\n\u001b[0m\u001b[0;32m    278\u001b[0m         self.options = parse_options(\n\u001b[0;32m    279\u001b[0m             \u001b[0mdraggable\u001b[0m\u001b[1;33m=\u001b[0m\u001b[0mdraggable\u001b[0m \u001b[1;32mor\u001b[0m \u001b[1;32mNone\u001b[0m\u001b[1;33m,\u001b[0m\u001b[1;33m\u001b[0m\u001b[1;33m\u001b[0m\u001b[0m\n",
      "\u001b[1;32mC:\\ProgramData\\Anaconda3\\lib\\site-packages\\folium\\utilities.py\u001b[0m in \u001b[0;36mvalidate_location\u001b[1;34m(location)\u001b[0m\n\u001b[0;32m     60\u001b[0m             \u001b[0mfloat\u001b[0m\u001b[1;33m(\u001b[0m\u001b[0mcoord\u001b[0m\u001b[1;33m)\u001b[0m\u001b[1;33m\u001b[0m\u001b[1;33m\u001b[0m\u001b[0m\n\u001b[0;32m     61\u001b[0m         \u001b[1;32mexcept\u001b[0m \u001b[1;33m(\u001b[0m\u001b[0mTypeError\u001b[0m\u001b[1;33m,\u001b[0m \u001b[0mValueError\u001b[0m\u001b[1;33m)\u001b[0m\u001b[1;33m:\u001b[0m\u001b[1;33m\u001b[0m\u001b[1;33m\u001b[0m\u001b[0m\n\u001b[1;32m---> 62\u001b[1;33m             raise ValueError('Location should consist of two numerical values, '\n\u001b[0m\u001b[0;32m     63\u001b[0m                              \u001b[1;34m'but {!r} of type {} is not convertible to float.'\u001b[0m\u001b[1;33m\u001b[0m\u001b[1;33m\u001b[0m\u001b[0m\n\u001b[0;32m     64\u001b[0m                              .format(coord, type(coord)))\n",
      "\u001b[1;31mValueError\u001b[0m: Location should consist of two numerical values, but '-1.559.972.221' of type <class 'str'> is not convertible to float."
     ]
    }
   ],
   "source": [
    "#Pontos do Solo mapeados no OpenSoils\n",
    "for _, coord in coordenadasSolo.iterrows():\n",
    "    folium.CircleMarker(location=[coord['LATITUDE'], coord['LONGITUDE']],\n",
    "                            radius=5 \n",
    "                           ).add_to(mapaSolo)"
   ]
  },
  {
   "cell_type": "code",
   "execution_count": 18,
   "id": "1b0aa89c",
   "metadata": {},
   "outputs": [],
   "source": [
    "#Pontos das Estações mapeados no arquivo do INMET\n",
    "for _, coord in coordenadas.iterrows():\n",
    "    if coord['REGIAO'] in colors.keys():\n",
    "        folium.CircleMarker(location=[coord['LATITUDE'], coord['LONGITUDE']],\n",
    "                            radius=5, \n",
    "                            #fill_color=colors[coord['REGIAO']]\n",
    "                            color =colors[coord['REGIAO']],\n",
    "                            popup=coord['NOME'],\n",
    "                           ).add_to(mapa)"
   ]
  },
  {
   "cell_type": "code",
   "execution_count": 29,
   "id": "3f3c00ee",
   "metadata": {
    "scrolled": true
   },
   "outputs": [],
   "source": [
    "mapa;"
   ]
  },
  {
   "cell_type": "code",
   "execution_count": 25,
   "id": "e019e07d",
   "metadata": {},
   "outputs": [],
   "source": [
    "mapaSolo;"
   ]
  },
  {
   "cell_type": "code",
   "execution_count": 26,
   "id": "3b429047",
   "metadata": {},
   "outputs": [],
   "source": [
    "mapa.save('mapas_htmls/mapa_some_colors.html');\n",
    "mapaSolo.save('mapas_htmls/mapaSolo_some_colors.html');"
   ]
  },
  {
   "cell_type": "code",
   "execution_count": null,
   "id": "bae70e1e",
   "metadata": {},
   "outputs": [],
   "source": []
  }
 ],
 "metadata": {
  "kernelspec": {
   "display_name": "Python 3",
   "language": "python",
   "name": "python3"
  },
  "language_info": {
   "codemirror_mode": {
    "name": "ipython",
    "version": 3
   },
   "file_extension": ".py",
   "mimetype": "text/x-python",
   "name": "python",
   "nbconvert_exporter": "python",
   "pygments_lexer": "ipython3",
   "version": "3.8.8"
  }
 },
 "nbformat": 4,
 "nbformat_minor": 5
}
