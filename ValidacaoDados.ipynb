{
 "cells": [
  {
   "cell_type": "code",
   "execution_count": 1,
   "id": "135e70b0",
   "metadata": {},
   "outputs": [],
   "source": [
    "import pandas as pd\n",
    "import matplotlib.pyplot as plt\n",
    "import numpy as np\n",
    "from matplotlib.colors import BoundaryNorm\n",
    "from scipy.interpolate import griddata  \n",
    "import numpy.ma as ma\n",
    "import folium\n",
    "from folium.plugins import HeatMap\n",
    "from mpltools import color"
   ]
  },
  {
   "cell_type": "code",
   "execution_count": 2,
   "id": "3e001016",
   "metadata": {},
   "outputs": [],
   "source": [
    "dadosFull = pd.read_csv(\"E:/Mestrado Dados Climatologicos/Historicos/Consolidados/2020_Full.csv\",\";\");  "
   ]
  },
  {
   "cell_type": "code",
   "execution_count": 11,
   "id": "6316d916",
   "metadata": {},
   "outputs": [],
   "source": [
    "meteoro_group2 = dadosFull.groupby(['DATA','NAME_FILE'],as_index=False).agg({'PRECIPITACAO':'sum','UMIDADE_MIN':'mean','UMIDADE_MAX':'mean','TEMPERATURA_MAX':'mean','TEMPERATURA_MIN':'mean','VENTO_VELOCIDADE':'mean','RADIACAO_GLOBAL':'mean'});"
   ]
  },
  {
   "cell_type": "code",
   "execution_count": 14,
   "id": "d4fc5980",
   "metadata": {},
   "outputs": [],
   "source": [
    "meteoro_group2.head();\n",
    "meteoro_group2.to_csv(\"E:/Mestrado Dados Climatologicos/Historicos/Consolidados/2020_Full_Consolidados.csv\",index=False,sep =';');"
   ]
  },
  {
   "cell_type": "code",
   "execution_count": 10,
   "id": "4947f64c",
   "metadata": {},
   "outputs": [
    {
     "data": {
      "text/plain": [
       "5173776"
      ]
     },
     "execution_count": 10,
     "metadata": {},
     "output_type": "execute_result"
    }
   ],
   "source": [
    "dadosFull[dadosFull.columns[0]].count()"
   ]
  },
  {
   "cell_type": "code",
   "execution_count": 25,
   "id": "a05cbeaf",
   "metadata": {},
   "outputs": [
    {
     "name": "stdout",
     "output_type": "stream",
     "text": [
      "DATA                      0\n",
      "PRECIPITACAO        1544399\n",
      "RADIACAO_GLOBAL     2871561\n",
      "TEMPERATURA_MAX     1185191\n",
      "TEMPERATURA_MIN     1185266\n",
      "UMIDADE_MAX         1355276\n",
      "UMIDADE_MIN         1359753\n",
      "VENTO_VELOCIDADE    1329355\n",
      "NAME_FILE                 0\n",
      "dtype: int64\n"
     ]
    },
    {
     "data": {
      "text/html": [
       "<div>\n",
       "<style scoped>\n",
       "    .dataframe tbody tr th:only-of-type {\n",
       "        vertical-align: middle;\n",
       "    }\n",
       "\n",
       "    .dataframe tbody tr th {\n",
       "        vertical-align: top;\n",
       "    }\n",
       "\n",
       "    .dataframe thead th {\n",
       "        text-align: right;\n",
       "    }\n",
       "</style>\n",
       "<table border=\"1\" class=\"dataframe\">\n",
       "  <thead>\n",
       "    <tr style=\"text-align: right;\">\n",
       "      <th></th>\n",
       "      <th>DATA</th>\n",
       "      <th>PRECIPITACAO</th>\n",
       "      <th>RADIACAO_GLOBAL</th>\n",
       "      <th>TEMPERATURA_MAX</th>\n",
       "      <th>TEMPERATURA_MIN</th>\n",
       "      <th>UMIDADE_MAX</th>\n",
       "      <th>UMIDADE_MIN</th>\n",
       "      <th>VENTO_VELOCIDADE</th>\n",
       "      <th>NAME_FILE</th>\n",
       "    </tr>\n",
       "  </thead>\n",
       "  <tbody>\n",
       "  </tbody>\n",
       "</table>\n",
       "</div>"
      ],
      "text/plain": [
       "Empty DataFrame\n",
       "Columns: [DATA, PRECIPITACAO, RADIACAO_GLOBAL, TEMPERATURA_MAX, TEMPERATURA_MIN, UMIDADE_MAX, UMIDADE_MIN, VENTO_VELOCIDADE, NAME_FILE]\n",
       "Index: []"
      ]
     },
     "execution_count": 25,
     "metadata": {},
     "output_type": "execute_result"
    }
   ],
   "source": [
    "print(dadosFull.isnull().sum()) \n"
   ]
  },
  {
   "cell_type": "code",
   "execution_count": 24,
   "id": "1a778a9a",
   "metadata": {},
   "outputs": [
    {
     "data": {
      "text/html": [
       "<div>\n",
       "<style scoped>\n",
       "    .dataframe tbody tr th:only-of-type {\n",
       "        vertical-align: middle;\n",
       "    }\n",
       "\n",
       "    .dataframe tbody tr th {\n",
       "        vertical-align: top;\n",
       "    }\n",
       "\n",
       "    .dataframe thead th {\n",
       "        text-align: right;\n",
       "    }\n",
       "</style>\n",
       "<table border=\"1\" class=\"dataframe\">\n",
       "  <thead>\n",
       "    <tr style=\"text-align: right;\">\n",
       "      <th></th>\n",
       "      <th>NAME_FILE</th>\n",
       "      <th>DATA</th>\n",
       "      <th>PRECIPITACAO</th>\n",
       "      <th>RADIACAO_GLOBAL</th>\n",
       "      <th>TEMPERATURA_MAX</th>\n",
       "      <th>TEMPERATURA_MIN</th>\n",
       "      <th>UMIDADE_MAX</th>\n",
       "      <th>UMIDADE_MIN</th>\n",
       "      <th>VENTO_VELOCIDADE</th>\n",
       "    </tr>\n",
       "  </thead>\n",
       "  <tbody>\n",
       "    <tr>\n",
       "      <th>0</th>\n",
       "      <td>INMET_CO_DF_A042_BRAZLANDIA_01012020_A_3112202...</td>\n",
       "      <td>179</td>\n",
       "      <td>0</td>\n",
       "      <td>0</td>\n",
       "      <td>0</td>\n",
       "      <td>0</td>\n",
       "      <td>0</td>\n",
       "      <td>0</td>\n",
       "      <td>0</td>\n",
       "    </tr>\n",
       "    <tr>\n",
       "      <th>1</th>\n",
       "      <td>INMET_CO_DF_A045_AGUAS EMENDADAS_01012020_A_31...</td>\n",
       "      <td>176</td>\n",
       "      <td>0</td>\n",
       "      <td>1</td>\n",
       "      <td>2</td>\n",
       "      <td>2</td>\n",
       "      <td>2</td>\n",
       "      <td>2</td>\n",
       "      <td>1</td>\n",
       "    </tr>\n",
       "    <tr>\n",
       "      <th>2</th>\n",
       "      <td>INMET_CO_DF_A046_GAMA (PONTE ALTA)_01012020_A_...</td>\n",
       "      <td>63</td>\n",
       "      <td>0</td>\n",
       "      <td>0</td>\n",
       "      <td>0</td>\n",
       "      <td>0</td>\n",
       "      <td>0</td>\n",
       "      <td>0</td>\n",
       "      <td>0</td>\n",
       "    </tr>\n",
       "    <tr>\n",
       "      <th>3</th>\n",
       "      <td>INMET_CO_DF_A047_PARANOA (COOPADF)_01012020_A_...</td>\n",
       "      <td>176</td>\n",
       "      <td>0</td>\n",
       "      <td>0</td>\n",
       "      <td>0</td>\n",
       "      <td>0</td>\n",
       "      <td>0</td>\n",
       "      <td>0</td>\n",
       "      <td>0</td>\n",
       "    </tr>\n",
       "    <tr>\n",
       "      <th>4</th>\n",
       "      <td>INMET_CO_GO_A002_GOIANIA_01012020_A_31122020.CSV</td>\n",
       "      <td>107</td>\n",
       "      <td>0</td>\n",
       "      <td>40</td>\n",
       "      <td>71</td>\n",
       "      <td>71</td>\n",
       "      <td>71</td>\n",
       "      <td>71</td>\n",
       "      <td>71</td>\n",
       "    </tr>\n",
       "    <tr>\n",
       "      <th>...</th>\n",
       "      <td>...</td>\n",
       "      <td>...</td>\n",
       "      <td>...</td>\n",
       "      <td>...</td>\n",
       "      <td>...</td>\n",
       "      <td>...</td>\n",
       "      <td>...</td>\n",
       "      <td>...</td>\n",
       "      <td>...</td>\n",
       "    </tr>\n",
       "    <tr>\n",
       "      <th>516</th>\n",
       "      <td>INMET_S_SC_A867_ARARANGUA_01012020_A_31122020.CSV</td>\n",
       "      <td>9</td>\n",
       "      <td>0</td>\n",
       "      <td>0</td>\n",
       "      <td>0</td>\n",
       "      <td>0</td>\n",
       "      <td>0</td>\n",
       "      <td>0</td>\n",
       "      <td>0</td>\n",
       "    </tr>\n",
       "    <tr>\n",
       "      <th>517</th>\n",
       "      <td>INMET_S_SC_A868_ITAJAI_01012020_A_31122020.CSV</td>\n",
       "      <td>1511</td>\n",
       "      <td>0</td>\n",
       "      <td>0</td>\n",
       "      <td>0</td>\n",
       "      <td>0</td>\n",
       "      <td>0</td>\n",
       "      <td>0</td>\n",
       "      <td>0</td>\n",
       "    </tr>\n",
       "    <tr>\n",
       "      <th>518</th>\n",
       "      <td>INMET_S_SC_A870_RANCHO QUEIMADO_01012020_A_311...</td>\n",
       "      <td>5346</td>\n",
       "      <td>0</td>\n",
       "      <td>73</td>\n",
       "      <td>133</td>\n",
       "      <td>133</td>\n",
       "      <td>105</td>\n",
       "      <td>105</td>\n",
       "      <td>133</td>\n",
       "    </tr>\n",
       "    <tr>\n",
       "      <th>519</th>\n",
       "      <td>INMET_S_SC_A895_CHAPECO_01012020_A_31122020.CSV</td>\n",
       "      <td>8</td>\n",
       "      <td>0</td>\n",
       "      <td>0</td>\n",
       "      <td>0</td>\n",
       "      <td>0</td>\n",
       "      <td>0</td>\n",
       "      <td>0</td>\n",
       "      <td>0</td>\n",
       "    </tr>\n",
       "    <tr>\n",
       "      <th>520</th>\n",
       "      <td>INMET_S_SC_A898_CAMPOS NOVOS_01012020_A_311220...</td>\n",
       "      <td>8</td>\n",
       "      <td>0</td>\n",
       "      <td>0</td>\n",
       "      <td>0</td>\n",
       "      <td>0</td>\n",
       "      <td>0</td>\n",
       "      <td>0</td>\n",
       "      <td>0</td>\n",
       "    </tr>\n",
       "  </tbody>\n",
       "</table>\n",
       "<p>521 rows × 9 columns</p>\n",
       "</div>"
      ],
      "text/plain": [
       "                                             NAME_FILE  DATA  PRECIPITACAO  \\\n",
       "0    INMET_CO_DF_A042_BRAZLANDIA_01012020_A_3112202...   179             0   \n",
       "1    INMET_CO_DF_A045_AGUAS EMENDADAS_01012020_A_31...   176             0   \n",
       "2    INMET_CO_DF_A046_GAMA (PONTE ALTA)_01012020_A_...    63             0   \n",
       "3    INMET_CO_DF_A047_PARANOA (COOPADF)_01012020_A_...   176             0   \n",
       "4     INMET_CO_GO_A002_GOIANIA_01012020_A_31122020.CSV   107             0   \n",
       "..                                                 ...   ...           ...   \n",
       "516  INMET_S_SC_A867_ARARANGUA_01012020_A_31122020.CSV     9             0   \n",
       "517     INMET_S_SC_A868_ITAJAI_01012020_A_31122020.CSV  1511             0   \n",
       "518  INMET_S_SC_A870_RANCHO QUEIMADO_01012020_A_311...  5346             0   \n",
       "519    INMET_S_SC_A895_CHAPECO_01012020_A_31122020.CSV     8             0   \n",
       "520  INMET_S_SC_A898_CAMPOS NOVOS_01012020_A_311220...     8             0   \n",
       "\n",
       "     RADIACAO_GLOBAL  TEMPERATURA_MAX  TEMPERATURA_MIN  UMIDADE_MAX  \\\n",
       "0                  0                0                0            0   \n",
       "1                  1                2                2            2   \n",
       "2                  0                0                0            0   \n",
       "3                  0                0                0            0   \n",
       "4                 40               71               71           71   \n",
       "..               ...              ...              ...          ...   \n",
       "516                0                0                0            0   \n",
       "517                0                0                0            0   \n",
       "518               73              133              133          105   \n",
       "519                0                0                0            0   \n",
       "520                0                0                0            0   \n",
       "\n",
       "     UMIDADE_MIN  VENTO_VELOCIDADE  \n",
       "0              0                 0  \n",
       "1              2                 1  \n",
       "2              0                 0  \n",
       "3              0                 0  \n",
       "4             71                71  \n",
       "..           ...               ...  \n",
       "516            0                 0  \n",
       "517            0                 0  \n",
       "518          105               133  \n",
       "519            0                 0  \n",
       "520            0                 0  \n",
       "\n",
       "[521 rows x 9 columns]"
      ]
     },
     "execution_count": 24,
     "metadata": {},
     "output_type": "execute_result"
    }
   ],
   "source": [
    "dadosFull[dadosFull['PRECIPITACAO'].isnull()].groupby(['NAME_FILE'],as_index=False).count()"
   ]
  },
  {
   "cell_type": "code",
   "execution_count": 21,
   "id": "3045e112",
   "metadata": {},
   "outputs": [
    {
     "name": "stdout",
     "output_type": "stream",
     "text": [
      "                                             NAME_FILE  PRECIPITACAO\n",
      "0    INMET_CO_DF_A001_BRASILIA_01012020_A_31122020.CSV        1576.6\n",
      "1    INMET_CO_DF_A042_BRAZLANDIA_01012020_A_3112202...        2091.6\n",
      "2    INMET_CO_DF_A045_AGUAS EMENDADAS_01012020_A_31...        1575.6\n",
      "3    INMET_CO_DF_A046_GAMA (PONTE ALTA)_01012020_A_...        1951.2\n",
      "4    INMET_CO_DF_A047_PARANOA (COOPADF)_01012020_A_...        2180.8\n",
      "..                                                 ...           ...\n",
      "584  INMET_S_SC_A867_ARARANGUA_01012020_A_31122020.CSV        1368.0\n",
      "585     INMET_S_SC_A868_ITAJAI_01012020_A_31122020.CSV         985.6\n",
      "586  INMET_S_SC_A870_RANCHO QUEIMADO_01012020_A_311...         808.0\n",
      "587    INMET_S_SC_A895_CHAPECO_01012020_A_31122020.CSV        1600.4\n",
      "588  INMET_S_SC_A898_CAMPOS NOVOS_01012020_A_311220...        1761.4\n",
      "\n",
      "[589 rows x 2 columns]\n"
     ]
    }
   ],
   "source": [
    "print(dadosFull.groupby(['NAME_FILE'],as_index=False).agg({'PRECIPITACAO':'sum'}))"
   ]
  },
  {
   "cell_type": "code",
   "execution_count": 31,
   "id": "b4d3d132",
   "metadata": {},
   "outputs": [
    {
     "data": {
      "text/html": [
       "<div>\n",
       "<style scoped>\n",
       "    .dataframe tbody tr th:only-of-type {\n",
       "        vertical-align: middle;\n",
       "    }\n",
       "\n",
       "    .dataframe tbody tr th {\n",
       "        vertical-align: top;\n",
       "    }\n",
       "\n",
       "    .dataframe thead th {\n",
       "        text-align: right;\n",
       "    }\n",
       "</style>\n",
       "<table border=\"1\" class=\"dataframe\">\n",
       "  <thead>\n",
       "    <tr style=\"text-align: right;\">\n",
       "      <th></th>\n",
       "      <th>DATA</th>\n",
       "      <th>PRECIPITACAO</th>\n",
       "      <th>RADIACAO_GLOBAL</th>\n",
       "      <th>TEMPERATURA_MAX</th>\n",
       "      <th>TEMPERATURA_MIN</th>\n",
       "      <th>UMIDADE_MAX</th>\n",
       "      <th>UMIDADE_MIN</th>\n",
       "      <th>VENTO_VELOCIDADE</th>\n",
       "      <th>NAME_FILE</th>\n",
       "    </tr>\n",
       "  </thead>\n",
       "  <tbody>\n",
       "  </tbody>\n",
       "</table>\n",
       "</div>"
      ],
      "text/plain": [
       "Empty DataFrame\n",
       "Columns: [DATA, PRECIPITACAO, RADIACAO_GLOBAL, TEMPERATURA_MAX, TEMPERATURA_MIN, UMIDADE_MAX, UMIDADE_MIN, VENTO_VELOCIDADE, NAME_FILE]\n",
       "Index: []"
      ]
     },
     "execution_count": 31,
     "metadata": {},
     "output_type": "execute_result"
    }
   ],
   "source": [
    "dadosFull[dadosFull['VENTO_VELOCIDADE'] < 0]"
   ]
  },
  {
   "cell_type": "code",
   "execution_count": null,
   "id": "22daef53",
   "metadata": {},
   "outputs": [],
   "source": []
  }
 ],
 "metadata": {
  "kernelspec": {
   "display_name": "Python 3",
   "language": "python",
   "name": "python3"
  },
  "language_info": {
   "codemirror_mode": {
    "name": "ipython",
    "version": 3
   },
   "file_extension": ".py",
   "mimetype": "text/x-python",
   "name": "python",
   "nbconvert_exporter": "python",
   "pygments_lexer": "ipython3",
   "version": "3.8.8"
  }
 },
 "nbformat": 4,
 "nbformat_minor": 5
}
