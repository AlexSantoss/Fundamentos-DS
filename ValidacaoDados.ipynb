{
 "cells": [
  {
   "cell_type": "code",
   "execution_count": 4,
   "id": "135e70b0",
   "metadata": {},
   "outputs": [],
   "source": [
    "#IMPORTANDO BIBLIOTECAS\n",
    "import pandas as pd\n",
    "import numpy as np\n",
    "import matplotlib.pyplot as plt\n",
    "from matplotlib.colors import BoundaryNorm\n",
    "from scipy.interpolate import griddata  \n",
    "import numpy.ma as ma\n",
    "import folium\n",
    "from folium.plugins import HeatMap\n",
    "from mpltools import color\n",
    "import os \n",
    "import seaborn as sns;\n",
    "import math;\n"
   ]
  },
  {
   "cell_type": "code",
   "execution_count": 10,
   "id": "8dcea17d",
   "metadata": {},
   "outputs": [
    {
     "name": "stdout",
     "output_type": "stream",
     "text": [
      "Processados um total de : 114 arquivos.\n"
     ]
    }
   ],
   "source": [
    "#Somente dados do Centro Oeste - 2020\n",
    "pd.set_option('display.precision',2);\n",
    "path = \"E://Mestrado Dados Climatologicos//Historicos//Processar\"\n",
    "file = \"E://Mestrado Dados Climatologicos//Historicos//Consolidados//2020_CO.csv\"\n",
    "\n",
    "dataframeFull = pd.DataFrame();\n",
    "contador =0;\n",
    "totalFiles = 114;\n",
    "\n",
    "for x in os.listdir(path): \n",
    "    if x.endswith(\".CSV\"):     \n",
    "        #local = path+x\n",
    "        #print(local)\n",
    "        meteoro_df = pd.read_csv(path+'//'+x,\";\",encoding='latin-1',header =8, names=['DATA', 'PRECIPITACAO','RADIACAO_GLOBAL','TEMPERATURA_MAX','TEMPERATURA_MIN','UMIDADE_MAX','UMIDADE_MIN','VENTO_VELOCIDADE'],usecols=[0,2,6,9,10,13,14,18], decimal = \".\" )\n",
    "        meteoro_df.replace({',': '.'}, regex=True, inplace=True) ;\n",
    "        meteoro_df[['PRECIPITACAO','RADIACAO_GLOBAL','TEMPERATURA_MAX','TEMPERATURA_MIN','UMIDADE_MAX','UMIDADE_MIN','VENTO_VELOCIDADE']] = meteoro_df[['PRECIPITACAO','RADIACAO_GLOBAL','TEMPERATURA_MAX','TEMPERATURA_MIN','UMIDADE_MAX','UMIDADE_MIN','VENTO_VELOCIDADE']].astype(float);\n",
    "        meteoro_df['NAME_FILE'] = x;\n",
    "        dataframeFull = pd.concat([dataframeFull,meteoro_df]);\n",
    "        contador = contador+1;\n",
    "        #print( str(contador) +' de ' + str(totalFiles));\n",
    "       \n",
    "    \n",
    "dataframeFull.to_csv(file,index=False,sep =';');\n",
    "print('Processados um total de : ' + str(contador) + ' arquivos.');\n",
    "\n",
    "#DadosFull contem somente dados do Centro Oeste - 2020\n",
    "dadosFull = pd.read_csv(file,\";\");  \n",
    " "
   ]
  },
  {
   "cell_type": "code",
   "execution_count": 11,
   "id": "3e001016",
   "metadata": {},
   "outputs": [],
   "source": [
    "meteoro_group2 = dadosFull.groupby(['DATA','NAME_FILE'],as_index=False).agg({'PRECIPITACAO':'sum','UMIDADE_MIN':'mean','UMIDADE_MAX':'mean','TEMPERATURA_MAX':'mean','TEMPERATURA_MIN':'mean','VENTO_VELOCIDADE':'mean','RADIACAO_GLOBAL':'mean'});\n",
    "meteoro_group2.head();\n",
    "meteoro_group2.to_csv(\"E:/Mestrado Dados Climatologicos/Historicos/Consolidados/2020_Full_Consolidados.csv\",index=False,sep =';');"
   ]
  },
  {
   "cell_type": "code",
   "execution_count": 12,
   "id": "4947f64c",
   "metadata": {},
   "outputs": [
    {
     "data": {
      "text/plain": [
       "1001376"
      ]
     },
     "execution_count": 12,
     "metadata": {},
     "output_type": "execute_result"
    }
   ],
   "source": [
    "# 1001376 registros\n",
    "dadosFull[dadosFull.columns[0]].count()"
   ]
  },
  {
   "cell_type": "code",
   "execution_count": 13,
   "id": "a05cbeaf",
   "metadata": {},
   "outputs": [
    {
     "name": "stdout",
     "output_type": "stream",
     "text": [
      "DATA                     0\n",
      "PRECIPITACAO        348241\n",
      "RADIACAO_GLOBAL     574508\n",
      "TEMPERATURA_MAX     266763\n",
      "TEMPERATURA_MIN     266832\n",
      "UMIDADE_MAX         298916\n",
      "UMIDADE_MIN         299442\n",
      "VENTO_VELOCIDADE    275341\n",
      "NAME_FILE                0\n",
      "dtype: int64\n"
     ]
    }
   ],
   "source": [
    "print(dadosFull.isnull().sum()) "
   ]
  },
  {
   "cell_type": "code",
   "execution_count": 14,
   "id": "1a778a9a",
   "metadata": {},
   "outputs": [
    {
     "data": {
      "text/html": [
       "<div>\n",
       "<style scoped>\n",
       "    .dataframe tbody tr th:only-of-type {\n",
       "        vertical-align: middle;\n",
       "    }\n",
       "\n",
       "    .dataframe tbody tr th {\n",
       "        vertical-align: top;\n",
       "    }\n",
       "\n",
       "    .dataframe thead th {\n",
       "        text-align: right;\n",
       "    }\n",
       "</style>\n",
       "<table border=\"1\" class=\"dataframe\">\n",
       "  <thead>\n",
       "    <tr style=\"text-align: right;\">\n",
       "      <th></th>\n",
       "      <th>NAME_FILE</th>\n",
       "      <th>DATA</th>\n",
       "      <th>PRECIPITACAO</th>\n",
       "      <th>RADIACAO_GLOBAL</th>\n",
       "      <th>TEMPERATURA_MAX</th>\n",
       "      <th>TEMPERATURA_MIN</th>\n",
       "      <th>UMIDADE_MAX</th>\n",
       "      <th>UMIDADE_MIN</th>\n",
       "      <th>VENTO_VELOCIDADE</th>\n",
       "    </tr>\n",
       "  </thead>\n",
       "  <tbody>\n",
       "    <tr>\n",
       "      <th>0</th>\n",
       "      <td>INMET_CO_DF_A042_BRAZLANDIA_01012020_A_3112202...</td>\n",
       "      <td>179</td>\n",
       "      <td>0</td>\n",
       "      <td>0</td>\n",
       "      <td>0</td>\n",
       "      <td>0</td>\n",
       "      <td>0</td>\n",
       "      <td>0</td>\n",
       "      <td>0</td>\n",
       "    </tr>\n",
       "    <tr>\n",
       "      <th>1</th>\n",
       "      <td>INMET_CO_DF_A045_AGUAS EMENDADAS_01012020_A_31...</td>\n",
       "      <td>176</td>\n",
       "      <td>0</td>\n",
       "      <td>1</td>\n",
       "      <td>2</td>\n",
       "      <td>2</td>\n",
       "      <td>2</td>\n",
       "      <td>2</td>\n",
       "      <td>1</td>\n",
       "    </tr>\n",
       "    <tr>\n",
       "      <th>2</th>\n",
       "      <td>INMET_CO_DF_A046_GAMA (PONTE ALTA)_01012020_A_...</td>\n",
       "      <td>63</td>\n",
       "      <td>0</td>\n",
       "      <td>0</td>\n",
       "      <td>0</td>\n",
       "      <td>0</td>\n",
       "      <td>0</td>\n",
       "      <td>0</td>\n",
       "      <td>0</td>\n",
       "    </tr>\n",
       "    <tr>\n",
       "      <th>3</th>\n",
       "      <td>INMET_CO_DF_A047_PARANOA (COOPADF)_01012020_A_...</td>\n",
       "      <td>176</td>\n",
       "      <td>0</td>\n",
       "      <td>0</td>\n",
       "      <td>0</td>\n",
       "      <td>0</td>\n",
       "      <td>0</td>\n",
       "      <td>0</td>\n",
       "      <td>0</td>\n",
       "    </tr>\n",
       "    <tr>\n",
       "      <th>4</th>\n",
       "      <td>INMET_CO_GO_A002_GOIANIA_01012020_A_31122020.CSV</td>\n",
       "      <td>107</td>\n",
       "      <td>0</td>\n",
       "      <td>40</td>\n",
       "      <td>71</td>\n",
       "      <td>71</td>\n",
       "      <td>71</td>\n",
       "      <td>71</td>\n",
       "      <td>71</td>\n",
       "    </tr>\n",
       "    <tr>\n",
       "      <th>...</th>\n",
       "      <td>...</td>\n",
       "      <td>...</td>\n",
       "      <td>...</td>\n",
       "      <td>...</td>\n",
       "      <td>...</td>\n",
       "      <td>...</td>\n",
       "      <td>...</td>\n",
       "      <td>...</td>\n",
       "      <td>...</td>\n",
       "    </tr>\n",
       "    <tr>\n",
       "      <th>105</th>\n",
       "      <td>INMET_CO_MT_A937_PONTES E LACERDA_01012020_A_3...</td>\n",
       "      <td>131</td>\n",
       "      <td>0</td>\n",
       "      <td>0</td>\n",
       "      <td>0</td>\n",
       "      <td>0</td>\n",
       "      <td>0</td>\n",
       "      <td>0</td>\n",
       "      <td>0</td>\n",
       "    </tr>\n",
       "    <tr>\n",
       "      <th>106</th>\n",
       "      <td>INMET_CO_MT_A941_CACERES_01012020_A_31122020.CSV</td>\n",
       "      <td>721</td>\n",
       "      <td>0</td>\n",
       "      <td>406</td>\n",
       "      <td>720</td>\n",
       "      <td>720</td>\n",
       "      <td>622</td>\n",
       "      <td>622</td>\n",
       "      <td>720</td>\n",
       "    </tr>\n",
       "    <tr>\n",
       "      <th>107</th>\n",
       "      <td>INMET_CO_MT_A942_SAO JOSE DO XINGU_01012020_A_...</td>\n",
       "      <td>31</td>\n",
       "      <td>0</td>\n",
       "      <td>0</td>\n",
       "      <td>0</td>\n",
       "      <td>0</td>\n",
       "      <td>0</td>\n",
       "      <td>0</td>\n",
       "      <td>0</td>\n",
       "    </tr>\n",
       "    <tr>\n",
       "      <th>108</th>\n",
       "      <td>INMET_CO_MT_A943_SERRA NOVA DOURADA_01012020_A...</td>\n",
       "      <td>50</td>\n",
       "      <td>0</td>\n",
       "      <td>0</td>\n",
       "      <td>0</td>\n",
       "      <td>0</td>\n",
       "      <td>0</td>\n",
       "      <td>0</td>\n",
       "      <td>0</td>\n",
       "    </tr>\n",
       "    <tr>\n",
       "      <th>109</th>\n",
       "      <td>INMET_CO_MT_A944_ROSARIO OESTE_01012020_A_3112...</td>\n",
       "      <td>8164</td>\n",
       "      <td>0</td>\n",
       "      <td>0</td>\n",
       "      <td>0</td>\n",
       "      <td>0</td>\n",
       "      <td>0</td>\n",
       "      <td>0</td>\n",
       "      <td>0</td>\n",
       "    </tr>\n",
       "  </tbody>\n",
       "</table>\n",
       "<p>110 rows × 9 columns</p>\n",
       "</div>"
      ],
      "text/plain": [
       "                                             NAME_FILE  DATA  PRECIPITACAO  \\\n",
       "0    INMET_CO_DF_A042_BRAZLANDIA_01012020_A_3112202...   179             0   \n",
       "1    INMET_CO_DF_A045_AGUAS EMENDADAS_01012020_A_31...   176             0   \n",
       "2    INMET_CO_DF_A046_GAMA (PONTE ALTA)_01012020_A_...    63             0   \n",
       "3    INMET_CO_DF_A047_PARANOA (COOPADF)_01012020_A_...   176             0   \n",
       "4     INMET_CO_GO_A002_GOIANIA_01012020_A_31122020.CSV   107             0   \n",
       "..                                                 ...   ...           ...   \n",
       "105  INMET_CO_MT_A937_PONTES E LACERDA_01012020_A_3...   131             0   \n",
       "106   INMET_CO_MT_A941_CACERES_01012020_A_31122020.CSV   721             0   \n",
       "107  INMET_CO_MT_A942_SAO JOSE DO XINGU_01012020_A_...    31             0   \n",
       "108  INMET_CO_MT_A943_SERRA NOVA DOURADA_01012020_A...    50             0   \n",
       "109  INMET_CO_MT_A944_ROSARIO OESTE_01012020_A_3112...  8164             0   \n",
       "\n",
       "     RADIACAO_GLOBAL  TEMPERATURA_MAX  TEMPERATURA_MIN  UMIDADE_MAX  \\\n",
       "0                  0                0                0            0   \n",
       "1                  1                2                2            2   \n",
       "2                  0                0                0            0   \n",
       "3                  0                0                0            0   \n",
       "4                 40               71               71           71   \n",
       "..               ...              ...              ...          ...   \n",
       "105                0                0                0            0   \n",
       "106              406              720              720          622   \n",
       "107                0                0                0            0   \n",
       "108                0                0                0            0   \n",
       "109                0                0                0            0   \n",
       "\n",
       "     UMIDADE_MIN  VENTO_VELOCIDADE  \n",
       "0              0                 0  \n",
       "1              2                 1  \n",
       "2              0                 0  \n",
       "3              0                 0  \n",
       "4             71                71  \n",
       "..           ...               ...  \n",
       "105            0                 0  \n",
       "106          622               720  \n",
       "107            0                 0  \n",
       "108            0                 0  \n",
       "109            0                 0  \n",
       "\n",
       "[110 rows x 9 columns]"
      ]
     },
     "execution_count": 14,
     "metadata": {},
     "output_type": "execute_result"
    }
   ],
   "source": [
    "dadosFull[dadosFull['PRECIPITACAO'].isnull()].groupby(['NAME_FILE'],as_index=False).count()"
   ]
  },
  {
   "cell_type": "code",
   "execution_count": 15,
   "id": "3045e112",
   "metadata": {},
   "outputs": [
    {
     "name": "stdout",
     "output_type": "stream",
     "text": [
      "                                             NAME_FILE  PRECIPITACAO\n",
      "0    INMET_CO_DF_A001_BRASILIA_01012020_A_31122020.CSV        1576.6\n",
      "1    INMET_CO_DF_A042_BRAZLANDIA_01012020_A_3112202...        2091.6\n",
      "2    INMET_CO_DF_A045_AGUAS EMENDADAS_01012020_A_31...        1575.6\n",
      "3    INMET_CO_DF_A046_GAMA (PONTE ALTA)_01012020_A_...        1951.2\n",
      "4    INMET_CO_DF_A047_PARANOA (COOPADF)_01012020_A_...        2180.8\n",
      "..                                                 ...           ...\n",
      "109  INMET_CO_MT_A937_PONTES E LACERDA_01012020_A_3...         893.8\n",
      "110   INMET_CO_MT_A941_CACERES_01012020_A_31122020.CSV         830.6\n",
      "111  INMET_CO_MT_A942_SAO JOSE DO XINGU_01012020_A_...        1513.2\n",
      "112  INMET_CO_MT_A943_SERRA NOVA DOURADA_01012020_A...        1749.4\n",
      "113  INMET_CO_MT_A944_ROSARIO OESTE_01012020_A_3112...         236.4\n",
      "\n",
      "[114 rows x 2 columns]\n"
     ]
    }
   ],
   "source": [
    "print(dadosFull.groupby(['NAME_FILE'],as_index=False).agg({'PRECIPITACAO':'sum'}))"
   ]
  },
  {
   "cell_type": "code",
   "execution_count": 8,
   "id": "b4d3d132",
   "metadata": {},
   "outputs": [
    {
     "name": "stdout",
     "output_type": "stream",
     "text": [
      "2871561\n"
     ]
    }
   ],
   "source": []
  },
  {
   "cell_type": "code",
   "execution_count": 75,
   "id": "22daef53",
   "metadata": {},
   "outputs": [
    {
     "data": {
      "image/png": "[encoded data removed]",
      "text/plain": [
       "<Figure size 576x576 with 1 Axes>"
      ]
     },
     "metadata": {},
     "output_type": "display_data"
    }
   ],
   "source": [
    "dados = dadosFull.isnull().sum(); \n",
    "# matplotlib-exemplo-41\n",
    "# grafico de pizza\n",
    "datax = np.array([dados.PRECIPITACAO, dados.RADIACAO_GLOBAL, dados.TEMPERATURA_MAX, dados.TEMPERATURA_MIN, dados.UMIDADE_MAX, dados.UMIDADE_MIN, dados.VENTO_VELOCIDADE])\n",
    "labels = [ 'PRECIPITACAO', 'RADIACAO_GLOBAL', 'TEMPERATURA_MAX', 'TEMPERATURA_MIN','UMIDADE_MAX', 'UMIDADE_MIN', 'VENTO_VELOCIDADE']\n",
    "explode = ( 0, 0, 0, 0, 0, 0, 0)\n",
    "colrs=['cyan', 'tan', 'wheat','cyan', 'tan', 'wheat','cyan']\n",
    "# graficos\n",
    "fig, ax = plt.subplots(figsize=(8, 8))\n",
    "ax.pie(datax, explode=explode, labels=labels, autopct='%1.1f%%',startangle=270)\n",
    "ax.axis('equal') # mantenha um circulo\n",
    "fig.suptitle(\"% De valores nulos\");\n",
    "#fig.savefig('data/pizza.png', dpi=125)\n",
    " \n"
   ]
  },
  {
   "cell_type": "code",
   "execution_count": 6,
   "id": "4ee94e78",
   "metadata": {},
   "outputs": [
    {
     "data": {
      "image/png": "[encoded data removed]",
      "text/plain": [
       "<Figure size 432x288 with 1 Axes>"
      ]
     },
     "metadata": {},
     "output_type": "display_data"
    }
   ],
   "source": [
    "estacoesConvencionais = pd.read_csv(\"datasets/CatalogoEstacoesConvencionais.csv\",\";\");  \n",
    "estacoesAutomaticas   = pd.read_csv(\"datasets/CatalogoEstacoesAutomáticas.csv\",\";\");  \n",
    "\n",
    "estacoes_Conv_G = estacoesConvencionais.groupby(['SG_ESTADO'],as_index=False).agg({'DT_INICIO_OPERACAO':'count'});\n",
    "estacoes_Auto_G = estacoesAutomaticas.groupby(['SG_ESTADO'],as_index=False).agg({'DT_INICIO_OPERACAO':'count'});\n",
    "\n",
    "plt.style.use('seaborn-white')\n",
    "x3 = np.array(estacoes_Conv_G.SG_ESTADO)\n",
    "y3 = np.array(estacoes_Conv_G.DT_INICIO_OPERACAO )\n",
    "plt.bar(x3,y3)\n",
    "plt.show() # Try commenting this an run\n",
    "#plt.scatter(x3,y3) # scatter plot\n",
    "#plt.show()"
   ]
  },
  {
   "cell_type": "code",
   "execution_count": 7,
   "id": "1379099d",
   "metadata": {},
   "outputs": [],
   "source": [
    "estacoesConvencionais = pd.read_csv(\"datasets/CatalogoEstacoesConvencionais.csv\",\";\");  \n",
    "estacoesAutomaticas   = pd.read_csv(\"datasets/CatalogoEstacoesAutomáticas.csv\",\";\");  \n",
    "\n",
    "\n",
    "#print(estacaosConvencionais.groupby(['SG_ESTADO'],as_index=False).agg({'DT_INICIO_OPERACAO':'count'}))\n",
    "#print(dadosFull.groupby(['NAME_FILE'],as_index=False).agg({'PRECIPITACAO':'sum'}))\n",
    " "
   ]
  },
  {
   "cell_type": "code",
   "execution_count": null,
   "id": "d39ce10b",
   "metadata": {},
   "outputs": [],
   "source": []
  }
 ],
 "metadata": {
  "kernelspec": {
   "display_name": "Python 3",
   "language": "python",
   "name": "python3"
  },
  "language_info": {
   "codemirror_mode": {
    "name": "ipython",
    "version": 3
   },
   "file_extension": ".py",
   "mimetype": "text/x-python",
   "name": "python",
   "nbconvert_exporter": "python",
   "pygments_lexer": "ipython3",
   "version": "3.10.6"
  }
 },
 "nbformat": 4,
 "nbformat_minor": 5
}
