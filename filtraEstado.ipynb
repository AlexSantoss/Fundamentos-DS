{
 "cells": [
  {
   "cell_type": "code",
   "execution_count": 1,
   "id": "03285592",
   "metadata": {},
   "outputs": [],
   "source": [
    "import os"
   ]
  },
  {
   "cell_type": "code",
   "execution_count": 18,
   "id": "c4d11b67",
   "metadata": {},
   "outputs": [
    {
     "name": "stdout",
     "output_type": "stream",
     "text": [
      "INMET_N_TO_A009_PALMAS_01-01-2018_A_31-12-2018.CSV\n",
      "INMET_N_TO_A010_PARANA_01-01-2018_A_31-12-2018.CSV\n",
      "INMET_N_TO_A018_PEIXE_01-01-2018_A_31-12-2018.CSV\n",
      "INMET_N_TO_A019_GURUPI_01-01-2018_A_31-12-2018.CSV\n",
      "INMET_N_TO_A020_PEDRO AFONSO_01-01-2018_A_31-12-2018.CSV\n",
      "INMET_N_TO_A021_ARAGUAINA_01-01-2018_A_31-12-2018.CSV\n",
      "INMET_N_TO_A038_DIANOPOLIS_01-01-2018_A_31-12-2018.CSV\n",
      "INMET_N_TO_A039_FORMOSO DO ARAGUAIA_01-01-2018_A_31-12-2018.CSV\n",
      "INMET_N_TO_A040_MATEIROS_01-01-2018_A_31-12-2018.CSV\n",
      "INMET_N_TO_A041_MARIANOPOLIS DO TO_01-01-2018_A_31-12-2018.CSV\n",
      "INMET_N_TO_A043_CAMPOS LINDOS_01-01-2018_A_31-12-2018.CSV\n",
      "INMET_N_TO_A044_ARAGUATINS_01-01-2018_A_31-12-2018.CSV\n",
      "INMET_N_TO_A048_SANTA FE DO ARAGUAIA_01-01-2018_A_31-12-2018.CSV\n",
      "INMET_N_TO_A049_COLINAS DO TOCANTINS_01-01-2018_A_31-12-2018.CSV\n",
      "INMET_N_TO_A050_RIO SONO_01-01-2018_A_31-12-2018.CSV\n",
      "INMET_N_TO_A051_PIUM_01-01-2018_A_31-12-2018.CSV\n",
      "INMET_N_TO_A052_SANTA ROSA DO TOCANTINS_01-01-2018_A_31-12-2018.CSV\n",
      "INMET_N_TO_A053_ALMAS_01-01-2018_A_31-12-2018.CSV\n",
      "INMET_N_TO_A054_ARAGUACU_01-01-2018_A_31-12-2018.CSV\n",
      "INMET_N_TO_A055_LAGOA DA CONFUSAO_01-01-2018_A_31-12-2018.CSV\n",
      "INMET_SE_ES_A612_VITORIA_01-01-2018_A_31-12-2018.CSV\n",
      "INMET_SE_ES_A613_SANTA TERESA_01-01-2018_A_31-12-2018.CSV\n",
      "INMET_SE_ES_A614_LINHARES_01-01-2018_A_31-12-2018.CSV\n",
      "INMET_SE_ES_A615_ALFREDO CHAVES_01-01-2018_A_31-12-2018.CSV\n",
      "INMET_SE_ES_A616_SAO MATEUS_01-01-2018_A_31-12-2018.CSV\n",
      "INMET_SE_ES_A617_ALEGRE_01-01-2018_A_31-12-2018.CSV\n",
      "INMET_SE_ES_A622_PRES. KENNEDY_01-01-2018_A_31-12-2018.CSV\n",
      "INMET_SE_ES_A623_NOVA VENECIA_01-01-2018_A_31-12-2018.CSV\n",
      "INMET_SE_ES_A631_ECOPORANGA_01-01-2018_A_31-12-2018.CSV\n",
      "INMET_SE_ES_A632_MARILANDIA_01-01-2018_A_31-12-2018.CSV\n",
      "INMET_SE_ES_A633_VENDA NOVA DO IMIGRANTE_01-01-2018_A_31-12-2018.CSV\n",
      "INMET_SE_ES_A634_VILA VELHA_01-01-2018_A_31-12-2018.CSV\n",
      "INMET_SE_ES_A657_AFONSO CLAUDIO_01-01-2018_A_31-12-2018.CSV\n"
     ]
    }
   ],
   "source": [
    "pastaDestino = \"C:\\\\Users\\\\renan\\Desktop\\\\2018\\\\2018filtrado\"\n",
    "\n",
    "for f in os.listdir():\n",
    "    if(f.__contains__(\"INMET_CO_MS\") or f.__contains__(\"INMET_S_PR\")):\n",
    "        os.rename(f, pastaDestino + \"\\\\\" + f)"
   ]
  }
 ],
 "metadata": {
  "kernelspec": {
   "display_name": "Python 3 (ipykernel)",
   "language": "python",
   "name": "python3"
  },
  "language_info": {
   "codemirror_mode": {
    "name": "ipython",
    "version": 3
   },
   "file_extension": ".py",
   "mimetype": "text/x-python",
   "name": "python",
   "nbconvert_exporter": "python",
   "pygments_lexer": "ipython3",
   "version": "3.9.7"
  }
 },
 "nbformat": 4,
 "nbformat_minor": 5
}
