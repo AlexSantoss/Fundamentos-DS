{
 "cells": [
  {
   "cell_type": "code",
   "execution_count": 88,
   "id": "2ee9dbe8",
   "metadata": {},
   "outputs": [],
   "source": [
    "import pandas as pd\n",
    "import numpy as np\n",
    "import re\n",
    "from itertools import groupby\n",
    "from os import listdir, path\n",
    "import matplotlib.pyplot as plt\n",
    "from matplotlib.pyplot import figure\n",
    "import calendar"
   ]
  },
  {
   "cell_type": "code",
   "execution_count": 41,
   "id": "97a9e680",
   "metadata": {},
   "outputs": [],
   "source": [
    "#definicões de variáveis\n",
    "path_inmet = 'datasets/inmet' #caminho para os arquivos do inmet\n",
    "path_output = 'datasets/agregados' #caminho para onde deseja que as planilhas por estação sejam inseridas\n",
    "padronizar_dados = False #defina true se deseja que a padronização seja feita (precisa dos arquivos do inmet)"
   ]
  },
  {
   "cell_type": "code",
   "execution_count": 43,
   "id": "c7b1faa0",
   "metadata": {},
   "outputs": [],
   "source": [
    "## Conjunto de funções para unificar e padronizar os datasets\n",
    "colunas_importantes = [0, 1, 2, 3, 4, 5, 6, 9, 10, 13, 14, 18]\n",
    "index_metadados = ['REGIÃO', 'UF', 'ESTAÇÃO', 'CODIGO (WMO)', 'LATITUDE', 'LONGITUDE', 'ALTITUDE', 'DATA DE FUNDAÇÃO']\n",
    "\n",
    " #troca / por - e adiciona o 20 na frente\n",
    "def formata_data(dt):\n",
    "    if '/' not in dt: return dt\n",
    "    d, m, a = dt.split('/')\n",
    "    return f'20{a}-{m}-{d}'\n",
    "\n",
    "\n",
    "#troca / por - e remove 'UTC' das strings de hora\n",
    "def formata_data_hora(mi):\n",
    "    data, hora = mi[0].replace('/', '-'), mi[1].replace(' UTC', '')\n",
    "    if len(hora) == 4:  hora = hora[:2] + ':' + hora[2:]\n",
    "    return data, hora\n",
    "\n",
    "\n",
    "#faz a leitura de cada arquivo e concatena\n",
    "def concat_years(code, file_list, output_dir):\n",
    "    lla_data = [] #geographic data\n",
    "    sensor_data = [] #sensor data\n",
    "    for file in file_list:\n",
    "        #leitura dos sensores\n",
    "        df = pd.read_csv(file, skiprows=8, encoding='latin_1', sep=';', decimal=',', usecols=colunas_importantes, index_col=[0, 1], na_values=[-9999])\n",
    "        df = df.rename_axis(['Data', 'Hora']).rename(columns={ df.columns[4]: 'RADIACAO GLOBAL (KJ/m²)'})\n",
    "        sensor_data.append(df)\n",
    "        \n",
    "        #leitura dos dados geograficos\n",
    "        md = pd.read_csv(file, encoding='latin_1', sep=';', decimal=',', skiprows=4, nrows=3, header=None, usecols=[1], na_values=['F'], names=[df.index[0][0][:4]])\n",
    "        lla_data.append(md)\n",
    "    \n",
    "    #concatena os dados geograficos\n",
    "    md = pd.concat(lla_data, axis=1, copy=False)\n",
    "    md.index = ['LATITUDE', 'LONGITUDE', 'ALTITUDE']\n",
    "    \n",
    "    #concatena, arruma os index e escreve os dados para um arquivo\n",
    "    df = pd.concat(sensor_data, copy=False).replace(-9999, np.nan)\n",
    "    df.index = df.index.map(formata_data_hora)\n",
    "    \n",
    "    #salva todas as leituras em um arquivo por sensor\n",
    "    last = '_'.join(file_list[-1].split('_')[1:5])\n",
    "    path = f'{output_dir}/{last}.csv'\n",
    "    md.to_csv(path, sep=';')\n",
    "    df.sort_index().to_csv(path, sep=';', mode='a')\n",
    "\n",
    "    \n",
    "def unify_data(inmet_dir, output_dir):\n",
    "    #salvando o nome de todas as planilhas\n",
    "    arquivos = []\n",
    "    for folder in listdir(inmet_dir):\n",
    "        c = f'{inmet_dir}/{folder}'\n",
    "        if not path.isdir(c): continue\n",
    "        if path.isdir(f'{c}/{folder}'): c = f'{c}/{folder}'\n",
    "        arquivos += [f'{c}/{a}' for a in listdir(c) if a.endswith('.CSV')]\n",
    "    \n",
    "    #para cada codigo, concatena os anos e salva os metadados\n",
    "    metadatas = []\n",
    "    search_groups = lambda s: re.search('_([A-Z][0-9]{3})_', s).group(1)\n",
    "    for k, grupo in groupby(sorted(arquivos, key=search_groups), search_groups):\n",
    "        concat_years(k, sorted(grupo), output_dir)\n",
    "        print(f'{k} OK')"
   ]
  },
  {
   "cell_type": "code",
   "execution_count": 154,
   "id": "f936e882",
   "metadata": {},
   "outputs": [],
   "source": [
    " #retorna maximos e mínimos para cada coluna em todos os arquivos\n",
    "def checking_bounds(path):\n",
    "    tabelas = {\n",
    "        'min': [], #minimo de cada coluna\n",
    "        'max': [], #maximo de cada coluna\n",
    "    }\n",
    "      \n",
    "    for file in listdir(path):\n",
    "        data = pd.read_csv(path+file, sep=';', index_col = [0, 1], skiprows=4)\n",
    "        tabelas['min'].append(data.min().rename(file[:-4]))\n",
    "        tabelas['max'].append(data.max().rename(file[:-4]))\n",
    "    \n",
    "    for k, v in tabelas.items():\n",
    "        df = pd.DataFrame(v)\n",
    "        df.columns = [f'{k.upper()} - {c}' for c in df.columns]\n",
    "        tabelas[k] = df\n",
    "        \n",
    "    colunas = [v.columns for k, v in tabelas.items()]\n",
    "    colunas = [j for i in zip(*colunas) for j in i]\n",
    "    return pd.concat(tabelas.values(), axis=1).reindex(columns=colunas).sort_index()\n",
    "\n",
    "###dados.apply(lambda x: x.groupby(x.notna().cumsum()).cumcount().max()).rename(local)"
   ]
  },
  {
   "cell_type": "code",
   "execution_count": 134,
   "id": "4d8ed4ac",
   "metadata": {},
   "outputs": [],
   "source": [
    "#retorna os dias marcados com True se estavam off ou False caso contrário\n",
    "def days_off(file):\n",
    "    data = pd.read_csv(file, sep=';', index_col = [0, 1], skiprows=4) \\\n",
    "                        .isna().apply(lambda row: all(row), axis = 1) \\\n",
    "                        .groupby(level=0).apply(lambda group: sum(group) == 24)\n",
    "    data.name = file[:-4].split('/')[-1]\n",
    "    return data\n",
    "\n",
    "\n",
    "# retorna porcentagem de dias que a estação ficou off no ano\n",
    "def percentage_off_per_year(path):\n",
    "    stations = pd.concat([days_off(path+file) for file in listdir(path)], axis=1)\n",
    "    return stations.groupby(lambda x: x.split('-')[0] ).apply(lambda x: x.sum(min_count=1)/ len(x) ).T.sort_index()"
   ]
  },
  {
   "cell_type": "code",
   "execution_count": 44,
   "id": "17d88886",
   "metadata": {},
   "outputs": [
    {
     "name": "stdout",
     "output_type": "stream",
     "text": [
      "A001 OK\n",
      "A002 OK\n",
      "A003 OK\n",
      "A005 OK\n",
      "A009 OK\n",
      "A010 OK\n",
      "A011 OK\n",
      "A012 OK\n",
      "A013 OK\n",
      "A014 OK\n",
      "A015 OK\n",
      "A016 OK\n",
      "A017 OK\n",
      "A018 OK\n",
      "A019 OK\n",
      "A020 OK\n",
      "A021 OK\n",
      "A022 OK\n",
      "A023 OK\n",
      "A024 OK\n",
      "A025 OK\n",
      "A026 OK\n",
      "A027 OK\n",
      "A028 OK\n",
      "A029 OK\n",
      "A031 OK\n",
      "A032 OK\n",
      "A033 OK\n",
      "A034 OK\n",
      "A035 OK\n",
      "A036 OK\n",
      "A037 OK\n",
      "A038 OK\n",
      "A039 OK\n",
      "A040 OK\n",
      "A041 OK\n",
      "A042 OK\n",
      "A043 OK\n",
      "A044 OK\n",
      "A045 OK\n",
      "A046 OK\n",
      "A047 OK\n",
      "A048 OK\n",
      "A049 OK\n",
      "A050 OK\n",
      "A051 OK\n",
      "A052 OK\n",
      "A053 OK\n",
      "A054 OK\n",
      "A055 OK\n",
      "A056 OK\n",
      "A101 OK\n",
      "A102 OK\n",
      "A104 OK\n",
      "A108 OK\n",
      "A109 OK\n",
      "A110 OK\n",
      "A111 OK\n",
      "A112 OK\n",
      "A113 OK\n",
      "A117 OK\n",
      "A119 OK\n",
      "A120 OK\n",
      "A121 OK\n",
      "A122 OK\n",
      "A123 OK\n",
      "A124 OK\n",
      "A125 OK\n",
      "A126 OK\n",
      "A128 OK\n",
      "A133 OK\n",
      "A134 OK\n",
      "A135 OK\n",
      "A136 OK\n",
      "A137 OK\n",
      "A138 OK\n",
      "A140 OK\n",
      "A144 OK\n",
      "A201 OK\n",
      "A202 OK\n",
      "A203 OK\n",
      "A204 OK\n",
      "A205 OK\n",
      "A206 OK\n",
      "A207 OK\n",
      "A209 OK\n",
      "A210 OK\n",
      "A211 OK\n",
      "A212 OK\n",
      "A213 OK\n",
      "A214 OK\n",
      "A215 OK\n",
      "A216 OK\n",
      "A217 OK\n",
      "A218 OK\n",
      "A219 OK\n",
      "A220 OK\n",
      "A221 OK\n",
      "A222 OK\n",
      "A223 OK\n",
      "A224 OK\n",
      "A225 OK\n",
      "A226 OK\n",
      "A227 OK\n",
      "A228 OK\n",
      "A229 OK\n",
      "A230 OK\n",
      "A231 OK\n",
      "A232 OK\n",
      "A233 OK\n",
      "A234 OK\n",
      "A235 OK\n",
      "A236 OK\n",
      "A237 OK\n",
      "A238 OK\n",
      "A239 OK\n",
      "A240 OK\n",
      "A241 OK\n",
      "A242 OK\n",
      "A244 OK\n",
      "A246 OK\n",
      "A247 OK\n",
      "A248 OK\n",
      "A249 OK\n",
      "A250 OK\n",
      "A251 OK\n",
      "A252 OK\n",
      "A253 OK\n",
      "A254 OK\n",
      "A255 OK\n",
      "A256 OK\n",
      "A301 OK\n",
      "A302 OK\n",
      "A303 OK\n",
      "A304 OK\n",
      "A305 OK\n",
      "A306 OK\n",
      "A307 OK\n",
      "A308 OK\n",
      "A309 OK\n",
      "A310 OK\n",
      "A311 OK\n",
      "A312 OK\n",
      "A313 OK\n",
      "A314 OK\n",
      "A315 OK\n",
      "A316 OK\n",
      "A317 OK\n",
      "A318 OK\n",
      "A319 OK\n",
      "A320 OK\n",
      "A321 OK\n",
      "A322 OK\n",
      "A323 OK\n",
      "A324 OK\n",
      "A325 OK\n",
      "A326 OK\n",
      "A327 OK\n",
      "A328 OK\n",
      "A329 OK\n",
      "A330 OK\n",
      "A331 OK\n",
      "A332 OK\n",
      "A333 OK\n",
      "A334 OK\n",
      "A335 OK\n",
      "A336 OK\n",
      "A337 OK\n",
      "A338 OK\n",
      "A339 OK\n",
      "A340 OK\n",
      "A341 OK\n",
      "A342 OK\n",
      "A343 OK\n",
      "A344 OK\n",
      "A345 OK\n",
      "A346 OK\n",
      "A347 OK\n",
      "A348 OK\n",
      "A349 OK\n",
      "A350 OK\n",
      "A351 OK\n",
      "A352 OK\n",
      "A353 OK\n",
      "A354 OK\n",
      "A355 OK\n",
      "A356 OK\n",
      "A357 OK\n",
      "A358 OK\n",
      "A359 OK\n",
      "A360 OK\n",
      "A361 OK\n",
      "A362 OK\n",
      "A363 OK\n",
      "A364 OK\n",
      "A365 OK\n",
      "A366 OK\n",
      "A367 OK\n",
      "A368 OK\n",
      "A369 OK\n",
      "A370 OK\n",
      "A371 OK\n",
      "A372 OK\n",
      "A373 OK\n",
      "A374 OK\n",
      "A375 OK\n",
      "A376 OK\n",
      "A377 OK\n",
      "A401 OK\n",
      "A402 OK\n",
      "A404 OK\n",
      "A405 OK\n",
      "A406 OK\n",
      "A407 OK\n",
      "A408 OK\n",
      "A409 OK\n",
      "A410 OK\n",
      "A412 OK\n",
      "A413 OK\n",
      "A414 OK\n",
      "A415 OK\n",
      "A416 OK\n",
      "A417 OK\n",
      "A418 OK\n",
      "A419 OK\n",
      "A420 OK\n",
      "A421 OK\n",
      "A422 OK\n",
      "A423 OK\n",
      "A424 OK\n",
      "A425 OK\n",
      "A426 OK\n",
      "A427 OK\n",
      "A428 OK\n",
      "A429 OK\n",
      "A430 OK\n",
      "A431 OK\n",
      "A432 OK\n",
      "A433 OK\n",
      "A434 OK\n",
      "A435 OK\n",
      "A436 OK\n",
      "A437 OK\n",
      "A438 OK\n",
      "A439 OK\n",
      "A440 OK\n",
      "A441 OK\n",
      "A442 OK\n",
      "A443 OK\n",
      "A444 OK\n",
      "A445 OK\n",
      "A446 OK\n",
      "A447 OK\n",
      "A448 OK\n",
      "A449 OK\n",
      "A450 OK\n",
      "A451 OK\n",
      "A452 OK\n",
      "A453 OK\n",
      "A454 OK\n",
      "A455 OK\n",
      "A456 OK\n",
      "A458 OK\n",
      "A502 OK\n",
      "A505 OK\n",
      "A506 OK\n",
      "A507 OK\n",
      "A508 OK\n",
      "A509 OK\n",
      "A510 OK\n",
      "A511 OK\n",
      "A512 OK\n",
      "A513 OK\n",
      "A514 OK\n",
      "A515 OK\n",
      "A516 OK\n",
      "A517 OK\n",
      "A518 OK\n",
      "A519 OK\n",
      "A520 OK\n",
      "A521 OK\n",
      "A522 OK\n",
      "A523 OK\n",
      "A524 OK\n",
      "A525 OK\n",
      "A526 OK\n",
      "A527 OK\n",
      "A528 OK\n",
      "A529 OK\n",
      "A530 OK\n",
      "A531 OK\n",
      "A532 OK\n",
      "A533 OK\n",
      "A534 OK\n",
      "A535 OK\n",
      "A536 OK\n",
      "A537 OK\n",
      "A538 OK\n",
      "A539 OK\n",
      "A540 OK\n",
      "A541 OK\n",
      "A542 OK\n",
      "A543 OK\n",
      "A544 OK\n",
      "A545 OK\n",
      "A546 OK\n",
      "A547 OK\n",
      "A548 OK\n",
      "A549 OK\n",
      "A550 OK\n",
      "A551 OK\n",
      "A552 OK\n",
      "A553 OK\n",
      "A554 OK\n",
      "A555 OK\n",
      "A556 OK\n",
      "A557 OK\n",
      "A559 OK\n",
      "A560 OK\n",
      "A561 OK\n",
      "A562 OK\n",
      "A563 OK\n",
      "A564 OK\n",
      "A565 OK\n",
      "A566 OK\n",
      "A567 OK\n",
      "A568 OK\n",
      "A569 OK\n",
      "A570 OK\n",
      "A571 OK\n",
      "A601 OK\n",
      "A602 OK\n",
      "A603 OK\n",
      "A604 OK\n",
      "A606 OK\n",
      "A607 OK\n",
      "A608 OK\n",
      "A609 OK\n",
      "A610 OK\n",
      "A611 OK\n",
      "A612 OK\n",
      "A613 OK\n",
      "A614 OK\n",
      "A615 OK\n",
      "A616 OK\n",
      "A617 OK\n",
      "A618 OK\n",
      "A619 OK\n",
      "A620 OK\n",
      "A621 OK\n",
      "A622 OK\n",
      "A623 OK\n",
      "A624 OK\n",
      "A625 OK\n",
      "A626 OK\n",
      "A627 OK\n",
      "A628 OK\n",
      "A629 OK\n",
      "A630 OK\n",
      "A631 OK\n",
      "A632 OK\n",
      "A633 OK\n",
      "A634 OK\n",
      "A635 OK\n",
      "A636 OK\n",
      "A652 OK\n",
      "A657 OK\n",
      "A659 OK\n",
      "A667 OK\n",
      "A701 OK\n",
      "A702 OK\n",
      "A703 OK\n",
      "A704 OK\n",
      "A705 OK\n",
      "A706 OK\n",
      "A707 OK\n",
      "A708 OK\n",
      "A709 OK\n",
      "A710 OK\n",
      "A711 OK\n",
      "A712 OK\n",
      "A713 OK\n",
      "A714 OK\n",
      "A715 OK\n",
      "A716 OK\n",
      "A717 OK\n",
      "A718 OK\n",
      "A719 OK\n",
      "A720 OK\n",
      "A721 OK\n",
      "A722 OK\n",
      "A723 OK\n",
      "A724 OK\n",
      "A725 OK\n",
      "A726 OK\n",
      "A727 OK\n",
      "A728 OK\n",
      "A729 OK\n",
      "A730 OK\n",
      "A731 OK\n",
      "A732 OK\n",
      "A733 OK\n",
      "A734 OK\n",
      "A735 OK\n",
      "A736 OK\n",
      "A737 OK\n",
      "A738 OK\n",
      "A739 OK\n",
      "A740 OK\n",
      "A741 OK\n",
      "A742 OK\n",
      "A743 OK\n",
      "A744 OK\n",
      "A746 OK\n",
      "A747 OK\n",
      "A748 OK\n",
      "A749 OK\n",
      "A750 OK\n",
      "A751 OK\n",
      "A752 OK\n",
      "A753 OK\n",
      "A754 OK\n",
      "A755 OK\n",
      "A756 OK\n",
      "A757 OK\n",
      "A758 OK\n",
      "A759 OK\n",
      "A760 OK\n",
      "A761 OK\n",
      "A762 OK\n",
      "A763 OK\n",
      "A764 OK\n",
      "A765 OK\n",
      "A766 OK\n",
      "A767 OK\n",
      "A768 OK\n",
      "A769 OK\n",
      "A770 OK\n",
      "A771 OK\n",
      "A801 OK\n",
      "A802 OK\n",
      "A803 OK\n",
      "A804 OK\n",
      "A805 OK\n",
      "A806 OK\n",
      "A807 OK\n",
      "A808 OK\n",
      "A809 OK\n",
      "A810 OK\n",
      "A811 OK\n",
      "A812 OK\n",
      "A813 OK\n",
      "A814 OK\n",
      "A815 OK\n",
      "A816 OK\n",
      "A817 OK\n",
      "A818 OK\n",
      "A819 OK\n",
      "A820 OK\n",
      "A821 OK\n",
      "A822 OK\n",
      "A823 OK\n",
      "A824 OK\n",
      "A825 OK\n",
      "A826 OK\n",
      "A827 OK\n",
      "A828 OK\n",
      "A829 OK\n",
      "A830 OK\n",
      "A831 OK\n",
      "A832 OK\n",
      "A833 OK\n",
      "A834 OK\n",
      "A835 OK\n",
      "A836 OK\n",
      "A837 OK\n",
      "A838 OK\n",
      "A839 OK\n",
      "A840 OK\n",
      "A841 OK\n",
      "A842 OK\n",
      "A843 OK\n",
      "A844 OK\n",
      "A845 OK\n",
      "A846 OK\n",
      "A847 OK\n",
      "A848 OK\n",
      "A849 OK\n",
      "A850 OK\n",
      "A851 OK\n",
      "A852 OK\n",
      "A853 OK\n",
      "A854 OK\n",
      "A855 OK\n",
      "A856 OK\n",
      "A857 OK\n",
      "A858 OK\n",
      "A859 OK\n",
      "A860 OK\n",
      "A861 OK\n",
      "A862 OK\n",
      "A863 OK\n",
      "A864 OK\n",
      "A865 OK\n",
      "A866 OK\n",
      "A867 OK\n",
      "A868 OK\n",
      "A869 OK\n",
      "A870 OK\n",
      "A871 OK\n",
      "A872 OK\n",
      "A873 OK\n",
      "A874 OK\n",
      "A875 OK\n",
      "A876 OK\n",
      "A878 OK\n",
      "A879 OK\n",
      "A880 OK\n",
      "A881 OK\n",
      "A882 OK\n",
      "A883 OK\n",
      "A884 OK\n",
      "A886 OK\n",
      "A887 OK\n",
      "A889 OK\n",
      "A893 OK\n",
      "A894 OK\n",
      "A895 OK\n",
      "A897 OK\n",
      "A898 OK\n",
      "A899 OK\n",
      "A901 OK\n",
      "A902 OK\n",
      "A903 OK\n",
      "A904 OK\n",
      "A905 OK\n",
      "A906 OK\n",
      "A907 OK\n",
      "A908 OK\n",
      "A909 OK\n",
      "A910 OK\n",
      "A911 OK\n",
      "A912 OK\n",
      "A913 OK\n",
      "A914 OK\n",
      "A915 OK\n",
      "A916 OK\n",
      "A917 OK\n",
      "A919 OK\n",
      "A920 OK\n",
      "A921 OK\n",
      "A922 OK\n",
      "A923 OK\n",
      "A924 OK\n",
      "A925 OK\n",
      "A926 OK\n",
      "A927 OK\n",
      "A928 OK\n",
      "A929 OK\n",
      "A930 OK\n",
      "A931 OK\n",
      "A932 OK\n",
      "A933 OK\n",
      "A934 OK\n",
      "A935 OK\n",
      "A936 OK\n",
      "A937 OK\n",
      "A938 OK\n",
      "A939 OK\n",
      "A940 OK\n",
      "A941 OK\n",
      "A942 OK\n",
      "A943 OK\n",
      "A944 OK\n",
      "B803 OK\n",
      "B804 OK\n",
      "B806 OK\n",
      "C891 OK\n",
      "F501 OK\n",
      "S101 OK\n",
      "S102 OK\n",
      "S103 OK\n",
      "S104 OK\n",
      "S105 OK\n",
      "S107 OK\n",
      "S108 OK\n",
      "S110 OK\n",
      "S111 OK\n",
      "S113 OK\n",
      "S114 OK\n",
      "S115 OK\n",
      "S116 OK\n",
      "S117 OK\n",
      "S120 OK\n",
      "S121 OK\n",
      "S122 OK\n",
      "S701 OK\n",
      "S702 OK\n",
      "S703 OK\n",
      "S704 OK\n",
      "S705 OK\n",
      "S706 OK\n",
      "S707 OK\n",
      "S708 OK\n",
      "S709 OK\n",
      "S710 OK\n",
      "S711 OK\n",
      "S712 OK\n",
      "S713 OK\n",
      "S714 OK\n",
      "S715 OK\n",
      "S716 OK\n",
      "S717 OK\n"
     ]
    }
   ],
   "source": [
    "if padronizar_dados:\n",
    "    unify_data(path_inmet, path_output)"
   ]
  },
  {
   "cell_type": "code",
   "execution_count": 155,
   "id": "2f9634ca",
   "metadata": {},
   "outputs": [
    {
     "data": {
      "text/html": [
       "<div>\n",
       "<style scoped>\n",
       "    .dataframe tbody tr th:only-of-type {\n",
       "        vertical-align: middle;\n",
       "    }\n",
       "\n",
       "    .dataframe tbody tr th {\n",
       "        vertical-align: top;\n",
       "    }\n",
       "\n",
       "    .dataframe thead th {\n",
       "        text-align: right;\n",
       "    }\n",
       "</style>\n",
       "<table border=\"1\" class=\"dataframe\">\n",
       "  <thead>\n",
       "    <tr style=\"text-align: right;\">\n",
       "      <th></th>\n",
       "      <th>MIN - PRECIPITAÇÃO TOTAL, HORÁRIO (mm)</th>\n",
       "      <th>MAX - PRECIPITAÇÃO TOTAL, HORÁRIO (mm)</th>\n",
       "      <th>MIN - PRESSAO ATMOSFERICA AO NIVEL DA ESTACAO, HORARIA (mB)</th>\n",
       "      <th>MAX - PRESSAO ATMOSFERICA AO NIVEL DA ESTACAO, HORARIA (mB)</th>\n",
       "      <th>MIN - PRESSÃO ATMOSFERICA MAX.NA HORA ANT. (AUT) (mB)</th>\n",
       "      <th>MAX - PRESSÃO ATMOSFERICA MAX.NA HORA ANT. (AUT) (mB)</th>\n",
       "      <th>MIN - PRESSÃO ATMOSFERICA MIN. NA HORA ANT. (AUT) (mB)</th>\n",
       "      <th>MAX - PRESSÃO ATMOSFERICA MIN. NA HORA ANT. (AUT) (mB)</th>\n",
       "      <th>MIN - RADIACAO GLOBAL (KJ/m²)</th>\n",
       "      <th>MAX - RADIACAO GLOBAL (KJ/m²)</th>\n",
       "      <th>MIN - TEMPERATURA MÁXIMA NA HORA ANT. (AUT) (°C)</th>\n",
       "      <th>MAX - TEMPERATURA MÁXIMA NA HORA ANT. (AUT) (°C)</th>\n",
       "      <th>MIN - TEMPERATURA MÍNIMA NA HORA ANT. (AUT) (°C)</th>\n",
       "      <th>MAX - TEMPERATURA MÍNIMA NA HORA ANT. (AUT) (°C)</th>\n",
       "      <th>MIN - UMIDADE REL. MAX. NA HORA ANT. (AUT) (%)</th>\n",
       "      <th>MAX - UMIDADE REL. MAX. NA HORA ANT. (AUT) (%)</th>\n",
       "      <th>MIN - UMIDADE REL. MIN. NA HORA ANT. (AUT) (%)</th>\n",
       "      <th>MAX - UMIDADE REL. MIN. NA HORA ANT. (AUT) (%)</th>\n",
       "      <th>MIN - VENTO, VELOCIDADE HORARIA (m/s)</th>\n",
       "      <th>MAX - VENTO, VELOCIDADE HORARIA (m/s)</th>\n",
       "    </tr>\n",
       "  </thead>\n",
       "  <tbody>\n",
       "    <tr>\n",
       "      <th>CO_DF_A001_BRASILIA</th>\n",
       "      <td>0.0</td>\n",
       "      <td>70.8</td>\n",
       "      <td>863.4</td>\n",
       "      <td>1023.5</td>\n",
       "      <td>865.3</td>\n",
       "      <td>1008.1</td>\n",
       "      <td>862.8</td>\n",
       "      <td>1007.7</td>\n",
       "      <td>0.0</td>\n",
       "      <td>43969.0</td>\n",
       "      <td>8.6</td>\n",
       "      <td>36.5</td>\n",
       "      <td>7.6</td>\n",
       "      <td>34.4</td>\n",
       "      <td>11.0</td>\n",
       "      <td>100.0</td>\n",
       "      <td>10.0</td>\n",
       "      <td>100.0</td>\n",
       "      <td>0.0</td>\n",
       "      <td>10.4</td>\n",
       "    </tr>\n",
       "    <tr>\n",
       "      <th>CO_DF_A042_BRAZLANDIA</th>\n",
       "      <td>0.0</td>\n",
       "      <td>96.0</td>\n",
       "      <td>880.3</td>\n",
       "      <td>897.5</td>\n",
       "      <td>880.8</td>\n",
       "      <td>897.6</td>\n",
       "      <td>880.3</td>\n",
       "      <td>897.3</td>\n",
       "      <td>0.0</td>\n",
       "      <td>4602.3</td>\n",
       "      <td>8.6</td>\n",
       "      <td>36.0</td>\n",
       "      <td>7.9</td>\n",
       "      <td>34.3</td>\n",
       "      <td>12.0</td>\n",
       "      <td>98.0</td>\n",
       "      <td>10.0</td>\n",
       "      <td>98.0</td>\n",
       "      <td>0.0</td>\n",
       "      <td>9.7</td>\n",
       "    </tr>\n",
       "    <tr>\n",
       "      <th>CO_DF_A045_AGUAS EMENDADAS</th>\n",
       "      <td>0.0</td>\n",
       "      <td>68.8</td>\n",
       "      <td>889.4</td>\n",
       "      <td>910.4</td>\n",
       "      <td>889.7</td>\n",
       "      <td>910.5</td>\n",
       "      <td>889.4</td>\n",
       "      <td>910.4</td>\n",
       "      <td>0.0</td>\n",
       "      <td>4446.3</td>\n",
       "      <td>5.9</td>\n",
       "      <td>37.8</td>\n",
       "      <td>5.2</td>\n",
       "      <td>35.7</td>\n",
       "      <td>10.0</td>\n",
       "      <td>100.0</td>\n",
       "      <td>9.0</td>\n",
       "      <td>100.0</td>\n",
       "      <td>0.1</td>\n",
       "      <td>8.0</td>\n",
       "    </tr>\n",
       "    <tr>\n",
       "      <th>CO_DF_A046_GAMA (PONTE ALTA)</th>\n",
       "      <td>0.0</td>\n",
       "      <td>55.2</td>\n",
       "      <td>896.2</td>\n",
       "      <td>914.7</td>\n",
       "      <td>896.6</td>\n",
       "      <td>914.8</td>\n",
       "      <td>896.1</td>\n",
       "      <td>914.5</td>\n",
       "      <td>0.0</td>\n",
       "      <td>4293.2</td>\n",
       "      <td>6.4</td>\n",
       "      <td>37.3</td>\n",
       "      <td>4.9</td>\n",
       "      <td>35.7</td>\n",
       "      <td>10.0</td>\n",
       "      <td>96.0</td>\n",
       "      <td>8.0</td>\n",
       "      <td>96.0</td>\n",
       "      <td>0.0</td>\n",
       "      <td>12.7</td>\n",
       "    </tr>\n",
       "    <tr>\n",
       "      <th>CO_DF_A047_PARANOA (COOPA-DF)</th>\n",
       "      <td>0.0</td>\n",
       "      <td>70.2</td>\n",
       "      <td>890.9</td>\n",
       "      <td>908.9</td>\n",
       "      <td>890.9</td>\n",
       "      <td>909.0</td>\n",
       "      <td>890.5</td>\n",
       "      <td>908.7</td>\n",
       "      <td>0.0</td>\n",
       "      <td>4292.9</td>\n",
       "      <td>8.1</td>\n",
       "      <td>37.1</td>\n",
       "      <td>7.6</td>\n",
       "      <td>35.3</td>\n",
       "      <td>13.0</td>\n",
       "      <td>100.0</td>\n",
       "      <td>10.0</td>\n",
       "      <td>100.0</td>\n",
       "      <td>0.1</td>\n",
       "      <td>9.0</td>\n",
       "    </tr>\n",
       "    <tr>\n",
       "      <th>...</th>\n",
       "      <td>...</td>\n",
       "      <td>...</td>\n",
       "      <td>...</td>\n",
       "      <td>...</td>\n",
       "      <td>...</td>\n",
       "      <td>...</td>\n",
       "      <td>...</td>\n",
       "      <td>...</td>\n",
       "      <td>...</td>\n",
       "      <td>...</td>\n",
       "      <td>...</td>\n",
       "      <td>...</td>\n",
       "      <td>...</td>\n",
       "      <td>...</td>\n",
       "      <td>...</td>\n",
       "      <td>...</td>\n",
       "      <td>...</td>\n",
       "      <td>...</td>\n",
       "      <td>...</td>\n",
       "      <td>...</td>\n",
       "    </tr>\n",
       "    <tr>\n",
       "      <th>S_SC_A867_ARARANGUA</th>\n",
       "      <td>0.0</td>\n",
       "      <td>73.0</td>\n",
       "      <td>995.5</td>\n",
       "      <td>1035.2</td>\n",
       "      <td>996.5</td>\n",
       "      <td>1035.5</td>\n",
       "      <td>994.7</td>\n",
       "      <td>1035.1</td>\n",
       "      <td>0.0</td>\n",
       "      <td>5303.6</td>\n",
       "      <td>0.6</td>\n",
       "      <td>38.6</td>\n",
       "      <td>-0.4</td>\n",
       "      <td>36.7</td>\n",
       "      <td>7.0</td>\n",
       "      <td>100.0</td>\n",
       "      <td>12.0</td>\n",
       "      <td>100.0</td>\n",
       "      <td>0.0</td>\n",
       "      <td>17.0</td>\n",
       "    </tr>\n",
       "    <tr>\n",
       "      <th>S_SC_A868_ITAJAI</th>\n",
       "      <td>0.0</td>\n",
       "      <td>61.4</td>\n",
       "      <td>997.8</td>\n",
       "      <td>1033.8</td>\n",
       "      <td>998.4</td>\n",
       "      <td>1033.9</td>\n",
       "      <td>997.7</td>\n",
       "      <td>1033.1</td>\n",
       "      <td>0.0</td>\n",
       "      <td>4610.0</td>\n",
       "      <td>2.0</td>\n",
       "      <td>39.0</td>\n",
       "      <td>1.3</td>\n",
       "      <td>37.8</td>\n",
       "      <td>23.0</td>\n",
       "      <td>100.0</td>\n",
       "      <td>18.0</td>\n",
       "      <td>100.0</td>\n",
       "      <td>0.0</td>\n",
       "      <td>11.4</td>\n",
       "    </tr>\n",
       "    <tr>\n",
       "      <th>S_SC_A870_RANCHO QUEIMADO</th>\n",
       "      <td>0.0</td>\n",
       "      <td>44.4</td>\n",
       "      <td>901.6</td>\n",
       "      <td>932.3</td>\n",
       "      <td>902.0</td>\n",
       "      <td>932.5</td>\n",
       "      <td>900.9</td>\n",
       "      <td>932.3</td>\n",
       "      <td>0.0</td>\n",
       "      <td>4501.8</td>\n",
       "      <td>-2.7</td>\n",
       "      <td>44.5</td>\n",
       "      <td>-3.6</td>\n",
       "      <td>33.3</td>\n",
       "      <td>22.0</td>\n",
       "      <td>100.0</td>\n",
       "      <td>9.0</td>\n",
       "      <td>100.0</td>\n",
       "      <td>0.1</td>\n",
       "      <td>9.0</td>\n",
       "    </tr>\n",
       "    <tr>\n",
       "      <th>S_SC_A895_CHAPECO</th>\n",
       "      <td>0.0</td>\n",
       "      <td>38.0</td>\n",
       "      <td>924.0</td>\n",
       "      <td>951.0</td>\n",
       "      <td>925.7</td>\n",
       "      <td>951.0</td>\n",
       "      <td>923.7</td>\n",
       "      <td>950.8</td>\n",
       "      <td>0.0</td>\n",
       "      <td>4109.2</td>\n",
       "      <td>-0.6</td>\n",
       "      <td>36.8</td>\n",
       "      <td>-1.5</td>\n",
       "      <td>35.1</td>\n",
       "      <td>18.0</td>\n",
       "      <td>98.0</td>\n",
       "      <td>11.0</td>\n",
       "      <td>98.0</td>\n",
       "      <td>0.1</td>\n",
       "      <td>16.1</td>\n",
       "    </tr>\n",
       "    <tr>\n",
       "      <th>S_SC_A898_CAMPOS NOVOS</th>\n",
       "      <td>0.0</td>\n",
       "      <td>42.6</td>\n",
       "      <td>892.3</td>\n",
       "      <td>932.8</td>\n",
       "      <td>898.0</td>\n",
       "      <td>932.9</td>\n",
       "      <td>891.0</td>\n",
       "      <td>932.5</td>\n",
       "      <td>0.0</td>\n",
       "      <td>4261.7</td>\n",
       "      <td>-2.7</td>\n",
       "      <td>34.8</td>\n",
       "      <td>-3.5</td>\n",
       "      <td>34.1</td>\n",
       "      <td>18.0</td>\n",
       "      <td>99.0</td>\n",
       "      <td>14.0</td>\n",
       "      <td>99.0</td>\n",
       "      <td>0.1</td>\n",
       "      <td>14.3</td>\n",
       "    </tr>\n",
       "  </tbody>\n",
       "</table>\n",
       "<p>613 rows × 20 columns</p>\n",
       "</div>"
      ],
      "text/plain": [
       "                               MIN - PRECIPITAÇÃO TOTAL, HORÁRIO (mm)  \\\n",
       "CO_DF_A001_BRASILIA                                               0.0   \n",
       "CO_DF_A042_BRAZLANDIA                                             0.0   \n",
       "CO_DF_A045_AGUAS EMENDADAS                                        0.0   \n",
       "CO_DF_A046_GAMA (PONTE ALTA)                                      0.0   \n",
       "CO_DF_A047_PARANOA (COOPA-DF)                                     0.0   \n",
       "...                                                               ...   \n",
       "S_SC_A867_ARARANGUA                                               0.0   \n",
       "S_SC_A868_ITAJAI                                                  0.0   \n",
       "S_SC_A870_RANCHO QUEIMADO                                         0.0   \n",
       "S_SC_A895_CHAPECO                                                 0.0   \n",
       "S_SC_A898_CAMPOS NOVOS                                            0.0   \n",
       "\n",
       "                               MAX - PRECIPITAÇÃO TOTAL, HORÁRIO (mm)  \\\n",
       "CO_DF_A001_BRASILIA                                              70.8   \n",
       "CO_DF_A042_BRAZLANDIA                                            96.0   \n",
       "CO_DF_A045_AGUAS EMENDADAS                                       68.8   \n",
       "CO_DF_A046_GAMA (PONTE ALTA)                                     55.2   \n",
       "CO_DF_A047_PARANOA (COOPA-DF)                                    70.2   \n",
       "...                                                               ...   \n",
       "S_SC_A867_ARARANGUA                                              73.0   \n",
       "S_SC_A868_ITAJAI                                                 61.4   \n",
       "S_SC_A870_RANCHO QUEIMADO                                        44.4   \n",
       "S_SC_A895_CHAPECO                                                38.0   \n",
       "S_SC_A898_CAMPOS NOVOS                                           42.6   \n",
       "\n",
       "                               MIN - PRESSAO ATMOSFERICA AO NIVEL DA ESTACAO, HORARIA (mB)  \\\n",
       "CO_DF_A001_BRASILIA                                                        863.4             \n",
       "CO_DF_A042_BRAZLANDIA                                                      880.3             \n",
       "CO_DF_A045_AGUAS EMENDADAS                                                 889.4             \n",
       "CO_DF_A046_GAMA (PONTE ALTA)                                               896.2             \n",
       "CO_DF_A047_PARANOA (COOPA-DF)                                              890.9             \n",
       "...                                                                          ...             \n",
       "S_SC_A867_ARARANGUA                                                        995.5             \n",
       "S_SC_A868_ITAJAI                                                           997.8             \n",
       "S_SC_A870_RANCHO QUEIMADO                                                  901.6             \n",
       "S_SC_A895_CHAPECO                                                          924.0             \n",
       "S_SC_A898_CAMPOS NOVOS                                                     892.3             \n",
       "\n",
       "                               MAX - PRESSAO ATMOSFERICA AO NIVEL DA ESTACAO, HORARIA (mB)  \\\n",
       "CO_DF_A001_BRASILIA                                                       1023.5             \n",
       "CO_DF_A042_BRAZLANDIA                                                      897.5             \n",
       "CO_DF_A045_AGUAS EMENDADAS                                                 910.4             \n",
       "CO_DF_A046_GAMA (PONTE ALTA)                                               914.7             \n",
       "CO_DF_A047_PARANOA (COOPA-DF)                                              908.9             \n",
       "...                                                                          ...             \n",
       "S_SC_A867_ARARANGUA                                                       1035.2             \n",
       "S_SC_A868_ITAJAI                                                          1033.8             \n",
       "S_SC_A870_RANCHO QUEIMADO                                                  932.3             \n",
       "S_SC_A895_CHAPECO                                                          951.0             \n",
       "S_SC_A898_CAMPOS NOVOS                                                     932.8             \n",
       "\n",
       "                               MIN - PRESSÃO ATMOSFERICA MAX.NA HORA ANT. (AUT) (mB)  \\\n",
       "CO_DF_A001_BRASILIA                                                        865.3       \n",
       "CO_DF_A042_BRAZLANDIA                                                      880.8       \n",
       "CO_DF_A045_AGUAS EMENDADAS                                                 889.7       \n",
       "CO_DF_A046_GAMA (PONTE ALTA)                                               896.6       \n",
       "CO_DF_A047_PARANOA (COOPA-DF)                                              890.9       \n",
       "...                                                                          ...       \n",
       "S_SC_A867_ARARANGUA                                                        996.5       \n",
       "S_SC_A868_ITAJAI                                                           998.4       \n",
       "S_SC_A870_RANCHO QUEIMADO                                                  902.0       \n",
       "S_SC_A895_CHAPECO                                                          925.7       \n",
       "S_SC_A898_CAMPOS NOVOS                                                     898.0       \n",
       "\n",
       "                               MAX - PRESSÃO ATMOSFERICA MAX.NA HORA ANT. (AUT) (mB)  \\\n",
       "CO_DF_A001_BRASILIA                                                       1008.1       \n",
       "CO_DF_A042_BRAZLANDIA                                                      897.6       \n",
       "CO_DF_A045_AGUAS EMENDADAS                                                 910.5       \n",
       "CO_DF_A046_GAMA (PONTE ALTA)                                               914.8       \n",
       "CO_DF_A047_PARANOA (COOPA-DF)                                              909.0       \n",
       "...                                                                          ...       \n",
       "S_SC_A867_ARARANGUA                                                       1035.5       \n",
       "S_SC_A868_ITAJAI                                                          1033.9       \n",
       "S_SC_A870_RANCHO QUEIMADO                                                  932.5       \n",
       "S_SC_A895_CHAPECO                                                          951.0       \n",
       "S_SC_A898_CAMPOS NOVOS                                                     932.9       \n",
       "\n",
       "                               MIN - PRESSÃO ATMOSFERICA MIN. NA HORA ANT. (AUT) (mB)  \\\n",
       "CO_DF_A001_BRASILIA                                                        862.8        \n",
       "CO_DF_A042_BRAZLANDIA                                                      880.3        \n",
       "CO_DF_A045_AGUAS EMENDADAS                                                 889.4        \n",
       "CO_DF_A046_GAMA (PONTE ALTA)                                               896.1        \n",
       "CO_DF_A047_PARANOA (COOPA-DF)                                              890.5        \n",
       "...                                                                          ...        \n",
       "S_SC_A867_ARARANGUA                                                        994.7        \n",
       "S_SC_A868_ITAJAI                                                           997.7        \n",
       "S_SC_A870_RANCHO QUEIMADO                                                  900.9        \n",
       "S_SC_A895_CHAPECO                                                          923.7        \n",
       "S_SC_A898_CAMPOS NOVOS                                                     891.0        \n",
       "\n",
       "                               MAX - PRESSÃO ATMOSFERICA MIN. NA HORA ANT. (AUT) (mB)  \\\n",
       "CO_DF_A001_BRASILIA                                                       1007.7        \n",
       "CO_DF_A042_BRAZLANDIA                                                      897.3        \n",
       "CO_DF_A045_AGUAS EMENDADAS                                                 910.4        \n",
       "CO_DF_A046_GAMA (PONTE ALTA)                                               914.5        \n",
       "CO_DF_A047_PARANOA (COOPA-DF)                                              908.7        \n",
       "...                                                                          ...        \n",
       "S_SC_A867_ARARANGUA                                                       1035.1        \n",
       "S_SC_A868_ITAJAI                                                          1033.1        \n",
       "S_SC_A870_RANCHO QUEIMADO                                                  932.3        \n",
       "S_SC_A895_CHAPECO                                                          950.8        \n",
       "S_SC_A898_CAMPOS NOVOS                                                     932.5        \n",
       "\n",
       "                               MIN - RADIACAO GLOBAL (KJ/m²)  \\\n",
       "CO_DF_A001_BRASILIA                                      0.0   \n",
       "CO_DF_A042_BRAZLANDIA                                    0.0   \n",
       "CO_DF_A045_AGUAS EMENDADAS                               0.0   \n",
       "CO_DF_A046_GAMA (PONTE ALTA)                             0.0   \n",
       "CO_DF_A047_PARANOA (COOPA-DF)                            0.0   \n",
       "...                                                      ...   \n",
       "S_SC_A867_ARARANGUA                                      0.0   \n",
       "S_SC_A868_ITAJAI                                         0.0   \n",
       "S_SC_A870_RANCHO QUEIMADO                                0.0   \n",
       "S_SC_A895_CHAPECO                                        0.0   \n",
       "S_SC_A898_CAMPOS NOVOS                                   0.0   \n",
       "\n",
       "                               MAX - RADIACAO GLOBAL (KJ/m²)  \\\n",
       "CO_DF_A001_BRASILIA                                  43969.0   \n",
       "CO_DF_A042_BRAZLANDIA                                 4602.3   \n",
       "CO_DF_A045_AGUAS EMENDADAS                            4446.3   \n",
       "CO_DF_A046_GAMA (PONTE ALTA)                          4293.2   \n",
       "CO_DF_A047_PARANOA (COOPA-DF)                         4292.9   \n",
       "...                                                      ...   \n",
       "S_SC_A867_ARARANGUA                                   5303.6   \n",
       "S_SC_A868_ITAJAI                                      4610.0   \n",
       "S_SC_A870_RANCHO QUEIMADO                             4501.8   \n",
       "S_SC_A895_CHAPECO                                     4109.2   \n",
       "S_SC_A898_CAMPOS NOVOS                                4261.7   \n",
       "\n",
       "                               MIN - TEMPERATURA MÁXIMA NA HORA ANT. (AUT) (°C)  \\\n",
       "CO_DF_A001_BRASILIA                                                         8.6   \n",
       "CO_DF_A042_BRAZLANDIA                                                       8.6   \n",
       "CO_DF_A045_AGUAS EMENDADAS                                                  5.9   \n",
       "CO_DF_A046_GAMA (PONTE ALTA)                                                6.4   \n",
       "CO_DF_A047_PARANOA (COOPA-DF)                                               8.1   \n",
       "...                                                                         ...   \n",
       "S_SC_A867_ARARANGUA                                                         0.6   \n",
       "S_SC_A868_ITAJAI                                                            2.0   \n",
       "S_SC_A870_RANCHO QUEIMADO                                                  -2.7   \n",
       "S_SC_A895_CHAPECO                                                          -0.6   \n",
       "S_SC_A898_CAMPOS NOVOS                                                     -2.7   \n",
       "\n",
       "                               MAX - TEMPERATURA MÁXIMA NA HORA ANT. (AUT) (°C)  \\\n",
       "CO_DF_A001_BRASILIA                                                        36.5   \n",
       "CO_DF_A042_BRAZLANDIA                                                      36.0   \n",
       "CO_DF_A045_AGUAS EMENDADAS                                                 37.8   \n",
       "CO_DF_A046_GAMA (PONTE ALTA)                                               37.3   \n",
       "CO_DF_A047_PARANOA (COOPA-DF)                                              37.1   \n",
       "...                                                                         ...   \n",
       "S_SC_A867_ARARANGUA                                                        38.6   \n",
       "S_SC_A868_ITAJAI                                                           39.0   \n",
       "S_SC_A870_RANCHO QUEIMADO                                                  44.5   \n",
       "S_SC_A895_CHAPECO                                                          36.8   \n",
       "S_SC_A898_CAMPOS NOVOS                                                     34.8   \n",
       "\n",
       "                               MIN - TEMPERATURA MÍNIMA NA HORA ANT. (AUT) (°C)  \\\n",
       "CO_DF_A001_BRASILIA                                                         7.6   \n",
       "CO_DF_A042_BRAZLANDIA                                                       7.9   \n",
       "CO_DF_A045_AGUAS EMENDADAS                                                  5.2   \n",
       "CO_DF_A046_GAMA (PONTE ALTA)                                                4.9   \n",
       "CO_DF_A047_PARANOA (COOPA-DF)                                               7.6   \n",
       "...                                                                         ...   \n",
       "S_SC_A867_ARARANGUA                                                        -0.4   \n",
       "S_SC_A868_ITAJAI                                                            1.3   \n",
       "S_SC_A870_RANCHO QUEIMADO                                                  -3.6   \n",
       "S_SC_A895_CHAPECO                                                          -1.5   \n",
       "S_SC_A898_CAMPOS NOVOS                                                     -3.5   \n",
       "\n",
       "                               MAX - TEMPERATURA MÍNIMA NA HORA ANT. (AUT) (°C)  \\\n",
       "CO_DF_A001_BRASILIA                                                        34.4   \n",
       "CO_DF_A042_BRAZLANDIA                                                      34.3   \n",
       "CO_DF_A045_AGUAS EMENDADAS                                                 35.7   \n",
       "CO_DF_A046_GAMA (PONTE ALTA)                                               35.7   \n",
       "CO_DF_A047_PARANOA (COOPA-DF)                                              35.3   \n",
       "...                                                                         ...   \n",
       "S_SC_A867_ARARANGUA                                                        36.7   \n",
       "S_SC_A868_ITAJAI                                                           37.8   \n",
       "S_SC_A870_RANCHO QUEIMADO                                                  33.3   \n",
       "S_SC_A895_CHAPECO                                                          35.1   \n",
       "S_SC_A898_CAMPOS NOVOS                                                     34.1   \n",
       "\n",
       "                               MIN - UMIDADE REL. MAX. NA HORA ANT. (AUT) (%)  \\\n",
       "CO_DF_A001_BRASILIA                                                      11.0   \n",
       "CO_DF_A042_BRAZLANDIA                                                    12.0   \n",
       "CO_DF_A045_AGUAS EMENDADAS                                               10.0   \n",
       "CO_DF_A046_GAMA (PONTE ALTA)                                             10.0   \n",
       "CO_DF_A047_PARANOA (COOPA-DF)                                            13.0   \n",
       "...                                                                       ...   \n",
       "S_SC_A867_ARARANGUA                                                       7.0   \n",
       "S_SC_A868_ITAJAI                                                         23.0   \n",
       "S_SC_A870_RANCHO QUEIMADO                                                22.0   \n",
       "S_SC_A895_CHAPECO                                                        18.0   \n",
       "S_SC_A898_CAMPOS NOVOS                                                   18.0   \n",
       "\n",
       "                               MAX - UMIDADE REL. MAX. NA HORA ANT. (AUT) (%)  \\\n",
       "CO_DF_A001_BRASILIA                                                     100.0   \n",
       "CO_DF_A042_BRAZLANDIA                                                    98.0   \n",
       "CO_DF_A045_AGUAS EMENDADAS                                              100.0   \n",
       "CO_DF_A046_GAMA (PONTE ALTA)                                             96.0   \n",
       "CO_DF_A047_PARANOA (COOPA-DF)                                           100.0   \n",
       "...                                                                       ...   \n",
       "S_SC_A867_ARARANGUA                                                     100.0   \n",
       "S_SC_A868_ITAJAI                                                        100.0   \n",
       "S_SC_A870_RANCHO QUEIMADO                                               100.0   \n",
       "S_SC_A895_CHAPECO                                                        98.0   \n",
       "S_SC_A898_CAMPOS NOVOS                                                   99.0   \n",
       "\n",
       "                               MIN - UMIDADE REL. MIN. NA HORA ANT. (AUT) (%)  \\\n",
       "CO_DF_A001_BRASILIA                                                      10.0   \n",
       "CO_DF_A042_BRAZLANDIA                                                    10.0   \n",
       "CO_DF_A045_AGUAS EMENDADAS                                                9.0   \n",
       "CO_DF_A046_GAMA (PONTE ALTA)                                              8.0   \n",
       "CO_DF_A047_PARANOA (COOPA-DF)                                            10.0   \n",
       "...                                                                       ...   \n",
       "S_SC_A867_ARARANGUA                                                      12.0   \n",
       "S_SC_A868_ITAJAI                                                         18.0   \n",
       "S_SC_A870_RANCHO QUEIMADO                                                 9.0   \n",
       "S_SC_A895_CHAPECO                                                        11.0   \n",
       "S_SC_A898_CAMPOS NOVOS                                                   14.0   \n",
       "\n",
       "                               MAX - UMIDADE REL. MIN. NA HORA ANT. (AUT) (%)  \\\n",
       "CO_DF_A001_BRASILIA                                                     100.0   \n",
       "CO_DF_A042_BRAZLANDIA                                                    98.0   \n",
       "CO_DF_A045_AGUAS EMENDADAS                                              100.0   \n",
       "CO_DF_A046_GAMA (PONTE ALTA)                                             96.0   \n",
       "CO_DF_A047_PARANOA (COOPA-DF)                                           100.0   \n",
       "...                                                                       ...   \n",
       "S_SC_A867_ARARANGUA                                                     100.0   \n",
       "S_SC_A868_ITAJAI                                                        100.0   \n",
       "S_SC_A870_RANCHO QUEIMADO                                               100.0   \n",
       "S_SC_A895_CHAPECO                                                        98.0   \n",
       "S_SC_A898_CAMPOS NOVOS                                                   99.0   \n",
       "\n",
       "                               MIN - VENTO, VELOCIDADE HORARIA (m/s)  \\\n",
       "CO_DF_A001_BRASILIA                                              0.0   \n",
       "CO_DF_A042_BRAZLANDIA                                            0.0   \n",
       "CO_DF_A045_AGUAS EMENDADAS                                       0.1   \n",
       "CO_DF_A046_GAMA (PONTE ALTA)                                     0.0   \n",
       "CO_DF_A047_PARANOA (COOPA-DF)                                    0.1   \n",
       "...                                                              ...   \n",
       "S_SC_A867_ARARANGUA                                              0.0   \n",
       "S_SC_A868_ITAJAI                                                 0.0   \n",
       "S_SC_A870_RANCHO QUEIMADO                                        0.1   \n",
       "S_SC_A895_CHAPECO                                                0.1   \n",
       "S_SC_A898_CAMPOS NOVOS                                           0.1   \n",
       "\n",
       "                               MAX - VENTO, VELOCIDADE HORARIA (m/s)  \n",
       "CO_DF_A001_BRASILIA                                             10.4  \n",
       "CO_DF_A042_BRAZLANDIA                                            9.7  \n",
       "CO_DF_A045_AGUAS EMENDADAS                                       8.0  \n",
       "CO_DF_A046_GAMA (PONTE ALTA)                                    12.7  \n",
       "CO_DF_A047_PARANOA (COOPA-DF)                                    9.0  \n",
       "...                                                              ...  \n",
       "S_SC_A867_ARARANGUA                                             17.0  \n",
       "S_SC_A868_ITAJAI                                                11.4  \n",
       "S_SC_A870_RANCHO QUEIMADO                                        9.0  \n",
       "S_SC_A895_CHAPECO                                               16.1  \n",
       "S_SC_A898_CAMPOS NOVOS                                          14.3  \n",
       "\n",
       "[613 rows x 20 columns]"
      ]
     },
     "execution_count": 155,
     "metadata": {},
     "output_type": "execute_result"
    }
   ],
   "source": [
    "bounds = checking_bounds('datasets/agregados/')\n",
    "bounds.to_csv('datasets/extremos.csv', sep=';')\n",
    "bounds"
   ]
  },
  {
   "cell_type": "code",
   "execution_count": 135,
   "id": "e8fd7c57",
   "metadata": {},
   "outputs": [
    {
     "name": "stdout",
     "output_type": "stream",
     "text": [
      "datasets/agregados/NE_CE_A315_BARBALHA.csv\n",
      "datasets/agregados/N_PA_A213_TOME ACU.csv\n",
      "datasets/agregados/CO_MS_S705_BRASILANDIA.csv\n",
      "datasets/agregados/N_AC_A137_MARECHAL THAUMATURGO.csv\n",
      "datasets/agregados/NE_CE_A360_ACARAU.csv\n",
      "datasets/agregados/NE_AL_A371_PIRANHAS.csv\n",
      "datasets/agregados/NE_RN_A340_APODI.csv\n",
      "datasets/agregados/CO_DF_A042_BRAZLANDIA.csv\n",
      "datasets/agregados/N_RO_A938_VILHENA.csv\n",
      "datasets/agregados/NE_MA_A225_IMPERATRIZ.csv\n",
      "datasets/agregados/CO_MT_A902_TANGARA DA SERRA.csv\n",
      "datasets/agregados/SE_SP_A727_LINS.csv\n",
      "datasets/agregados/S_PR_A824_ICARAIMA.csv\n",
      "datasets/agregados/SE_ES_A631_ECOPORANGA.csv\n",
      "datasets/agregados/S_RS_A804_SANTANA DO LIVRAMENTO.csv\n",
      "datasets/agregados/N_TO_A049_COLINAS DO TOCANTINS.csv\n",
      "datasets/agregados/NE_PB_A310_AREIA.csv\n",
      "datasets/agregados/S_SC_A814_URUSSANGA.csv\n",
      "datasets/agregados/S_RS_A879_CANELA.csv\n",
      "datasets/agregados/N_AM_A110_BOCA DO ACRE.csv\n",
      "datasets/agregados/NE_BA_A442_EUCLIDES DA CUNHA.csv\n",
      "datasets/agregados/NE_MA_A206_CHAPADINHA.csv\n",
      "datasets/agregados/SE_MG_A547_SAO ROMAO.csv\n",
      "datasets/agregados/SE_SP_A705_BAURU.csv\n",
      "datasets/agregados/CO_MS_A719_AQUIDAUANA.csv\n",
      "datasets/agregados/S_SC_A859_CACADOR.csv\n",
      "datasets/agregados/CO_GO_A023_CAIAPONIA.csv\n",
      "datasets/agregados/SE_ES_A657_AFONSO CLAUDIO.csv\n",
      "datasets/agregados/CO_MT_A924_ALTA FLORESTA.csv\n",
      "datasets/agregados/S_RS_A839_PASSO FUNDO.csv\n",
      "datasets/agregados/CO_GO_A017_POSSE.csv\n",
      "datasets/agregados/CO_MT_A908_AGUA BOA.csv\n",
      "datasets/agregados/SE_MG_F501_BELO HORIZONTE - CERCADINHO.csv\n",
      "datasets/agregados/SE_MG_A567_MACHADO.csv\n",
      "datasets/agregados/SE_SP_A771_SAO PAULO - INTERLAGOS.csv\n",
      "datasets/agregados/N_TO_A041_MARIANOPOLIS DO TO.csv\n",
      "datasets/agregados/NE_BA_A414_VITORIA DA CONQUISTA.csv\n",
      "datasets/agregados/SE_ES_A612_VITORIA.csv\n",
      "datasets/agregados/CO_MS_A752_ITAQUIRAI.csv\n",
      "datasets/agregados/SE_MG_A508_ALMENARA.csv\n",
      "datasets/agregados/N_AM_S103_CRMN MANAUS.csv\n",
      "datasets/agregados/NE_MA_A224_ESTREITO.csv\n",
      "datasets/agregados/NE_CE_A319_IGUATU.csv\n",
      "datasets/agregados/N_TO_A038_DIANOPOLIS.csv\n",
      "datasets/agregados/S_RS_A856_PALMEIRA DAS MISSOES.csv\n",
      "datasets/agregados/N_PA_A214_RONDON DO PARA.csv\n",
      "datasets/agregados/S_PR_A818_IVAI.csv\n",
      "datasets/agregados/N_AM_A144_NOVO ARIPUANA.csv\n",
      "datasets/agregados/NE_BA_A425_LENCOIS.csv\n",
      "datasets/agregados/N_PA_A236_CAMETA.csv\n",
      "datasets/agregados/N_RR_A135_BOA VISTA.csv\n",
      "datasets/agregados/SE_SP_A729_VOTUPORANGA.csv\n",
      "datasets/agregados/CO_MS_A730_CHAPADAO DO SUL.csv\n",
      "datasets/agregados/CO_MT_A922_VILA BELA DA SANTISSIMA TRINDADE.csv\n",
      "datasets/agregados/S_SC_A816_NOVO HORIZONTE.csv\n",
      "datasets/agregados/NE_BA_A449_PILAO ARCADO.csv\n",
      "datasets/agregados/NE_PI_A346_URUCUI.csv\n",
      "datasets/agregados/N_AP_A251_ITAUBAL.csv\n",
      "datasets/agregados/CO_GO_A034_CATALAO.csv\n",
      "datasets/agregados/S_RS_A836_JAGUARAO.csv\n",
      "datasets/agregados/N_TO_A010_PARANA.csv\n",
      "datasets/agregados/S_RS_A854_FREDERICO WESTPHALEN.csv\n",
      "datasets/agregados/NE_PE_A370_SALGUEIRO.csv\n",
      "datasets/agregados/SE_RJ_A619_PARATI.csv\n",
      "datasets/agregados/N_AM_A109_EIRUNEPE.csv\n",
      "datasets/agregados/SE_SP_A764_BEBEDOURO.csv\n",
      "datasets/agregados/SE_MG_A538_CURVELO.csv\n",
      "datasets/agregados/NE_PI_A374_CORRENTE.csv\n",
      "datasets/agregados/S_SC_A851_ITAPOA.csv\n",
      "datasets/agregados/SE_MG_A531_MARIA DA FE.csv\n",
      "datasets/agregados/N_RO_S104_DTCEA VILHENA.csv\n",
      "datasets/agregados/NE_RN_A302_ARQ.SAO PEDRO E SAO PAULO.csv\n",
      "datasets/agregados/CO_MS_S701_ANGELICA.csv\n",
      "datasets/agregados/SE_SP_A701_SAO PAULO - MIRANTE.csv\n",
      "datasets/agregados/NE_BA_A406_CRUZ DAS ALMAS.csv\n",
      "datasets/agregados/NE_MA_A238_BURITICUPU.csv\n",
      "datasets/agregados/CO_MT_A905_CAMPO NOVO DOS PARECIS.csv\n",
      "datasets/agregados/N_TO_A050_RIO SONO.csv\n",
      "datasets/agregados/NE_CE_A369_QUIXADA.csv\n",
      "datasets/agregados/CO_MT_A929_NOVA UBIRATA.csv\n",
      "datasets/agregados/NE_SE_A451_ITABAIANA.csv\n",
      "datasets/agregados/N_TO_A020_PEDRO AFONSO.csv\n",
      "datasets/agregados/SE_MG_A559_JANUARIA.csv\n",
      "datasets/agregados/SE_SP_A770_SAO SIMAO.csv\n",
      "datasets/agregados/SE_MG_A560_POMPEU.csv\n",
      "datasets/agregados/SE_MG_S122_EB.csv\n",
      "datasets/agregados/CO_MS_S714_PEDRO GOMES.csv\n",
      "datasets/agregados/CO_MT_A904_SORRISO.csv\n",
      "datasets/agregados/SE_MG_A517_MURIAE.csv\n",
      "datasets/agregados/SE_ES_A632_MARILANDIA.csv\n",
      "datasets/agregados/NE_PI_A345_SAO RAIMUNDO NONATO.csv\n",
      "datasets/agregados/CO_MS_A703_PONTA PORA.csv\n",
      "datasets/agregados/NE_PI_A362_SAO PEDRO DO PIAUI.csv\n",
      "datasets/agregados/N_PA_A215_SALINOPOLIS.csv\n",
      "datasets/agregados/SE_ES_A623_NOVA VENECIA.csv\n",
      "datasets/agregados/N_PA_A228_BREVES.csv\n",
      "datasets/agregados/SE_SP_A707_PRESIDENTE PRUDENTE.csv\n",
      "datasets/agregados/CO_MS_A720_COXIM.csv\n",
      "datasets/agregados/N_PA_A248_CAPITAO POCO.csv\n",
      "datasets/agregados/NE_MA_S108_SAO BENTO.csv\n",
      "datasets/agregados/N_AM_A122_MAUES.csv\n",
      "datasets/agregados/N_RO_S101_FORTE PRINCIPE.csv\n",
      "datasets/agregados/S_PR_B804_LARANJEIRAS DO SUL.csv\n",
      "datasets/agregados/S_PR_A873_MORRETES.csv\n",
      "datasets/agregados/CO_MS_A743_RIO BRILHANTE.csv\n",
      "datasets/agregados/NE_BA_A438_MARAU.csv\n",
      "datasets/agregados/SE_ES_A633_VENDA NOVA DO IMIGRANTE.csv\n",
      "datasets/agregados/CO_MT_A930_GAUCHA DO NORTE.csv\n",
      "datasets/agregados/NE_SE_A421_BREJO GRANDE.csv\n",
      "datasets/agregados/NE_MA_A203_SAO LUIS.csv\n",
      "datasets/agregados/N_AP_A244_PORTO GRANDE.csv\n",
      "datasets/agregados/S_SC_A862_RIO NEGRINHO.csv\n",
      "datasets/agregados/NE_BA_A418_BOM JESUS DA LAPA.csv\n",
      "datasets/agregados/CO_GO_A025_RIO VERDE.csv\n",
      "datasets/agregados/N_PA_A250_SANTAREM.csv\n",
      "datasets/agregados/SE_SP_C891_CRIOSFERA.csv\n",
      "datasets/agregados/NE_BA_A443_DELFINO.csv\n",
      "datasets/agregados/S_RS_A878_MOSTARDAS.csv\n",
      "datasets/agregados/CO_MT_A919_COTRIGUACU.csv\n",
      "datasets/agregados/NE_BA_A447_BELMONTE.csv\n",
      "datasets/agregados/S_RS_A893_ENCRUZILHADA DO SUL.csv\n",
      "datasets/agregados/N_PA_A226_BRAGANCA.csv\n",
      "datasets/agregados/N_AM_S115_PEF YAUARETE.csv\n",
      "datasets/agregados/SE_RJ_A601_SEROPEDICA-ECOLOGIA AGRICOLA.csv\n",
      "datasets/agregados/S_RS_A828_ERECHIM.csv\n",
      "datasets/agregados/CO_MS_A750_AMAMBAI.csv\n",
      "datasets/agregados/SE_MG_A551_RIO PARDO DE MINAS.csv\n",
      "datasets/agregados/NE_MA_A255_ZE DOCA.csv\n",
      "datasets/agregados/NE_PI_A312_TERESINA.csv\n",
      "datasets/agregados/SE_ES_A614_LINHARES.csv\n",
      "datasets/agregados/SE_SP_A728_TAUBATE.csv\n",
      "datasets/agregados/S_RS_A880_VACARIA.csv\n",
      "datasets/agregados/NE_BA_A452_FORMOSA DO RIO PRETO.csv\n",
      "datasets/agregados/N_AP_A242_OIAPOQUE.csv\n",
      "datasets/agregados/N_AM_A112_HUMAITA.csv\n",
      "datasets/agregados/S_SC_A867_ARARANGUA.csv\n",
      "datasets/agregados/N_AC_A140_EPITACIOLANDIA.csv\n",
      "datasets/agregados/SE_MG_A555_IBIRITE (ROLA MOCA).csv\n",
      "datasets/agregados/SE_MG_A568_UBERABA.csv\n",
      "datasets/agregados/NE_PI_A364_GILBUES.csv\n",
      "datasets/agregados/SE_SP_A715_SAO MIGUEL ARCANJO.csv\n",
      "datasets/agregados/CO_MT_A909_ALTO ARAGUAIA.csv\n",
      "datasets/agregados/S_RS_A829_SAO JOSE DOS AUSENTES.csv\n",
      "datasets/agregados/CO_GO_A022_GOIANESIA.csv\n",
      "datasets/agregados/CO_MT_A917_SINOP.csv\n",
      "datasets/agregados/SE_MG_A522_SERRA DOS AIMORES.csv\n",
      "datasets/agregados/SE_ES_A615_ALFREDO CHAVES.csv\n",
      "datasets/agregados/NE_CE_A368_TIANGUA.csv\n",
      "datasets/agregados/NE_PI_A365_CANTO DO BURITI.csv\n",
      "datasets/agregados/NE_BA_A415_SANTA RITA DE CASSIA.csv\n",
      "datasets/agregados/N_PA_A231_ITAITUBA.csv\n",
      "datasets/agregados/CO_MT_A921_SAO FELIX  DO ARAGUAIA.csv\n",
      "datasets/agregados/S_PR_A872_VENTANIA.csv\n",
      "datasets/agregados/N_AM_A113_APUI.csv\n",
      "datasets/agregados/CO_MT_A933_ITIQUIRA.csv\n",
      "datasets/agregados/SE_MG_A540_MANTENA.csv\n",
      "datasets/agregados/SE_RJ_A607_CAMPOS DOS GOYTACAZES.csv\n",
      "datasets/agregados/CO_GO_A026_MINEIROS.csv\n",
      "datasets/agregados/NE_SE_A419_POCO VERDE.csv\n",
      "datasets/agregados/SE_MG_A528_TRES MARIAS.csv\n",
      "datasets/agregados/NE_BA_A413_FEIRA DE SANTANA.csv\n",
      "datasets/agregados/SE_RJ_A667_SAQUAREMA - SAMPAIO CORREIA.csv\n",
      "datasets/agregados/N_PA_S107_DOM ELISEU.csv\n",
      "datasets/agregados/SE_MG_A505_ARAXA.csv\n",
      "datasets/agregados/N_AC_A138_FEIJO.csv\n",
      "datasets/agregados/NE_BA_A408_ITABERABA.csv\n",
      "datasets/agregados/CO_GO_A035_ITUMBIARA.csv\n",
      "datasets/agregados/SE_MG_A570_OLIVEIRA.csv\n",
      "datasets/agregados/CO_MT_A920_JUINA.csv\n",
      "datasets/agregados/SE_RJ_A609_RESENDE.csv\n",
      "datasets/agregados/SE_SP_A740_SAO LUIS DO PARAITINGA.csv\n",
      "datasets/agregados/N_AM_S116_PEF ESTIRAO DO EQUADOR.csv\n",
      "datasets/agregados/NE_CE_A359_ITAPIPOCA.csv\n",
      "datasets/agregados/N_AM_A123_PARINTINS.csv\n",
      "datasets/agregados/N_TO_A021_ARAGUAINA.csv\n",
      "datasets/agregados/SE_MG_A515_VARGINHA.csv\n",
      "datasets/agregados/S_RS_A833_SANTIAGO.csv\n",
      "datasets/agregados/S_RS_A813_RIO PARDO.csv\n",
      "datasets/agregados/SE_RJ_A628_ANGRA DOS REIS.csv\n"
     ]
    },
    {
     "name": "stdout",
     "output_type": "stream",
     "text": [
      "datasets/agregados/SE_MG_A520_CONCEICAO DAS ALAGOAS.csv\n",
      "datasets/agregados/SE_MG_A564_DIVINOPOLIS.csv\n",
      "datasets/agregados/NE_CE_A305_FORTALEZA.csv\n",
      "datasets/agregados/CO_MS_S703_BANDEIRANTES.csv\n",
      "datasets/agregados/NE_MA_A237_CAXIAS.csv\n",
      "datasets/agregados/S_PR_B806_COLOMBO.csv\n",
      "datasets/agregados/CO_MS_S708_FATIMA DO SUL.csv\n",
      "datasets/agregados/S_RS_A803_SANTA MARIA.csv\n",
      "datasets/agregados/S_RS_A838_CAMAQUA.csv\n",
      "datasets/agregados/N_TO_A040_MATEIROS.csv\n",
      "datasets/agregados/SE_MG_A562_PATOS DE MINAS.csv\n",
      "datasets/agregados/CO_MS_A710_PARANAIBA.csv\n",
      "datasets/agregados/SE_MG_A516_PASSOS.csv\n",
      "datasets/agregados/SE_MG_A566_ARACUAI.csv\n",
      "datasets/agregados/S_SC_A868_ITAJAI.csv\n",
      "datasets/agregados/N_PA_A241_CONCEICAO DO ARAGUAIA.csv\n",
      "datasets/agregados/NE_PI_A338_ESPERANTINA.csv\n",
      "datasets/agregados/NE_PB_A373_ITAPORANGA.csv\n",
      "datasets/agregados/SE_SP_A716_OURINHOS.csv\n",
      "datasets/agregados/CO_MT_A936_SALTO DO CEU.csv\n",
      "datasets/agregados/S_RS_A889_SAO VICENTE DO SUL.csv\n",
      "datasets/agregados/NE_PE_A307_PETROLINA.csv\n",
      "datasets/agregados/CO_MT_A906_GUARANTA DO NORTE.csv\n",
      "datasets/agregados/N_PA_A229_TUCURUI.csv\n",
      "datasets/agregados/NE_BA_A426_GUANAMBI.csv\n",
      "datasets/agregados/SE_SP_A769_CACHOEIRA PAULISTA.csv\n",
      "datasets/agregados/SE_SP_A733_JALES.csv\n",
      "datasets/agregados/S_RS_A831_QUARAI.csv\n",
      "datasets/agregados/N_AM_S102_PEF IPIRANGA.csv\n",
      "datasets/agregados/S_RS_A897_CAMBARA DO SUL.csv\n",
      "datasets/agregados/N_PA_A234_TUCUMA.csv\n",
      "datasets/agregados/N_PA_A209_MEDICILANDIA.csv\n",
      "datasets/agregados/NE_BA_A444_VALENCA.csv\n",
      "datasets/agregados/NE_PE_A366_OURICURI.csv\n",
      "datasets/agregados/NE_AL_A353_ARAPIRACA.csv\n",
      "datasets/agregados/CO_MT_A903_S.J. DO RIO CLARO.csv\n",
      "datasets/agregados/SE_RJ_A629_CARMO.csv\n",
      "datasets/agregados/S_RS_A809_URUGUAIANA.csv\n",
      "datasets/agregados/N_PA_A247_XINGUARA.csv\n",
      "datasets/agregados/CO_MS_S707_CAMAPUA.csv\n",
      "datasets/agregados/CO_MS_S712_NOVA ALVORADA DO SUL.csv\n",
      "datasets/agregados/NE_BA_A437_UNA.csv\n",
      "datasets/agregados/SE_SP_A706_CAMPOS DO JORDAO.csv\n",
      "datasets/agregados/NE_MA_A222_COLINAS.csv\n",
      "datasets/agregados/CO_GO_A015_ITAPACI.csv\n",
      "datasets/agregados/S_PR_A849_DIAMANTE DO NORTE.csv\n",
      "datasets/agregados/NE_BA_A416_CORRENTINA.csv\n",
      "datasets/agregados/NE_BA_A427_PORTO SEGURO.csv\n",
      "datasets/agregados/N_AC_A108_CRUZEIRO DO SUL.csv\n",
      "datasets/agregados/CO_MS_A724_CORUMBA.csv\n",
      "datasets/agregados/NE_PI_A375_BAIXA GRANDE DO RIBEIRO.csv\n",
      "datasets/agregados/SE_SP_A765_BERTIOGA.csv\n",
      "datasets/agregados/SE_RJ_A611_VALENCA.csv\n",
      "datasets/agregados/SE_MG_A511_TIMOTEO.csv\n",
      "datasets/agregados/CO_MS_A757_BELA VISTA.csv\n",
      "datasets/agregados/CO_MT_A942_SAO JOSE DO XINGU.csv\n",
      "datasets/agregados/SE_MG_A544_BURITIS.csv\n",
      "datasets/agregados/NE_BA_A423_REMANSO.csv\n",
      "datasets/agregados/N_PA_A254_REDENCAO.csv\n",
      "datasets/agregados/SE_ES_A617_ALEGRE.csv\n",
      "datasets/agregados/CO_MT_A923_PRIMAVERA DO LESTE.csv\n",
      "datasets/agregados/NE_PE_A357_PALMARES.csv\n",
      "datasets/agregados/N_PA_A230_SERRA DOS CARAJAS.csv\n",
      "datasets/agregados/NE_SE_A417_ITABAIANINHA.csv\n",
      "datasets/agregados/SE_SP_A767_SAO SEBASTIAO.csv\n",
      "datasets/agregados/CO_MT_A915_PARANATINGA.csv\n",
      "datasets/agregados/S_SC_A815_SAO JOAQUIM.csv\n",
      "datasets/agregados/N_TO_A054_ARAGUACU.csv\n",
      "datasets/agregados/NE_MA_A220_BACABAL.csv\n",
      "datasets/agregados/CO_MS_A758_JARDIM.csv\n",
      "datasets/agregados/N_PA_A216_SAO FELIX DO XINGU.csv\n",
      "datasets/agregados/SE_MG_A507_UBERLANDIA.csv\n",
      "datasets/agregados/SE_SP_A712_IGUAPE.csv\n",
      "datasets/agregados/NE_BA_A439_IBOTIRAMA.csv\n",
      "datasets/agregados/SE_MG_A541_CAPELINHA.csv\n",
      "datasets/agregados/SE_ES_A634_VILA VELHA.csv\n",
      "datasets/agregados/NE_PI_A354_OEIRAS.csv\n",
      "datasets/agregados/NE_CE_A347_CAMPOS SALES.csv\n",
      "datasets/agregados/N_AC_A136_PORTO WALTER.csv\n",
      "datasets/agregados/SE_MG_A535_FLORESTAL.csv\n",
      "datasets/agregados/SE_MG_A502_BARBACENA.csv\n",
      "datasets/agregados/CO_MS_S702_ARAL MOREIRA.csv\n",
      "datasets/agregados/S_PR_A807_CURITIBA.csv\n",
      "datasets/agregados/SE_MG_A539_MOCAMBINHO.csv\n",
      "datasets/agregados/NE_RN_A317_MACAU.csv\n",
      "datasets/agregados/SE_MG_A545_PIRAPORA.csv\n",
      "datasets/agregados/S_SC_A857_SAO MIGUEL DO OESTE.csv\n",
      "datasets/agregados/CO_MT_A927_BRASNORTE (NOVO MUNDO).csv\n",
      "datasets/agregados/SE_MG_A529_PASSA QUATRO.csv\n",
      "datasets/agregados/SE_MG_A549_AGUAS VERMELHAS.csv\n",
      "datasets/agregados/SE_RJ_A635_ITATIAIA.csv\n",
      "datasets/agregados/NE_AL_A355_CORURIPE.csv\n",
      "datasets/agregados/NE_MA_A204_BALSAS.csv\n",
      "datasets/agregados/NE_AL_A356_SAO LUIS DO QUITUNDE.csv\n",
      "datasets/agregados/CO_MT_A913_COMODORO.csv\n",
      "datasets/agregados/SE_MG_A569_SETE LAGOAS.csv\n",
      "datasets/agregados/SE_MG_A524_FORMIGA.csv\n",
      "datasets/agregados/SE_RJ_A606_ARRAIAL DO CABO.csv\n",
      "datasets/agregados/NE_CE_A325_QUIXERAMOBIM.csv\n",
      "datasets/agregados/NE_PB_A320_JOAO PESSOA.csv\n",
      "datasets/agregados/NE_RN_A318_MOSSORO.csv\n",
      "datasets/agregados/SE_ES_A616_SAO MATEUS.csv\n",
      "datasets/agregados/SE_RJ_A625_TRES RIOS.csv\n",
      "datasets/agregados/SE_RJ_A652_RIO DE JANEIRO - FORTE DE COPACABANA.csv\n",
      "datasets/agregados/CO_MT_A910_APIACAS.csv\n",
      "datasets/agregados/CO_GO_A016_JATAI.csv\n",
      "datasets/agregados/CO_GO_A011_SAO SIMAO.csv\n",
      "datasets/agregados/S_SC_A865_LAGES.csv\n",
      "datasets/agregados/N_AC_A102_PARQUE ESTADUAL CHANDLESS.csv\n",
      "datasets/agregados/SE_RJ_A620_CAMPOS DOS GOYTACAZES - SAO TOME.csv\n",
      "datasets/agregados/NE_SE_A409_ARACAJU.csv\n",
      "datasets/agregados/SE_SP_A718_RANCHARIA.csv\n",
      "datasets/agregados/NE_PE_A301_RECIFE.csv\n",
      "datasets/agregados/NE_AL_A323_PAO DE ACUCAR.csv\n",
      "datasets/agregados/CO_GO_A032_MONTE ALEGRE DE GOIAS.csv\n",
      "datasets/agregados/N_PA_A239_MONTE ALEGRE.csv\n",
      "datasets/agregados/S_PR_A843_DOIS VIZINHOS.csv\n",
      "datasets/agregados/SE_MG_A561_SAO SEBASTIAO DO PARAISO.csv\n",
      "datasets/agregados/SE_MG_A526_MONTALVANIA.csv\n",
      "datasets/agregados/S_PR_A821_JOAQUIM TAVORA.csv\n",
      "datasets/agregados/SE_MG_A509_MONTE VERDE.csv\n",
      "datasets/agregados/SE_MG_A536_DORES DO INDAIA.csv\n",
      "datasets/agregados/S_RS_A844_LAGOA VERMELHA.csv\n",
      "datasets/agregados/S_PR_B803_CAMPINA DA LAGOA.csv\n",
      "datasets/agregados/CO_MS_A704_TRES LAGOAS.csv\n",
      "datasets/agregados/SE_MG_A557_CORONEL PACHECO.csv\n",
      "datasets/agregados/CO_GO_A029_EDEIA.csv\n",
      "datasets/agregados/CO_MT_A911_SAPEZAL.csv\n",
      "datasets/agregados/NE_BA_A458_RIBEIRA DO AMPARO.csv\n",
      "datasets/agregados/CO_MT_A916_QUERENCIA.csv\n",
      "datasets/agregados/S_RS_A827_BAGE.csv\n",
      "datasets/agregados/N_AP_A249_MACAPA.csv\n",
      "datasets/agregados/SE_MG_A532_GOVERNADOR VALADARES.csv\n",
      "datasets/agregados/NE_BA_A456_SALVADOR (RADIO FAROL).csv\n",
      "datasets/agregados/CO_MT_A935_PORTO ESTRELA.csv\n",
      "datasets/agregados/NE_CE_A324_TAUA.csv\n",
      "datasets/agregados/S_PR_A869_CIDADE GAUCHA.csv\n",
      "datasets/agregados/CO_GO_A014_GOIAS.csv\n",
      "datasets/agregados/S_RS_A808_TORRES.csv\n",
      "datasets/agregados/NE_RN_A316_CAICO.csv\n",
      "datasets/agregados/NE_SE_A420_CARIRA.csv\n",
      "datasets/agregados/SE_SP_A755_BARUERI.csv\n",
      "datasets/agregados/SE_SP_A746_BARRA DO TURVO.csv\n",
      "datasets/agregados/N_RO_S110_DTCEA GUAJARA-MIRIM.csv\n",
      "datasets/agregados/N_RR_S114_PACARAIMA.csv\n",
      "datasets/agregados/N_AM_A111_LABREA.csv\n",
      "datasets/agregados/S_SC_A860_CURITIBANOS.csv\n",
      "datasets/agregados/S_SC_A866_Laguna  - Farol de Santa Marta.csv\n",
      "datasets/agregados/NE_BA_A435_UAUA.csv\n",
      "datasets/agregados/SE_RJ_A626_RIO CLARO.csv\n",
      "datasets/agregados/CO_DF_A046_GAMA (PONTE ALTA).csv\n",
      "datasets/agregados/N_TO_A044_ARAGUATINS.csv\n",
      "datasets/agregados/SE_RJ_A627_NITEROI.csv\n",
      "datasets/agregados/SE_SP_A711_SAO CARLOS.csv\n",
      "datasets/agregados/NE_BA_A446_ITAPETINGA.csv\n",
      "datasets/agregados/CO_MS_S713_NOVA ANDRADINA.csv\n",
      "datasets/agregados/CO_GO_A024_ALTO PARAISO DE GOIAS.csv\n",
      "datasets/agregados/CO_GO_A027_PARAUNA.csv\n",
      "datasets/agregados/CO_MS_A709_IVINHEMA.csv\n",
      "datasets/agregados/N_PA_A253_ALTAMIRA.csv\n",
      "datasets/agregados/NE_BA_A436_QUEIMADAS.csv\n",
      "datasets/agregados/SE_SP_A714_ITAPEVA.csv\n",
      "datasets/agregados/CO_MS_A731_MARACAJU.csv\n",
      "datasets/agregados/NE_PB_A333_SAO GONCALO.csv\n",
      "datasets/agregados/SE_RJ_A608_MACAE.csv\n",
      "datasets/agregados/CO_MS_A722_MIRANDA.csv\n",
      "datasets/agregados/N_PA_A202_CASTANHAL.csv\n",
      "datasets/agregados/N_TO_A055_LAGOA DA CONFUSAO.csv\n",
      "datasets/agregados/S_PR_A874_SAO MATEUS DO SUL.csv\n",
      "datasets/agregados/CO_MT_A937_PONTES E LACERDA.csv\n",
      "datasets/agregados/NE_BA_A432_BURITIRAMA.csv\n",
      "datasets/agregados/SE_SP_A734_VALPARAISO.csv\n",
      "datasets/agregados/N_TO_A043_CAMPOS LINDOS.csv\n",
      "datasets/agregados/N_PA_A201_BELEM.csv\n",
      "datasets/agregados/S_PR_A876_CLEVELANDIA.csv\n",
      "datasets/agregados/N_AM_A124_URUCARA.csv\n",
      "datasets/agregados/SE_MG_A556_MANHUACU.csv\n",
      "datasets/agregados/SE_MG_A571_PARACATU.csv\n",
      "datasets/agregados/SE_SP_A747_PRADOPOLIS.csv\n",
      "datasets/agregados/SE_SP_A766_REGISTRO.csv\n"
     ]
    },
    {
     "name": "stdout",
     "output_type": "stream",
     "text": [
      "datasets/agregados/SE_MG_A518_JUIZ DE FORA.csv\n",
      "datasets/agregados/CO_MS_A760_COSTA RICA.csv\n",
      "datasets/agregados/SE_MG_A523_PATROCINIO.csv\n",
      "datasets/agregados/N_AM_A120_AUTAZES.csv\n",
      "datasets/agregados/N_PA_A240_MARABA.csv\n",
      "datasets/agregados/NE_MA_A218_PREGUICAS.csv\n",
      "datasets/agregados/NE_PE_A322_GARANHUNS.csv\n",
      "datasets/agregados/CO_GO_A056_CRISTALINA (FAZENDA SANTA MONICA).csv\n",
      "datasets/agregados/N_PA_A233_SANTANA DO ARAGUAIA.csv\n",
      "datasets/agregados/S_RS_A812_CACAPAVA DO SUL.csv\n",
      "datasets/agregados/CO_MT_A943_SERRA NOVA DOURADA.csv\n",
      "datasets/agregados/S_RS_A882_TEUTONIA.csv\n",
      "datasets/agregados/N_TO_A019_GURUPI.csv\n",
      "datasets/agregados/S_PR_A825_GOIOERE.csv\n",
      "datasets/agregados/NE_PI_A308_PARNAIBA.csv\n",
      "datasets/agregados/CO_GO_A028_IPORA.csv\n",
      "datasets/agregados/NE_RN_A344_CALCANHAR.csv\n",
      "datasets/agregados/SE_RJ_A603_DUQUE DE CAXIAS - XEREM.csv\n",
      "datasets/agregados/CO_MT_A934_ALTO TAQUARI.csv\n",
      "datasets/agregados/SE_SP_A708_FRANCA.csv\n",
      "datasets/agregados/SE_MG_A527_TEOFILO OTONI.csv\n",
      "datasets/agregados/N_RO_A940_ARIQUEMES.csv\n",
      "datasets/agregados/N_AM_A121_ITACOATIARA.csv\n",
      "datasets/agregados/NE_PE_A329_CABROBO.csv\n",
      "datasets/agregados/NE_PE_A341_CARUARU.csv\n",
      "datasets/agregados/CO_MT_A931_SANTO ANTONIO DO LESTE.csv\n",
      "datasets/agregados/S_RS_A894_SERAFINA CORREA.csv\n",
      "datasets/agregados/SE_RJ_A659_SILVA JARDIM.csv\n",
      "datasets/agregados/S_SC_A848_DIONISIO CERQUEIRA.csv\n",
      "datasets/agregados/SE_RJ_A602_RIO DE JANEIRO-MARAMBAIA.csv\n",
      "datasets/agregados/S_RS_A834_TRAMANDAI.csv\n",
      "datasets/agregados/S_RS_A811_CANGUCU.csv\n",
      "datasets/agregados/NE_MA_A219_TURIACU.csv\n",
      "datasets/agregados/S_PR_A847_ILHA DO MEL.csv\n",
      "datasets/agregados/CO_MS_A754_SIDROLANDIA.csv\n",
      "datasets/agregados/S_RS_A899_Santa Vitoria do Palmar - Barra do Chui.csv\n",
      "datasets/agregados/SE_SP_A753_ITUVERAVA.csv\n",
      "datasets/agregados/N_AM_A126_PRESIDENTE FIGUEIREDO.csv\n",
      "datasets/agregados/CO_MS_A751_SETE QUEDAS.csv\n",
      "datasets/agregados/S_PR_A855_PLANALTO.csv\n",
      "datasets/agregados/S_PR_A846_FOZ DO IGUACU.csv\n",
      "datasets/agregados/NE_BA_A434_AMARGOSA.csv\n",
      "datasets/agregados/N_TO_A018_PEIXE.csv\n",
      "datasets/agregados/NE_PB_A352_CAMARATUBA.csv\n",
      "datasets/agregados/NE_RN_A372_IPANGUACU.csv\n",
      "datasets/agregados/N_AC_A104_RIO BRANCO.csv\n",
      "datasets/agregados/CO_MS_S715_RIBAS DO RIO PARDO.csv\n",
      "datasets/agregados/NE_RN_A367_SANTA CRUZ.csv\n",
      "datasets/agregados/S_PR_A871_JAPIRA.csv\n",
      "datasets/agregados/NE_BA_A450_JEREMOABO.csv\n",
      "datasets/agregados/N_TO_A009_PALMAS.csv\n",
      "datasets/agregados/S_PR_A875_GENERAL CARNEIRO.csv\n",
      "datasets/agregados/CO_GO_A031_SAO MIGUEL DO ARAGUAIA.csv\n",
      "datasets/agregados/NE_MA_A207_GRAJAU.csv\n",
      "datasets/agregados/SE_SP_A737_IBITINGA.csv\n",
      "datasets/agregados/N_PA_A227_SOURE.csv\n",
      "datasets/agregados/NE_BA_A429_BARRA.csv\n",
      "datasets/agregados/S_SC_A845_BOM JARDIM DA SERRA - MORRO DA IGREJA.csv\n",
      "datasets/agregados/N_PA_A246_MINA DO PALITO.csv\n",
      "datasets/agregados/NE_BA_A441_SERRINHA.csv\n",
      "datasets/agregados/S_RS_A884_CAMPO BOM.csv\n",
      "datasets/agregados/S_SC_A870_RANCHO QUEIMADO.csv\n",
      "datasets/agregados/SE_RJ_A630_SANTA MARIA MADALENA.csv\n",
      "datasets/agregados/SE_MG_A565_BAMBUI.csv\n",
      "datasets/agregados/SE_MG_A513_OURO BRANCO.csv\n",
      "datasets/agregados/S_SC_A817_INDAIAL.csv\n",
      "datasets/agregados/N_AM_A134_S. G. DA CACHOEIRA.csv\n",
      "datasets/agregados/NE_MA_A217_FAROL de SANTANA.csv\n",
      "datasets/agregados/SE_MG_A521_BELO HORIZONTE (PAMPULHA).csv\n",
      "datasets/agregados/CO_MS_S709_IGUATEMI.csv\n",
      "datasets/agregados/SE_MG_A550_ITAOBIM.csv\n",
      "datasets/agregados/N_PA_A232_OBIDOS.csv\n",
      "datasets/agregados/CO_MS_S706_CAARAPO.csv\n",
      "datasets/agregados/NE_PI_A335_PIRIPIRI.csv\n",
      "datasets/agregados/CO_GO_A002_GOIANIA.csv\n",
      "datasets/agregados/S_RS_A810_SANTA ROSA.csv\n",
      "datasets/agregados/SE_MG_A546_GUARDA-MOR.csv\n",
      "datasets/agregados/SE_ES_A622_PRES. KENNEDY.csv\n",
      "datasets/agregados/SE_MG_A548_CHAPADA GAUCHA.csv\n",
      "datasets/agregados/SE_RJ_A621_RIO DE JANEIRO - VILA MILITAR.csv\n",
      "datasets/agregados/S_RS_A853_CRUZ ALTA.csv\n",
      "datasets/agregados/SE_RJ_A624_NOVA FRIBURGO - SALINAS.csv\n",
      "datasets/agregados/S_RS_A886_TUPANCIRETA.csv\n",
      "datasets/agregados/S_RS_A801_PORTO ALEGRE.csv\n",
      "datasets/agregados/S_PR_A835_MARINGA.csv\n",
      "datasets/agregados/SE_ES_A613_SANTA TERESA.csv\n",
      "datasets/agregados/N_AM_A101_MANAUS.csv\n",
      "datasets/agregados/CO_GO_A033_PIRES DO RIO.csv\n",
      "datasets/agregados/CO_MS_S711_LAGUNA CARAPA.csv\n",
      "datasets/agregados/NE_AL_A327_PALMEIRA DOS INDIOS.csv\n",
      "datasets/agregados/SE_SP_A735_JOSE BONIFACIO.csv\n",
      "datasets/agregados/NE_CE_A358_JAGUARIBE.csv\n",
      "datasets/agregados/SE_MG_A506_MONTES CLAROS.csv\n",
      "datasets/agregados/N_TO_A052_SANTA ROSA DO TOCANTINS.csv\n",
      "datasets/agregados/CO_MS_A723_PORTO MURTINHO.csv\n",
      "datasets/agregados/N_TO_A051_PIUM.csv\n",
      "datasets/agregados/CO_GO_A013_ARAGARCAS.csv\n",
      "datasets/agregados/CO_DF_A001_BRASILIA.csv\n",
      "datasets/agregados/N_PA_A211_PLACAS.csv\n",
      "datasets/agregados/NE_BA_A440_JACOBINA.csv\n",
      "datasets/agregados/NE_MA_A221_BARRA DO CORDA.csv\n",
      "datasets/agregados/NE_PI_A337_CARACOL.csv\n",
      "datasets/agregados/SE_SP_A748_BARRETOS.csv\n",
      "datasets/agregados/NE_CE_A314_GUARAMIRANGA.csv\n",
      "datasets/agregados/NE_BA_A412_MACAJUBA.csv\n",
      "datasets/agregados/SE_SP_A736_ARIRANHA.csv\n",
      "datasets/agregados/CO_MT_A901_CUIABA.csv\n",
      "datasets/agregados/CO_MT_A907_RONDONOPOLIS.csv\n",
      "datasets/agregados/SE_MG_A510_VICOSA.csv\n",
      "datasets/agregados/CO_MS_A732_SAO GABRIEL DO OESTE.csv\n",
      "datasets/agregados/SE_MG_A514_SAO JOAO DEL REI.csv\n",
      "datasets/agregados/N_AM_A128_BARCELOS.csv\n",
      "datasets/agregados/S_PR_A842_NOVA FATIMA.csv\n",
      "datasets/agregados/SE_RJ_A604_CAMBUCI.csv\n",
      "datasets/agregados/SE_SP_A741_BARRA BONITA.csv\n",
      "datasets/agregados/S_RS_A805_SANTO AUGUSTO.csv\n",
      "datasets/agregados/NE_PE_A309_ARCO VERDE.csv\n",
      "datasets/agregados/S_PR_A822_NOVA TEBAS.csv\n",
      "datasets/agregados/NE_CE_A332_MORADA NOVA.csv\n",
      "datasets/agregados/N_PA_A210_PACAJA.csv\n",
      "datasets/agregados/CO_MS_S716_SANTA RITA DO PARDO.csv\n",
      "datasets/agregados/NE_PI_A363_VALENCA DO PIAUI.csv\n",
      "datasets/agregados/NE_PI_A377_ANGICAL DO PIAUI.csv\n",
      "datasets/agregados/N_TO_A048_SANTA FE DO ARAGUAIA.csv\n",
      "datasets/agregados/NE_PI_A343_PICOS.csv\n",
      "datasets/agregados/SE_SP_A762_DRACENA.csv\n",
      "datasets/agregados/N_AM_S105_DTCEA TABATINGA.csv\n",
      "datasets/agregados/N_AM_A119_MANACAPURU.csv\n",
      "datasets/agregados/S_SC_A898_CAMPOS NOVOS.csv\n",
      "datasets/agregados/NE_RN_A304_NATAL.csv\n",
      "datasets/agregados/NE_MA_A223_ALTO PARNAIBA.csv\n",
      "datasets/agregados/N_TO_A039_FORMOSO DO ARAGUAIA.csv\n",
      "datasets/agregados/CO_MS_S717_SELVIRIA.csv\n",
      "datasets/agregados/NE_CE_A342_CRATEUS.csv\n",
      "datasets/agregados/NE_PE_A350_SERRA TALHADA.csv\n",
      "datasets/agregados/N_AM_A125_RIO URUBU.csv\n",
      "datasets/agregados/S_PR_A823_INACIO MARTINS.csv\n",
      "datasets/agregados/N_AM_A117_COARI.csv\n",
      "datasets/agregados/NE_BA_A430_PIATA.csv\n",
      "datasets/agregados/CO_GO_A037_SILVANIA.csv\n",
      "datasets/agregados/SE_MG_A542_UNAI.csv\n",
      "datasets/agregados/CO_MS_A702_CAMPO GRANDE.csv\n",
      "datasets/agregados/CO_GO_A003_MORRINHOS.csv\n",
      "datasets/agregados/NE_PI_A326_BOM JESUS DO PIAUI.csv\n",
      "datasets/agregados/S_SC_A861_RIO DO CAMPO.csv\n",
      "datasets/agregados/NE_PB_A313_CAMPINA GRANDE.csv\n",
      "datasets/agregados/NE_BA_A422_ABROLHOS.csv\n",
      "datasets/agregados/SE_MG_A543_ESPINOSA.csv\n",
      "datasets/agregados/NE_PI_A361_CASTELO DO PIAUI.csv\n",
      "datasets/agregados/S_RS_A852_SAO LUIZ GONZAGA.csv\n",
      "datasets/agregados/CO_MS_A761_SONORA.csv\n",
      "datasets/agregados/SE_MG_A563_JANAUBA.csv\n",
      "datasets/agregados/SE_MG_A519_CAMPINA VERDE.csv\n",
      "datasets/agregados/NE_PI_A331_SAO JOAO DO PIAUI.csv\n",
      "datasets/agregados/NE_CE_A306_SOBRAL.csv\n",
      "datasets/agregados/SE_MG_A525_SACRAMENTO.csv\n",
      "datasets/agregados/NE_BA_A445_IPIAU.csv\n",
      "datasets/agregados/CO_MT_A914_JUARA.csv\n",
      "datasets/agregados/S_PR_A820_MAL. CANDIDO RONDON.csv\n",
      "datasets/agregados/N_PA_A256_SANTA MARIA DAS BARREIRAS.csv\n",
      "datasets/agregados/N_RO_A939_CACOAL.csv\n",
      "datasets/agregados/S_SC_A864_MAJOR VIEIRA.csv\n",
      "datasets/agregados/S_RS_A832_SAO GABRIEL.csv\n",
      "datasets/agregados/CO_MS_S710_ITAPORA.csv\n",
      "datasets/agregados/CO_GO_A005_PORANGATU.csv\n",
      "datasets/agregados/NE_PE_A328_SURUBIM.csv\n",
      "datasets/agregados/S_SC_A858_XANXERE.csv\n",
      "datasets/agregados/N_PA_S111_ULIANOPOLIS.csv\n",
      "datasets/agregados/SE_SP_A713_SOROCABA.csv\n",
      "datasets/agregados/CO_DF_A047_PARANOA (COOPA-DF).csv\n",
      "datasets/agregados/CO_MT_A926_CARLINDA.csv\n",
      "datasets/agregados/CO_GO_A012_LUZIANIA.csv\n",
      "datasets/agregados/S_RS_A881_DOM PEDRITO.csv\n",
      "datasets/agregados/S_PR_A850_PARANAPOEMA.csv\n",
      "datasets/agregados/N_AM_S117_DTCEA TEFE.csv\n",
      "datasets/agregados/SE_SP_A768_TUPA.csv\n",
      "datasets/agregados/CO_MS_S704_BONITO.csv\n",
      "datasets/agregados/NE_BA_A401_SALVADOR.csv\n"
     ]
    },
    {
     "name": "stdout",
     "output_type": "stream",
     "text": [
      "datasets/agregados/NE_PB_A334_MONTEIRO.csv\n",
      "datasets/agregados/S_RS_A887_CAPAO DO LEAO (PELOTAS).csv\n",
      "datasets/agregados/NE_PI_A336_ALVORADA DO GURGUEIA.csv\n",
      "datasets/agregados/S_RS_A802_RIO GRANDE.csv\n",
      "datasets/agregados/NE_BA_A410_ILHEUS.csv\n",
      "datasets/agregados/SE_SP_A744_BRAGANCA PAULISTA.csv\n",
      "datasets/agregados/SE_SP_A725_AVARE.csv\n",
      "datasets/agregados/N_PA_A235_NOVO REPARTIMENTO.csv\n",
      "datasets/agregados/S_SC_A863_ITUPORANGA.csv\n",
      "datasets/agregados/N_AM_S121_SANTA ISABEL DO RIO NEGRO.csv\n",
      "datasets/agregados/S_RS_A837_SOLEDADE.csv\n",
      "datasets/agregados/SE_MG_A533_GUANHAES.csv\n",
      "datasets/agregados/CO_MT_A932_GUIRATINGA.csv\n",
      "datasets/agregados/S_RS_A826_ALEGRETE.csv\n",
      "datasets/agregados/S_PR_A819_CASTRO.csv\n",
      "datasets/agregados/S_RS_A883_IBIRUBA.csv\n",
      "datasets/agregados/CO_GO_A036_CRISTALINA.csv\n",
      "datasets/agregados/CO_MT_A944_ROSARIO OESTE.csv\n",
      "datasets/agregados/N_PA_A252_DOM ELISEU.csv\n",
      "datasets/agregados/NE_SE_A453_NOSSA SENHORA DA GLORIA.csv\n",
      "datasets/agregados/SE_MG_A552_SALINAS.csv\n",
      "datasets/agregados/SE_SP_A763_MARILIA.csv\n",
      "datasets/agregados/SE_RJ_A618_TERESOPOLIS-PARQUE NACIONAL.csv\n",
      "datasets/agregados/N_AM_A133_MANICORE.csv\n",
      "datasets/agregados/NE_PE_A351_FLORESTA.csv\n",
      "datasets/agregados/NE_AL_A303_MACEIO.csv\n",
      "datasets/agregados/N_TO_A053_ALMAS.csv\n",
      "datasets/agregados/NE_BA_A402_BARREIRAS.csv\n",
      "datasets/agregados/SE_MG_A512_ITUIUTABA.csv\n",
      "datasets/agregados/CO_MT_A928_NOVA MARINGA.csv\n",
      "datasets/agregados/NE_BA_A431_CONDE.csv\n",
      "datasets/agregados/SE_SP_A738_CASA BRANCA.csv\n",
      "datasets/agregados/SE_SP_A739_ITAPIRA.csv\n",
      "datasets/agregados/CO_DF_A045_AGUAS EMENDADAS.csv\n",
      "datasets/agregados/NE_BA_A428_SENHOR DO BONFIM.csv\n",
      "datasets/agregados/NE_PI_A376_CAMPO MAIOR.csv\n",
      "datasets/agregados/NE_CE_A339_JAGUARUANA.csv\n",
      "datasets/agregados/NE_PB_A321_PATOS.csv\n",
      "datasets/agregados/NE_PI_A311_FLORIANO.csv\n",
      "datasets/agregados/S_RS_A840_BENTO GONCALVES.csv\n",
      "datasets/agregados/SE_RJ_A636_RIO DE JANEIRO - JACAREPAGUA.csv\n",
      "datasets/agregados/CO_MS_A756_AGUA CLARA.csv\n",
      "datasets/agregados/S_RS_A830_SAO BORJA.csv\n",
      "datasets/agregados/SE_MG_A553_JOAO PINHEIRO.csv\n",
      "datasets/agregados/CO_MS_A717_NHUMIRIM.csv\n",
      "datasets/agregados/CO_MS_A721_DOURADOS.csv\n",
      "datasets/agregados/NE_BA_A454_MACAUBAS.csv\n",
      "datasets/agregados/CO_MT_A941_CACERES.csv\n",
      "datasets/agregados/SE_MG_A554_CARATINGA.csv\n",
      "datasets/agregados/CO_MS_A749_JUTI.csv\n",
      "datasets/agregados/CO_MT_A912_CAMPO VERDE.csv\n",
      "datasets/agregados/N_RO_A925_PORTO VELHO.csv\n",
      "datasets/agregados/NE_BA_A424_IRECE.csv\n",
      "datasets/agregados/NE_MA_A205_CAROLINA.csv\n",
      "datasets/agregados/N_RR_S113_BALIZA.csv\n",
      "datasets/agregados/SE_MG_A530_CALDAS.csv\n",
      "datasets/agregados/S_SC_A841_JOACABA.csv\n",
      "datasets/agregados/NE_BA_A448_CURACA.csv\n",
      "datasets/agregados/CO_MS_A742_CASSILANDIA.csv\n",
      "datasets/agregados/SE_SP_A726_PIRACICABA.csv\n",
      "datasets/agregados/CO_MS_A759_BATAGUASSU.csv\n",
      "datasets/agregados/S_SC_A895_CHAPECO.csv\n",
      "datasets/agregados/NE_PB_A348_CABACEIRAS.csv\n",
      "datasets/agregados/NE_BA_A404_LUIZ EDUARDO MAGALHAES.csv\n",
      "datasets/agregados/NE_BA_A407_ITIRUCU.csv\n",
      "datasets/agregados/NE_BA_A405_CARAVELAS.csv\n",
      "datasets/agregados/N_PA_S120_DTCEA JACAREACANGA.csv\n",
      "datasets/agregados/N_PA_A212_PARAGOMINAS.csv\n",
      "datasets/agregados/NE_PE_A349_IBIMIRIM.csv\n",
      "datasets/agregados/SE_RJ_A610_PICO DO COUTO.csv\n",
      "datasets/agregados/NE_BA_A455_ITAMARAJU.csv\n",
      "datasets/agregados/NE_PI_A330_PAULISTANA.csv\n",
      "datasets/agregados/SE_MG_A534_AIMORES.csv\n",
      "datasets/agregados/SE_MG_A537_DIAMANTINA.csv\n",
      "datasets/agregados/S_SC_A806_FLORIANOPOLIS.csv\n",
      "datasets/agregados/NE_BA_A433_BRUMADO.csv\n"
     ]
    },
    {
     "data": {
      "text/html": [
       "<div>\n",
       "<style scoped>\n",
       "    .dataframe tbody tr th:only-of-type {\n",
       "        vertical-align: middle;\n",
       "    }\n",
       "\n",
       "    .dataframe tbody tr th {\n",
       "        vertical-align: top;\n",
       "    }\n",
       "\n",
       "    .dataframe thead th {\n",
       "        text-align: right;\n",
       "    }\n",
       "</style>\n",
       "<table border=\"1\" class=\"dataframe\">\n",
       "  <thead>\n",
       "    <tr style=\"text-align: right;\">\n",
       "      <th>Data</th>\n",
       "      <th>2000</th>\n",
       "      <th>2001</th>\n",
       "      <th>2002</th>\n",
       "      <th>2003</th>\n",
       "      <th>2004</th>\n",
       "      <th>2005</th>\n",
       "      <th>2006</th>\n",
       "      <th>2007</th>\n",
       "      <th>2008</th>\n",
       "      <th>2009</th>\n",
       "      <th>...</th>\n",
       "      <th>2012</th>\n",
       "      <th>2013</th>\n",
       "      <th>2014</th>\n",
       "      <th>2015</th>\n",
       "      <th>2016</th>\n",
       "      <th>2017</th>\n",
       "      <th>2018</th>\n",
       "      <th>2019</th>\n",
       "      <th>2020</th>\n",
       "      <th>2021</th>\n",
       "    </tr>\n",
       "  </thead>\n",
       "  <tbody>\n",
       "    <tr>\n",
       "      <th>NE_CE_A315_BARBALHA</th>\n",
       "      <td>NaN</td>\n",
       "      <td>NaN</td>\n",
       "      <td>NaN</td>\n",
       "      <td>NaN</td>\n",
       "      <td>NaN</td>\n",
       "      <td>NaN</td>\n",
       "      <td>NaN</td>\n",
       "      <td>0.002740</td>\n",
       "      <td>0.000000</td>\n",
       "      <td>0.000000</td>\n",
       "      <td>...</td>\n",
       "      <td>0.000000</td>\n",
       "      <td>0.000000</td>\n",
       "      <td>0.060274</td>\n",
       "      <td>0.000000</td>\n",
       "      <td>0.000000</td>\n",
       "      <td>0.452055</td>\n",
       "      <td>0.000000</td>\n",
       "      <td>0.000000</td>\n",
       "      <td>0.000000</td>\n",
       "      <td>0.446575</td>\n",
       "    </tr>\n",
       "    <tr>\n",
       "      <th>N_PA_A213_TOME ACU</th>\n",
       "      <td>NaN</td>\n",
       "      <td>NaN</td>\n",
       "      <td>NaN</td>\n",
       "      <td>NaN</td>\n",
       "      <td>NaN</td>\n",
       "      <td>NaN</td>\n",
       "      <td>NaN</td>\n",
       "      <td>0.021918</td>\n",
       "      <td>0.016393</td>\n",
       "      <td>0.049315</td>\n",
       "      <td>...</td>\n",
       "      <td>0.000000</td>\n",
       "      <td>0.000000</td>\n",
       "      <td>0.115068</td>\n",
       "      <td>0.449315</td>\n",
       "      <td>0.008197</td>\n",
       "      <td>0.000000</td>\n",
       "      <td>0.000000</td>\n",
       "      <td>0.000000</td>\n",
       "      <td>0.000000</td>\n",
       "      <td>0.049315</td>\n",
       "    </tr>\n",
       "    <tr>\n",
       "      <th>CO_MS_S705_BRASILANDIA</th>\n",
       "      <td>NaN</td>\n",
       "      <td>NaN</td>\n",
       "      <td>NaN</td>\n",
       "      <td>NaN</td>\n",
       "      <td>NaN</td>\n",
       "      <td>NaN</td>\n",
       "      <td>NaN</td>\n",
       "      <td>NaN</td>\n",
       "      <td>NaN</td>\n",
       "      <td>NaN</td>\n",
       "      <td>...</td>\n",
       "      <td>NaN</td>\n",
       "      <td>NaN</td>\n",
       "      <td>NaN</td>\n",
       "      <td>NaN</td>\n",
       "      <td>NaN</td>\n",
       "      <td>NaN</td>\n",
       "      <td>0.043836</td>\n",
       "      <td>0.421918</td>\n",
       "      <td>1.000000</td>\n",
       "      <td>1.000000</td>\n",
       "    </tr>\n",
       "    <tr>\n",
       "      <th>N_AC_A137_MARECHAL THAUMATURGO</th>\n",
       "      <td>NaN</td>\n",
       "      <td>NaN</td>\n",
       "      <td>NaN</td>\n",
       "      <td>NaN</td>\n",
       "      <td>NaN</td>\n",
       "      <td>NaN</td>\n",
       "      <td>NaN</td>\n",
       "      <td>NaN</td>\n",
       "      <td>NaN</td>\n",
       "      <td>0.002740</td>\n",
       "      <td>...</td>\n",
       "      <td>0.120219</td>\n",
       "      <td>0.139726</td>\n",
       "      <td>0.887671</td>\n",
       "      <td>0.000000</td>\n",
       "      <td>0.046448</td>\n",
       "      <td>0.520548</td>\n",
       "      <td>0.490411</td>\n",
       "      <td>0.095890</td>\n",
       "      <td>0.617486</td>\n",
       "      <td>0.969863</td>\n",
       "    </tr>\n",
       "    <tr>\n",
       "      <th>NE_CE_A360_ACARAU</th>\n",
       "      <td>NaN</td>\n",
       "      <td>NaN</td>\n",
       "      <td>NaN</td>\n",
       "      <td>NaN</td>\n",
       "      <td>NaN</td>\n",
       "      <td>NaN</td>\n",
       "      <td>NaN</td>\n",
       "      <td>NaN</td>\n",
       "      <td>NaN</td>\n",
       "      <td>0.000000</td>\n",
       "      <td>...</td>\n",
       "      <td>0.000000</td>\n",
       "      <td>0.000000</td>\n",
       "      <td>0.106849</td>\n",
       "      <td>0.000000</td>\n",
       "      <td>0.166667</td>\n",
       "      <td>0.000000</td>\n",
       "      <td>0.000000</td>\n",
       "      <td>0.191781</td>\n",
       "      <td>0.860656</td>\n",
       "      <td>1.000000</td>\n",
       "    </tr>\n",
       "    <tr>\n",
       "      <th>...</th>\n",
       "      <td>...</td>\n",
       "      <td>...</td>\n",
       "      <td>...</td>\n",
       "      <td>...</td>\n",
       "      <td>...</td>\n",
       "      <td>...</td>\n",
       "      <td>...</td>\n",
       "      <td>...</td>\n",
       "      <td>...</td>\n",
       "      <td>...</td>\n",
       "      <td>...</td>\n",
       "      <td>...</td>\n",
       "      <td>...</td>\n",
       "      <td>...</td>\n",
       "      <td>...</td>\n",
       "      <td>...</td>\n",
       "      <td>...</td>\n",
       "      <td>...</td>\n",
       "      <td>...</td>\n",
       "      <td>...</td>\n",
       "      <td>...</td>\n",
       "    </tr>\n",
       "    <tr>\n",
       "      <th>NE_PI_A330_PAULISTANA</th>\n",
       "      <td>NaN</td>\n",
       "      <td>NaN</td>\n",
       "      <td>NaN</td>\n",
       "      <td>NaN</td>\n",
       "      <td>NaN</td>\n",
       "      <td>NaN</td>\n",
       "      <td>NaN</td>\n",
       "      <td>0.008219</td>\n",
       "      <td>0.000000</td>\n",
       "      <td>0.000000</td>\n",
       "      <td>...</td>\n",
       "      <td>0.000000</td>\n",
       "      <td>0.000000</td>\n",
       "      <td>0.013699</td>\n",
       "      <td>0.068493</td>\n",
       "      <td>0.000000</td>\n",
       "      <td>0.063014</td>\n",
       "      <td>0.000000</td>\n",
       "      <td>0.000000</td>\n",
       "      <td>0.000000</td>\n",
       "      <td>0.000000</td>\n",
       "    </tr>\n",
       "    <tr>\n",
       "      <th>SE_MG_A534_AIMORES</th>\n",
       "      <td>NaN</td>\n",
       "      <td>NaN</td>\n",
       "      <td>NaN</td>\n",
       "      <td>NaN</td>\n",
       "      <td>NaN</td>\n",
       "      <td>NaN</td>\n",
       "      <td>NaN</td>\n",
       "      <td>0.010959</td>\n",
       "      <td>0.000000</td>\n",
       "      <td>0.000000</td>\n",
       "      <td>...</td>\n",
       "      <td>0.472678</td>\n",
       "      <td>0.000000</td>\n",
       "      <td>0.000000</td>\n",
       "      <td>0.000000</td>\n",
       "      <td>0.000000</td>\n",
       "      <td>0.005479</td>\n",
       "      <td>0.169863</td>\n",
       "      <td>0.000000</td>\n",
       "      <td>0.661202</td>\n",
       "      <td>0.000000</td>\n",
       "    </tr>\n",
       "    <tr>\n",
       "      <th>SE_MG_A537_DIAMANTINA</th>\n",
       "      <td>NaN</td>\n",
       "      <td>NaN</td>\n",
       "      <td>NaN</td>\n",
       "      <td>NaN</td>\n",
       "      <td>NaN</td>\n",
       "      <td>NaN</td>\n",
       "      <td>NaN</td>\n",
       "      <td>0.008219</td>\n",
       "      <td>0.000000</td>\n",
       "      <td>0.000000</td>\n",
       "      <td>...</td>\n",
       "      <td>0.000000</td>\n",
       "      <td>0.000000</td>\n",
       "      <td>0.000000</td>\n",
       "      <td>0.000000</td>\n",
       "      <td>0.000000</td>\n",
       "      <td>0.000000</td>\n",
       "      <td>0.005479</td>\n",
       "      <td>0.000000</td>\n",
       "      <td>0.000000</td>\n",
       "      <td>0.000000</td>\n",
       "    </tr>\n",
       "    <tr>\n",
       "      <th>S_SC_A806_FLORIANOPOLIS</th>\n",
       "      <td>NaN</td>\n",
       "      <td>NaN</td>\n",
       "      <td>NaN</td>\n",
       "      <td>0.167123</td>\n",
       "      <td>0.491803</td>\n",
       "      <td>0.380822</td>\n",
       "      <td>0.052055</td>\n",
       "      <td>0.071233</td>\n",
       "      <td>0.000000</td>\n",
       "      <td>0.000000</td>\n",
       "      <td>...</td>\n",
       "      <td>0.000000</td>\n",
       "      <td>0.000000</td>\n",
       "      <td>0.000000</td>\n",
       "      <td>0.000000</td>\n",
       "      <td>0.000000</td>\n",
       "      <td>0.000000</td>\n",
       "      <td>0.000000</td>\n",
       "      <td>0.000000</td>\n",
       "      <td>0.000000</td>\n",
       "      <td>0.000000</td>\n",
       "    </tr>\n",
       "    <tr>\n",
       "      <th>NE_BA_A433_BRUMADO</th>\n",
       "      <td>NaN</td>\n",
       "      <td>NaN</td>\n",
       "      <td>NaN</td>\n",
       "      <td>NaN</td>\n",
       "      <td>NaN</td>\n",
       "      <td>NaN</td>\n",
       "      <td>NaN</td>\n",
       "      <td>NaN</td>\n",
       "      <td>0.000000</td>\n",
       "      <td>0.000000</td>\n",
       "      <td>...</td>\n",
       "      <td>0.000000</td>\n",
       "      <td>0.000000</td>\n",
       "      <td>0.000000</td>\n",
       "      <td>0.016438</td>\n",
       "      <td>0.013661</td>\n",
       "      <td>0.000000</td>\n",
       "      <td>0.000000</td>\n",
       "      <td>0.000000</td>\n",
       "      <td>0.000000</td>\n",
       "      <td>0.046575</td>\n",
       "    </tr>\n",
       "  </tbody>\n",
       "</table>\n",
       "<p>613 rows × 22 columns</p>\n",
       "</div>"
      ],
      "text/plain": [
       "Data                            2000  2001  2002      2003      2004  \\\n",
       "NE_CE_A315_BARBALHA              NaN   NaN   NaN       NaN       NaN   \n",
       "N_PA_A213_TOME ACU               NaN   NaN   NaN       NaN       NaN   \n",
       "CO_MS_S705_BRASILANDIA           NaN   NaN   NaN       NaN       NaN   \n",
       "N_AC_A137_MARECHAL THAUMATURGO   NaN   NaN   NaN       NaN       NaN   \n",
       "NE_CE_A360_ACARAU                NaN   NaN   NaN       NaN       NaN   \n",
       "...                              ...   ...   ...       ...       ...   \n",
       "NE_PI_A330_PAULISTANA            NaN   NaN   NaN       NaN       NaN   \n",
       "SE_MG_A534_AIMORES               NaN   NaN   NaN       NaN       NaN   \n",
       "SE_MG_A537_DIAMANTINA            NaN   NaN   NaN       NaN       NaN   \n",
       "S_SC_A806_FLORIANOPOLIS          NaN   NaN   NaN  0.167123  0.491803   \n",
       "NE_BA_A433_BRUMADO               NaN   NaN   NaN       NaN       NaN   \n",
       "\n",
       "Data                                2005      2006      2007      2008  \\\n",
       "NE_CE_A315_BARBALHA                  NaN       NaN  0.002740  0.000000   \n",
       "N_PA_A213_TOME ACU                   NaN       NaN  0.021918  0.016393   \n",
       "CO_MS_S705_BRASILANDIA               NaN       NaN       NaN       NaN   \n",
       "N_AC_A137_MARECHAL THAUMATURGO       NaN       NaN       NaN       NaN   \n",
       "NE_CE_A360_ACARAU                    NaN       NaN       NaN       NaN   \n",
       "...                                  ...       ...       ...       ...   \n",
       "NE_PI_A330_PAULISTANA                NaN       NaN  0.008219  0.000000   \n",
       "SE_MG_A534_AIMORES                   NaN       NaN  0.010959  0.000000   \n",
       "SE_MG_A537_DIAMANTINA                NaN       NaN  0.008219  0.000000   \n",
       "S_SC_A806_FLORIANOPOLIS         0.380822  0.052055  0.071233  0.000000   \n",
       "NE_BA_A433_BRUMADO                   NaN       NaN       NaN  0.000000   \n",
       "\n",
       "Data                                2009  ...      2012      2013      2014  \\\n",
       "NE_CE_A315_BARBALHA             0.000000  ...  0.000000  0.000000  0.060274   \n",
       "N_PA_A213_TOME ACU              0.049315  ...  0.000000  0.000000  0.115068   \n",
       "CO_MS_S705_BRASILANDIA               NaN  ...       NaN       NaN       NaN   \n",
       "N_AC_A137_MARECHAL THAUMATURGO  0.002740  ...  0.120219  0.139726  0.887671   \n",
       "NE_CE_A360_ACARAU               0.000000  ...  0.000000  0.000000  0.106849   \n",
       "...                                  ...  ...       ...       ...       ...   \n",
       "NE_PI_A330_PAULISTANA           0.000000  ...  0.000000  0.000000  0.013699   \n",
       "SE_MG_A534_AIMORES              0.000000  ...  0.472678  0.000000  0.000000   \n",
       "SE_MG_A537_DIAMANTINA           0.000000  ...  0.000000  0.000000  0.000000   \n",
       "S_SC_A806_FLORIANOPOLIS         0.000000  ...  0.000000  0.000000  0.000000   \n",
       "NE_BA_A433_BRUMADO              0.000000  ...  0.000000  0.000000  0.000000   \n",
       "\n",
       "Data                                2015      2016      2017      2018  \\\n",
       "NE_CE_A315_BARBALHA             0.000000  0.000000  0.452055  0.000000   \n",
       "N_PA_A213_TOME ACU              0.449315  0.008197  0.000000  0.000000   \n",
       "CO_MS_S705_BRASILANDIA               NaN       NaN       NaN  0.043836   \n",
       "N_AC_A137_MARECHAL THAUMATURGO  0.000000  0.046448  0.520548  0.490411   \n",
       "NE_CE_A360_ACARAU               0.000000  0.166667  0.000000  0.000000   \n",
       "...                                  ...       ...       ...       ...   \n",
       "NE_PI_A330_PAULISTANA           0.068493  0.000000  0.063014  0.000000   \n",
       "SE_MG_A534_AIMORES              0.000000  0.000000  0.005479  0.169863   \n",
       "SE_MG_A537_DIAMANTINA           0.000000  0.000000  0.000000  0.005479   \n",
       "S_SC_A806_FLORIANOPOLIS         0.000000  0.000000  0.000000  0.000000   \n",
       "NE_BA_A433_BRUMADO              0.016438  0.013661  0.000000  0.000000   \n",
       "\n",
       "Data                                2019      2020      2021  \n",
       "NE_CE_A315_BARBALHA             0.000000  0.000000  0.446575  \n",
       "N_PA_A213_TOME ACU              0.000000  0.000000  0.049315  \n",
       "CO_MS_S705_BRASILANDIA          0.421918  1.000000  1.000000  \n",
       "N_AC_A137_MARECHAL THAUMATURGO  0.095890  0.617486  0.969863  \n",
       "NE_CE_A360_ACARAU               0.191781  0.860656  1.000000  \n",
       "...                                  ...       ...       ...  \n",
       "NE_PI_A330_PAULISTANA           0.000000  0.000000  0.000000  \n",
       "SE_MG_A534_AIMORES              0.000000  0.661202  0.000000  \n",
       "SE_MG_A537_DIAMANTINA           0.000000  0.000000  0.000000  \n",
       "S_SC_A806_FLORIANOPOLIS         0.000000  0.000000  0.000000  \n",
       "NE_BA_A433_BRUMADO              0.000000  0.000000  0.046575  \n",
       "\n",
       "[613 rows x 22 columns]"
      ]
     },
     "execution_count": 135,
     "metadata": {},
     "output_type": "execute_result"
    }
   ],
   "source": [
    "df = percentage_off_per_year('datasets/agregados/')\n",
    "df.to_csv(f'datasets/%_dias_off.csv', sep=';')\n",
    "df"
   ]
  },
  {
   "cell_type": "code",
   "execution_count": 197,
   "id": "f7b9d987",
   "metadata": {},
   "outputs": [
    {
     "data": {
      "application/vnd.plotly.v1+json": {
       "config": {
        "plotlyServerURL": "https://plot.ly"
       },
       "data": [
        {
         "coloraxis": "coloraxis",
         "customdata": [
          [
           "BARBALHA",
           "A315",
           "CE"
          ],
          [
           "TOME ACU",
           "A213",
           "PA"
          ],
          [
           "BRASILANDIA",
           "S705",
           "MS"
          ],
          [
           "MARECHAL THAUMATURGO",
           "A137",
           "AC"
          ],
          [
           "ACARAU",
           "A360",
           "CE"
          ],
          [
           "PIRANHAS",
           "A371",
           "AL"
          ],
          [
           "APODI",
           "A340",
           "RN"
          ],
          [
           "BRAZLANDIA",
           "A042",
           "DF"
          ],
          [
           "VILHENA",
           "A938",
           "RO"
          ],
          [
           "IMPERATRIZ",
           "A225",
           "MA"
          ],
          [
           "TANGARA DA SERRA",
           "A902",
           "MT"
          ],
          [
           "LINS",
           "A727",
           "SP"
          ],
          [
           "ICARAIMA",
           "A824",
           "PR"
          ],
          [
           "ECOPORANGA",
           "A631",
           "ES"
          ],
          [
           "SANTANA DO LIVRAMENTO",
           "A804",
           "RS"
          ],
          [
           "COLINAS DO TOCANTINS",
           "A049",
           "TO"
          ],
          [
           "AREIA",
           "A310",
           "PB"
          ],
          [
           "URUSSANGA",
           "A814",
           "SC"
          ],
          [
           "CANELA",
           "A879",
           "RS"
          ],
          [
           "BOCA DO ACRE",
           "A110",
           "AM"
          ],
          [
           "EUCLIDES DA CUNHA",
           "A442",
           "BA"
          ],
          [
           "CHAPADINHA",
           "A206",
           "MA"
          ],
          [
           "SAO ROMAO",
           "A547",
           "MG"
          ],
          [
           "BAURU",
           "A705",
           "SP"
          ],
          [
           "AQUIDAUANA",
           "A719",
           "MS"
          ],
          [
           "CACADOR",
           "A859",
           "SC"
          ],
          [
           "CAIAPONIA",
           "A023",
           "GO"
          ],
          [
           "AFONSO CLAUDIO",
           "A657",
           "ES"
          ],
          [
           "ALTA FLORESTA",
           "A924",
           "MT"
          ],
          [
           "PASSO FUNDO",
           "A839",
           "RS"
          ],
          [
           "POSSE",
           "A017",
           "GO"
          ],
          [
           "AGUA BOA",
           "A908",
           "MT"
          ],
          [
           "BELO HORIZONTE - CERCADINHO",
           "F501",
           "MG"
          ],
          [
           "MACHADO",
           "A567",
           "MG"
          ],
          [
           "SAO PAULO - INTERLAGOS",
           "A771",
           "SP"
          ],
          [
           "MARIANOPOLIS DO TO",
           "A041",
           "TO"
          ],
          [
           "VITORIA DA CONQUISTA",
           "A414",
           "BA"
          ],
          [
           "VITORIA",
           "A612",
           "ES"
          ],
          [
           "ITAQUIRAI",
           "A752",
           "MS"
          ],
          [
           "ALMENARA",
           "A508",
           "MG"
          ],
          [
           "CRMN MANAUS",
           "S103",
           "AM"
          ],
          [
           "ESTREITO",
           "A224",
           "MA"
          ],
          [
           "IGUATU",
           "A319",
           "CE"
          ],
          [
           "DIANOPOLIS",
           "A038",
           "TO"
          ],
          [
           "PALMEIRA DAS MISSOES",
           "A856",
           "RS"
          ],
          [
           "RONDON DO PARA",
           "A214",
           "PA"
          ],
          [
           "IVAI",
           "A818",
           "PR"
          ],
          [
           "NOVO ARIPUANA",
           "A144",
           "AM"
          ],
          [
           "LENCOIS",
           "A425",
           "BA"
          ],
          [
           "CAMETA",
           "A236",
           "PA"
          ],
          [
           "BOA VISTA",
           "A135",
           "RR"
          ],
          [
           "VOTUPORANGA",
           "A729",
           "SP"
          ],
          [
           "CHAPADAO DO SUL",
           "A730",
           "MS"
          ],
          [
           "VILA BELA DA SANTISSIMA TRINDADE",
           "A922",
           "MT"
          ],
          [
           "NOVO HORIZONTE",
           "A816",
           "SC"
          ],
          [
           "PILAO ARCADO",
           "A449",
           "BA"
          ],
          [
           "URUCUI",
           "A346",
           "PI"
          ],
          [
           "ITAUBAL",
           "A251",
           "AP"
          ],
          [
           "CATALAO",
           "A034",
           "GO"
          ],
          [
           "JAGUARAO",
           "A836",
           "RS"
          ],
          [
           "PARANA",
           "A010",
           "TO"
          ],
          [
           "FREDERICO WESTPHALEN",
           "A854",
           "RS"
          ],
          [
           "SALGUEIRO",
           "A370",
           "PE"
          ],
          [
           "PARATI",
           "A619",
           "RJ"
          ],
          [
           "EIRUNEPE",
           "A109",
           "AM"
          ],
          [
           "BEBEDOURO",
           "A764",
           "SP"
          ],
          [
           "CURVELO",
           "A538",
           "MG"
          ],
          [
           "CORRENTE",
           "A374",
           "PI"
          ],
          [
           "ITAPOA",
           "A851",
           "SC"
          ],
          [
           "MARIA DA FE",
           "A531",
           "MG"
          ],
          [
           "DTCEA VILHENA",
           "S104",
           "RO"
          ],
          [
           "ARQ.SAO PEDRO E SAO PAULO",
           "A302",
           "RN"
          ],
          [
           "ANGELICA",
           "S701",
           "MS"
          ],
          [
           "SAO PAULO - MIRANTE",
           "A701",
           "SP"
          ],
          [
           "CRUZ DAS ALMAS",
           "A406",
           "BA"
          ],
          [
           "BURITICUPU",
           "A238",
           "MA"
          ],
          [
           "CAMPO NOVO DOS PARECIS",
           "A905",
           "MT"
          ],
          [
           "RIO SONO",
           "A050",
           "TO"
          ],
          [
           "QUIXADA",
           "A369",
           "CE"
          ],
          [
           "NOVA UBIRATA",
           "A929",
           "MT"
          ],
          [
           "ITABAIANA",
           "A451",
           "SE"
          ],
          [
           "PEDRO AFONSO",
           "A020",
           "TO"
          ],
          [
           "JANUARIA",
           "A559",
           "MG"
          ],
          [
           "SAO SIMAO",
           "A770",
           "SP"
          ],
          [
           "POMPEU",
           "A560",
           "MG"
          ],
          [
           "EB",
           "S122",
           "MG"
          ],
          [
           "PEDRO GOMES",
           "S714",
           "MS"
          ],
          [
           "SORRISO",
           "A904",
           "MT"
          ],
          [
           "MURIAE",
           "A517",
           "MG"
          ],
          [
           "MARILANDIA",
           "A632",
           "ES"
          ],
          [
           "SAO RAIMUNDO NONATO",
           "A345",
           "PI"
          ],
          [
           "PONTA PORA",
           "A703",
           "MS"
          ],
          [
           "SAO PEDRO DO PIAUI",
           "A362",
           "PI"
          ],
          [
           "SALINOPOLIS",
           "A215",
           "PA"
          ],
          [
           "NOVA VENECIA",
           "A623",
           "ES"
          ],
          [
           "BREVES",
           "A228",
           "PA"
          ],
          [
           "PRESIDENTE PRUDENTE",
           "A707",
           "SP"
          ],
          [
           "COXIM",
           "A720",
           "MS"
          ],
          [
           "CAPITAO POCO",
           "A248",
           "PA"
          ],
          [
           "SAO BENTO",
           "S108",
           "MA"
          ],
          [
           "MAUES",
           "A122",
           "AM"
          ],
          [
           "FORTE PRINCIPE",
           "S101",
           "RO"
          ],
          [
           "LARANJEIRAS DO SUL",
           "B804",
           "PR"
          ],
          [
           "MORRETES",
           "A873",
           "PR"
          ],
          [
           "RIO BRILHANTE",
           "A743",
           "MS"
          ],
          [
           "MARAU",
           "A438",
           "BA"
          ],
          [
           "VENDA NOVA DO IMIGRANTE",
           "A633",
           "ES"
          ],
          [
           "GAUCHA DO NORTE",
           "A930",
           "MT"
          ],
          [
           "BREJO GRANDE",
           "A421",
           "SE"
          ],
          [
           "SAO LUIS",
           "A203",
           "MA"
          ],
          [
           "PORTO GRANDE",
           "A244",
           "AP"
          ],
          [
           "RIO NEGRINHO",
           "A862",
           "SC"
          ],
          [
           "BOM JESUS DA LAPA",
           "A418",
           "BA"
          ],
          [
           "RIO VERDE",
           "A025",
           "GO"
          ],
          [
           "SANTAREM",
           "A250",
           "PA"
          ],
          [
           "CRIOSFERA",
           "C891",
           "SP"
          ],
          [
           "DELFINO",
           "A443",
           "BA"
          ],
          [
           "MOSTARDAS",
           "A878",
           "RS"
          ],
          [
           "COTRIGUACU",
           "A919",
           "MT"
          ],
          [
           "BELMONTE",
           "A447",
           "BA"
          ],
          [
           "ENCRUZILHADA DO SUL",
           "A893",
           "RS"
          ],
          [
           "BRAGANCA",
           "A226",
           "PA"
          ],
          [
           "PEF YAUARETE",
           "S115",
           "AM"
          ],
          [
           "SEROPEDICA-ECOLOGIA AGRICOLA",
           "A601",
           "RJ"
          ],
          [
           "ERECHIM",
           "A828",
           "RS"
          ],
          [
           "AMAMBAI",
           "A750",
           "MS"
          ],
          [
           "RIO PARDO DE MINAS",
           "A551",
           "MG"
          ],
          [
           "ZE DOCA",
           "A255",
           "MA"
          ],
          [
           "TERESINA",
           "A312",
           "PI"
          ],
          [
           "LINHARES",
           "A614",
           "ES"
          ],
          [
           "TAUBATE",
           "A728",
           "SP"
          ],
          [
           "VACARIA",
           "A880",
           "RS"
          ],
          [
           "FORMOSA DO RIO PRETO",
           "A452",
           "BA"
          ],
          [
           "OIAPOQUE",
           "A242",
           "AP"
          ],
          [
           "HUMAITA",
           "A112",
           "AM"
          ],
          [
           "ARARANGUA",
           "A867",
           "SC"
          ],
          [
           "EPITACIOLANDIA",
           "A140",
           "AC"
          ],
          [
           "IBIRITE (ROLA MOCA)",
           "A555",
           "MG"
          ],
          [
           "UBERABA",
           "A568",
           "MG"
          ],
          [
           "GILBUES",
           "A364",
           "PI"
          ],
          [
           "SAO MIGUEL ARCANJO",
           "A715",
           "SP"
          ],
          [
           "ALTO ARAGUAIA",
           "A909",
           "MT"
          ],
          [
           "SAO JOSE DOS AUSENTES",
           "A829",
           "RS"
          ],
          [
           "GOIANESIA",
           "A022",
           "GO"
          ],
          [
           "SINOP",
           "A917",
           "MT"
          ],
          [
           "SERRA DOS AIMORES",
           "A522",
           "MG"
          ],
          [
           "ALFREDO CHAVES",
           "A615",
           "ES"
          ],
          [
           "TIANGUA",
           "A368",
           "CE"
          ],
          [
           "CANTO DO BURITI",
           "A365",
           "PI"
          ],
          [
           "SANTA RITA DE CASSIA",
           "A415",
           "BA"
          ],
          [
           "ITAITUBA",
           "A231",
           "PA"
          ],
          [
           "SAO FELIX  DO ARAGUAIA",
           "A921",
           "MT"
          ],
          [
           "VENTANIA",
           "A872",
           "PR"
          ],
          [
           "APUI",
           "A113",
           "AM"
          ],
          [
           "ITIQUIRA",
           "A933",
           "MT"
          ],
          [
           "MANTENA",
           "A540",
           "MG"
          ],
          [
           "CAMPOS DOS GOYTACAZES",
           "A607",
           "RJ"
          ],
          [
           "MINEIROS",
           "A026",
           "GO"
          ],
          [
           "POCO VERDE",
           "A419",
           "SE"
          ],
          [
           "TRES MARIAS",
           "A528",
           "MG"
          ],
          [
           "FEIRA DE SANTANA",
           "A413",
           "BA"
          ],
          [
           "SAQUAREMA - SAMPAIO CORREIA",
           "A667",
           "RJ"
          ],
          [
           "DOM ELISEU",
           "S107",
           "PA"
          ],
          [
           "ARAXA",
           "A505",
           "MG"
          ],
          [
           "FEIJO",
           "A138",
           "AC"
          ],
          [
           "ITABERABA",
           "A408",
           "BA"
          ],
          [
           "ITUMBIARA",
           "A035",
           "GO"
          ],
          [
           "OLIVEIRA",
           "A570",
           "MG"
          ],
          [
           "JUINA",
           "A920",
           "MT"
          ],
          [
           "RESENDE",
           "A609",
           "RJ"
          ],
          [
           "SAO LUIS DO PARAITINGA",
           "A740",
           "SP"
          ],
          [
           "PEF ESTIRAO DO EQUADOR",
           "S116",
           "AM"
          ],
          [
           "ITAPIPOCA",
           "A359",
           "CE"
          ],
          [
           "PARINTINS",
           "A123",
           "AM"
          ],
          [
           "ARAGUAINA",
           "A021",
           "TO"
          ],
          [
           "VARGINHA",
           "A515",
           "MG"
          ],
          [
           "SANTIAGO",
           "A833",
           "RS"
          ],
          [
           "RIO PARDO",
           "A813",
           "RS"
          ],
          [
           "ANGRA DOS REIS",
           "A628",
           "RJ"
          ],
          [
           "CONCEICAO DAS ALAGOAS",
           "A520",
           "MG"
          ],
          [
           "DIVINOPOLIS",
           "A564",
           "MG"
          ],
          [
           "FORTALEZA",
           "A305",
           "CE"
          ],
          [
           "BANDEIRANTES",
           "S703",
           "MS"
          ],
          [
           "CAXIAS",
           "A237",
           "MA"
          ],
          [
           "COLOMBO",
           "B806",
           "PR"
          ],
          [
           "FATIMA DO SUL",
           "S708",
           "MS"
          ],
          [
           "SANTA MARIA",
           "A803",
           "RS"
          ],
          [
           "CAMAQUA",
           "A838",
           "RS"
          ],
          [
           "MATEIROS",
           "A040",
           "TO"
          ],
          [
           "PATOS DE MINAS",
           "A562",
           "MG"
          ],
          [
           "PARANAIBA",
           "A710",
           "MS"
          ],
          [
           "PASSOS",
           "A516",
           "MG"
          ],
          [
           "ARACUAI",
           "A566",
           "MG"
          ],
          [
           "ITAJAI",
           "A868",
           "SC"
          ],
          [
           "CONCEICAO DO ARAGUAIA",
           "A241",
           "PA"
          ],
          [
           "ESPERANTINA",
           "A338",
           "PI"
          ],
          [
           "ITAPORANGA",
           "A373",
           "PB"
          ],
          [
           "OURINHOS",
           "A716",
           "SP"
          ],
          [
           "SALTO DO CEU",
           "A936",
           "MT"
          ],
          [
           "SAO VICENTE DO SUL",
           "A889",
           "RS"
          ],
          [
           "PETROLINA",
           "A307",
           "PE"
          ],
          [
           "GUARANTA DO NORTE",
           "A906",
           "MT"
          ],
          [
           "TUCURUI",
           "A229",
           "PA"
          ],
          [
           "GUANAMBI",
           "A426",
           "BA"
          ],
          [
           "CACHOEIRA PAULISTA",
           "A769",
           "SP"
          ],
          [
           "JALES",
           "A733",
           "SP"
          ],
          [
           "QUARAI",
           "A831",
           "RS"
          ],
          [
           "PEF IPIRANGA",
           "S102",
           "AM"
          ],
          [
           "CAMBARA DO SUL",
           "A897",
           "RS"
          ],
          [
           "TUCUMA",
           "A234",
           "PA"
          ],
          [
           "MEDICILANDIA",
           "A209",
           "PA"
          ],
          [
           "VALENCA",
           "A444",
           "BA"
          ],
          [
           "OURICURI",
           "A366",
           "PE"
          ],
          [
           "ARAPIRACA",
           "A353",
           "AL"
          ],
          [
           "S.J. DO RIO CLARO",
           "A903",
           "MT"
          ],
          [
           "CARMO",
           "A629",
           "RJ"
          ],
          [
           "URUGUAIANA",
           "A809",
           "RS"
          ],
          [
           "XINGUARA",
           "A247",
           "PA"
          ],
          [
           "CAMAPUA",
           "S707",
           "MS"
          ],
          [
           "NOVA ALVORADA DO SUL",
           "S712",
           "MS"
          ],
          [
           "UNA",
           "A437",
           "BA"
          ],
          [
           "CAMPOS DO JORDAO",
           "A706",
           "SP"
          ],
          [
           "COLINAS",
           "A222",
           "MA"
          ],
          [
           "ITAPACI",
           "A015",
           "GO"
          ],
          [
           "DIAMANTE DO NORTE",
           "A849",
           "PR"
          ],
          [
           "CORRENTINA",
           "A416",
           "BA"
          ],
          [
           "PORTO SEGURO",
           "A427",
           "BA"
          ],
          [
           "CRUZEIRO DO SUL",
           "A108",
           "AC"
          ],
          [
           "CORUMBA",
           "A724",
           "MS"
          ],
          [
           "BAIXA GRANDE DO RIBEIRO",
           "A375",
           "PI"
          ],
          [
           "BERTIOGA",
           "A765",
           "SP"
          ],
          [
           "VALENCA",
           "A611",
           "RJ"
          ],
          [
           "TIMOTEO",
           "A511",
           "MG"
          ],
          [
           "BELA VISTA",
           "A757",
           "MS"
          ],
          [
           "SAO JOSE DO XINGU",
           "A942",
           "MT"
          ],
          [
           "BURITIS",
           "A544",
           "MG"
          ],
          [
           "REMANSO",
           "A423",
           "BA"
          ],
          [
           "REDENCAO",
           "A254",
           "PA"
          ],
          [
           "ALEGRE",
           "A617",
           "ES"
          ],
          [
           "PRIMAVERA DO LESTE",
           "A923",
           "MT"
          ],
          [
           "PALMARES",
           "A357",
           "PE"
          ],
          [
           "SERRA DOS CARAJAS",
           "A230",
           "PA"
          ],
          [
           "ITABAIANINHA",
           "A417",
           "SE"
          ],
          [
           "SAO SEBASTIAO",
           "A767",
           "SP"
          ],
          [
           "PARANATINGA",
           "A915",
           "MT"
          ],
          [
           "SAO JOAQUIM",
           "A815",
           "SC"
          ],
          [
           "ARAGUACU",
           "A054",
           "TO"
          ],
          [
           "BACABAL",
           "A220",
           "MA"
          ],
          [
           "JARDIM",
           "A758",
           "MS"
          ],
          [
           "SAO FELIX DO XINGU",
           "A216",
           "PA"
          ],
          [
           "UBERLANDIA",
           "A507",
           "MG"
          ],
          [
           "IGUAPE",
           "A712",
           "SP"
          ],
          [
           "IBOTIRAMA",
           "A439",
           "BA"
          ],
          [
           "CAPELINHA",
           "A541",
           "MG"
          ],
          [
           "VILA VELHA",
           "A634",
           "ES"
          ],
          [
           "OEIRAS",
           "A354",
           "PI"
          ],
          [
           "CAMPOS SALES",
           "A347",
           "CE"
          ],
          [
           "PORTO WALTER",
           "A136",
           "AC"
          ],
          [
           "FLORESTAL",
           "A535",
           "MG"
          ],
          [
           "BARBACENA",
           "A502",
           "MG"
          ],
          [
           "ARAL MOREIRA",
           "S702",
           "MS"
          ],
          [
           "CURITIBA",
           "A807",
           "PR"
          ],
          [
           "MOCAMBINHO",
           "A539",
           "MG"
          ],
          [
           "MACAU",
           "A317",
           "RN"
          ],
          [
           "PIRAPORA",
           "A545",
           "MG"
          ],
          [
           "SAO MIGUEL DO OESTE",
           "A857",
           "SC"
          ],
          [
           "BRASNORTE (NOVO MUNDO)",
           "A927",
           "MT"
          ],
          [
           "PASSA QUATRO",
           "A529",
           "MG"
          ],
          [
           "AGUAS VERMELHAS",
           "A549",
           "MG"
          ],
          [
           "ITATIAIA",
           "A635",
           "RJ"
          ],
          [
           "CORURIPE",
           "A355",
           "AL"
          ],
          [
           "BALSAS",
           "A204",
           "MA"
          ],
          [
           "SAO LUIS DO QUITUNDE",
           "A356",
           "AL"
          ],
          [
           "COMODORO",
           "A913",
           "MT"
          ],
          [
           "SETE LAGOAS",
           "A569",
           "MG"
          ],
          [
           "FORMIGA",
           "A524",
           "MG"
          ],
          [
           "ARRAIAL DO CABO",
           "A606",
           "RJ"
          ],
          [
           "QUIXERAMOBIM",
           "A325",
           "CE"
          ],
          [
           "JOAO PESSOA",
           "A320",
           "PB"
          ],
          [
           "MOSSORO",
           "A318",
           "RN"
          ],
          [
           "SAO MATEUS",
           "A616",
           "ES"
          ],
          [
           "TRES RIOS",
           "A625",
           "RJ"
          ],
          [
           "RIO DE JANEIRO - FORTE DE COPACABANA",
           "A652",
           "RJ"
          ],
          [
           "APIACAS",
           "A910",
           "MT"
          ],
          [
           "JATAI",
           "A016",
           "GO"
          ],
          [
           "SAO SIMAO",
           "A011",
           "GO"
          ],
          [
           "LAGES",
           "A865",
           "SC"
          ],
          [
           "PARQUE ESTADUAL CHANDLESS",
           "A102",
           "AC"
          ],
          [
           "CAMPOS DOS GOYTACAZES - SAO TOME",
           "A620",
           "RJ"
          ],
          [
           "ARACAJU",
           "A409",
           "SE"
          ],
          [
           "RANCHARIA",
           "A718",
           "SP"
          ],
          [
           "RECIFE",
           "A301",
           "PE"
          ],
          [
           "PAO DE ACUCAR",
           "A323",
           "AL"
          ],
          [
           "MONTE ALEGRE DE GOIAS",
           "A032",
           "GO"
          ],
          [
           "MONTE ALEGRE",
           "A239",
           "PA"
          ],
          [
           "DOIS VIZINHOS",
           "A843",
           "PR"
          ],
          [
           "SAO SEBASTIAO DO PARAISO",
           "A561",
           "MG"
          ],
          [
           "MONTALVANIA",
           "A526",
           "MG"
          ],
          [
           "JOAQUIM TAVORA",
           "A821",
           "PR"
          ],
          [
           "MONTE VERDE",
           "A509",
           "MG"
          ],
          [
           "DORES DO INDAIA",
           "A536",
           "MG"
          ],
          [
           "LAGOA VERMELHA",
           "A844",
           "RS"
          ],
          [
           "CAMPINA DA LAGOA",
           "B803",
           "PR"
          ],
          [
           "TRES LAGOAS",
           "A704",
           "MS"
          ],
          [
           "CORONEL PACHECO",
           "A557",
           "MG"
          ],
          [
           "EDEIA",
           "A029",
           "GO"
          ],
          [
           "SAPEZAL",
           "A911",
           "MT"
          ],
          [
           "RIBEIRA DO AMPARO",
           "A458",
           "BA"
          ],
          [
           "QUERENCIA",
           "A916",
           "MT"
          ],
          [
           "BAGE",
           "A827",
           "RS"
          ],
          [
           "MACAPA",
           "A249",
           "AP"
          ],
          [
           "GOVERNADOR VALADARES",
           "A532",
           "MG"
          ],
          [
           "SALVADOR (RADIO FAROL)",
           "A456",
           "BA"
          ],
          [
           "PORTO ESTRELA",
           "A935",
           "MT"
          ],
          [
           "TAUA",
           "A324",
           "CE"
          ],
          [
           "CIDADE GAUCHA",
           "A869",
           "PR"
          ],
          [
           "GOIAS",
           "A014",
           "GO"
          ],
          [
           "TORRES",
           "A808",
           "RS"
          ],
          [
           "CAICO",
           "A316",
           "RN"
          ],
          [
           "CARIRA",
           "A420",
           "SE"
          ],
          [
           "BARUERI",
           "A755",
           "SP"
          ],
          [
           "BARRA DO TURVO",
           "A746",
           "SP"
          ],
          [
           "DTCEA GUAJARA-MIRIM",
           "S110",
           "RO"
          ],
          [
           "PACARAIMA",
           "S114",
           "RR"
          ],
          [
           "LABREA",
           "A111",
           "AM"
          ],
          [
           "CURITIBANOS",
           "A860",
           "SC"
          ],
          [
           "Laguna  - Farol de Santa Marta",
           "A866",
           "SC"
          ],
          [
           "UAUA",
           "A435",
           "BA"
          ],
          [
           "RIO CLARO",
           "A626",
           "RJ"
          ],
          [
           "GAMA (PONTE ALTA)",
           "A046",
           "DF"
          ],
          [
           "ARAGUATINS",
           "A044",
           "TO"
          ],
          [
           "NITEROI",
           "A627",
           "RJ"
          ],
          [
           "SAO CARLOS",
           "A711",
           "SP"
          ],
          [
           "ITAPETINGA",
           "A446",
           "BA"
          ],
          [
           "NOVA ANDRADINA",
           "S713",
           "MS"
          ],
          [
           "ALTO PARAISO DE GOIAS",
           "A024",
           "GO"
          ],
          [
           "PARAUNA",
           "A027",
           "GO"
          ],
          [
           "IVINHEMA",
           "A709",
           "MS"
          ],
          [
           "ALTAMIRA",
           "A253",
           "PA"
          ],
          [
           "QUEIMADAS",
           "A436",
           "BA"
          ],
          [
           "ITAPEVA",
           "A714",
           "SP"
          ],
          [
           "MARACAJU",
           "A731",
           "MS"
          ],
          [
           "SAO GONCALO",
           "A333",
           "PB"
          ],
          [
           "MACAE",
           "A608",
           "RJ"
          ],
          [
           "MIRANDA",
           "A722",
           "MS"
          ],
          [
           "CASTANHAL",
           "A202",
           "PA"
          ],
          [
           "LAGOA DA CONFUSAO",
           "A055",
           "TO"
          ],
          [
           "SAO MATEUS DO SUL",
           "A874",
           "PR"
          ],
          [
           "PONTES E LACERDA",
           "A937",
           "MT"
          ],
          [
           "BURITIRAMA",
           "A432",
           "BA"
          ],
          [
           "VALPARAISO",
           "A734",
           "SP"
          ],
          [
           "CAMPOS LINDOS",
           "A043",
           "TO"
          ],
          [
           "BELEM",
           "A201",
           "PA"
          ],
          [
           "CLEVELANDIA",
           "A876",
           "PR"
          ],
          [
           "URUCARA",
           "A124",
           "AM"
          ],
          [
           "MANHUACU",
           "A556",
           "MG"
          ],
          [
           "PARACATU",
           "A571",
           "MG"
          ],
          [
           "PRADOPOLIS",
           "A747",
           "SP"
          ],
          [
           "REGISTRO",
           "A766",
           "SP"
          ],
          [
           "JUIZ DE FORA",
           "A518",
           "MG"
          ],
          [
           "COSTA RICA",
           "A760",
           "MS"
          ],
          [
           "PATROCINIO",
           "A523",
           "MG"
          ],
          [
           "AUTAZES",
           "A120",
           "AM"
          ],
          [
           "MARABA",
           "A240",
           "PA"
          ],
          [
           "PREGUICAS",
           "A218",
           "MA"
          ],
          [
           "GARANHUNS",
           "A322",
           "PE"
          ],
          [
           "CRISTALINA (FAZENDA SANTA MONICA)",
           "A056",
           "GO"
          ],
          [
           "SANTANA DO ARAGUAIA",
           "A233",
           "PA"
          ],
          [
           "CACAPAVA DO SUL",
           "A812",
           "RS"
          ],
          [
           "SERRA NOVA DOURADA",
           "A943",
           "MT"
          ],
          [
           "TEUTONIA",
           "A882",
           "RS"
          ],
          [
           "GURUPI",
           "A019",
           "TO"
          ],
          [
           "GOIOERE",
           "A825",
           "PR"
          ],
          [
           "PARNAIBA",
           "A308",
           "PI"
          ],
          [
           "IPORA",
           "A028",
           "GO"
          ],
          [
           "CALCANHAR",
           "A344",
           "RN"
          ],
          [
           "DUQUE DE CAXIAS - XEREM",
           "A603",
           "RJ"
          ],
          [
           "ALTO TAQUARI",
           "A934",
           "MT"
          ],
          [
           "FRANCA",
           "A708",
           "SP"
          ],
          [
           "TEOFILO OTONI",
           "A527",
           "MG"
          ],
          [
           "ARIQUEMES",
           "A940",
           "RO"
          ],
          [
           "ITACOATIARA",
           "A121",
           "AM"
          ],
          [
           "CABROBO",
           "A329",
           "PE"
          ],
          [
           "CARUARU",
           "A341",
           "PE"
          ],
          [
           "SANTO ANTONIO DO LESTE",
           "A931",
           "MT"
          ],
          [
           "SERAFINA CORREA",
           "A894",
           "RS"
          ],
          [
           "SILVA JARDIM",
           "A659",
           "RJ"
          ],
          [
           "DIONISIO CERQUEIRA",
           "A848",
           "SC"
          ],
          [
           "RIO DE JANEIRO-MARAMBAIA",
           "A602",
           "RJ"
          ],
          [
           "TRAMANDAI",
           "A834",
           "RS"
          ],
          [
           "CANGUCU",
           "A811",
           "RS"
          ],
          [
           "TURIACU",
           "A219",
           "MA"
          ],
          [
           "ILHA DO MEL",
           "A847",
           "PR"
          ],
          [
           "SIDROLANDIA",
           "A754",
           "MS"
          ],
          [
           "Santa Vitoria do Palmar - Barra do Chui",
           "A899",
           "RS"
          ],
          [
           "ITUVERAVA",
           "A753",
           "SP"
          ],
          [
           "PRESIDENTE FIGUEIREDO",
           "A126",
           "AM"
          ],
          [
           "SETE QUEDAS",
           "A751",
           "MS"
          ],
          [
           "PLANALTO",
           "A855",
           "PR"
          ],
          [
           "FOZ DO IGUACU",
           "A846",
           "PR"
          ],
          [
           "AMARGOSA",
           "A434",
           "BA"
          ],
          [
           "PEIXE",
           "A018",
           "TO"
          ],
          [
           "CAMARATUBA",
           "A352",
           "PB"
          ],
          [
           "IPANGUACU",
           "A372",
           "RN"
          ],
          [
           "RIO BRANCO",
           "A104",
           "AC"
          ],
          [
           "RIBAS DO RIO PARDO",
           "S715",
           "MS"
          ],
          [
           "SANTA CRUZ",
           "A367",
           "RN"
          ],
          [
           "JAPIRA",
           "A871",
           "PR"
          ],
          [
           "JEREMOABO",
           "A450",
           "BA"
          ],
          [
           "PALMAS",
           "A009",
           "TO"
          ],
          [
           "GENERAL CARNEIRO",
           "A875",
           "PR"
          ],
          [
           "SAO MIGUEL DO ARAGUAIA",
           "A031",
           "GO"
          ],
          [
           "GRAJAU",
           "A207",
           "MA"
          ],
          [
           "IBITINGA",
           "A737",
           "SP"
          ],
          [
           "SOURE",
           "A227",
           "PA"
          ],
          [
           "BARRA",
           "A429",
           "BA"
          ],
          [
           "BOM JARDIM DA SERRA - MORRO DA IGREJA",
           "A845",
           "SC"
          ],
          [
           "MINA DO PALITO",
           "A246",
           "PA"
          ],
          [
           "SERRINHA",
           "A441",
           "BA"
          ],
          [
           "CAMPO BOM",
           "A884",
           "RS"
          ],
          [
           "RANCHO QUEIMADO",
           "A870",
           "SC"
          ],
          [
           "SANTA MARIA MADALENA",
           "A630",
           "RJ"
          ],
          [
           "BAMBUI",
           "A565",
           "MG"
          ],
          [
           "OURO BRANCO",
           "A513",
           "MG"
          ],
          [
           "INDAIAL",
           "A817",
           "SC"
          ],
          [
           "S. G. DA CACHOEIRA",
           "A134",
           "AM"
          ],
          [
           "FAROL de SANTANA",
           "A217",
           "MA"
          ],
          [
           "BELO HORIZONTE (PAMPULHA)",
           "A521",
           "MG"
          ],
          [
           "IGUATEMI",
           "S709",
           "MS"
          ],
          [
           "ITAOBIM",
           "A550",
           "MG"
          ],
          [
           "OBIDOS",
           "A232",
           "PA"
          ],
          [
           "CAARAPO",
           "S706",
           "MS"
          ],
          [
           "PIRIPIRI",
           "A335",
           "PI"
          ],
          [
           "GOIANIA",
           "A002",
           "GO"
          ],
          [
           "SANTA ROSA",
           "A810",
           "RS"
          ],
          [
           "GUARDA-MOR",
           "A546",
           "MG"
          ],
          [
           "PRES. KENNEDY",
           "A622",
           "ES"
          ],
          [
           "CHAPADA GAUCHA",
           "A548",
           "MG"
          ],
          [
           "RIO DE JANEIRO - VILA MILITAR",
           "A621",
           "RJ"
          ],
          [
           "CRUZ ALTA",
           "A853",
           "RS"
          ],
          [
           "NOVA FRIBURGO - SALINAS",
           "A624",
           "RJ"
          ],
          [
           "TUPANCIRETA",
           "A886",
           "RS"
          ],
          [
           "PORTO ALEGRE",
           "A801",
           "RS"
          ],
          [
           "MARINGA",
           "A835",
           "PR"
          ],
          [
           "SANTA TERESA",
           "A613",
           "ES"
          ],
          [
           "MANAUS",
           "A101",
           "AM"
          ],
          [
           "PIRES DO RIO",
           "A033",
           "GO"
          ],
          [
           "LAGUNA CARAPA",
           "S711",
           "MS"
          ],
          [
           "PALMEIRA DOS INDIOS",
           "A327",
           "AL"
          ],
          [
           "JOSE BONIFACIO",
           "A735",
           "SP"
          ],
          [
           "JAGUARIBE",
           "A358",
           "CE"
          ],
          [
           "MONTES CLAROS",
           "A506",
           "MG"
          ],
          [
           "SANTA ROSA DO TOCANTINS",
           "A052",
           "TO"
          ],
          [
           "PORTO MURTINHO",
           "A723",
           "MS"
          ],
          [
           "PIUM",
           "A051",
           "TO"
          ],
          [
           "ARAGARCAS",
           "A013",
           "GO"
          ],
          [
           "BRASILIA",
           "A001",
           "DF"
          ],
          [
           "PLACAS",
           "A211",
           "PA"
          ],
          [
           "JACOBINA",
           "A440",
           "BA"
          ],
          [
           "BARRA DO CORDA",
           "A221",
           "MA"
          ],
          [
           "CARACOL",
           "A337",
           "PI"
          ],
          [
           "BARRETOS",
           "A748",
           "SP"
          ],
          [
           "GUARAMIRANGA",
           "A314",
           "CE"
          ],
          [
           "MACAJUBA",
           "A412",
           "BA"
          ],
          [
           "ARIRANHA",
           "A736",
           "SP"
          ],
          [
           "CUIABA",
           "A901",
           "MT"
          ],
          [
           "RONDONOPOLIS",
           "A907",
           "MT"
          ],
          [
           "VICOSA",
           "A510",
           "MG"
          ],
          [
           "SAO GABRIEL DO OESTE",
           "A732",
           "MS"
          ],
          [
           "SAO JOAO DEL REI",
           "A514",
           "MG"
          ],
          [
           "BARCELOS",
           "A128",
           "AM"
          ],
          [
           "NOVA FATIMA",
           "A842",
           "PR"
          ],
          [
           "CAMBUCI",
           "A604",
           "RJ"
          ],
          [
           "BARRA BONITA",
           "A741",
           "SP"
          ],
          [
           "SANTO AUGUSTO",
           "A805",
           "RS"
          ],
          [
           "ARCO VERDE",
           "A309",
           "PE"
          ],
          [
           "NOVA TEBAS",
           "A822",
           "PR"
          ],
          [
           "MORADA NOVA",
           "A332",
           "CE"
          ],
          [
           "PACAJA",
           "A210",
           "PA"
          ],
          [
           "SANTA RITA DO PARDO",
           "S716",
           "MS"
          ],
          [
           "VALENCA DO PIAUI",
           "A363",
           "PI"
          ],
          [
           "ANGICAL DO PIAUI",
           "A377",
           "PI"
          ],
          [
           "SANTA FE DO ARAGUAIA",
           "A048",
           "TO"
          ],
          [
           "PICOS",
           "A343",
           "PI"
          ],
          [
           "DRACENA",
           "A762",
           "SP"
          ],
          [
           "DTCEA TABATINGA",
           "S105",
           "AM"
          ],
          [
           "MANACAPURU",
           "A119",
           "AM"
          ],
          [
           "CAMPOS NOVOS",
           "A898",
           "SC"
          ],
          [
           "NATAL",
           "A304",
           "RN"
          ],
          [
           "ALTO PARNAIBA",
           "A223",
           "MA"
          ],
          [
           "FORMOSO DO ARAGUAIA",
           "A039",
           "TO"
          ],
          [
           "SELVIRIA",
           "S717",
           "MS"
          ],
          [
           "CRATEUS",
           "A342",
           "CE"
          ],
          [
           "SERRA TALHADA",
           "A350",
           "PE"
          ],
          [
           "RIO URUBU",
           "A125",
           "AM"
          ],
          [
           "INACIO MARTINS",
           "A823",
           "PR"
          ],
          [
           "COARI",
           "A117",
           "AM"
          ],
          [
           "PIATA",
           "A430",
           "BA"
          ],
          [
           "SILVANIA",
           "A037",
           "GO"
          ],
          [
           "UNAI",
           "A542",
           "MG"
          ],
          [
           "CAMPO GRANDE",
           "A702",
           "MS"
          ],
          [
           "MORRINHOS",
           "A003",
           "GO"
          ],
          [
           "BOM JESUS DO PIAUI",
           "A326",
           "PI"
          ],
          [
           "RIO DO CAMPO",
           "A861",
           "SC"
          ],
          [
           "CAMPINA GRANDE",
           "A313",
           "PB"
          ],
          [
           "ABROLHOS",
           "A422",
           "BA"
          ],
          [
           "ESPINOSA",
           "A543",
           "MG"
          ],
          [
           "CASTELO DO PIAUI",
           "A361",
           "PI"
          ],
          [
           "SAO LUIZ GONZAGA",
           "A852",
           "RS"
          ],
          [
           "SONORA",
           "A761",
           "MS"
          ],
          [
           "JANAUBA",
           "A563",
           "MG"
          ],
          [
           "CAMPINA VERDE",
           "A519",
           "MG"
          ],
          [
           "SAO JOAO DO PIAUI",
           "A331",
           "PI"
          ],
          [
           "SOBRAL",
           "A306",
           "CE"
          ],
          [
           "SACRAMENTO",
           "A525",
           "MG"
          ],
          [
           "IPIAU",
           "A445",
           "BA"
          ],
          [
           "JUARA",
           "A914",
           "MT"
          ],
          [
           "MAL. CANDIDO RONDON",
           "A820",
           "PR"
          ],
          [
           "SANTA MARIA DAS BARREIRAS",
           "A256",
           "PA"
          ],
          [
           "CACOAL",
           "A939",
           "RO"
          ],
          [
           "MAJOR VIEIRA",
           "A864",
           "SC"
          ],
          [
           "SAO GABRIEL",
           "A832",
           "RS"
          ],
          [
           "ITAPORA",
           "S710",
           "MS"
          ],
          [
           "PORANGATU",
           "A005",
           "GO"
          ],
          [
           "SURUBIM",
           "A328",
           "PE"
          ],
          [
           "XANXERE",
           "A858",
           "SC"
          ],
          [
           "ULIANOPOLIS",
           "S111",
           "PA"
          ],
          [
           "SOROCABA",
           "A713",
           "SP"
          ],
          [
           "PARANOA (COOPA-DF)",
           "A047",
           "DF"
          ],
          [
           "CARLINDA",
           "A926",
           "MT"
          ],
          [
           "LUZIANIA",
           "A012",
           "GO"
          ],
          [
           "DOM PEDRITO",
           "A881",
           "RS"
          ],
          [
           "PARANAPOEMA",
           "A850",
           "PR"
          ],
          [
           "DTCEA TEFE",
           "S117",
           "AM"
          ],
          [
           "TUPA",
           "A768",
           "SP"
          ],
          [
           "BONITO",
           "S704",
           "MS"
          ],
          [
           "SALVADOR",
           "A401",
           "BA"
          ],
          [
           "MONTEIRO",
           "A334",
           "PB"
          ],
          [
           "CAPAO DO LEAO (PELOTAS)",
           "A887",
           "RS"
          ],
          [
           "ALVORADA DO GURGUEIA",
           "A336",
           "PI"
          ],
          [
           "RIO GRANDE",
           "A802",
           "RS"
          ],
          [
           "ILHEUS",
           "A410",
           "BA"
          ],
          [
           "BRAGANCA PAULISTA",
           "A744",
           "SP"
          ],
          [
           "AVARE",
           "A725",
           "SP"
          ],
          [
           "NOVO REPARTIMENTO",
           "A235",
           "PA"
          ],
          [
           "ITUPORANGA",
           "A863",
           "SC"
          ],
          [
           "SANTA ISABEL DO RIO NEGRO",
           "S121",
           "AM"
          ],
          [
           "SOLEDADE",
           "A837",
           "RS"
          ],
          [
           "GUANHAES",
           "A533",
           "MG"
          ],
          [
           "GUIRATINGA",
           "A932",
           "MT"
          ],
          [
           "ALEGRETE",
           "A826",
           "RS"
          ],
          [
           "CASTRO",
           "A819",
           "PR"
          ],
          [
           "IBIRUBA",
           "A883",
           "RS"
          ],
          [
           "CRISTALINA",
           "A036",
           "GO"
          ],
          [
           "ROSARIO OESTE",
           "A944",
           "MT"
          ],
          [
           "DOM ELISEU",
           "A252",
           "PA"
          ],
          [
           "NOSSA SENHORA DA GLORIA",
           "A453",
           "SE"
          ],
          [
           "SALINAS",
           "A552",
           "MG"
          ],
          [
           "MARILIA",
           "A763",
           "SP"
          ],
          [
           "TERESOPOLIS-PARQUE NACIONAL",
           "A618",
           "RJ"
          ],
          [
           "MANICORE",
           "A133",
           "AM"
          ],
          [
           "FLORESTA",
           "A351",
           "PE"
          ],
          [
           "MACEIO",
           "A303",
           "AL"
          ],
          [
           "ALMAS",
           "A053",
           "TO"
          ],
          [
           "BARREIRAS",
           "A402",
           "BA"
          ],
          [
           "ITUIUTABA",
           "A512",
           "MG"
          ],
          [
           "NOVA MARINGA",
           "A928",
           "MT"
          ],
          [
           "CONDE",
           "A431",
           "BA"
          ],
          [
           "CASA BRANCA",
           "A738",
           "SP"
          ],
          [
           "ITAPIRA",
           "A739",
           "SP"
          ],
          [
           "AGUAS EMENDADAS",
           "A045",
           "DF"
          ],
          [
           "SENHOR DO BONFIM",
           "A428",
           "BA"
          ],
          [
           "CAMPO MAIOR",
           "A376",
           "PI"
          ],
          [
           "JAGUARUANA",
           "A339",
           "CE"
          ],
          [
           "PATOS",
           "A321",
           "PB"
          ],
          [
           "FLORIANO",
           "A311",
           "PI"
          ],
          [
           "BENTO GONCALVES",
           "A840",
           "RS"
          ],
          [
           "RIO DE JANEIRO - JACAREPAGUA",
           "A636",
           "RJ"
          ],
          [
           "AGUA CLARA",
           "A756",
           "MS"
          ],
          [
           "SAO BORJA",
           "A830",
           "RS"
          ],
          [
           "JOAO PINHEIRO",
           "A553",
           "MG"
          ],
          [
           "NHUMIRIM",
           "A717",
           "MS"
          ],
          [
           "DOURADOS",
           "A721",
           "MS"
          ],
          [
           "MACAUBAS",
           "A454",
           "BA"
          ],
          [
           "CACERES",
           "A941",
           "MT"
          ],
          [
           "CARATINGA",
           "A554",
           "MG"
          ],
          [
           "JUTI",
           "A749",
           "MS"
          ],
          [
           "CAMPO VERDE",
           "A912",
           "MT"
          ],
          [
           "PORTO VELHO",
           "A925",
           "RO"
          ],
          [
           "IRECE",
           "A424",
           "BA"
          ],
          [
           "CAROLINA",
           "A205",
           "MA"
          ],
          [
           "BALIZA",
           "S113",
           "RR"
          ],
          [
           "CALDAS",
           "A530",
           "MG"
          ],
          [
           "JOACABA",
           "A841",
           "SC"
          ],
          [
           "CURACA",
           "A448",
           "BA"
          ],
          [
           "CASSILANDIA",
           "A742",
           "MS"
          ],
          [
           "PIRACICABA",
           "A726",
           "SP"
          ],
          [
           "BATAGUASSU",
           "A759",
           "MS"
          ],
          [
           "CHAPECO",
           "A895",
           "SC"
          ],
          [
           "CABACEIRAS",
           "A348",
           "PB"
          ],
          [
           "LUIZ EDUARDO MAGALHAES",
           "A404",
           "BA"
          ],
          [
           "ITIRUCU",
           "A407",
           "BA"
          ],
          [
           "CARAVELAS",
           "A405",
           "BA"
          ],
          [
           "DTCEA JACAREACANGA",
           "S120",
           "PA"
          ],
          [
           "PARAGOMINAS",
           "A212",
           "PA"
          ],
          [
           "IBIMIRIM",
           "A349",
           "PE"
          ],
          [
           "PICO DO COUTO",
           "A610",
           "RJ"
          ],
          [
           "ITAMARAJU",
           "A455",
           "BA"
          ],
          [
           "PAULISTANA",
           "A330",
           "PI"
          ],
          [
           "AIMORES",
           "A534",
           "MG"
          ],
          [
           "DIAMANTINA",
           "A537",
           "MG"
          ],
          [
           "FLORIANOPOLIS",
           "A806",
           "SC"
          ],
          [
           "BRUMADO",
           "A433",
           "BA"
          ]
         ],
         "hovertemplate": "LATITUDE=%{lat}<br>LONGITUDE=%{lon}<br>NOME=%{customdata[0]}<br>CODIGO=%{customdata[1]}<br>ESTADO=%{customdata[2]}<extra></extra>",
         "lat": [
          -7.30083333,
          -2.59249999,
          -21.29833333,
          -8.95,
          -3.1211111,
          -9.62222221,
          -5.62666666,
          -15.59972221,
          -12.73499999,
          -5.555723,
          -14.65,
          -21.66611111,
          -23.39027777,
          -18.29138888,
          -30.75055555,
          -8.092708,
          -6.975451,
          -28.53249999,
          -29.36888888,
          -8.77666666,
          -10.537233,
          -3.74277777,
          -16.362747,
          -22.358052,
          -20.47555554,
          -26.819156,
          -16.96694443,
          -20.10416666,
          -10.07722221,
          -28.226805,
          -14.08916666,
          -14.01638888,
          -19.97999999,
          -21.680722,
          -23.724501,
          -9.576389,
          -14.88638888,
          -20.27083332,
          -23.449501,
          -16.166773,
          -3.02249999,
          -6.65333333,
          -6.39638888,
          -11.59444444,
          -27.92027777,
          -4.82749999,
          -25.01083333,
          -8.0911111,
          -12.557854,
          -2.23972221,
          2.81694443,
          -20.40333333,
          -18.80222222,
          -15.06277777,
          -26.40638888,
          -10.01833332,
          -7.44138888,
          0.56777777,
          -18.154779,
          -32.53472221,
          -12.615,
          -27.39555555,
          -8.05805555,
          -23.2236111,
          -6.65027777,
          -20.94916666,
          -18.747711,
          -10.42916666,
          -26.08138888,
          -22.314567,
          -12.75055555,
          0.916877,
          -22.148083,
          -23.496294,
          -12.67555554,
          -4.32055554,
          -13.78583333,
          -9.793363,
          -4.97888888,
          -13.41111111,
          -10.67166666,
          -8.968677,
          -15.448089,
          -21.46111111,
          -19.23249999,
          3.35888888,
          -18.07277777,
          -12.555,
          -21.105,
          -19.407181,
          -9.03333333,
          -22.5525,
          -5.91111111,
          -0.61888888,
          -18.69527777,
          -1.68027777,
          -22.119867,
          -18.51222222,
          -1.73472221,
          -2.7,
          -3.39888888,
          -12.42999999,
          -25.36888888,
          -25.508935,
          -21.774944,
          -13.90694444,
          -20.38555555,
          -13.18472221,
          -10.47388888,
          -2.52666666,
          0.69416666,
          -26.2486111,
          -13.25111111,
          -17.78527777,
          -2.5025,
          -84,
          -10.455,
          -31.24833333,
          -9.90638888,
          -16.08805555,
          -30.54305555,
          -1.04722221,
          0.59944444,
          -22.75777777,
          -27.65771,
          -23.0025,
          -15.72305554,
          -3.26916666,
          -5.03472221,
          -19.35694444,
          -23.04166666,
          -28.513602,
          -11.05222222,
          3.81361111,
          -7.5525,
          -28.931353,
          -11.02388888,
          -20.031457,
          -19.71,
          -9.87527777,
          -23.85194444,
          -17.33944444,
          -28.7486111,
          -15.22027777,
          -11.98222221,
          -17.79888888,
          -20.63638888,
          -3.73222221,
          -8.117939,
          -11.00277777,
          -4.27694443,
          -11.61888888,
          -24.28027777,
          -7.20555555,
          -17.17499999,
          -18.78062,
          -21.71472222,
          -17.45472222,
          -10.73805555,
          -18.200855,
          -12.1961111,
          -22.8711111,
          -4.28999999,
          -19.605696,
          -8.14277777,
          -12.52416666,
          -18.40972222,
          -20.715,
          -11.375126,
          -22.45138888,
          -23.22833332,
          -4.52999999,
          -3.48416666,
          -2.63916666,
          -7.10388888,
          -21.56638888,
          -29.191599,
          -29.87222221,
          -22.97555554,
          -19.98586,
          -20.17333332,
          -3.81583333,
          -19.94555555,
          -4.82138888,
          -25.322464,
          -22.30861111,
          -29.72499999,
          -30.807953,
          -10.43444444,
          -18.52055554,
          -19.69555555,
          -20.745237,
          -16.84888888,
          -26.95083333,
          -8.30361111,
          -3.90083333,
          -7.31833332,
          -22.94888888,
          -15.12472221,
          -29.70222222,
          -9.388323,
          -9.9525,
          -3.82277777,
          -14.20805555,
          -22.68888888,
          -20.165,
          -30.368578,
          -2.93055554,
          -29.04916666,
          -6.74333333,
          -3.51083333,
          -13.3436111,
          -7.88583333,
          -9.80444444,
          -13.45388888,
          -21.938745,
          -29.83987,
          -7.110518,
          -19.58749999,
          -21.450972,
          -15.28027777,
          -22.75027777,
          -6.03305554,
          -14.97972221,
          -22.63944444,
          -13.33249999,
          -16.38888888,
          -7.61083333,
          -18.99666666,
          -8.333531,
          -23.84472221,
          -22.35805555,
          -19.57388888,
          -22.10166666,
          -10.48416666,
          -15.52416666,
          -9.62555554,
          -8.04333333,
          -20.75055555,
          -15.57999999,
          -8.66666666,
          -6.07749999,
          -11.2725,
          -23.81083333,
          -14.42138888,
          -28.27564,
          -12.59222221,
          -4.24305555,
          -21.4786111,
          -6.639622,
          -18.91694443,
          -24.67166666,
          -12.19305555,
          -17.70555555,
          -20.46694443,
          -6.97416666,
          -7.07777777,
          -8.26722221,
          -19.885398,
          -21.22833332,
          -22.955,
          -25.4486111,
          -15.085958,
          -5.15111111,
          -17.258064,
          -26.7861111,
          -12.52194443,
          -22.395799,
          -15.751536,
          -22.37388888,
          -10.1286111,
          -7.45555555,
          -9.28749999,
          -13.70805555,
          -19.45527777,
          -20.455,
          -22.97527777,
          -5.17444443,
          -7.16527777,
          -4.90416666,
          -18.676198,
          -22.09833333,
          -22.98833333,
          -9.56333333,
          -17.923622,
          -18.969142,
          -27.80222222,
          -9.35833333,
          -22.04166666,
          -10.9525,
          -22.37277777,
          -8.05916666,
          -9.74916666,
          -13.253521,
          -2,
          -25.69916666,
          -20.91,
          -14.40833333,
          -23.505266,
          -22.86166666,
          -19.481935,
          -28.222381,
          -24.57083332,
          -20.78333333,
          -21.54666666,
          -17.33694444,
          -13.30388888,
          -11.05861111,
          -12.627315,
          -31.34777777,
          0.03499999,
          -18.830354,
          -12.80833333,
          -15.32472221,
          -6.01749999,
          -23.359156,
          -15.93972221,
          -29.35027777,
          -6.46749999,
          -10.39972221,
          -23.52388888,
          -24.96277777,
          -10.78999999,
          4.47749999,
          -7.26055555,
          -27.288624,
          -28.60444444,
          -9.8336111,
          -22.653579,
          -15.93527777,
          -5.6436111,
          -22.867389,
          -21.980353,
          -15.24472221,
          -22.0786111,
          -14.13305554,
          -16.962536,
          -22.30055555,
          -3.27027777,
          -10.98472221,
          -23.98194443,
          -21.60916666,
          -6.835777,
          -22.3761111,
          -20.39555555,
          -1.30083333,
          -10.828286,
          -25.83555555,
          -15.23444444,
          -10.72305554,
          -21.31916666,
          -8.15472222,
          -1.411228,
          -26.41722221,
          -2.53472221,
          -20.26333333,
          -17.24444444,
          -21.33833333,
          -24.53305554,
          -21.769965,
          -18.49277777,
          -18.996684,
          -3.58333333,
          -5.36638888,
          -2.59222221,
          -8.91083333,
          -16.39944444,
          -9.3386111,
          -30.54527777,
          -11.98777777,
          -29.44916666,
          -11.74583333,
          -24.15833333,
          -3.08666666,
          -16.42305554,
          -5.16,
          -22.58972221,
          -17.8411111,
          -20.58444444,
          -17.89284,
          -9.94888888,
          -3.13333333,
          -8.504,
          -8.36527777,
          -14.92777777,
          -28.70472222,
          -22.64583333,
          -26.286562,
          -23.05027777,
          -30.01027777,
          -31.40333333,
          -1.66111111,
          -25.49444444,
          -20.98166666,
          -33.74222221,
          -20.35972222,
          -2.05666666,
          -23.96694443,
          -25.72194443,
          -25.60194444,
          -13.009468,
          -12.015377,
          -6.56194444,
          -5.53499999,
          -9.67972221,
          -20.466694,
          -6.22805554,
          -23.77333332,
          -10.08083332,
          -10.19083333,
          -26.3986111,
          -12.82055554,
          -5.81611111,
          -21.85555555,
          -0.72777777,
          -11.08472221,
          -28.126992,
          -6.31999999,
          -11.66472222,
          -29.674293,
          -27.6786111,
          -21.95055555,
          -20.0311111,
          -20.55666666,
          -26.91361111,
          -0.125207,
          -2.27083332,
          -19.88388888,
          -23.64444444,
          -16.575667,
          -1.88083332,
          -22.657056,
          -4.276047,
          -16.642841,
          -27.89055555,
          -17.56138888,
          -21.10083333,
          -15.30027777,
          -22.86138888,
          -28.60344,
          -22.33472221,
          -29.0893814,
          -30.05361111,
          -23.40527777,
          -19.988388,
          -3.10333333,
          -17.30416666,
          -22.575389,
          -9.42027777,
          -21.08555555,
          -5.90555555,
          -16.68638888,
          -11.42888888,
          -21.70583333,
          -10.47694443,
          -15.90277777,
          -15.78944444,
          -3.86416666,
          -11.205,
          -5.50666666,
          -9.28583333,
          -20.55916666,
          -4.26138888,
          -12.13166666,
          -21.13305554,
          -15.559295,
          -16.4625,
          -20.762607,
          -19.42027777,
          -21.106502,
          -0.98722221,
          -23.41527777,
          -21.58749999,
          -22.4711111,
          -27.854345,
          -8.4336111,
          -24.43722221,
          -5.13666666,
          -3.8436111,
          -21.305889,
          -6.39916666,
          -6.08944444,
          -7.124191,
          -7.0711111,
          -21.45777777,
          -4.25055555,
          -3.29472221,
          -27.3886111,
          -5.83722221,
          -9.10833333,
          -11.88749999,
          -20.35138888,
          -5.18666666,
          -7.954277,
          -2.6336111,
          -25.567879,
          -4.09749999,
          -13.155681,
          -16.67972221,
          -16.55416666,
          -20.447195,
          -17.745066,
          -9.08333333,
          -26.93749999,
          -7.225574,
          -17.96305555,
          -14.91222222,
          -5.34916666,
          -28.41722221,
          -17.63527777,
          -15.80277777,
          -19.53921,
          -8.36444444,
          -3.74805555,
          -19.87527777,
          -14.17138888,
          -11.28027777,
          -24.53333333,
          -8.72972221,
          -11.44583333,
          -26.3936111,
          -30.341438,
          -22.092833,
          -13.30944444,
          -7.83972221,
          -26.938666,
          -3.8,
          -23.4261111,
          -16.012222,
          -9.97055554,
          -16.26055555,
          -31.0025,
          -22.65833333,
          -3.37722221,
          -21.927251,
          -21.24666666,
          -13.005515,
          -7.89444444,
          -31.8025,
          -8.44166666,
          -32.07888888,
          -14.65888888,
          -22.951944,
          -23.10166666,
          -4.24388888,
          -27.41833332,
          -0.41444444,
          -28.859211,
          -18.78694444,
          -16.34166666,
          -29.709083,
          -24.78694444,
          -28.65333333,
          -16.78499999,
          -14.82888888,
          -4.28055554,
          -10.20777777,
          -16.16027777,
          -22.235222,
          -22.4486111,
          -5.7886111,
          -8.59888888,
          -9.55111111,
          -11.28416666,
          -12.12472221,
          -18.95277777,
          -13.0386111,
          -12.03583333,
          -21.78055554,
          -22.415,
          -15.596491,
          -10.44305555,
          -4.86416666,
          -4.78694444,
          -7.07972221,
          -6.76138888,
          -29.164581,
          -22.93999999,
          -20.44444444,
          -28.65,
          -17.784477,
          -18.9886111,
          -22.19388888,
          -13.03888888,
          -16.07472221,
          -19.735757,
          -22.85722222,
          -15.53138888,
          -8.7936111,
          -11.328998,
          -7.33722221,
          0.94777777,
          -21.918066,
          -27.16916666,
          -9.00138888,
          -19.12249999,
          -22.70305555,
          -21.75,
          -27.0853111,
          -7.48333333,
          -12.1525,
          -13.527828,
          -17.73944444,
          -6.23722221,
          -2.99027777,
          -8.50944444,
          -22.46472222,
          -17.00694444,
          -8.132288,
          -19.53277777,
          -18.231052,
          -27.60253,
          -14.18194443
         ],
         "lon": [
          -39.2711111,
          -48.36055555,
          -52.06888888,
          -72.78666666,
          -40.08722221,
          -37.76722221,
          -37.815,
          -48.1311111,
          -60.15777777,
          -47.459794,
          -57.43166666,
          -49.73472221,
          -53.63583333,
          -40.73638888,
          -55.40138888,
          -48.478605,
          -35.718128,
          -49.31527777,
          -50.82722221,
          -67.33249999,
          -38.996605,
          -43.35222222,
          -45.123801,
          -49.028877,
          -55.78388888,
          -50.98552,
          -51.81749999,
          -41.10694444,
          -56.17916666,
          -52.403582,
          -46.36638888,
          -52.21166666,
          -43.95861111,
          -45.944389,
          -46.677501,
          -49.723333,
          -40.80138888,
          -40.30583333,
          -54.181858,
          -40.687756,
          -60.05555555,
          -47.41833332,
          -39.26888888,
          -46.84722221,
          -53.31805554,
          -48.1736111,
          -50.85388888,
          -60.38055554,
          -41.388808,
          -49.49972221,
          -60.69083333,
          -49.96611111,
          -52.6025,
          -59.87305554,
          -52.85027777,
          -42.50027777,
          -44.34499999,
          -50.8236111,
          -47.927614,
          -53.37583332,
          -47.87194443,
          -53.42944443,
          -39.0961111,
          -44.72694443,
          -69.8686111,
          -48.48999999,
          -44.453785,
          -45.17305554,
          -48.64166666,
          -45.373049,
          -60.14916666,
          -29.345904,
          -53.763736,
          -46.620088,
          -39.08944444,
          -46.44944444,
          -57.8386111,
          -47.132732,
          -39.05722222,
          -54.75222222,
          -37.47138888,
          -48.177259,
          -44.366313,
          -47.57944443,
          -44.96416666,
          -59.82388888,
          -54.54888888,
          -55.72277777,
          -42.37583332,
          -40.539825,
          -42.70111111,
          -55.71638888,
          -42.7186111,
          -47.35666666,
          -40.39055555,
          -50.47805554,
          -51.408637,
          -54.7361111,
          -47.0575,
          -44.85,
          -57.67388888,
          -64.41999999,
          -52.39194444,
          -48.808681,
          -54.528108,
          -38.97222221,
          -41.18999999,
          -53.2575,
          -36.48194443,
          -44.21361111,
          -51.40388888,
          -49.57416666,
          -43.40527777,
          -50.965,
          -54.72027777,
          -79.49416666,
          -41.20694444,
          -50.90638888,
          -58.57222221,
          -39.21527777,
          -52.52472221,
          -46.78583333,
          -69.19194444,
          -43.68472221,
          -52.305805,
          -55.32944443,
          -42.43583333,
          -45.65111111,
          -42.80138888,
          -40.0686111,
          -45.52083332,
          -50.882738,
          -45.20083333,
          -51.8625,
          -63.07138888,
          -49.49792,
          -68.73527777,
          -44.011249,
          -47.96194444,
          -45.34583333,
          -48.16472222,
          -53.22444443,
          -50.05777777,
          -48.98999999,
          -55.56611111,
          -40.25,
          -40.74194444,
          -41.01194444,
          -42.975721,
          -44.52499999,
          -55.99305555,
          -50.72777777,
          -50.21027777,
          -59.8886111,
          -54.50166666,
          -40.986505,
          -41.34388888,
          -52.60111111,
          -38.10833333,
          -45.459836,
          -38.96749999,
          -42.60888888,
          -47.55,
          -46.949617,
          -70.3436111,
          -40.29972221,
          -49.19194444,
          -44.86444444,
          -58.774785,
          -44.44499999,
          -45.41694443,
          -71.61749999,
          -39.5886111,
          -56.75611111,
          -48.20111111,
          -45.40416666,
          -54.885653,
          -52.38194443,
          -44.30333333,
          -48.151574,
          -44.87499999,
          -38.53777777,
          -54.3686111,
          -43.3436111,
          -49.157733,
          -54.32583332,
          -53.72055554,
          -51.83424,
          -45.92194443,
          -46.44055555,
          -51.18166666,
          -46.633916,
          -42.03527777,
          -48.76194444,
          -49.28277777,
          -42.23694444,
          -38.14083333,
          -49.89444444,
          -58.12722221,
          -54.69444444,
          -40.523262,
          -54.89777777,
          -49.67499999,
          -42.74972221,
          -45.00555555,
          -50.59499999,
          -56.437115,
          -69.69527777,
          -50.14972221,
          -51.14194444,
          -52.96333333,
          -39.12666666,
          -40.10277777,
          -36.61916666,
          -56.67722221,
          -42.600936,
          -57.081899,
          -49.926072,
          -54.02999999,
          -54.341972,
          -39.09138888,
          -45.60388888,
          -44.23333333,
          -49.53999999,
          -52.89027777,
          -44.61749999,
          -39.18249999,
          -72.68138888,
          -57.63749999,
          -45.094625,
          -46.14333333,
          -43.69555555,
          -42.62249999,
          -56.54083333,
          -52.37249999,
          -46.43555555,
          -42.07722221,
          -50.00694444,
          -41.48888888,
          -54.3811111,
          -35.56805554,
          -50.14222221,
          -37.795,
          -45.4025,
          -54.0361111,
          -49.934617,
          -49.5286111,
          -44.79499999,
          -56.13777777,
          -51.956966,
          -48.25555555,
          -47.54583333,
          -43.21333333,
          -42.38916666,
          -40.40388888,
          -42.14694444,
          -40.36277777,
          -72.74777777,
          -44.416883,
          -43.76777777,
          -55.6261111,
          -49.23055554,
          -44.016036,
          -36.57305554,
          -44.835556,
          -53.51388888,
          -58.23138888,
          -44.961909,
          -41.457787,
          -44.70305555,
          -36.28638888,
          -46.02749999,
          -35.56583333,
          -59.7625,
          -44.17333332,
          -45.45388888,
          -42.02138888,
          -39.28944444,
          -34.81555555,
          -37.36694443,
          -39.864051,
          -43.20833333,
          -43.19055555,
          -57.3936111,
          -51.717467,
          -50.633449,
          -50.33555555,
          -69.92638888,
          -41.05166666,
          -37.05444444,
          -50.97472221,
          -34.95916666,
          -37.43083332,
          -46.890326,
          -54.07638888,
          -53.09527777,
          -47.11416666,
          -44.40416666,
          -49.946387,
          -46.04333333,
          -45.593932,
          -51.512845,
          -52.80027777,
          -51.71222222,
          -43.26111111,
          -49.91472222,
          -58.76333333,
          -38.44416666,
          -52.220891,
          -54.01333333,
          -51.08888888,
          -41.977007,
          -38.49583333,
          -57.22583332,
          -40.28138888,
          -52.931912,
          -50.14138888,
          -49.73333333,
          -37.08499999,
          -37.74749999,
          -46.86944443,
          -48.41638888,
          -65.33277777,
          -61.14916666,
          -64.7886111,
          -50.604283,
          -48.81333333,
          -39.49555555,
          -44.040916,
          -48.13749999,
          -48.11194444,
          -43.102056,
          -47.883927,
          -40.22944443,
          -53.46583333,
          -47.52333332,
          -50.42545,
          -53.82277777,
          -52.39472221,
          -39.61694443,
          -48.88583333,
          -55.17749999,
          -38.311583,
          -41.81194444,
          -56.43166666,
          -47.94805555,
          -49.847882,
          -50.36888888,
          -59.3461111,
          -43.65111111,
          -50.93027777,
          -46.63944444,
          -48.439512,
          -52.3486111,
          -57.75805555,
          -42.18277777,
          -46.88166666,
          -48.11388888,
          -47.86416666,
          -43.364329,
          -53.17138888,
          -46.985935,
          -59.12944443,
          -49.05111111,
          -42.7075,
          -36.49333333,
          -47.62583332,
          -50.35027777,
          -53.46694443,
          -51.4261111,
          -51.82333332,
          -49.04972221,
          -53.03055554,
          -41.78305554,
          -51.14888888,
          -35.48749999,
          -43.28222221,
          -53.28944444,
          -47.38249999,
          -41.515423,
          -62.96194444,
          -58.48277777,
          -39.31528,
          -36.02833332,
          -53.8836111,
          -51.87083332,
          -42.41555555,
          -53.633114,
          -43.59555555,
          -50.13583333,
          -52.70083333,
          -45.37249999,
          -48.32583332,
          -54.97194443,
          -53.37222221,
          -47.77527777,
          -60.02583332,
          -55.02416666,
          -53.74805555,
          -54.48305554,
          -39.616881,
          -48.544517,
          -35.13527777,
          -36.87222221,
          -68.16527777,
          -53.763028,
          -36.02666666,
          -50.18055554,
          -38.34583333,
          -48.30194444,
          -51.35361111,
          -50.33583333,
          -46.16222222,
          -48.79972221,
          -48.51583333,
          -43.13888888,
          -49.47961,
          -55.78777777,
          -39.02305554,
          -51.064042,
          -49.04194444,
          -42.01027777,
          -46.00888888,
          -43.75611111,
          -49.26805554,
          -67.061246,
          -43.62416666,
          -43.96944443,
          -54.57027777,
          -41.485588,
          -55.51972221,
          -54.819306,
          -41.794568,
          -49.220222,
          -54.47999999,
          -47.19916666,
          -41.03944444,
          -45.61749999,
          -43.41138888,
          -53.673597,
          -42.67694443,
          -53.82665025,
          -51.17472221,
          -51.93277777,
          -40.579572,
          -60.01638888,
          -48.28416666,
          -55.160333,
          -36.62027777,
          -49.92027777,
          -38.62777777,
          -43.84388888,
          -48.18499999,
          -57.88666666,
          -49.62944443,
          -52.24527777,
          -47.92583332,
          -54.21638888,
          -40.465,
          -45.23694444,
          -43.32444443,
          -48.54499999,
          -38.9311111,
          -40.35416666,
          -48.84055555,
          -56.062951,
          -54.58027777,
          -42.864013,
          -54.55305555,
          -44.250928,
          -62.92416666,
          -50.57777777,
          -41.95833333,
          -48.5575,
          -53.791179,
          -37.05555555,
          -51.96305555,
          -38.35666666,
          -50.63805555,
          -52.820375,
          -41.73999999,
          -42.72749999,
          -48.781267,
          -41.40416666,
          -51.55222222,
          -69.93499999,
          -60.62833332,
          -51.21583333,
          -35.20805555,
          -45.93194443,
          -49.60833333,
          -51.43027777,
          -40.67222221,
          -38.295082,
          -59.60055555,
          -51.077946,
          -63.14527777,
          -41.774125,
          -48.61805554,
          -46.88194443,
          -54.722615,
          -49.101698,
          -44.32638888,
          -50.14555555,
          -35.904831,
          -38.70333333,
          -42.80861111,
          -41.51222222,
          -54.9625,
          -54.76055555,
          -43.29694444,
          -49.518133,
          -42.2525,
          -40.34583333,
          -47.43416666,
          -39.69249999,
          -57.52666666,
          -54.01916666,
          -49.85638888,
          -61.43416666,
          -50.36333333,
          -54.310909,
          -54.798833,
          -49.11749999,
          -35.80111111,
          -52.39809,
          -47.51,
          -47.58555555,
          -47.557417,
          -55.82749999,
          -47.96694443,
          -54.61805554,
          -52.13444444,
          -64.72305554,
          -50.490251,
          -56.45055555,
          -38.50576,
          -37.12472221,
          -52.40722222,
          -43.86555555,
          -52.16777777,
          -39.18138888,
          -46.530556,
          -48.9411111,
          -49.93944444,
          -49.64694444,
          -65.01749999,
          -52.542387,
          -42.94305555,
          -53.76611111,
          -55.525486,
          -49.99916666,
          -53.11194444,
          -47.61305555,
          -56.44194444,
          -47.56388888,
          -37.43194443,
          -42.31027777,
          -49.965111,
          -42.98694444,
          -61.28833333,
          -38.58416666,
          -35.77027777,
          -47.21222222,
          -45.02694443,
          -49.52499999,
          -57.09222221,
          -37.68388888,
          -47.07527777,
          -46.80527777,
          -47.625801,
          -40.14833333,
          -42.14555555,
          -37.76666666,
          -37.27277777,
          -43.00333333,
          -51.534202,
          -43.40277777,
          -52.87583332,
          -56.01638888,
          -46.119394,
          -56.62277777,
          -54.91138888,
          -42.61722221,
          -57.69305555,
          -42.137146,
          -54.60555555,
          -55.13555555,
          -63.84583333,
          -41.864504,
          -47.45972222,
          -59.74638888,
          -46.382996,
          -51.55888888,
          -39.9125,
          -51.72083332,
          -47.62333332,
          -52.47138888,
          -52.6357111,
          -36.28638888,
          -45.82972221,
          -40.119752,
          -39.25861111,
          -57.77499999,
          -47.40777777,
          -37.71166666,
          -43.29138888,
          -39.55805555,
          -41.142945,
          -41.09083333,
          -43.648269,
          -48.620096,
          -41.67222221
         ],
         "name": "",
         "radius": 5,
         "subplot": "mapbox",
         "type": "densitymapbox"
        }
       ],
       "layout": {
        "coloraxis": {
         "colorscale": [
          [
           0,
           "#0d0887"
          ],
          [
           0.1111111111111111,
           "#46039f"
          ],
          [
           0.2222222222222222,
           "#7201a8"
          ],
          [
           0.3333333333333333,
           "#9c179e"
          ],
          [
           0.4444444444444444,
           "#bd3786"
          ],
          [
           0.5555555555555556,
           "#d8576b"
          ],
          [
           0.6666666666666666,
           "#ed7953"
          ],
          [
           0.7777777777777778,
           "#fb9f3a"
          ],
          [
           0.8888888888888888,
           "#fdca26"
          ],
          [
           1,
           "#f0f921"
          ]
         ]
        },
        "geo": {
         "scope": "south america"
        },
        "height": 800,
        "legend": {
         "tracegroupgap": 0
        },
        "mapbox": {
         "center": {
          "lat": -15,
          "lon": -60
         },
         "domain": {
          "x": [
           0,
           1
          ],
          "y": [
           0,
           1
          ]
         },
         "style": "carto-darkmatter",
         "zoom": 3
        },
        "margin": {
         "t": 60
        },
        "template": {
         "data": {
          "bar": [
           {
            "error_x": {
             "color": "#2a3f5f"
            },
            "error_y": {
             "color": "#2a3f5f"
            },
            "marker": {
             "line": {
              "color": "#E5ECF6",
              "width": 0.5
             },
             "pattern": {
              "fillmode": "overlay",
              "size": 10,
              "solidity": 0.2
             }
            },
            "type": "bar"
           }
          ],
          "barpolar": [
           {
            "marker": {
             "line": {
              "color": "#E5ECF6",
              "width": 0.5
             },
             "pattern": {
              "fillmode": "overlay",
              "size": 10,
              "solidity": 0.2
             }
            },
            "type": "barpolar"
           }
          ],
          "carpet": [
           {
            "aaxis": {
             "endlinecolor": "#2a3f5f",
             "gridcolor": "white",
             "linecolor": "white",
             "minorgridcolor": "white",
             "startlinecolor": "#2a3f5f"
            },
            "baxis": {
             "endlinecolor": "#2a3f5f",
             "gridcolor": "white",
             "linecolor": "white",
             "minorgridcolor": "white",
             "startlinecolor": "#2a3f5f"
            },
            "type": "carpet"
           }
          ],
          "choropleth": [
           {
            "colorbar": {
             "outlinewidth": 0,
             "ticks": ""
            },
            "type": "choropleth"
           }
          ],
          "contour": [
           {
            "colorbar": {
             "outlinewidth": 0,
             "ticks": ""
            },
            "colorscale": [
             [
              0,
              "#0d0887"
             ],
             [
              0.1111111111111111,
              "#46039f"
             ],
             [
              0.2222222222222222,
              "#7201a8"
             ],
             [
              0.3333333333333333,
              "#9c179e"
             ],
             [
              0.4444444444444444,
              "#bd3786"
             ],
             [
              0.5555555555555556,
              "#d8576b"
             ],
             [
              0.6666666666666666,
              "#ed7953"
             ],
             [
              0.7777777777777778,
              "#fb9f3a"
             ],
             [
              0.8888888888888888,
              "#fdca26"
             ],
             [
              1,
              "#f0f921"
             ]
            ],
            "type": "contour"
           }
          ],
          "contourcarpet": [
           {
            "colorbar": {
             "outlinewidth": 0,
             "ticks": ""
            },
            "type": "contourcarpet"
           }
          ],
          "heatmap": [
           {
            "colorbar": {
             "outlinewidth": 0,
             "ticks": ""
            },
            "colorscale": [
             [
              0,
              "#0d0887"
             ],
             [
              0.1111111111111111,
              "#46039f"
             ],
             [
              0.2222222222222222,
              "#7201a8"
             ],
             [
              0.3333333333333333,
              "#9c179e"
             ],
             [
              0.4444444444444444,
              "#bd3786"
             ],
             [
              0.5555555555555556,
              "#d8576b"
             ],
             [
              0.6666666666666666,
              "#ed7953"
             ],
             [
              0.7777777777777778,
              "#fb9f3a"
             ],
             [
              0.8888888888888888,
              "#fdca26"
             ],
             [
              1,
              "#f0f921"
             ]
            ],
            "type": "heatmap"
           }
          ],
          "heatmapgl": [
           {
            "colorbar": {
             "outlinewidth": 0,
             "ticks": ""
            },
            "colorscale": [
             [
              0,
              "#0d0887"
             ],
             [
              0.1111111111111111,
              "#46039f"
             ],
             [
              0.2222222222222222,
              "#7201a8"
             ],
             [
              0.3333333333333333,
              "#9c179e"
             ],
             [
              0.4444444444444444,
              "#bd3786"
             ],
             [
              0.5555555555555556,
              "#d8576b"
             ],
             [
              0.6666666666666666,
              "#ed7953"
             ],
             [
              0.7777777777777778,
              "#fb9f3a"
             ],
             [
              0.8888888888888888,
              "#fdca26"
             ],
             [
              1,
              "#f0f921"
             ]
            ],
            "type": "heatmapgl"
           }
          ],
          "histogram": [
           {
            "marker": {
             "pattern": {
              "fillmode": "overlay",
              "size": 10,
              "solidity": 0.2
             }
            },
            "type": "histogram"
           }
          ],
          "histogram2d": [
           {
            "colorbar": {
             "outlinewidth": 0,
             "ticks": ""
            },
            "colorscale": [
             [
              0,
              "#0d0887"
             ],
             [
              0.1111111111111111,
              "#46039f"
             ],
             [
              0.2222222222222222,
              "#7201a8"
             ],
             [
              0.3333333333333333,
              "#9c179e"
             ],
             [
              0.4444444444444444,
              "#bd3786"
             ],
             [
              0.5555555555555556,
              "#d8576b"
             ],
             [
              0.6666666666666666,
              "#ed7953"
             ],
             [
              0.7777777777777778,
              "#fb9f3a"
             ],
             [
              0.8888888888888888,
              "#fdca26"
             ],
             [
              1,
              "#f0f921"
             ]
            ],
            "type": "histogram2d"
           }
          ],
          "histogram2dcontour": [
           {
            "colorbar": {
             "outlinewidth": 0,
             "ticks": ""
            },
            "colorscale": [
             [
              0,
              "#0d0887"
             ],
             [
              0.1111111111111111,
              "#46039f"
             ],
             [
              0.2222222222222222,
              "#7201a8"
             ],
             [
              0.3333333333333333,
              "#9c179e"
             ],
             [
              0.4444444444444444,
              "#bd3786"
             ],
             [
              0.5555555555555556,
              "#d8576b"
             ],
             [
              0.6666666666666666,
              "#ed7953"
             ],
             [
              0.7777777777777778,
              "#fb9f3a"
             ],
             [
              0.8888888888888888,
              "#fdca26"
             ],
             [
              1,
              "#f0f921"
             ]
            ],
            "type": "histogram2dcontour"
           }
          ],
          "mesh3d": [
           {
            "colorbar": {
             "outlinewidth": 0,
             "ticks": ""
            },
            "type": "mesh3d"
           }
          ],
          "parcoords": [
           {
            "line": {
             "colorbar": {
              "outlinewidth": 0,
              "ticks": ""
             }
            },
            "type": "parcoords"
           }
          ],
          "pie": [
           {
            "automargin": true,
            "type": "pie"
           }
          ],
          "scatter": [
           {
            "fillpattern": {
             "fillmode": "overlay",
             "size": 10,
             "solidity": 0.2
            },
            "type": "scatter"
           }
          ],
          "scatter3d": [
           {
            "line": {
             "colorbar": {
              "outlinewidth": 0,
              "ticks": ""
             }
            },
            "marker": {
             "colorbar": {
              "outlinewidth": 0,
              "ticks": ""
             }
            },
            "type": "scatter3d"
           }
          ],
          "scattercarpet": [
           {
            "marker": {
             "colorbar": {
              "outlinewidth": 0,
              "ticks": ""
             }
            },
            "type": "scattercarpet"
           }
          ],
          "scattergeo": [
           {
            "marker": {
             "colorbar": {
              "outlinewidth": 0,
              "ticks": ""
             }
            },
            "type": "scattergeo"
           }
          ],
          "scattergl": [
           {
            "marker": {
             "colorbar": {
              "outlinewidth": 0,
              "ticks": ""
             }
            },
            "type": "scattergl"
           }
          ],
          "scattermapbox": [
           {
            "marker": {
             "colorbar": {
              "outlinewidth": 0,
              "ticks": ""
             }
            },
            "type": "scattermapbox"
           }
          ],
          "scatterpolar": [
           {
            "marker": {
             "colorbar": {
              "outlinewidth": 0,
              "ticks": ""
             }
            },
            "type": "scatterpolar"
           }
          ],
          "scatterpolargl": [
           {
            "marker": {
             "colorbar": {
              "outlinewidth": 0,
              "ticks": ""
             }
            },
            "type": "scatterpolargl"
           }
          ],
          "scatterternary": [
           {
            "marker": {
             "colorbar": {
              "outlinewidth": 0,
              "ticks": ""
             }
            },
            "type": "scatterternary"
           }
          ],
          "surface": [
           {
            "colorbar": {
             "outlinewidth": 0,
             "ticks": ""
            },
            "colorscale": [
             [
              0,
              "#0d0887"
             ],
             [
              0.1111111111111111,
              "#46039f"
             ],
             [
              0.2222222222222222,
              "#7201a8"
             ],
             [
              0.3333333333333333,
              "#9c179e"
             ],
             [
              0.4444444444444444,
              "#bd3786"
             ],
             [
              0.5555555555555556,
              "#d8576b"
             ],
             [
              0.6666666666666666,
              "#ed7953"
             ],
             [
              0.7777777777777778,
              "#fb9f3a"
             ],
             [
              0.8888888888888888,
              "#fdca26"
             ],
             [
              1,
              "#f0f921"
             ]
            ],
            "type": "surface"
           }
          ],
          "table": [
           {
            "cells": {
             "fill": {
              "color": "#EBF0F8"
             },
             "line": {
              "color": "white"
             }
            },
            "header": {
             "fill": {
              "color": "#C8D4E3"
             },
             "line": {
              "color": "white"
             }
            },
            "type": "table"
           }
          ]
         },
         "layout": {
          "annotationdefaults": {
           "arrowcolor": "#2a3f5f",
           "arrowhead": 0,
           "arrowwidth": 1
          },
          "autotypenumbers": "strict",
          "coloraxis": {
           "colorbar": {
            "outlinewidth": 0,
            "ticks": ""
           }
          },
          "colorscale": {
           "diverging": [
            [
             0,
             "#8e0152"
            ],
            [
             0.1,
             "#c51b7d"
            ],
            [
             0.2,
             "#de77ae"
            ],
            [
             0.3,
             "#f1b6da"
            ],
            [
             0.4,
             "#fde0ef"
            ],
            [
             0.5,
             "#f7f7f7"
            ],
            [
             0.6,
             "#e6f5d0"
            ],
            [
             0.7,
             "#b8e186"
            ],
            [
             0.8,
             "#7fbc41"
            ],
            [
             0.9,
             "#4d9221"
            ],
            [
             1,
             "#276419"
            ]
           ],
           "sequential": [
            [
             0,
             "#0d0887"
            ],
            [
             0.1111111111111111,
             "#46039f"
            ],
            [
             0.2222222222222222,
             "#7201a8"
            ],
            [
             0.3333333333333333,
             "#9c179e"
            ],
            [
             0.4444444444444444,
             "#bd3786"
            ],
            [
             0.5555555555555556,
             "#d8576b"
            ],
            [
             0.6666666666666666,
             "#ed7953"
            ],
            [
             0.7777777777777778,
             "#fb9f3a"
            ],
            [
             0.8888888888888888,
             "#fdca26"
            ],
            [
             1,
             "#f0f921"
            ]
           ],
           "sequentialminus": [
            [
             0,
             "#0d0887"
            ],
            [
             0.1111111111111111,
             "#46039f"
            ],
            [
             0.2222222222222222,
             "#7201a8"
            ],
            [
             0.3333333333333333,
             "#9c179e"
            ],
            [
             0.4444444444444444,
             "#bd3786"
            ],
            [
             0.5555555555555556,
             "#d8576b"
            ],
            [
             0.6666666666666666,
             "#ed7953"
            ],
            [
             0.7777777777777778,
             "#fb9f3a"
            ],
            [
             0.8888888888888888,
             "#fdca26"
            ],
            [
             1,
             "#f0f921"
            ]
           ]
          },
          "colorway": [
           "#636efa",
           "#EF553B",
           "#00cc96",
           "#ab63fa",
           "#FFA15A",
           "#19d3f3",
           "#FF6692",
           "#B6E880",
           "#FF97FF",
           "#FECB52"
          ],
          "font": {
           "color": "#2a3f5f"
          },
          "geo": {
           "bgcolor": "white",
           "lakecolor": "white",
           "landcolor": "#E5ECF6",
           "showlakes": true,
           "showland": true,
           "subunitcolor": "white"
          },
          "hoverlabel": {
           "align": "left"
          },
          "hovermode": "closest",
          "mapbox": {
           "style": "light"
          },
          "paper_bgcolor": "white",
          "plot_bgcolor": "#E5ECF6",
          "polar": {
           "angularaxis": {
            "gridcolor": "white",
            "linecolor": "white",
            "ticks": ""
           },
           "bgcolor": "#E5ECF6",
           "radialaxis": {
            "gridcolor": "white",
            "linecolor": "white",
            "ticks": ""
           }
          },
          "scene": {
           "xaxis": {
            "backgroundcolor": "#E5ECF6",
            "gridcolor": "white",
            "gridwidth": 2,
            "linecolor": "white",
            "showbackground": true,
            "ticks": "",
            "zerolinecolor": "white"
           },
           "yaxis": {
            "backgroundcolor": "#E5ECF6",
            "gridcolor": "white",
            "gridwidth": 2,
            "linecolor": "white",
            "showbackground": true,
            "ticks": "",
            "zerolinecolor": "white"
           },
           "zaxis": {
            "backgroundcolor": "#E5ECF6",
            "gridcolor": "white",
            "gridwidth": 2,
            "linecolor": "white",
            "showbackground": true,
            "ticks": "",
            "zerolinecolor": "white"
           }
          },
          "shapedefaults": {
           "line": {
            "color": "#2a3f5f"
           }
          },
          "ternary": {
           "aaxis": {
            "gridcolor": "white",
            "linecolor": "white",
            "ticks": ""
           },
           "baxis": {
            "gridcolor": "white",
            "linecolor": "white",
            "ticks": ""
           },
           "bgcolor": "#E5ECF6",
           "caxis": {
            "gridcolor": "white",
            "linecolor": "white",
            "ticks": ""
           }
          },
          "title": {
           "x": 0.05
          },
          "xaxis": {
           "automargin": true,
           "gridcolor": "white",
           "linecolor": "white",
           "ticks": "",
           "title": {
            "standoff": 15
           },
           "zerolinecolor": "white",
           "zerolinewidth": 2
          },
          "yaxis": {
           "automargin": true,
           "gridcolor": "white",
           "linecolor": "white",
           "ticks": "",
           "title": {
            "standoff": 15
           },
           "zerolinecolor": "white",
           "zerolinewidth": 2
          }
         }
        },
        "title": {
         "text": "Estações INMET"
        }
       }
      },
      "text/html": [
       "<div>                            <div id=\"7364dc60-0380-42d0-b811-9215d8bb0f2c\" class=\"plotly-graph-div\" style=\"height:800px; width:100%;\"></div>            <script type=\"text/javascript\">                require([\"plotly\"], function(Plotly) {                    window.PLOTLYENV=window.PLOTLYENV || {};                                    if (document.getElementById(\"7364dc60-0380-42d0-b811-9215d8bb0f2c\")) {                    Plotly.newPlot(                        \"7364dc60-0380-42d0-b811-9215d8bb0f2c\",                        [{\"coloraxis\":\"coloraxis\",\"customdata\":[[\"BARBALHA\",\"A315\",\"CE\"],[\"TOME ACU\",\"A213\",\"PA\"],[\"BRASILANDIA\",\"S705\",\"MS\"],[\"MARECHAL THAUMATURGO\",\"A137\",\"AC\"],[\"ACARAU\",\"A360\",\"CE\"],[\"PIRANHAS\",\"A371\",\"AL\"],[\"APODI\",\"A340\",\"RN\"],[\"BRAZLANDIA\",\"A042\",\"DF\"],[\"VILHENA\",\"A938\",\"RO\"],[\"IMPERATRIZ\",\"A225\",\"MA\"],[\"TANGARA DA SERRA\",\"A902\",\"MT\"],[\"LINS\",\"A727\",\"SP\"],[\"ICARAIMA\",\"A824\",\"PR\"],[\"ECOPORANGA\",\"A631\",\"ES\"],[\"SANTANA DO LIVRAMENTO\",\"A804\",\"RS\"],[\"COLINAS DO TOCANTINS\",\"A049\",\"TO\"],[\"AREIA\",\"A310\",\"PB\"],[\"URUSSANGA\",\"A814\",\"SC\"],[\"CANELA\",\"A879\",\"RS\"],[\"BOCA DO ACRE\",\"A110\",\"AM\"],[\"EUCLIDES DA CUNHA\",\"A442\",\"BA\"],[\"CHAPADINHA\",\"A206\",\"MA\"],[\"SAO ROMAO\",\"A547\",\"MG\"],[\"BAURU\",\"A705\",\"SP\"],[\"AQUIDAUANA\",\"A719\",\"MS\"],[\"CACADOR\",\"A859\",\"SC\"],[\"CAIAPONIA\",\"A023\",\"GO\"],[\"AFONSO CLAUDIO\",\"A657\",\"ES\"],[\"ALTA FLORESTA\",\"A924\",\"MT\"],[\"PASSO FUNDO\",\"A839\",\"RS\"],[\"POSSE\",\"A017\",\"GO\"],[\"AGUA BOA\",\"A908\",\"MT\"],[\"BELO HORIZONTE - CERCADINHO\",\"F501\",\"MG\"],[\"MACHADO\",\"A567\",\"MG\"],[\"SAO PAULO - INTERLAGOS\",\"A771\",\"SP\"],[\"MARIANOPOLIS DO TO\",\"A041\",\"TO\"],[\"VITORIA DA CONQUISTA\",\"A414\",\"BA\"],[\"VITORIA\",\"A612\",\"ES\"],[\"ITAQUIRAI\",\"A752\",\"MS\"],[\"ALMENARA\",\"A508\",\"MG\"],[\"CRMN MANAUS\",\"S103\",\"AM\"],[\"ESTREITO\",\"A224\",\"MA\"],[\"IGUATU\",\"A319\",\"CE\"],[\"DIANOPOLIS\",\"A038\",\"TO\"],[\"PALMEIRA DAS MISSOES\",\"A856\",\"RS\"],[\"RONDON DO PARA\",\"A214\",\"PA\"],[\"IVAI\",\"A818\",\"PR\"],[\"NOVO ARIPUANA\",\"A144\",\"AM\"],[\"LENCOIS\",\"A425\",\"BA\"],[\"CAMETA\",\"A236\",\"PA\"],[\"BOA VISTA\",\"A135\",\"RR\"],[\"VOTUPORANGA\",\"A729\",\"SP\"],[\"CHAPADAO DO SUL\",\"A730\",\"MS\"],[\"VILA BELA DA SANTISSIMA TRINDADE\",\"A922\",\"MT\"],[\"NOVO HORIZONTE\",\"A816\",\"SC\"],[\"PILAO ARCADO\",\"A449\",\"BA\"],[\"URUCUI\",\"A346\",\"PI\"],[\"ITAUBAL\",\"A251\",\"AP\"],[\"CATALAO\",\"A034\",\"GO\"],[\"JAGUARAO\",\"A836\",\"RS\"],[\"PARANA\",\"A010\",\"TO\"],[\"FREDERICO WESTPHALEN\",\"A854\",\"RS\"],[\"SALGUEIRO\",\"A370\",\"PE\"],[\"PARATI\",\"A619\",\"RJ\"],[\"EIRUNEPE\",\"A109\",\"AM\"],[\"BEBEDOURO\",\"A764\",\"SP\"],[\"CURVELO\",\"A538\",\"MG\"],[\"CORRENTE\",\"A374\",\"PI\"],[\"ITAPOA\",\"A851\",\"SC\"],[\"MARIA DA FE\",\"A531\",\"MG\"],[\"DTCEA VILHENA\",\"S104\",\"RO\"],[\"ARQ.SAO PEDRO E SAO PAULO\",\"A302\",\"RN\"],[\"ANGELICA\",\"S701\",\"MS\"],[\"SAO PAULO - MIRANTE\",\"A701\",\"SP\"],[\"CRUZ DAS ALMAS\",\"A406\",\"BA\"],[\"BURITICUPU\",\"A238\",\"MA\"],[\"CAMPO NOVO DOS PARECIS\",\"A905\",\"MT\"],[\"RIO SONO\",\"A050\",\"TO\"],[\"QUIXADA\",\"A369\",\"CE\"],[\"NOVA UBIRATA\",\"A929\",\"MT\"],[\"ITABAIANA\",\"A451\",\"SE\"],[\"PEDRO AFONSO\",\"A020\",\"TO\"],[\"JANUARIA\",\"A559\",\"MG\"],[\"SAO SIMAO\",\"A770\",\"SP\"],[\"POMPEU\",\"A560\",\"MG\"],[\"EB\",\"S122\",\"MG\"],[\"PEDRO GOMES\",\"S714\",\"MS\"],[\"SORRISO\",\"A904\",\"MT\"],[\"MURIAE\",\"A517\",\"MG\"],[\"MARILANDIA\",\"A632\",\"ES\"],[\"SAO RAIMUNDO NONATO\",\"A345\",\"PI\"],[\"PONTA PORA\",\"A703\",\"MS\"],[\"SAO PEDRO DO PIAUI\",\"A362\",\"PI\"],[\"SALINOPOLIS\",\"A215\",\"PA\"],[\"NOVA VENECIA\",\"A623\",\"ES\"],[\"BREVES\",\"A228\",\"PA\"],[\"PRESIDENTE PRUDENTE\",\"A707\",\"SP\"],[\"COXIM\",\"A720\",\"MS\"],[\"CAPITAO POCO\",\"A248\",\"PA\"],[\"SAO BENTO\",\"S108\",\"MA\"],[\"MAUES\",\"A122\",\"AM\"],[\"FORTE PRINCIPE\",\"S101\",\"RO\"],[\"LARANJEIRAS DO SUL\",\"B804\",\"PR\"],[\"MORRETES\",\"A873\",\"PR\"],[\"RIO BRILHANTE\",\"A743\",\"MS\"],[\"MARAU\",\"A438\",\"BA\"],[\"VENDA NOVA DO IMIGRANTE\",\"A633\",\"ES\"],[\"GAUCHA DO NORTE\",\"A930\",\"MT\"],[\"BREJO GRANDE\",\"A421\",\"SE\"],[\"SAO LUIS\",\"A203\",\"MA\"],[\"PORTO GRANDE\",\"A244\",\"AP\"],[\"RIO NEGRINHO\",\"A862\",\"SC\"],[\"BOM JESUS DA LAPA\",\"A418\",\"BA\"],[\"RIO VERDE\",\"A025\",\"GO\"],[\"SANTAREM\",\"A250\",\"PA\"],[\"CRIOSFERA\",\"C891\",\"SP\"],[\"DELFINO\",\"A443\",\"BA\"],[\"MOSTARDAS\",\"A878\",\"RS\"],[\"COTRIGUACU\",\"A919\",\"MT\"],[\"BELMONTE\",\"A447\",\"BA\"],[\"ENCRUZILHADA DO SUL\",\"A893\",\"RS\"],[\"BRAGANCA\",\"A226\",\"PA\"],[\"PEF YAUARETE\",\"S115\",\"AM\"],[\"SEROPEDICA-ECOLOGIA AGRICOLA\",\"A601\",\"RJ\"],[\"ERECHIM\",\"A828\",\"RS\"],[\"AMAMBAI\",\"A750\",\"MS\"],[\"RIO PARDO DE MINAS\",\"A551\",\"MG\"],[\"ZE DOCA\",\"A255\",\"MA\"],[\"TERESINA\",\"A312\",\"PI\"],[\"LINHARES\",\"A614\",\"ES\"],[\"TAUBATE\",\"A728\",\"SP\"],[\"VACARIA\",\"A880\",\"RS\"],[\"FORMOSA DO RIO PRETO\",\"A452\",\"BA\"],[\"OIAPOQUE\",\"A242\",\"AP\"],[\"HUMAITA\",\"A112\",\"AM\"],[\"ARARANGUA\",\"A867\",\"SC\"],[\"EPITACIOLANDIA\",\"A140\",\"AC\"],[\"IBIRITE (ROLA MOCA)\",\"A555\",\"MG\"],[\"UBERABA\",\"A568\",\"MG\"],[\"GILBUES\",\"A364\",\"PI\"],[\"SAO MIGUEL ARCANJO\",\"A715\",\"SP\"],[\"ALTO ARAGUAIA\",\"A909\",\"MT\"],[\"SAO JOSE DOS AUSENTES\",\"A829\",\"RS\"],[\"GOIANESIA\",\"A022\",\"GO\"],[\"SINOP\",\"A917\",\"MT\"],[\"SERRA DOS AIMORES\",\"A522\",\"MG\"],[\"ALFREDO CHAVES\",\"A615\",\"ES\"],[\"TIANGUA\",\"A368\",\"CE\"],[\"CANTO DO BURITI\",\"A365\",\"PI\"],[\"SANTA RITA DE CASSIA\",\"A415\",\"BA\"],[\"ITAITUBA\",\"A231\",\"PA\"],[\"SAO FELIX  DO ARAGUAIA\",\"A921\",\"MT\"],[\"VENTANIA\",\"A872\",\"PR\"],[\"APUI\",\"A113\",\"AM\"],[\"ITIQUIRA\",\"A933\",\"MT\"],[\"MANTENA\",\"A540\",\"MG\"],[\"CAMPOS DOS GOYTACAZES\",\"A607\",\"RJ\"],[\"MINEIROS\",\"A026\",\"GO\"],[\"POCO VERDE\",\"A419\",\"SE\"],[\"TRES MARIAS\",\"A528\",\"MG\"],[\"FEIRA DE SANTANA\",\"A413\",\"BA\"],[\"SAQUAREMA - SAMPAIO CORREIA\",\"A667\",\"RJ\"],[\"DOM ELISEU\",\"S107\",\"PA\"],[\"ARAXA\",\"A505\",\"MG\"],[\"FEIJO\",\"A138\",\"AC\"],[\"ITABERABA\",\"A408\",\"BA\"],[\"ITUMBIARA\",\"A035\",\"GO\"],[\"OLIVEIRA\",\"A570\",\"MG\"],[\"JUINA\",\"A920\",\"MT\"],[\"RESENDE\",\"A609\",\"RJ\"],[\"SAO LUIS DO PARAITINGA\",\"A740\",\"SP\"],[\"PEF ESTIRAO DO EQUADOR\",\"S116\",\"AM\"],[\"ITAPIPOCA\",\"A359\",\"CE\"],[\"PARINTINS\",\"A123\",\"AM\"],[\"ARAGUAINA\",\"A021\",\"TO\"],[\"VARGINHA\",\"A515\",\"MG\"],[\"SANTIAGO\",\"A833\",\"RS\"],[\"RIO PARDO\",\"A813\",\"RS\"],[\"ANGRA DOS REIS\",\"A628\",\"RJ\"],[\"CONCEICAO DAS ALAGOAS\",\"A520\",\"MG\"],[\"DIVINOPOLIS\",\"A564\",\"MG\"],[\"FORTALEZA\",\"A305\",\"CE\"],[\"BANDEIRANTES\",\"S703\",\"MS\"],[\"CAXIAS\",\"A237\",\"MA\"],[\"COLOMBO\",\"B806\",\"PR\"],[\"FATIMA DO SUL\",\"S708\",\"MS\"],[\"SANTA MARIA\",\"A803\",\"RS\"],[\"CAMAQUA\",\"A838\",\"RS\"],[\"MATEIROS\",\"A040\",\"TO\"],[\"PATOS DE MINAS\",\"A562\",\"MG\"],[\"PARANAIBA\",\"A710\",\"MS\"],[\"PASSOS\",\"A516\",\"MG\"],[\"ARACUAI\",\"A566\",\"MG\"],[\"ITAJAI\",\"A868\",\"SC\"],[\"CONCEICAO DO ARAGUAIA\",\"A241\",\"PA\"],[\"ESPERANTINA\",\"A338\",\"PI\"],[\"ITAPORANGA\",\"A373\",\"PB\"],[\"OURINHOS\",\"A716\",\"SP\"],[\"SALTO DO CEU\",\"A936\",\"MT\"],[\"SAO VICENTE DO SUL\",\"A889\",\"RS\"],[\"PETROLINA\",\"A307\",\"PE\"],[\"GUARANTA DO NORTE\",\"A906\",\"MT\"],[\"TUCURUI\",\"A229\",\"PA\"],[\"GUANAMBI\",\"A426\",\"BA\"],[\"CACHOEIRA PAULISTA\",\"A769\",\"SP\"],[\"JALES\",\"A733\",\"SP\"],[\"QUARAI\",\"A831\",\"RS\"],[\"PEF IPIRANGA\",\"S102\",\"AM\"],[\"CAMBARA DO SUL\",\"A897\",\"RS\"],[\"TUCUMA\",\"A234\",\"PA\"],[\"MEDICILANDIA\",\"A209\",\"PA\"],[\"VALENCA\",\"A444\",\"BA\"],[\"OURICURI\",\"A366\",\"PE\"],[\"ARAPIRACA\",\"A353\",\"AL\"],[\"S.J. DO RIO CLARO\",\"A903\",\"MT\"],[\"CARMO\",\"A629\",\"RJ\"],[\"URUGUAIANA\",\"A809\",\"RS\"],[\"XINGUARA\",\"A247\",\"PA\"],[\"CAMAPUA\",\"S707\",\"MS\"],[\"NOVA ALVORADA DO SUL\",\"S712\",\"MS\"],[\"UNA\",\"A437\",\"BA\"],[\"CAMPOS DO JORDAO\",\"A706\",\"SP\"],[\"COLINAS\",\"A222\",\"MA\"],[\"ITAPACI\",\"A015\",\"GO\"],[\"DIAMANTE DO NORTE\",\"A849\",\"PR\"],[\"CORRENTINA\",\"A416\",\"BA\"],[\"PORTO SEGURO\",\"A427\",\"BA\"],[\"CRUZEIRO DO SUL\",\"A108\",\"AC\"],[\"CORUMBA\",\"A724\",\"MS\"],[\"BAIXA GRANDE DO RIBEIRO\",\"A375\",\"PI\"],[\"BERTIOGA\",\"A765\",\"SP\"],[\"VALENCA\",\"A611\",\"RJ\"],[\"TIMOTEO\",\"A511\",\"MG\"],[\"BELA VISTA\",\"A757\",\"MS\"],[\"SAO JOSE DO XINGU\",\"A942\",\"MT\"],[\"BURITIS\",\"A544\",\"MG\"],[\"REMANSO\",\"A423\",\"BA\"],[\"REDENCAO\",\"A254\",\"PA\"],[\"ALEGRE\",\"A617\",\"ES\"],[\"PRIMAVERA DO LESTE\",\"A923\",\"MT\"],[\"PALMARES\",\"A357\",\"PE\"],[\"SERRA DOS CARAJAS\",\"A230\",\"PA\"],[\"ITABAIANINHA\",\"A417\",\"SE\"],[\"SAO SEBASTIAO\",\"A767\",\"SP\"],[\"PARANATINGA\",\"A915\",\"MT\"],[\"SAO JOAQUIM\",\"A815\",\"SC\"],[\"ARAGUACU\",\"A054\",\"TO\"],[\"BACABAL\",\"A220\",\"MA\"],[\"JARDIM\",\"A758\",\"MS\"],[\"SAO FELIX DO XINGU\",\"A216\",\"PA\"],[\"UBERLANDIA\",\"A507\",\"MG\"],[\"IGUAPE\",\"A712\",\"SP\"],[\"IBOTIRAMA\",\"A439\",\"BA\"],[\"CAPELINHA\",\"A541\",\"MG\"],[\"VILA VELHA\",\"A634\",\"ES\"],[\"OEIRAS\",\"A354\",\"PI\"],[\"CAMPOS SALES\",\"A347\",\"CE\"],[\"PORTO WALTER\",\"A136\",\"AC\"],[\"FLORESTAL\",\"A535\",\"MG\"],[\"BARBACENA\",\"A502\",\"MG\"],[\"ARAL MOREIRA\",\"S702\",\"MS\"],[\"CURITIBA\",\"A807\",\"PR\"],[\"MOCAMBINHO\",\"A539\",\"MG\"],[\"MACAU\",\"A317\",\"RN\"],[\"PIRAPORA\",\"A545\",\"MG\"],[\"SAO MIGUEL DO OESTE\",\"A857\",\"SC\"],[\"BRASNORTE (NOVO MUNDO)\",\"A927\",\"MT\"],[\"PASSA QUATRO\",\"A529\",\"MG\"],[\"AGUAS VERMELHAS\",\"A549\",\"MG\"],[\"ITATIAIA\",\"A635\",\"RJ\"],[\"CORURIPE\",\"A355\",\"AL\"],[\"BALSAS\",\"A204\",\"MA\"],[\"SAO LUIS DO QUITUNDE\",\"A356\",\"AL\"],[\"COMODORO\",\"A913\",\"MT\"],[\"SETE LAGOAS\",\"A569\",\"MG\"],[\"FORMIGA\",\"A524\",\"MG\"],[\"ARRAIAL DO CABO\",\"A606\",\"RJ\"],[\"QUIXERAMOBIM\",\"A325\",\"CE\"],[\"JOAO PESSOA\",\"A320\",\"PB\"],[\"MOSSORO\",\"A318\",\"RN\"],[\"SAO MATEUS\",\"A616\",\"ES\"],[\"TRES RIOS\",\"A625\",\"RJ\"],[\"RIO DE JANEIRO - FORTE DE COPACABANA\",\"A652\",\"RJ\"],[\"APIACAS\",\"A910\",\"MT\"],[\"JATAI\",\"A016\",\"GO\"],[\"SAO SIMAO\",\"A011\",\"GO\"],[\"LAGES\",\"A865\",\"SC\"],[\"PARQUE ESTADUAL CHANDLESS\",\"A102\",\"AC\"],[\"CAMPOS DOS GOYTACAZES - SAO TOME\",\"A620\",\"RJ\"],[\"ARACAJU\",\"A409\",\"SE\"],[\"RANCHARIA\",\"A718\",\"SP\"],[\"RECIFE\",\"A301\",\"PE\"],[\"PAO DE ACUCAR\",\"A323\",\"AL\"],[\"MONTE ALEGRE DE GOIAS\",\"A032\",\"GO\"],[\"MONTE ALEGRE\",\"A239\",\"PA\"],[\"DOIS VIZINHOS\",\"A843\",\"PR\"],[\"SAO SEBASTIAO DO PARAISO\",\"A561\",\"MG\"],[\"MONTALVANIA\",\"A526\",\"MG\"],[\"JOAQUIM TAVORA\",\"A821\",\"PR\"],[\"MONTE VERDE\",\"A509\",\"MG\"],[\"DORES DO INDAIA\",\"A536\",\"MG\"],[\"LAGOA VERMELHA\",\"A844\",\"RS\"],[\"CAMPINA DA LAGOA\",\"B803\",\"PR\"],[\"TRES LAGOAS\",\"A704\",\"MS\"],[\"CORONEL PACHECO\",\"A557\",\"MG\"],[\"EDEIA\",\"A029\",\"GO\"],[\"SAPEZAL\",\"A911\",\"MT\"],[\"RIBEIRA DO AMPARO\",\"A458\",\"BA\"],[\"QUERENCIA\",\"A916\",\"MT\"],[\"BAGE\",\"A827\",\"RS\"],[\"MACAPA\",\"A249\",\"AP\"],[\"GOVERNADOR VALADARES\",\"A532\",\"MG\"],[\"SALVADOR (RADIO FAROL)\",\"A456\",\"BA\"],[\"PORTO ESTRELA\",\"A935\",\"MT\"],[\"TAUA\",\"A324\",\"CE\"],[\"CIDADE GAUCHA\",\"A869\",\"PR\"],[\"GOIAS\",\"A014\",\"GO\"],[\"TORRES\",\"A808\",\"RS\"],[\"CAICO\",\"A316\",\"RN\"],[\"CARIRA\",\"A420\",\"SE\"],[\"BARUERI\",\"A755\",\"SP\"],[\"BARRA DO TURVO\",\"A746\",\"SP\"],[\"DTCEA GUAJARA-MIRIM\",\"S110\",\"RO\"],[\"PACARAIMA\",\"S114\",\"RR\"],[\"LABREA\",\"A111\",\"AM\"],[\"CURITIBANOS\",\"A860\",\"SC\"],[\"Laguna  - Farol de Santa Marta\",\"A866\",\"SC\"],[\"UAUA\",\"A435\",\"BA\"],[\"RIO CLARO\",\"A626\",\"RJ\"],[\"GAMA (PONTE ALTA)\",\"A046\",\"DF\"],[\"ARAGUATINS\",\"A044\",\"TO\"],[\"NITEROI\",\"A627\",\"RJ\"],[\"SAO CARLOS\",\"A711\",\"SP\"],[\"ITAPETINGA\",\"A446\",\"BA\"],[\"NOVA ANDRADINA\",\"S713\",\"MS\"],[\"ALTO PARAISO DE GOIAS\",\"A024\",\"GO\"],[\"PARAUNA\",\"A027\",\"GO\"],[\"IVINHEMA\",\"A709\",\"MS\"],[\"ALTAMIRA\",\"A253\",\"PA\"],[\"QUEIMADAS\",\"A436\",\"BA\"],[\"ITAPEVA\",\"A714\",\"SP\"],[\"MARACAJU\",\"A731\",\"MS\"],[\"SAO GONCALO\",\"A333\",\"PB\"],[\"MACAE\",\"A608\",\"RJ\"],[\"MIRANDA\",\"A722\",\"MS\"],[\"CASTANHAL\",\"A202\",\"PA\"],[\"LAGOA DA CONFUSAO\",\"A055\",\"TO\"],[\"SAO MATEUS DO SUL\",\"A874\",\"PR\"],[\"PONTES E LACERDA\",\"A937\",\"MT\"],[\"BURITIRAMA\",\"A432\",\"BA\"],[\"VALPARAISO\",\"A734\",\"SP\"],[\"CAMPOS LINDOS\",\"A043\",\"TO\"],[\"BELEM\",\"A201\",\"PA\"],[\"CLEVELANDIA\",\"A876\",\"PR\"],[\"URUCARA\",\"A124\",\"AM\"],[\"MANHUACU\",\"A556\",\"MG\"],[\"PARACATU\",\"A571\",\"MG\"],[\"PRADOPOLIS\",\"A747\",\"SP\"],[\"REGISTRO\",\"A766\",\"SP\"],[\"JUIZ DE FORA\",\"A518\",\"MG\"],[\"COSTA RICA\",\"A760\",\"MS\"],[\"PATROCINIO\",\"A523\",\"MG\"],[\"AUTAZES\",\"A120\",\"AM\"],[\"MARABA\",\"A240\",\"PA\"],[\"PREGUICAS\",\"A218\",\"MA\"],[\"GARANHUNS\",\"A322\",\"PE\"],[\"CRISTALINA (FAZENDA SANTA MONICA)\",\"A056\",\"GO\"],[\"SANTANA DO ARAGUAIA\",\"A233\",\"PA\"],[\"CACAPAVA DO SUL\",\"A812\",\"RS\"],[\"SERRA NOVA DOURADA\",\"A943\",\"MT\"],[\"TEUTONIA\",\"A882\",\"RS\"],[\"GURUPI\",\"A019\",\"TO\"],[\"GOIOERE\",\"A825\",\"PR\"],[\"PARNAIBA\",\"A308\",\"PI\"],[\"IPORA\",\"A028\",\"GO\"],[\"CALCANHAR\",\"A344\",\"RN\"],[\"DUQUE DE CAXIAS - XEREM\",\"A603\",\"RJ\"],[\"ALTO TAQUARI\",\"A934\",\"MT\"],[\"FRANCA\",\"A708\",\"SP\"],[\"TEOFILO OTONI\",\"A527\",\"MG\"],[\"ARIQUEMES\",\"A940\",\"RO\"],[\"ITACOATIARA\",\"A121\",\"AM\"],[\"CABROBO\",\"A329\",\"PE\"],[\"CARUARU\",\"A341\",\"PE\"],[\"SANTO ANTONIO DO LESTE\",\"A931\",\"MT\"],[\"SERAFINA CORREA\",\"A894\",\"RS\"],[\"SILVA JARDIM\",\"A659\",\"RJ\"],[\"DIONISIO CERQUEIRA\",\"A848\",\"SC\"],[\"RIO DE JANEIRO-MARAMBAIA\",\"A602\",\"RJ\"],[\"TRAMANDAI\",\"A834\",\"RS\"],[\"CANGUCU\",\"A811\",\"RS\"],[\"TURIACU\",\"A219\",\"MA\"],[\"ILHA DO MEL\",\"A847\",\"PR\"],[\"SIDROLANDIA\",\"A754\",\"MS\"],[\"Santa Vitoria do Palmar - Barra do Chui\",\"A899\",\"RS\"],[\"ITUVERAVA\",\"A753\",\"SP\"],[\"PRESIDENTE FIGUEIREDO\",\"A126\",\"AM\"],[\"SETE QUEDAS\",\"A751\",\"MS\"],[\"PLANALTO\",\"A855\",\"PR\"],[\"FOZ DO IGUACU\",\"A846\",\"PR\"],[\"AMARGOSA\",\"A434\",\"BA\"],[\"PEIXE\",\"A018\",\"TO\"],[\"CAMARATUBA\",\"A352\",\"PB\"],[\"IPANGUACU\",\"A372\",\"RN\"],[\"RIO BRANCO\",\"A104\",\"AC\"],[\"RIBAS DO RIO PARDO\",\"S715\",\"MS\"],[\"SANTA CRUZ\",\"A367\",\"RN\"],[\"JAPIRA\",\"A871\",\"PR\"],[\"JEREMOABO\",\"A450\",\"BA\"],[\"PALMAS\",\"A009\",\"TO\"],[\"GENERAL CARNEIRO\",\"A875\",\"PR\"],[\"SAO MIGUEL DO ARAGUAIA\",\"A031\",\"GO\"],[\"GRAJAU\",\"A207\",\"MA\"],[\"IBITINGA\",\"A737\",\"SP\"],[\"SOURE\",\"A227\",\"PA\"],[\"BARRA\",\"A429\",\"BA\"],[\"BOM JARDIM DA SERRA - MORRO DA IGREJA\",\"A845\",\"SC\"],[\"MINA DO PALITO\",\"A246\",\"PA\"],[\"SERRINHA\",\"A441\",\"BA\"],[\"CAMPO BOM\",\"A884\",\"RS\"],[\"RANCHO QUEIMADO\",\"A870\",\"SC\"],[\"SANTA MARIA MADALENA\",\"A630\",\"RJ\"],[\"BAMBUI\",\"A565\",\"MG\"],[\"OURO BRANCO\",\"A513\",\"MG\"],[\"INDAIAL\",\"A817\",\"SC\"],[\"S. G. DA CACHOEIRA\",\"A134\",\"AM\"],[\"FAROL de SANTANA\",\"A217\",\"MA\"],[\"BELO HORIZONTE (PAMPULHA)\",\"A521\",\"MG\"],[\"IGUATEMI\",\"S709\",\"MS\"],[\"ITAOBIM\",\"A550\",\"MG\"],[\"OBIDOS\",\"A232\",\"PA\"],[\"CAARAPO\",\"S706\",\"MS\"],[\"PIRIPIRI\",\"A335\",\"PI\"],[\"GOIANIA\",\"A002\",\"GO\"],[\"SANTA ROSA\",\"A810\",\"RS\"],[\"GUARDA-MOR\",\"A546\",\"MG\"],[\"PRES. KENNEDY\",\"A622\",\"ES\"],[\"CHAPADA GAUCHA\",\"A548\",\"MG\"],[\"RIO DE JANEIRO - VILA MILITAR\",\"A621\",\"RJ\"],[\"CRUZ ALTA\",\"A853\",\"RS\"],[\"NOVA FRIBURGO - SALINAS\",\"A624\",\"RJ\"],[\"TUPANCIRETA\",\"A886\",\"RS\"],[\"PORTO ALEGRE\",\"A801\",\"RS\"],[\"MARINGA\",\"A835\",\"PR\"],[\"SANTA TERESA\",\"A613\",\"ES\"],[\"MANAUS\",\"A101\",\"AM\"],[\"PIRES DO RIO\",\"A033\",\"GO\"],[\"LAGUNA CARAPA\",\"S711\",\"MS\"],[\"PALMEIRA DOS INDIOS\",\"A327\",\"AL\"],[\"JOSE BONIFACIO\",\"A735\",\"SP\"],[\"JAGUARIBE\",\"A358\",\"CE\"],[\"MONTES CLAROS\",\"A506\",\"MG\"],[\"SANTA ROSA DO TOCANTINS\",\"A052\",\"TO\"],[\"PORTO MURTINHO\",\"A723\",\"MS\"],[\"PIUM\",\"A051\",\"TO\"],[\"ARAGARCAS\",\"A013\",\"GO\"],[\"BRASILIA\",\"A001\",\"DF\"],[\"PLACAS\",\"A211\",\"PA\"],[\"JACOBINA\",\"A440\",\"BA\"],[\"BARRA DO CORDA\",\"A221\",\"MA\"],[\"CARACOL\",\"A337\",\"PI\"],[\"BARRETOS\",\"A748\",\"SP\"],[\"GUARAMIRANGA\",\"A314\",\"CE\"],[\"MACAJUBA\",\"A412\",\"BA\"],[\"ARIRANHA\",\"A736\",\"SP\"],[\"CUIABA\",\"A901\",\"MT\"],[\"RONDONOPOLIS\",\"A907\",\"MT\"],[\"VICOSA\",\"A510\",\"MG\"],[\"SAO GABRIEL DO OESTE\",\"A732\",\"MS\"],[\"SAO JOAO DEL REI\",\"A514\",\"MG\"],[\"BARCELOS\",\"A128\",\"AM\"],[\"NOVA FATIMA\",\"A842\",\"PR\"],[\"CAMBUCI\",\"A604\",\"RJ\"],[\"BARRA BONITA\",\"A741\",\"SP\"],[\"SANTO AUGUSTO\",\"A805\",\"RS\"],[\"ARCO VERDE\",\"A309\",\"PE\"],[\"NOVA TEBAS\",\"A822\",\"PR\"],[\"MORADA NOVA\",\"A332\",\"CE\"],[\"PACAJA\",\"A210\",\"PA\"],[\"SANTA RITA DO PARDO\",\"S716\",\"MS\"],[\"VALENCA DO PIAUI\",\"A363\",\"PI\"],[\"ANGICAL DO PIAUI\",\"A377\",\"PI\"],[\"SANTA FE DO ARAGUAIA\",\"A048\",\"TO\"],[\"PICOS\",\"A343\",\"PI\"],[\"DRACENA\",\"A762\",\"SP\"],[\"DTCEA TABATINGA\",\"S105\",\"AM\"],[\"MANACAPURU\",\"A119\",\"AM\"],[\"CAMPOS NOVOS\",\"A898\",\"SC\"],[\"NATAL\",\"A304\",\"RN\"],[\"ALTO PARNAIBA\",\"A223\",\"MA\"],[\"FORMOSO DO ARAGUAIA\",\"A039\",\"TO\"],[\"SELVIRIA\",\"S717\",\"MS\"],[\"CRATEUS\",\"A342\",\"CE\"],[\"SERRA TALHADA\",\"A350\",\"PE\"],[\"RIO URUBU\",\"A125\",\"AM\"],[\"INACIO MARTINS\",\"A823\",\"PR\"],[\"COARI\",\"A117\",\"AM\"],[\"PIATA\",\"A430\",\"BA\"],[\"SILVANIA\",\"A037\",\"GO\"],[\"UNAI\",\"A542\",\"MG\"],[\"CAMPO GRANDE\",\"A702\",\"MS\"],[\"MORRINHOS\",\"A003\",\"GO\"],[\"BOM JESUS DO PIAUI\",\"A326\",\"PI\"],[\"RIO DO CAMPO\",\"A861\",\"SC\"],[\"CAMPINA GRANDE\",\"A313\",\"PB\"],[\"ABROLHOS\",\"A422\",\"BA\"],[\"ESPINOSA\",\"A543\",\"MG\"],[\"CASTELO DO PIAUI\",\"A361\",\"PI\"],[\"SAO LUIZ GONZAGA\",\"A852\",\"RS\"],[\"SONORA\",\"A761\",\"MS\"],[\"JANAUBA\",\"A563\",\"MG\"],[\"CAMPINA VERDE\",\"A519\",\"MG\"],[\"SAO JOAO DO PIAUI\",\"A331\",\"PI\"],[\"SOBRAL\",\"A306\",\"CE\"],[\"SACRAMENTO\",\"A525\",\"MG\"],[\"IPIAU\",\"A445\",\"BA\"],[\"JUARA\",\"A914\",\"MT\"],[\"MAL. CANDIDO RONDON\",\"A820\",\"PR\"],[\"SANTA MARIA DAS BARREIRAS\",\"A256\",\"PA\"],[\"CACOAL\",\"A939\",\"RO\"],[\"MAJOR VIEIRA\",\"A864\",\"SC\"],[\"SAO GABRIEL\",\"A832\",\"RS\"],[\"ITAPORA\",\"S710\",\"MS\"],[\"PORANGATU\",\"A005\",\"GO\"],[\"SURUBIM\",\"A328\",\"PE\"],[\"XANXERE\",\"A858\",\"SC\"],[\"ULIANOPOLIS\",\"S111\",\"PA\"],[\"SOROCABA\",\"A713\",\"SP\"],[\"PARANOA (COOPA-DF)\",\"A047\",\"DF\"],[\"CARLINDA\",\"A926\",\"MT\"],[\"LUZIANIA\",\"A012\",\"GO\"],[\"DOM PEDRITO\",\"A881\",\"RS\"],[\"PARANAPOEMA\",\"A850\",\"PR\"],[\"DTCEA TEFE\",\"S117\",\"AM\"],[\"TUPA\",\"A768\",\"SP\"],[\"BONITO\",\"S704\",\"MS\"],[\"SALVADOR\",\"A401\",\"BA\"],[\"MONTEIRO\",\"A334\",\"PB\"],[\"CAPAO DO LEAO (PELOTAS)\",\"A887\",\"RS\"],[\"ALVORADA DO GURGUEIA\",\"A336\",\"PI\"],[\"RIO GRANDE\",\"A802\",\"RS\"],[\"ILHEUS\",\"A410\",\"BA\"],[\"BRAGANCA PAULISTA\",\"A744\",\"SP\"],[\"AVARE\",\"A725\",\"SP\"],[\"NOVO REPARTIMENTO\",\"A235\",\"PA\"],[\"ITUPORANGA\",\"A863\",\"SC\"],[\"SANTA ISABEL DO RIO NEGRO\",\"S121\",\"AM\"],[\"SOLEDADE\",\"A837\",\"RS\"],[\"GUANHAES\",\"A533\",\"MG\"],[\"GUIRATINGA\",\"A932\",\"MT\"],[\"ALEGRETE\",\"A826\",\"RS\"],[\"CASTRO\",\"A819\",\"PR\"],[\"IBIRUBA\",\"A883\",\"RS\"],[\"CRISTALINA\",\"A036\",\"GO\"],[\"ROSARIO OESTE\",\"A944\",\"MT\"],[\"DOM ELISEU\",\"A252\",\"PA\"],[\"NOSSA SENHORA DA GLORIA\",\"A453\",\"SE\"],[\"SALINAS\",\"A552\",\"MG\"],[\"MARILIA\",\"A763\",\"SP\"],[\"TERESOPOLIS-PARQUE NACIONAL\",\"A618\",\"RJ\"],[\"MANICORE\",\"A133\",\"AM\"],[\"FLORESTA\",\"A351\",\"PE\"],[\"MACEIO\",\"A303\",\"AL\"],[\"ALMAS\",\"A053\",\"TO\"],[\"BARREIRAS\",\"A402\",\"BA\"],[\"ITUIUTABA\",\"A512\",\"MG\"],[\"NOVA MARINGA\",\"A928\",\"MT\"],[\"CONDE\",\"A431\",\"BA\"],[\"CASA BRANCA\",\"A738\",\"SP\"],[\"ITAPIRA\",\"A739\",\"SP\"],[\"AGUAS EMENDADAS\",\"A045\",\"DF\"],[\"SENHOR DO BONFIM\",\"A428\",\"BA\"],[\"CAMPO MAIOR\",\"A376\",\"PI\"],[\"JAGUARUANA\",\"A339\",\"CE\"],[\"PATOS\",\"A321\",\"PB\"],[\"FLORIANO\",\"A311\",\"PI\"],[\"BENTO GONCALVES\",\"A840\",\"RS\"],[\"RIO DE JANEIRO - JACAREPAGUA\",\"A636\",\"RJ\"],[\"AGUA CLARA\",\"A756\",\"MS\"],[\"SAO BORJA\",\"A830\",\"RS\"],[\"JOAO PINHEIRO\",\"A553\",\"MG\"],[\"NHUMIRIM\",\"A717\",\"MS\"],[\"DOURADOS\",\"A721\",\"MS\"],[\"MACAUBAS\",\"A454\",\"BA\"],[\"CACERES\",\"A941\",\"MT\"],[\"CARATINGA\",\"A554\",\"MG\"],[\"JUTI\",\"A749\",\"MS\"],[\"CAMPO VERDE\",\"A912\",\"MT\"],[\"PORTO VELHO\",\"A925\",\"RO\"],[\"IRECE\",\"A424\",\"BA\"],[\"CAROLINA\",\"A205\",\"MA\"],[\"BALIZA\",\"S113\",\"RR\"],[\"CALDAS\",\"A530\",\"MG\"],[\"JOACABA\",\"A841\",\"SC\"],[\"CURACA\",\"A448\",\"BA\"],[\"CASSILANDIA\",\"A742\",\"MS\"],[\"PIRACICABA\",\"A726\",\"SP\"],[\"BATAGUASSU\",\"A759\",\"MS\"],[\"CHAPECO\",\"A895\",\"SC\"],[\"CABACEIRAS\",\"A348\",\"PB\"],[\"LUIZ EDUARDO MAGALHAES\",\"A404\",\"BA\"],[\"ITIRUCU\",\"A407\",\"BA\"],[\"CARAVELAS\",\"A405\",\"BA\"],[\"DTCEA JACAREACANGA\",\"S120\",\"PA\"],[\"PARAGOMINAS\",\"A212\",\"PA\"],[\"IBIMIRIM\",\"A349\",\"PE\"],[\"PICO DO COUTO\",\"A610\",\"RJ\"],[\"ITAMARAJU\",\"A455\",\"BA\"],[\"PAULISTANA\",\"A330\",\"PI\"],[\"AIMORES\",\"A534\",\"MG\"],[\"DIAMANTINA\",\"A537\",\"MG\"],[\"FLORIANOPOLIS\",\"A806\",\"SC\"],[\"BRUMADO\",\"A433\",\"BA\"]],\"hovertemplate\":\"LATITUDE=%{lat}<br>LONGITUDE=%{lon}<br>NOME=%{customdata[0]}<br>CODIGO=%{customdata[1]}<br>ESTADO=%{customdata[2]}<extra></extra>\",\"lat\":[-7.30083333,-2.59249999,-21.29833333,-8.95,-3.1211111,-9.62222221,-5.62666666,-15.59972221,-12.73499999,-5.555723,-14.65,-21.66611111,-23.39027777,-18.29138888,-30.75055555,-8.092708,-6.975451,-28.53249999,-29.36888888,-8.77666666,-10.537233,-3.74277777,-16.362747,-22.358052,-20.47555554,-26.819156,-16.96694443,-20.10416666,-10.07722221,-28.226805,-14.08916666,-14.01638888,-19.97999999,-21.680722,-23.724501,-9.576389,-14.88638888,-20.27083332,-23.449501,-16.166773,-3.02249999,-6.65333333,-6.39638888,-11.59444444,-27.92027777,-4.82749999,-25.01083333,-8.0911111,-12.557854,-2.23972221,2.81694443,-20.40333333,-18.80222222,-15.06277777,-26.40638888,-10.01833332,-7.44138888,0.56777777,-18.154779,-32.53472221,-12.615,-27.39555555,-8.05805555,-23.2236111,-6.65027777,-20.94916666,-18.747711,-10.42916666,-26.08138888,-22.314567,-12.75055555,0.916877,-22.148083,-23.496294,-12.67555554,-4.32055554,-13.78583333,-9.793363,-4.97888888,-13.41111111,-10.67166666,-8.968677,-15.448089,-21.46111111,-19.23249999,3.35888888,-18.07277777,-12.555,-21.105,-19.407181,-9.03333333,-22.5525,-5.91111111,-0.61888888,-18.69527777,-1.68027777,-22.119867,-18.51222222,-1.73472221,-2.7,-3.39888888,-12.42999999,-25.36888888,-25.508935,-21.774944,-13.90694444,-20.38555555,-13.18472221,-10.47388888,-2.52666666,0.69416666,-26.2486111,-13.25111111,-17.78527777,-2.5025,-84.0,-10.455,-31.24833333,-9.90638888,-16.08805555,-30.54305555,-1.04722221,0.59944444,-22.75777777,-27.65771,-23.0025,-15.72305554,-3.26916666,-5.03472221,-19.35694444,-23.04166666,-28.513602,-11.05222222,3.81361111,-7.5525,-28.931353,-11.02388888,-20.031457,-19.71,-9.87527777,-23.85194444,-17.33944444,-28.7486111,-15.22027777,-11.98222221,-17.79888888,-20.63638888,-3.73222221,-8.117939,-11.00277777,-4.27694443,-11.61888888,-24.28027777,-7.20555555,-17.17499999,-18.78062,-21.71472222,-17.45472222,-10.73805555,-18.200855,-12.1961111,-22.8711111,-4.28999999,-19.605696,-8.14277777,-12.52416666,-18.40972222,-20.715,-11.375126,-22.45138888,-23.22833332,-4.52999999,-3.48416666,-2.63916666,-7.10388888,-21.56638888,-29.191599,-29.87222221,-22.97555554,-19.98586,-20.17333332,-3.81583333,-19.94555555,-4.82138888,-25.322464,-22.30861111,-29.72499999,-30.807953,-10.43444444,-18.52055554,-19.69555555,-20.745237,-16.84888888,-26.95083333,-8.30361111,-3.90083333,-7.31833332,-22.94888888,-15.12472221,-29.70222222,-9.388323,-9.9525,-3.82277777,-14.20805555,-22.68888888,-20.165,-30.368578,-2.93055554,-29.04916666,-6.74333333,-3.51083333,-13.3436111,-7.88583333,-9.80444444,-13.45388888,-21.938745,-29.83987,-7.110518,-19.58749999,-21.450972,-15.28027777,-22.75027777,-6.03305554,-14.97972221,-22.63944444,-13.33249999,-16.38888888,-7.61083333,-18.99666666,-8.333531,-23.84472221,-22.35805555,-19.57388888,-22.10166666,-10.48416666,-15.52416666,-9.62555554,-8.04333333,-20.75055555,-15.57999999,-8.66666666,-6.07749999,-11.2725,-23.81083333,-14.42138888,-28.27564,-12.59222221,-4.24305555,-21.4786111,-6.639622,-18.91694443,-24.67166666,-12.19305555,-17.70555555,-20.46694443,-6.97416666,-7.07777777,-8.26722221,-19.885398,-21.22833332,-22.955,-25.4486111,-15.085958,-5.15111111,-17.258064,-26.7861111,-12.52194443,-22.395799,-15.751536,-22.37388888,-10.1286111,-7.45555555,-9.28749999,-13.70805555,-19.45527777,-20.455,-22.97527777,-5.17444443,-7.16527777,-4.90416666,-18.676198,-22.09833333,-22.98833333,-9.56333333,-17.923622,-18.969142,-27.80222222,-9.35833333,-22.04166666,-10.9525,-22.37277777,-8.05916666,-9.74916666,-13.253521,-2.0,-25.69916666,-20.91,-14.40833333,-23.505266,-22.86166666,-19.481935,-28.222381,-24.57083332,-20.78333333,-21.54666666,-17.33694444,-13.30388888,-11.05861111,-12.627315,-31.34777777,0.03499999,-18.830354,-12.80833333,-15.32472221,-6.01749999,-23.359156,-15.93972221,-29.35027777,-6.46749999,-10.39972221,-23.52388888,-24.96277777,-10.78999999,4.47749999,-7.26055555,-27.288624,-28.60444444,-9.8336111,-22.653579,-15.93527777,-5.6436111,-22.867389,-21.980353,-15.24472221,-22.0786111,-14.13305554,-16.962536,-22.30055555,-3.27027777,-10.98472221,-23.98194443,-21.60916666,-6.835777,-22.3761111,-20.39555555,-1.30083333,-10.828286,-25.83555555,-15.23444444,-10.72305554,-21.31916666,-8.15472222,-1.411228,-26.41722221,-2.53472221,-20.26333333,-17.24444444,-21.33833333,-24.53305554,-21.769965,-18.49277777,-18.996684,-3.58333333,-5.36638888,-2.59222221,-8.91083333,-16.39944444,-9.3386111,-30.54527777,-11.98777777,-29.44916666,-11.74583333,-24.15833333,-3.08666666,-16.42305554,-5.16,-22.58972221,-17.8411111,-20.58444444,-17.89284,-9.94888888,-3.13333333,-8.504,-8.36527777,-14.92777777,-28.70472222,-22.64583333,-26.286562,-23.05027777,-30.01027777,-31.40333333,-1.66111111,-25.49444444,-20.98166666,-33.74222221,-20.35972222,-2.05666666,-23.96694443,-25.72194443,-25.60194444,-13.009468,-12.015377,-6.56194444,-5.53499999,-9.67972221,-20.466694,-6.22805554,-23.77333332,-10.08083332,-10.19083333,-26.3986111,-12.82055554,-5.81611111,-21.85555555,-0.72777777,-11.08472221,-28.126992,-6.31999999,-11.66472222,-29.674293,-27.6786111,-21.95055555,-20.0311111,-20.55666666,-26.91361111,-0.125207,-2.27083332,-19.88388888,-23.64444444,-16.575667,-1.88083332,-22.657056,-4.276047,-16.642841,-27.89055555,-17.56138888,-21.10083333,-15.30027777,-22.86138888,-28.60344,-22.33472221,-29.0893814,-30.05361111,-23.40527777,-19.988388,-3.10333333,-17.30416666,-22.575389,-9.42027777,-21.08555555,-5.90555555,-16.68638888,-11.42888888,-21.70583333,-10.47694443,-15.90277777,-15.78944444,-3.86416666,-11.205,-5.50666666,-9.28583333,-20.55916666,-4.26138888,-12.13166666,-21.13305554,-15.559295,-16.4625,-20.762607,-19.42027777,-21.106502,-0.98722221,-23.41527777,-21.58749999,-22.4711111,-27.854345,-8.4336111,-24.43722221,-5.13666666,-3.8436111,-21.305889,-6.39916666,-6.08944444,-7.124191,-7.0711111,-21.45777777,-4.25055555,-3.29472221,-27.3886111,-5.83722221,-9.10833333,-11.88749999,-20.35138888,-5.18666666,-7.954277,-2.6336111,-25.567879,-4.09749999,-13.155681,-16.67972221,-16.55416666,-20.447195,-17.745066,-9.08333333,-26.93749999,-7.225574,-17.96305555,-14.91222222,-5.34916666,-28.41722221,-17.63527777,-15.80277777,-19.53921,-8.36444444,-3.74805555,-19.87527777,-14.17138888,-11.28027777,-24.53333333,-8.72972221,-11.44583333,-26.3936111,-30.341438,-22.092833,-13.30944444,-7.83972221,-26.938666,-3.8,-23.4261111,-16.012222,-9.97055554,-16.26055555,-31.0025,-22.65833333,-3.37722221,-21.927251,-21.24666666,-13.005515,-7.89444444,-31.8025,-8.44166666,-32.07888888,-14.65888888,-22.951944,-23.10166666,-4.24388888,-27.41833332,-0.41444444,-28.859211,-18.78694444,-16.34166666,-29.709083,-24.78694444,-28.65333333,-16.78499999,-14.82888888,-4.28055554,-10.20777777,-16.16027777,-22.235222,-22.4486111,-5.7886111,-8.59888888,-9.55111111,-11.28416666,-12.12472221,-18.95277777,-13.0386111,-12.03583333,-21.78055554,-22.415,-15.596491,-10.44305555,-4.86416666,-4.78694444,-7.07972221,-6.76138888,-29.164581,-22.93999999,-20.44444444,-28.65,-17.784477,-18.9886111,-22.19388888,-13.03888888,-16.07472221,-19.735757,-22.85722222,-15.53138888,-8.7936111,-11.328998,-7.33722221,0.94777777,-21.918066,-27.16916666,-9.00138888,-19.12249999,-22.70305555,-21.75,-27.0853111,-7.48333333,-12.1525,-13.527828,-17.73944444,-6.23722221,-2.99027777,-8.50944444,-22.46472222,-17.00694444,-8.132288,-19.53277777,-18.231052,-27.60253,-14.18194443],\"lon\":[-39.2711111,-48.36055555,-52.06888888,-72.78666666,-40.08722221,-37.76722221,-37.815,-48.1311111,-60.15777777,-47.459794,-57.43166666,-49.73472221,-53.63583333,-40.73638888,-55.40138888,-48.478605,-35.718128,-49.31527777,-50.82722221,-67.33249999,-38.996605,-43.35222222,-45.123801,-49.028877,-55.78388888,-50.98552,-51.81749999,-41.10694444,-56.17916666,-52.403582,-46.36638888,-52.21166666,-43.95861111,-45.944389,-46.677501,-49.723333,-40.80138888,-40.30583333,-54.181858,-40.687756,-60.05555555,-47.41833332,-39.26888888,-46.84722221,-53.31805554,-48.1736111,-50.85388888,-60.38055554,-41.388808,-49.49972221,-60.69083333,-49.96611111,-52.6025,-59.87305554,-52.85027777,-42.50027777,-44.34499999,-50.8236111,-47.927614,-53.37583332,-47.87194443,-53.42944443,-39.0961111,-44.72694443,-69.8686111,-48.48999999,-44.453785,-45.17305554,-48.64166666,-45.373049,-60.14916666,-29.345904,-53.763736,-46.620088,-39.08944444,-46.44944444,-57.8386111,-47.132732,-39.05722222,-54.75222222,-37.47138888,-48.177259,-44.366313,-47.57944443,-44.96416666,-59.82388888,-54.54888888,-55.72277777,-42.37583332,-40.539825,-42.70111111,-55.71638888,-42.7186111,-47.35666666,-40.39055555,-50.47805554,-51.408637,-54.7361111,-47.0575,-44.85,-57.67388888,-64.41999999,-52.39194444,-48.808681,-54.528108,-38.97222221,-41.18999999,-53.2575,-36.48194443,-44.21361111,-51.40388888,-49.57416666,-43.40527777,-50.965,-54.72027777,-79.49416666,-41.20694444,-50.90638888,-58.57222221,-39.21527777,-52.52472221,-46.78583333,-69.19194444,-43.68472221,-52.305805,-55.32944443,-42.43583333,-45.65111111,-42.80138888,-40.0686111,-45.52083332,-50.882738,-45.20083333,-51.8625,-63.07138888,-49.49792,-68.73527777,-44.011249,-47.96194444,-45.34583333,-48.16472222,-53.22444443,-50.05777777,-48.98999999,-55.56611111,-40.25,-40.74194444,-41.01194444,-42.975721,-44.52499999,-55.99305555,-50.72777777,-50.21027777,-59.8886111,-54.50166666,-40.986505,-41.34388888,-52.60111111,-38.10833333,-45.459836,-38.96749999,-42.60888888,-47.55,-46.949617,-70.3436111,-40.29972221,-49.19194444,-44.86444444,-58.774785,-44.44499999,-45.41694443,-71.61749999,-39.5886111,-56.75611111,-48.20111111,-45.40416666,-54.885653,-52.38194443,-44.30333333,-48.151574,-44.87499999,-38.53777777,-54.3686111,-43.3436111,-49.157733,-54.32583332,-53.72055554,-51.83424,-45.92194443,-46.44055555,-51.18166666,-46.633916,-42.03527777,-48.76194444,-49.28277777,-42.23694444,-38.14083333,-49.89444444,-58.12722221,-54.69444444,-40.523262,-54.89777777,-49.67499999,-42.74972221,-45.00555555,-50.59499999,-56.437115,-69.69527777,-50.14972221,-51.14194444,-52.96333333,-39.12666666,-40.10277777,-36.61916666,-56.67722221,-42.600936,-57.081899,-49.926072,-54.02999999,-54.341972,-39.09138888,-45.60388888,-44.23333333,-49.53999999,-52.89027777,-44.61749999,-39.18249999,-72.68138888,-57.63749999,-45.094625,-46.14333333,-43.69555555,-42.62249999,-56.54083333,-52.37249999,-46.43555555,-42.07722221,-50.00694444,-41.48888888,-54.3811111,-35.56805554,-50.14222221,-37.795,-45.4025,-54.0361111,-49.934617,-49.5286111,-44.79499999,-56.13777777,-51.956966,-48.25555555,-47.54583333,-43.21333333,-42.38916666,-40.40388888,-42.14694444,-40.36277777,-72.74777777,-44.416883,-43.76777777,-55.6261111,-49.23055554,-44.016036,-36.57305554,-44.835556,-53.51388888,-58.23138888,-44.961909,-41.457787,-44.70305555,-36.28638888,-46.02749999,-35.56583333,-59.7625,-44.17333332,-45.45388888,-42.02138888,-39.28944444,-34.81555555,-37.36694443,-39.864051,-43.20833333,-43.19055555,-57.3936111,-51.717467,-50.633449,-50.33555555,-69.92638888,-41.05166666,-37.05444444,-50.97472221,-34.95916666,-37.43083332,-46.890326,-54.07638888,-53.09527777,-47.11416666,-44.40416666,-49.946387,-46.04333333,-45.593932,-51.512845,-52.80027777,-51.71222222,-43.26111111,-49.91472222,-58.76333333,-38.44416666,-52.220891,-54.01333333,-51.08888888,-41.977007,-38.49583333,-57.22583332,-40.28138888,-52.931912,-50.14138888,-49.73333333,-37.08499999,-37.74749999,-46.86944443,-48.41638888,-65.33277777,-61.14916666,-64.7886111,-50.604283,-48.81333333,-39.49555555,-44.040916,-48.13749999,-48.11194444,-43.102056,-47.883927,-40.22944443,-53.46583333,-47.52333332,-50.42545,-53.82277777,-52.39472221,-39.61694443,-48.88583333,-55.17749999,-38.311583,-41.81194444,-56.43166666,-47.94805555,-49.847882,-50.36888888,-59.3461111,-43.65111111,-50.93027777,-46.63944444,-48.439512,-52.3486111,-57.75805555,-42.18277777,-46.88166666,-48.11388888,-47.86416666,-43.364329,-53.17138888,-46.985935,-59.12944443,-49.05111111,-42.7075,-36.49333333,-47.62583332,-50.35027777,-53.46694443,-51.4261111,-51.82333332,-49.04972221,-53.03055554,-41.78305554,-51.14888888,-35.48749999,-43.28222221,-53.28944444,-47.38249999,-41.515423,-62.96194444,-58.48277777,-39.31528,-36.02833332,-53.8836111,-51.87083332,-42.41555555,-53.633114,-43.59555555,-50.13583333,-52.70083333,-45.37249999,-48.32583332,-54.97194443,-53.37222221,-47.77527777,-60.02583332,-55.02416666,-53.74805555,-54.48305554,-39.616881,-48.544517,-35.13527777,-36.87222221,-68.16527777,-53.763028,-36.02666666,-50.18055554,-38.34583333,-48.30194444,-51.35361111,-50.33583333,-46.16222222,-48.79972221,-48.51583333,-43.13888888,-49.47961,-55.78777777,-39.02305554,-51.064042,-49.04194444,-42.01027777,-46.00888888,-43.75611111,-49.26805554,-67.061246,-43.62416666,-43.96944443,-54.57027777,-41.485588,-55.51972221,-54.819306,-41.794568,-49.220222,-54.47999999,-47.19916666,-41.03944444,-45.61749999,-43.41138888,-53.673597,-42.67694443,-53.82665025,-51.17472221,-51.93277777,-40.579572,-60.01638888,-48.28416666,-55.160333,-36.62027777,-49.92027777,-38.62777777,-43.84388888,-48.18499999,-57.88666666,-49.62944443,-52.24527777,-47.92583332,-54.21638888,-40.465,-45.23694444,-43.32444443,-48.54499999,-38.9311111,-40.35416666,-48.84055555,-56.062951,-54.58027777,-42.864013,-54.55305555,-44.250928,-62.92416666,-50.57777777,-41.95833333,-48.5575,-53.791179,-37.05555555,-51.96305555,-38.35666666,-50.63805555,-52.820375,-41.73999999,-42.72749999,-48.781267,-41.40416666,-51.55222222,-69.93499999,-60.62833332,-51.21583333,-35.20805555,-45.93194443,-49.60833333,-51.43027777,-40.67222221,-38.295082,-59.60055555,-51.077946,-63.14527777,-41.774125,-48.61805554,-46.88194443,-54.722615,-49.101698,-44.32638888,-50.14555555,-35.904831,-38.70333333,-42.80861111,-41.51222222,-54.9625,-54.76055555,-43.29694444,-49.518133,-42.2525,-40.34583333,-47.43416666,-39.69249999,-57.52666666,-54.01916666,-49.85638888,-61.43416666,-50.36333333,-54.310909,-54.798833,-49.11749999,-35.80111111,-52.39809,-47.51,-47.58555555,-47.557417,-55.82749999,-47.96694443,-54.61805554,-52.13444444,-64.72305554,-50.490251,-56.45055555,-38.50576,-37.12472221,-52.40722222,-43.86555555,-52.16777777,-39.18138888,-46.530556,-48.9411111,-49.93944444,-49.64694444,-65.01749999,-52.542387,-42.94305555,-53.76611111,-55.525486,-49.99916666,-53.11194444,-47.61305555,-56.44194444,-47.56388888,-37.43194443,-42.31027777,-49.965111,-42.98694444,-61.28833333,-38.58416666,-35.77027777,-47.21222222,-45.02694443,-49.52499999,-57.09222221,-37.68388888,-47.07527777,-46.80527777,-47.625801,-40.14833333,-42.14555555,-37.76666666,-37.27277777,-43.00333333,-51.534202,-43.40277777,-52.87583332,-56.01638888,-46.119394,-56.62277777,-54.91138888,-42.61722221,-57.69305555,-42.137146,-54.60555555,-55.13555555,-63.84583333,-41.864504,-47.45972222,-59.74638888,-46.382996,-51.55888888,-39.9125,-51.72083332,-47.62333332,-52.47138888,-52.6357111,-36.28638888,-45.82972221,-40.119752,-39.25861111,-57.77499999,-47.40777777,-37.71166666,-43.29138888,-39.55805555,-41.142945,-41.09083333,-43.648269,-48.620096,-41.67222221],\"name\":\"\",\"radius\":5,\"subplot\":\"mapbox\",\"type\":\"densitymapbox\"}],                        {\"template\":{\"data\":{\"histogram2dcontour\":[{\"type\":\"histogram2dcontour\",\"colorbar\":{\"outlinewidth\":0,\"ticks\":\"\"},\"colorscale\":[[0.0,\"#0d0887\"],[0.1111111111111111,\"#46039f\"],[0.2222222222222222,\"#7201a8\"],[0.3333333333333333,\"#9c179e\"],[0.4444444444444444,\"#bd3786\"],[0.5555555555555556,\"#d8576b\"],[0.6666666666666666,\"#ed7953\"],[0.7777777777777778,\"#fb9f3a\"],[0.8888888888888888,\"#fdca26\"],[1.0,\"#f0f921\"]]}],\"choropleth\":[{\"type\":\"choropleth\",\"colorbar\":{\"outlinewidth\":0,\"ticks\":\"\"}}],\"histogram2d\":[{\"type\":\"histogram2d\",\"colorbar\":{\"outlinewidth\":0,\"ticks\":\"\"},\"colorscale\":[[0.0,\"#0d0887\"],[0.1111111111111111,\"#46039f\"],[0.2222222222222222,\"#7201a8\"],[0.3333333333333333,\"#9c179e\"],[0.4444444444444444,\"#bd3786\"],[0.5555555555555556,\"#d8576b\"],[0.6666666666666666,\"#ed7953\"],[0.7777777777777778,\"#fb9f3a\"],[0.8888888888888888,\"#fdca26\"],[1.0,\"#f0f921\"]]}],\"heatmap\":[{\"type\":\"heatmap\",\"colorbar\":{\"outlinewidth\":0,\"ticks\":\"\"},\"colorscale\":[[0.0,\"#0d0887\"],[0.1111111111111111,\"#46039f\"],[0.2222222222222222,\"#7201a8\"],[0.3333333333333333,\"#9c179e\"],[0.4444444444444444,\"#bd3786\"],[0.5555555555555556,\"#d8576b\"],[0.6666666666666666,\"#ed7953\"],[0.7777777777777778,\"#fb9f3a\"],[0.8888888888888888,\"#fdca26\"],[1.0,\"#f0f921\"]]}],\"heatmapgl\":[{\"type\":\"heatmapgl\",\"colorbar\":{\"outlinewidth\":0,\"ticks\":\"\"},\"colorscale\":[[0.0,\"#0d0887\"],[0.1111111111111111,\"#46039f\"],[0.2222222222222222,\"#7201a8\"],[0.3333333333333333,\"#9c179e\"],[0.4444444444444444,\"#bd3786\"],[0.5555555555555556,\"#d8576b\"],[0.6666666666666666,\"#ed7953\"],[0.7777777777777778,\"#fb9f3a\"],[0.8888888888888888,\"#fdca26\"],[1.0,\"#f0f921\"]]}],\"contourcarpet\":[{\"type\":\"contourcarpet\",\"colorbar\":{\"outlinewidth\":0,\"ticks\":\"\"}}],\"contour\":[{\"type\":\"contour\",\"colorbar\":{\"outlinewidth\":0,\"ticks\":\"\"},\"colorscale\":[[0.0,\"#0d0887\"],[0.1111111111111111,\"#46039f\"],[0.2222222222222222,\"#7201a8\"],[0.3333333333333333,\"#9c179e\"],[0.4444444444444444,\"#bd3786\"],[0.5555555555555556,\"#d8576b\"],[0.6666666666666666,\"#ed7953\"],[0.7777777777777778,\"#fb9f3a\"],[0.8888888888888888,\"#fdca26\"],[1.0,\"#f0f921\"]]}],\"surface\":[{\"type\":\"surface\",\"colorbar\":{\"outlinewidth\":0,\"ticks\":\"\"},\"colorscale\":[[0.0,\"#0d0887\"],[0.1111111111111111,\"#46039f\"],[0.2222222222222222,\"#7201a8\"],[0.3333333333333333,\"#9c179e\"],[0.4444444444444444,\"#bd3786\"],[0.5555555555555556,\"#d8576b\"],[0.6666666666666666,\"#ed7953\"],[0.7777777777777778,\"#fb9f3a\"],[0.8888888888888888,\"#fdca26\"],[1.0,\"#f0f921\"]]}],\"mesh3d\":[{\"type\":\"mesh3d\",\"colorbar\":{\"outlinewidth\":0,\"ticks\":\"\"}}],\"scatter\":[{\"fillpattern\":{\"fillmode\":\"overlay\",\"size\":10,\"solidity\":0.2},\"type\":\"scatter\"}],\"parcoords\":[{\"type\":\"parcoords\",\"line\":{\"colorbar\":{\"outlinewidth\":0,\"ticks\":\"\"}}}],\"scatterpolargl\":[{\"type\":\"scatterpolargl\",\"marker\":{\"colorbar\":{\"outlinewidth\":0,\"ticks\":\"\"}}}],\"bar\":[{\"error_x\":{\"color\":\"#2a3f5f\"},\"error_y\":{\"color\":\"#2a3f5f\"},\"marker\":{\"line\":{\"color\":\"#E5ECF6\",\"width\":0.5},\"pattern\":{\"fillmode\":\"overlay\",\"size\":10,\"solidity\":0.2}},\"type\":\"bar\"}],\"scattergeo\":[{\"type\":\"scattergeo\",\"marker\":{\"colorbar\":{\"outlinewidth\":0,\"ticks\":\"\"}}}],\"scatterpolar\":[{\"type\":\"scatterpolar\",\"marker\":{\"colorbar\":{\"outlinewidth\":0,\"ticks\":\"\"}}}],\"histogram\":[{\"marker\":{\"pattern\":{\"fillmode\":\"overlay\",\"size\":10,\"solidity\":0.2}},\"type\":\"histogram\"}],\"scattergl\":[{\"type\":\"scattergl\",\"marker\":{\"colorbar\":{\"outlinewidth\":0,\"ticks\":\"\"}}}],\"scatter3d\":[{\"type\":\"scatter3d\",\"line\":{\"colorbar\":{\"outlinewidth\":0,\"ticks\":\"\"}},\"marker\":{\"colorbar\":{\"outlinewidth\":0,\"ticks\":\"\"}}}],\"scattermapbox\":[{\"type\":\"scattermapbox\",\"marker\":{\"colorbar\":{\"outlinewidth\":0,\"ticks\":\"\"}}}],\"scatterternary\":[{\"type\":\"scatterternary\",\"marker\":{\"colorbar\":{\"outlinewidth\":0,\"ticks\":\"\"}}}],\"scattercarpet\":[{\"type\":\"scattercarpet\",\"marker\":{\"colorbar\":{\"outlinewidth\":0,\"ticks\":\"\"}}}],\"carpet\":[{\"aaxis\":{\"endlinecolor\":\"#2a3f5f\",\"gridcolor\":\"white\",\"linecolor\":\"white\",\"minorgridcolor\":\"white\",\"startlinecolor\":\"#2a3f5f\"},\"baxis\":{\"endlinecolor\":\"#2a3f5f\",\"gridcolor\":\"white\",\"linecolor\":\"white\",\"minorgridcolor\":\"white\",\"startlinecolor\":\"#2a3f5f\"},\"type\":\"carpet\"}],\"table\":[{\"cells\":{\"fill\":{\"color\":\"#EBF0F8\"},\"line\":{\"color\":\"white\"}},\"header\":{\"fill\":{\"color\":\"#C8D4E3\"},\"line\":{\"color\":\"white\"}},\"type\":\"table\"}],\"barpolar\":[{\"marker\":{\"line\":{\"color\":\"#E5ECF6\",\"width\":0.5},\"pattern\":{\"fillmode\":\"overlay\",\"size\":10,\"solidity\":0.2}},\"type\":\"barpolar\"}],\"pie\":[{\"automargin\":true,\"type\":\"pie\"}]},\"layout\":{\"autotypenumbers\":\"strict\",\"colorway\":[\"#636efa\",\"#EF553B\",\"#00cc96\",\"#ab63fa\",\"#FFA15A\",\"#19d3f3\",\"#FF6692\",\"#B6E880\",\"#FF97FF\",\"#FECB52\"],\"font\":{\"color\":\"#2a3f5f\"},\"hovermode\":\"closest\",\"hoverlabel\":{\"align\":\"left\"},\"paper_bgcolor\":\"white\",\"plot_bgcolor\":\"#E5ECF6\",\"polar\":{\"bgcolor\":\"#E5ECF6\",\"angularaxis\":{\"gridcolor\":\"white\",\"linecolor\":\"white\",\"ticks\":\"\"},\"radialaxis\":{\"gridcolor\":\"white\",\"linecolor\":\"white\",\"ticks\":\"\"}},\"ternary\":{\"bgcolor\":\"#E5ECF6\",\"aaxis\":{\"gridcolor\":\"white\",\"linecolor\":\"white\",\"ticks\":\"\"},\"baxis\":{\"gridcolor\":\"white\",\"linecolor\":\"white\",\"ticks\":\"\"},\"caxis\":{\"gridcolor\":\"white\",\"linecolor\":\"white\",\"ticks\":\"\"}},\"coloraxis\":{\"colorbar\":{\"outlinewidth\":0,\"ticks\":\"\"}},\"colorscale\":{\"sequential\":[[0.0,\"#0d0887\"],[0.1111111111111111,\"#46039f\"],[0.2222222222222222,\"#7201a8\"],[0.3333333333333333,\"#9c179e\"],[0.4444444444444444,\"#bd3786\"],[0.5555555555555556,\"#d8576b\"],[0.6666666666666666,\"#ed7953\"],[0.7777777777777778,\"#fb9f3a\"],[0.8888888888888888,\"#fdca26\"],[1.0,\"#f0f921\"]],\"sequentialminus\":[[0.0,\"#0d0887\"],[0.1111111111111111,\"#46039f\"],[0.2222222222222222,\"#7201a8\"],[0.3333333333333333,\"#9c179e\"],[0.4444444444444444,\"#bd3786\"],[0.5555555555555556,\"#d8576b\"],[0.6666666666666666,\"#ed7953\"],[0.7777777777777778,\"#fb9f3a\"],[0.8888888888888888,\"#fdca26\"],[1.0,\"#f0f921\"]],\"diverging\":[[0,\"#8e0152\"],[0.1,\"#c51b7d\"],[0.2,\"#de77ae\"],[0.3,\"#f1b6da\"],[0.4,\"#fde0ef\"],[0.5,\"#f7f7f7\"],[0.6,\"#e6f5d0\"],[0.7,\"#b8e186\"],[0.8,\"#7fbc41\"],[0.9,\"#4d9221\"],[1,\"#276419\"]]},\"xaxis\":{\"gridcolor\":\"white\",\"linecolor\":\"white\",\"ticks\":\"\",\"title\":{\"standoff\":15},\"zerolinecolor\":\"white\",\"automargin\":true,\"zerolinewidth\":2},\"yaxis\":{\"gridcolor\":\"white\",\"linecolor\":\"white\",\"ticks\":\"\",\"title\":{\"standoff\":15},\"zerolinecolor\":\"white\",\"automargin\":true,\"zerolinewidth\":2},\"scene\":{\"xaxis\":{\"backgroundcolor\":\"#E5ECF6\",\"gridcolor\":\"white\",\"linecolor\":\"white\",\"showbackground\":true,\"ticks\":\"\",\"zerolinecolor\":\"white\",\"gridwidth\":2},\"yaxis\":{\"backgroundcolor\":\"#E5ECF6\",\"gridcolor\":\"white\",\"linecolor\":\"white\",\"showbackground\":true,\"ticks\":\"\",\"zerolinecolor\":\"white\",\"gridwidth\":2},\"zaxis\":{\"backgroundcolor\":\"#E5ECF6\",\"gridcolor\":\"white\",\"linecolor\":\"white\",\"showbackground\":true,\"ticks\":\"\",\"zerolinecolor\":\"white\",\"gridwidth\":2}},\"shapedefaults\":{\"line\":{\"color\":\"#2a3f5f\"}},\"annotationdefaults\":{\"arrowcolor\":\"#2a3f5f\",\"arrowhead\":0,\"arrowwidth\":1},\"geo\":{\"bgcolor\":\"white\",\"landcolor\":\"#E5ECF6\",\"subunitcolor\":\"white\",\"showland\":true,\"showlakes\":true,\"lakecolor\":\"white\"},\"title\":{\"x\":0.05},\"mapbox\":{\"style\":\"light\"}}},\"mapbox\":{\"domain\":{\"x\":[0.0,1.0],\"y\":[0.0,1.0]},\"center\":{\"lat\":-15,\"lon\":-60},\"zoom\":3,\"style\":\"carto-darkmatter\"},\"coloraxis\":{\"colorscale\":[[0.0,\"#0d0887\"],[0.1111111111111111,\"#46039f\"],[0.2222222222222222,\"#7201a8\"],[0.3333333333333333,\"#9c179e\"],[0.4444444444444444,\"#bd3786\"],[0.5555555555555556,\"#d8576b\"],[0.6666666666666666,\"#ed7953\"],[0.7777777777777778,\"#fb9f3a\"],[0.8888888888888888,\"#fdca26\"],[1.0,\"#f0f921\"]]},\"legend\":{\"tracegroupgap\":0},\"margin\":{\"t\":60},\"height\":800,\"title\":{\"text\":\"Esta\\u00e7\\u00f5es INMET\"},\"geo\":{\"scope\":\"south america\"}},                        {\"responsive\": true}                    ).then(function(){\n",
       "                            \n",
       "var gd = document.getElementById('7364dc60-0380-42d0-b811-9215d8bb0f2c');\n",
       "var x = new MutationObserver(function (mutations, observer) {{\n",
       "        var display = window.getComputedStyle(gd).display;\n",
       "        if (!display || display === 'none') {{\n",
       "            console.log([gd, 'removed!']);\n",
       "            Plotly.purge(gd);\n",
       "            observer.disconnect();\n",
       "        }}\n",
       "}});\n",
       "\n",
       "// Listen for the removal of the full notebook cells\n",
       "var notebookContainer = gd.closest('#notebook-container');\n",
       "if (notebookContainer) {{\n",
       "    x.observe(notebookContainer, {childList: true});\n",
       "}}\n",
       "\n",
       "// Listen for the clearing of the current output cell\n",
       "var outputEl = gd.closest('.output');\n",
       "if (outputEl) {{\n",
       "    x.observe(outputEl, {childList: true});\n",
       "}}\n",
       "\n",
       "                        })                };                });            </script>        </div>"
      ]
     },
     "metadata": {},
     "output_type": "display_data"
    }
   ],
   "source": [
    "path = 'datasets/agregados/'\n",
    "todos = []\n",
    "for file in listdir(path):\n",
    "    data = pd.read_csv(path+file, sep=';', index_col = [0], nrows=3).iloc[:, -1]\n",
    "    loc = file[:-4].split('_')\n",
    "    data['REGIÃO'] = loc[0]\n",
    "    data['ESTADO'] = loc[1]\n",
    "    data['NOME'] = loc[3]\n",
    "    data['CODIGO'] = loc[2]\n",
    "    #data = data.rename(loc[2])\n",
    "    todos.append(data)\n",
    "coords = pd.concat(todos, axis=1).T\n",
    "coords\n",
    "\n",
    "# mapa do brasil\n",
    "import plotly.express as px\n",
    "fig = px.density_mapbox(coords, \n",
    "                        lat='LATITUDE', \n",
    "                        lon='LONGITUDE', \n",
    "                        radius=5,\n",
    "                        center={'lat':-15, 'lon':-60}, \n",
    "                        zoom=3,\n",
    "                        hover_data=[\"NOME\", \"CODIGO\", \"ESTADO\"],\n",
    "                        height=800,\n",
    "                        mapbox_style=\"carto-darkmatter\"\n",
    "                       )\n",
    "\n",
    "fig.update_layout(\n",
    "    title_text = 'Estações INMET',\n",
    "    geo_scope = 'south america'                 # partir em regioes\n",
    ")\n",
    "fig.show()"
   ]
  }
 ],
 "metadata": {
  "kernelspec": {
   "display_name": "Python 3",
   "language": "python",
   "name": "python3"
  },
  "language_info": {
   "codemirror_mode": {
    "name": "ipython",
    "version": 3
   },
   "file_extension": ".py",
   "mimetype": "text/x-python",
   "name": "python",
   "nbconvert_exporter": "python",
   "pygments_lexer": "ipython3",
   "version": "3.10.6"
  }
 },
 "nbformat": 4,
 "nbformat_minor": 5
}
