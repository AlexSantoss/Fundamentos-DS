{
 "cells": [
  {
   "cell_type": "code",
   "execution_count": 1,
   "id": "f64d2e64",
   "metadata": {},
   "outputs": [],
   "source": [
    "import pandas as pd\n",
    "from math import pi, sin, cos, exp, tan, acos"
   ]
  },
  {
   "cell_type": "code",
   "execution_count": 2,
   "id": "2e03548a",
   "metadata": {},
   "outputs": [
    {
     "ename": "NameError",
     "evalue": "name 'ser' is not defined",
     "output_type": "error",
     "traceback": [
      "\u001b[0;31m---------------------------------------------------------------------------\u001b[0m",
      "\u001b[0;31mNameError\u001b[0m                                 Traceback (most recent call last)",
      "Input \u001b[0;32mIn [2]\u001b[0m, in \u001b[0;36m<cell line: 6>\u001b[0;34m()\u001b[0m\n\u001b[1;32m      4\u001b[0m    s[\u001b[38;5;124m'\u001b[39m\u001b[38;5;124me\u001b[39m\u001b[38;5;124m'\u001b[39m] \u001b[38;5;241m=\u001b[39m \u001b[38;5;241m5\u001b[39m\n\u001b[1;32m      5\u001b[0m \u001b[38;5;66;03m#ser['d'] = 4\u001b[39;00m\n\u001b[0;32m----> 6\u001b[0m f(\u001b[43mser\u001b[49m)\n\u001b[1;32m      7\u001b[0m ser\n",
      "\u001b[0;31mNameError\u001b[0m: name 'ser' is not defined"
     ]
    }
   ],
   "source": [
    " #d = {'a': 1, 'b': 2, 'c': 3}\n",
    "#ser = pd.Series(data=d, index=['a', 'b', 'c'])\n",
    "def f(s):\n",
    "    s['e'] = 5\n",
    "#ser['d'] = 4\n",
    "f(ser)\n",
    "ser"
   ]
  },
  {
   "cell_type": "markdown",
   "id": "416f901f",
   "metadata": {},
   "source": [
    "# Dicinoário de Dados\n",
    "COEFICIENTE_BASAL    => KCB\n",
    "COEFICIENTE_CULTURA  => KC\n",
    "COEFICIENTE_EVAPO    => KE\n",
    "EVAPO_CULTURA        => ETC\n",
    "TRANSP_POTENCIAL     => TRP\n",
    "EVAPO                => E\n",
    "ARMAZENAMENTO_AGUA   => ARM\n",
    "Capacidade de Campo  => TAR\n",
    "ARM2                 => ARM2\n",
    "EVAPO_REFERENCIA     => ET0\n",
    "EVAPO_REAL           => ETR\n",
    "TR                   => TR\n",
    "TA                   => TA\n",
    "DIAJULIANO           => DIAJULIANO\n",
    "TARMEDIO             => TAR/2\n",
    "Indice de Satisfação => ISNA\n",
    "PLUVIOSIDADE         => P"
   ]
  },
  {
   "cell_type": "code",
   "execution_count": 14,
   "id": "721c2ec0",
   "metadata": {},
   "outputs": [],
   "source": [
    "#Termo Aerodinâmico    \n",
    "def termoAeroDinamico(params, urx, urn, tx, tn):\n",
    "    tm   = (tx + tn)/2\n",
    "    #Pressão de saturação do vapor d'água do ar - Equação de Tetens [kPa]\n",
    "    es   = (0.6108* exp(17.27*tx/(237.3+tx))+ 0.6108* exp(17.27*tn/(237.3+tn)))/2\n",
    "    #Pressão real do vapor d'água do ar [kPa]   \n",
    "    ea   = (urn * 0.6108* exp(17.27*tx/(237.3+tx))+ urx * 0.6108* exp(17.27*tn/(237.3+tn)))/ 200\n",
    "    #Declividade da curva de pressão de saturação [kPa/oC]\n",
    "    S    = 4098 * 0.6108* exp(17.27*tm/(237.3+tm))/((237.3 + tm)**2)\n",
    "    #Pressão atmosférica [kPa]\n",
    "    Patm = 101.3*((293-0.0065*params.z)/(293))**5.26\n",
    "    #Calor latente de evaporação [MJ/kg]\n",
    "    lamb = 0.665E-3*Patm\n",
    "    \n",
    "    return S, tm, es, ea, lamb\n",
    "\n",
    "#Termo Radioativo\n",
    "def saldoDeRadiacao(params, doy, qg, tx, tn, ea):\n",
    "    #Radiação solar extraterrestre\n",
    "\n",
    "    #Correção relativa Terra-Sol\n",
    "    dr   = 1 + 0.033 * cos(2*pi/365*doy)\n",
    "    #Declinação Solar \n",
    "    decl = 0.409 * sin((2*pi/365*doy)-1.39)\n",
    "    #Angulo Horário\n",
    "    ws   = acos(-(params.fi*pi/180)*tan(decl))\n",
    "    #Radiação Solar Extraterrestre\n",
    "    Qo   = 37.568*dr*((ws*sin(params.fi*pi/180)*sin(decl))+(cos(params.fi*pi/180)*cos(decl)*sin(ws)))\n",
    "\n",
    "    #Balanço de radiação\n",
    "    #Ondas curtas\n",
    "    \n",
    "    #Radiação solar para dia de céu sem nebulosidade\n",
    "    Qso = (0.75 + 2e-5*params.z)*Qo\n",
    "    Qoc = 0.77 * qg\n",
    "    \n",
    "    #Ondas longas\n",
    "    Qol    = 4.903E-9*((((tx + 273.16)**4)+ ((tn + 273.16)**4))/2)*(0.34-0.14*ea**0.5)*(1.35*(qg/Qso)-0.35)\n",
    "\n",
    "    return Qoc - Qol\n",
    "\n",
    "#Transpiração Potencial\n",
    "def transpiracaoPotencial(params, u2, urn, aETo_PM, t):\n",
    "    if t < params.L_ini:\n",
    "        Kcb = params.Kcb_ini\n",
    "    elif t < params.L_ini + params.L_cres:\n",
    "        Kcb = params.Kcb_ini+(t-params.L_ini)/params.L_cres*(params.Kcb_mid-params.Kcb_ini)\n",
    "    elif t < params.L_ini + params.L_cres + params.L-mid:\n",
    "        Kcb = params.Kcb_mid\n",
    "    else:\n",
    "        Kcb = params.Kcb_mid+(t-(params.L_ini+params.L_cres+params.L_mid))/params.L_fim*(params.Kcb_fim-params.Kcb_mid)\n",
    "    \n",
    "    h = max((Kcb/params.Kcb_mid)*params.hx,params.h)\n",
    "    kcx = max(1.2+(0.04*(u2-2)-0.004*(urn-45))*(params.h/3)**0.3,Kcb+0.05)\n",
    "\n",
    "    return Kcb, kcx \n",
    "\n",
    "#Balanço de água no solo\n",
    "def evaporacao(params, p, Kcb, kcx, ETo_PM, De_f, t):\n",
    "    #Camada subsuperfícial - Evaporação\n",
    "    fc = max(abs(((Kcb-params.Kcb_ini)/(kcx-params.Kcb_ini)))**(1 + 0.5*params.h),0.01)\n",
    "    \n",
    "    if p > 0: fw = 1\n",
    "    else: fw = params.fw_ini\n",
    "    \n",
    "    few = min(1-fc,fw)\n",
    "    TAE = 1000*(params.cc-0.5*params.PM)*params.Ze\n",
    "    \n",
    "    if t == 1: De_i = TAE - params.AFE\n",
    "    else: De_i = max(De_f-p, 0)\n",
    "        \n",
    "    if De_i < params.AFE: kr = 1\n",
    "    else: kr = max((TAE - De_i)/(TAE - params.AFE), 0)\n",
    "            \n",
    "    ke = min(kr*(kcx-Kcb), few*kcx)\n",
    "    E = ke * ETo_PM\n",
    "    \n",
    "    if t == 1:\n",
    "        Dp = max(p, 0)\n",
    "        De_f = min(De_i - p+(E/few) + Dp, TAE)\n",
    "    else:\n",
    "        Dp = max(p-De_f, 0)\n",
    "        De_f = min(De_f-p+(E/few) + Dp, TAE)\n",
    "        \n",
    "    Kc = Kcb + ke\n",
    "    ETc = Kc * ETo_PM\n",
    "    return ETc, ke, De_f, De_i\n",
    "\n",
    "\n",
    "def evapotranspiracaoReal(params, ap, aKcb, aETc, aKe, aETo_PM, De_i, t):\n",
    "    if t <= (params.L_ini + params.L_cres + params.L_mid):\n",
    "        Zr = ((aKcb - params.Kcb_ini)/(params.Kcb_mid - params.Kcb_ini))*(params.Zrx - params.Zrn) + params.Zrn\n",
    "    else:\n",
    "        Zr = params.Zrx\n",
    "    \n",
    "    TAR = 1000.*(params.cc - params.PM)*Zr\n",
    "    AFR = params.f*TAR\n",
    "    \n",
    "    if t == 1:\n",
    "        Dr_i = min( max((TAR-AFR)-ap+aETc, 0), TAR)\n",
    "        if Dr_i < AFR:\n",
    "            ks = 1\n",
    "        else:\n",
    "            ks = max( (TAR-Dr_i)/(TAR-AFR), 0)\n",
    "\n",
    "        Dp = max( ap-aETc-De_i, 0 )\n",
    "        kcr = aKe + ks * aKcb\n",
    "        ETR = kcr * aETo_PM\n",
    "        Tr = ks * aKcb *aETo_PM\n",
    "        Dr_f = max( min((TAR-AFR)-ap+ETR+Dp, TAR), 0 )\n",
    "    else:\n",
    "        Dr_i = min( max(Dr_f-ap-aETc, 0), TAR)\n",
    "        if Dr_i < AFR:\n",
    "            ks = 1\n",
    "        else:\n",
    "            ks = max( (TAR-Dr_i)/(TAR-AFR), 0)\n",
    "        \n",
    "        Dp = max( ap-aETc-Dr_f, 0)\n",
    "        kcr = aKe + ks*aKcb\n",
    "        ETR = kcr * aETo_PM\n",
    "        Tr = ks*aKcb*aETo_PM\n",
    "        Dr_f = min(Dr_f-ap+ETR+Dp, TAR)\n",
    "    return  TAR, Dr_f"
   ]
  },
  {
   "cell_type": "code",
   "execution_count": 8,
   "id": "ab4c7d50",
   "metadata": {},
   "outputs": [],
   "source": [
    "#Precisa instalar xlrd (\"pip install xlrd\" ou \"conda install xlrd\")\n",
    "dados = pd.read_excel(\"datasets/DadosFeijao_Chuva.xls\")\n",
    "params = pd.read_excel(\"datasets/ParametrosFeijao.xls\").squeeze()"
   ]
  },
  {
   "cell_type": "code",
   "execution_count": 15,
   "id": "0925efce",
   "metadata": {},
   "outputs": [],
   "source": [
    "aARM = []\n",
    "De_f = 0\n",
    "De_i = 0\n",
    "for idx, (doy, tx, tn, urx, urn, u2, qg, ap, aArm, teta, chuva, irriga, _) in dados.iterrows():\n",
    "    \n",
    "    # Termo Aerodinâmico    \n",
    "    S, tm, es, ea, lamb = termoAeroDinamico(params, tx, tn, urn, urx)\n",
    "    \n",
    "    Qn = saldoDeRadiacao(params, doy, qg, tx, tn, ea)\n",
    "    \n",
    "    #Evapotranspiração de referência [mm/d]\n",
    "    aETo_PM = (0.408*S*(Qn)+lamb*900*u2*(es-ea)/(tm + 273))/(S+lamb*(1+0.34*u2))\n",
    "    \n",
    "    aKcb, kcx = transpiracaoPotencial(params, u2, urn, aETo_PM, idx+1)\n",
    "    aETc, aKe, De_f, De_i = evaporacao(params, ap, aKcb, kcx, aETo_PM, De_f, idx+1)\n",
    "    aTAR, Dr_f = evapotranspiracaoReal(params, ap, aKcb, aETc, aKe, aETo_PM, De_i,idx+1)\n",
    "    \n",
    "    aARM.append( max(aTAR - Dr_f,0) )\n",
    "    break"
   ]
  },
  {
   "cell_type": "code",
   "execution_count": 33,
   "id": "969081f9",
   "metadata": {},
   "outputs": [
    {
     "data": {
      "text/plain": [
       "(Index(['DOY', 'TX', 'TN', 'URX', 'URN', 'U2', 'QG', 'P', 'ARM', 'TETA', 'P.1',\n",
       "        'I', 'EXP'],\n",
       "       dtype='object'),\n",
       " Index(['z', 'fi', 'L_ini', 'L_mid', 'L_cres', 'L_fim', 'Kcb_ini', 'Kcb_mid',\n",
       "        'Kcb_fim', 'hx', 'h', 'fw_ini', 'cc', 'PM', 'Ze', 'Zrn', 'Zrx', 'AFE',\n",
       "        'f', 't'],\n",
       "       dtype='object'))"
      ]
     },
     "execution_count": 33,
     "metadata": {},
     "output_type": "execute_result"
    }
   ],
   "source": [
    "dados.columns, params.index"
   ]
  },
  {
   "cell_type": "code",
   "execution_count": 132,
   "id": "5ee1df69",
   "metadata": {},
   "outputs": [
    {
     "data": {
      "text/plain": [
       "17.325000000000003"
      ]
     },
     "execution_count": 132,
     "metadata": {},
     "output_type": "execute_result"
    }
   ],
   "source": [
    "De_f"
   ]
  }
 ],
 "metadata": {
  "kernelspec": {
   "display_name": "Python 3",
   "language": "python",
   "name": "python3"
  },
  "language_info": {
   "codemirror_mode": {
    "name": "ipython",
    "version": 3
   },
   "file_extension": ".py",
   "mimetype": "text/x-python",
   "name": "python",
   "nbconvert_exporter": "python",
   "pygments_lexer": "ipython3",
   "version": "3.10.6"
  }
 },
 "nbformat": 4,
 "nbformat_minor": 5
}
