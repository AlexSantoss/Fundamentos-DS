{
 "cells": [
  {
   "cell_type": "code",
   "execution_count": 1,
   "id": "f64d2e64",
   "metadata": {},
   "outputs": [],
   "source": [
    "import pandas as pd\n",
    "from math import pi, sin, cos, exp, tan, acos, isclose"
   ]
  },
  {
   "cell_type": "code",
   "execution_count": 2,
   "id": "2e03548a",
   "metadata": {},
   "outputs": [],
   "source": [
    "pi = 3.1412"
   ]
  },
  {
   "cell_type": "markdown",
   "id": "416f901f",
   "metadata": {},
   "source": [
    "# Dicinoário de Dados\n",
    "COEFICIENTE_BASAL    => KCB\\\n",
    "COEFICIENTE_CULTURA  => KC\\\n",
    "COEFICIENTE_EVAPO    => KE\\\n",
    "EVAPO_CULTURA        => ETC\\\n",
    "TRANSP_POTENCIAL     => TRP\\\n",
    "EVAPO                => E\\\n",
    "ARMAZENAMENTO_AGUA   => ARM\\\n",
    "Capacidade de Campo  => TAR\\\n",
    "ARM2                 => ARM2\\\n",
    "EVAPO_REFERENCIA     => ET0\\\n",
    "EVAPO_REAL           => ETR\\\n",
    "TR                   => TR\\\n",
    "TA                   => TA\\\n",
    "DIAJULIANO           => DIAJULIANO\\\n",
    "TARMEDIO             => TAR/2 \\\n",
    "Indice de Satisfação => ISNA\\\n",
    "PLUVIOSIDADE         => P\\\n"
   ]
  },
  {
   "cell_type": "code",
   "execution_count": 6,
   "id": "721c2ec0",
   "metadata": {},
   "outputs": [],
   "source": [
    "#Termo Aerodinâmico    \n",
    "def termoAeroDinamico(params, urx, urn, tx, tn):\n",
    "    tm   = (tx + tn)/2\n",
    "    #Pressão de saturação do vapor d'água do ar - Equação de Tetens [kPa]\n",
    "    es   = (0.6108* exp(17.27*tx/(237.3+tx))+ 0.6108* exp(17.27*tn/(237.3+tn)))/2\n",
    "    #Pressão real do vapor d'água do ar [kPa]   \n",
    "    ea   = (urn * 0.6108* exp(17.27*tx/(237.3+tx))+ urx * 0.6108* exp(17.27*tn/(237.3+tn)))/ 200\n",
    "    #Declividade da curva de pressão de saturação [kPa/oC]\n",
    "    S    = 4098 * 0.6108* exp(17.27*tm/(237.3+tm))/((237.3 + tm)**2)\n",
    "    #Pressão atmosférica [kPa]\n",
    "    Patm = 101.3*((293-0.0065*params.Z)/(293))**5.26\n",
    "    #Calor latente de evaporação [MJ/kg]\n",
    "    lamb = 0.665E-3*Patm\n",
    "    \n",
    "    return S, tm, es, ea, lamb\n",
    "\n",
    "#Termo Radioativo\n",
    "def saldoDeRadiacao(params, doy, qg, tx, tn, ea):\n",
    "    #Radiação solar extraterrestre\n",
    "\n",
    "    #Correção relativa Terra-Sol\n",
    "    dr   = 1 + 0.033 * cos(2*pi/365*doy)\n",
    "    #Declinação Solar \n",
    "    decl = 0.409 * sin((2*pi/365*doy)-1.39)\n",
    "    #Angulo Horário\n",
    "    ws   = acos(-tan(params.FI*pi/180)*tan(decl))\n",
    "    #Radiação Solar Extraterrestre\n",
    "    Qo   = 37.568*dr*((ws*sin(params.FI*pi/180)*sin(decl))+(cos(params.FI*pi/180)*cos(decl)*sin(ws)))\n",
    "\n",
    "    #Balanço de radiação\n",
    "    #Ondas curtas\n",
    "    \n",
    "    #Radiação solar para dia de céu sem nebulosidade\n",
    "    Qso = (0.75 + 2E-5*params.Z)*Qo\n",
    "    Qoc = 0.77 * qg\n",
    "    \n",
    "    #Ondas longas\n",
    "    Qol    = 4.903E-9*((((tx + 273.16)**4)+ ((tn + 273.16)**4))/2)*(0.34-0.14*ea**0.5)*(1.35*(qg/Qso)-0.35)\n",
    "\n",
    "    return Qoc - Qol\n",
    "\n",
    "#Transpiração Potencial\n",
    "def transpiracaoPotencial(params, u2, urn, aETo_PM, t):\n",
    "    if t < params.L_INI:\n",
    "        Kcb = params.KCB_INI\n",
    "    elif t < params.L_INI + params.L_CRES:\n",
    "        Kcb = params.KCB_INI+(t-params.L_INI)/params.L_CRES*(params.KCB_MID-params.KCB_INI)\n",
    "    elif t < params.L_INI + params.L_CRES + params.L_MID:\n",
    "        Kcb = params.KCB_MID\n",
    "    else:\n",
    "        Kcb = params.KCB_MID+(t-(params.L_INI+params.L_CRES+params.L_MID))/params.L_FIM*(params.KCB_FIM-params.KCB_MID)\n",
    "    \n",
    "    trp = Kcb * aETo_PM\n",
    "    h = max((Kcb/params.KCB_MID)*params.HX,params.H)\n",
    "    kcx = max(1.2+(0.04*(u2-2)-0.004*(urn-45))*(h/3)**0.3,Kcb+0.05)\n",
    "\n",
    "    return Kcb, trp, h, kcx\n",
    "\n",
    "#Balanço de água no solo\n",
    "def evaporacao(params, p, Kcb, kcx, ETo_PM, De_f, h, t):\n",
    "    #Camada subsuperfícial - Evaporação\n",
    "    fc = max(abs(((Kcb-params.KCB_INI)/(kcx-params.KCB_INI)))**(1 + 0.5*params.H),0.01)\n",
    "    \n",
    "    if p > 0: fw = 1\n",
    "    else: fw = params.FW_INI\n",
    "    \n",
    "    few = min(1-fc,fw)\n",
    "    TAE = 1000*(params.CC-0.5*params.PM)*params.ZE\n",
    "    \n",
    "    if t == 1: De_i = TAE - params.AFE\n",
    "    else: De_i = max(De_f-p, 0)\n",
    "        \n",
    "    if De_i < params.AFE: kr = 1\n",
    "    else: kr = max((TAE - De_i)/(TAE - params.AFE), 0)\n",
    "            \n",
    "    ke = min(kr*(kcx-Kcb), few*kcx)\n",
    "    E = ke * ETo_PM\n",
    "    \n",
    "    if t == 1:\n",
    "        Dp = max(p, 0)\n",
    "        De_f = min(De_i - p+(E/few) + Dp, TAE)\n",
    "    else:\n",
    "        Dp = max(p-De_f, 0)\n",
    "        De_f = min(De_f - p+(E/few) + Dp, TAE)\n",
    "        \n",
    "    Kc = Kcb + ke\n",
    "    ETc = Kc * ETo_PM\n",
    "\n",
    "    return ETc, ke, De_f, De_i\n",
    "\n",
    "\n",
    "def evapotranspiracaoReal(params, ap, aKcb, aETc, aKe, aETo_PM, De_i, Dr_f, t):\n",
    "    if t <= (params.L_INI + params.L_CRES + params.L_MID):\n",
    "        Zr = ((aKcb - params.KCB_INI)/(params.KCB_MID - params.KCB_INI))*(params.ZRX - params.ZRN) + params.ZRN\n",
    "    else:\n",
    "        Zr = params.ZRN\n",
    "    \n",
    "    TAR = 1000.*(params.CC - params.PM)*Zr\n",
    "    AFR = params.F*TAR\n",
    "    \n",
    "    if t == 1:\n",
    "        Dr_i = min( max((TAR-AFR)-ap+aETc, 0), TAR)\n",
    "        if Dr_i < AFR:\n",
    "            ks = 1\n",
    "        else:\n",
    "            ks = max( (TAR-Dr_i)/(TAR-AFR), 0)\n",
    "\n",
    "        Dp = max( ap-aETc-Dr_i, 0 )\n",
    "        kcr = aKe + ks * aKcb\n",
    "        ETR = kcr * aETo_PM\n",
    "        Tr = ks * aKcb *aETo_PM\n",
    "        Dr_f = max( min((TAR-AFR)-ap+ETR+Dp, TAR), 0 )\n",
    "    else:\n",
    "        Dr_i = min( max(Dr_f-ap+aETc, 0), TAR)\n",
    "        if Dr_i < AFR:\n",
    "            ks = 1\n",
    "        else:\n",
    "            ks = max( (TAR-Dr_i)/(TAR-AFR), 0)\n",
    "        \n",
    "        Dp = max( ap-aETc-Dr_f, 0)\n",
    "        kcr = aKe + ks*aKcb\n",
    "        ETR = kcr * aETo_PM\n",
    "        Tr = ks*aKcb*aETo_PM\n",
    "        Dr_f = min(Dr_f-ap+ETR+Dp, TAR)\n",
    "\n",
    "    return  TAR, Dr_f, ETR"
   ]
  },
  {
   "cell_type": "code",
   "execution_count": 7,
   "id": "ab4c7d50",
   "metadata": {},
   "outputs": [
    {
     "data": {
      "text/plain": [
       "Z          127.000000\n",
       "FI          -9.467200\n",
       "L_INI       15.000000\n",
       "L_MID       25.000000\n",
       "L_CRES      25.000000\n",
       "L_FIM       11.000000\n",
       "KCB_INI      0.462095\n",
       "KCB_MID      1.114169\n",
       "KCB_FIM      0.500000\n",
       "HX           0.430000\n",
       "H            0.000000\n",
       "FW_INI       1.000000\n",
       "CC           0.244500\n",
       "PM           0.142500\n",
       "ZE           0.100000\n",
       "ZRN          0.100000\n",
       "ZRX          0.300000\n",
       "AFE         10.000000\n",
       "F            0.000000\n",
       "Name: 0, dtype: float64"
      ]
     },
     "execution_count": 7,
     "metadata": {},
     "output_type": "execute_result"
    }
   ],
   "source": [
    "#Precisa instalar xlrd (\"pip install xlrd\" ou \"conda install xlrd\")\n",
    "dados = pd.read_csv(\"datasets/Dados _Meteorologicos_2021a2022.csv\", sep=';')\n",
    "params = pd.read_excel(\"datasets/ParametrosFeijao.xls\").squeeze()\n",
    "resultados = pd.read_csv(\"datasets/DadosProcessados.csv\", sep=';')\n",
    "#intermediarios = pd.read_csv(\"datasets/dados.csv\", sep=';', header=False)\n",
    "#tx = temperatura maxima\n",
    "#tn = temperatura minima\n",
    "#urx = umidade maxima\n",
    "#urn = umidade minima\n",
    "#u2 = vento\n",
    "#qg = radiação\n",
    "#p = precipitacao\n",
    "#arm = \n",
    "#teta = \n",
    "#p = -\n",
    "#irrigacao = 0\n",
    "#exp = 0\n",
    "params.index = params.index.str.upper()\n",
    "params"
   ]
  },
  {
   "cell_type": "code",
   "execution_count": 14,
   "id": "0925efce",
   "metadata": {},
   "outputs": [
    {
     "data": {
      "text/plain": [
       "[14, 19, 13, 12, 63]"
      ]
     },
     "execution_count": 14,
     "metadata": {},
     "output_type": "execute_result"
    }
   ],
   "source": [
    "aARM = []\n",
    "De_f = 0\n",
    "De_i = 0\n",
    "Dr_f = 0\n",
    "isna_array = [0, 0, 0, 0, 0]\n",
    "#for idx, (doy, tx, tn, urx, urn, u2, qg, ap, _, _, _, _, _) in dados.iterrows():\n",
    "for idx, (_, _, doy, _, tx, tn, urx, urn, ap, u2, _, qg, _) in dados.iterrows():\n",
    "    # Termo Aerodinâmico    \n",
    "    S, tm, es, ea, lamb = termoAeroDinamico(params, urx, urn, tx, tn) #conferido\n",
    "    \n",
    "    #Saldo de Radiação\n",
    "    Qn = saldoDeRadiacao(params, doy, qg, tx, tn, ea) #conferido\n",
    "    \n",
    "    #Evapotranspiração de referência [mm/d]\n",
    "    aETo_PM = (0.408*S*(Qn)+lamb*900*u2*(es-ea)/(tm + 273))/(S+lamb*(1+0.34*u2)) #conferido\n",
    "\n",
    "    #Transpiracao Potencial\n",
    "    aKcb, trp, h, kcx = transpiracaoPotencial(params, u2, urn, aETo_PM, idx+1) #conferido\n",
    "    \n",
    "    #Evaporação\n",
    "    aETc, aKe, De_f, De_i = evaporacao(params, ap, aKcb, kcx, aETo_PM, De_f, h, idx+1) #conferido\n",
    "\n",
    "    aTAR, Dr_f, ETR = evapotranspiracaoReal(params, ap, aKcb, aETc, aKe, aETo_PM, De_i, Dr_f,idx+1)\n",
    "    \n",
    "    ISNA = ETR/aETc\n",
    "    if ISNA < 0.25: isna_array[0] += 1\n",
    "    elif ISNA < 0.5: isna_array[1] += 1\n",
    "    elif ISNA < 0.75: isna_array[2] += 1\n",
    "    elif ISNA < 0.9: isna_array[3] += 1\n",
    "    else: isna_array[4] += 1\n",
    "    aARM.append( max(aTAR - Dr_f,0) )\n",
    "    #print(fc, , , De_i)\n",
    "isna_array"
   ]
  },
  {
   "cell_type": "code",
   "execution_count": 32,
   "id": "969081f9",
   "metadata": {},
   "outputs": [
    {
     "data": {
      "text/plain": [
       "Z          127.000000\n",
       "FI          -9.467200\n",
       "L_INI       15.000000\n",
       "L_MID       25.000000\n",
       "L_CRES      25.000000\n",
       "L_FIM       11.000000\n",
       "KCB_INI      0.462095\n",
       "KCB_MID      1.114169\n",
       "KCB_FIM      0.500000\n",
       "HX           0.430000\n",
       "H            0.000000\n",
       "FW_INI       1.000000\n",
       "CC           0.244500\n",
       "PM           0.142500\n",
       "ZE           0.100000\n",
       "ZRN          0.100000\n",
       "ZRX          0.300000\n",
       "AFE         10.000000\n",
       "F            0.000000\n",
       "Name: 0, dtype: float64"
      ]
     },
     "execution_count": 32,
     "metadata": {},
     "output_type": "execute_result"
    }
   ],
   "source": [
    "print(kr x, few x)"
   ]
  },
  {
   "cell_type": "code",
   "execution_count": 33,
   "id": "5ee1df69",
   "metadata": {},
   "outputs": [
    {
     "data": {
      "text/plain": [
       "3.727092492253948"
      ]
     },
     "execution_count": 33,
     "metadata": {},
     "output_type": "execute_result"
    }
   ],
   "source": [
    "aETo_PM"
   ]
  },
  {
   "cell_type": "code",
   "execution_count": null,
   "id": "bcb62736",
   "metadata": {},
   "outputs": [],
   "source": []
  }
 ],
 "metadata": {
  "kernelspec": {
   "display_name": "Python 3",
   "language": "python",
   "name": "python3"
  },
  "language_info": {
   "codemirror_mode": {
    "name": "ipython",
    "version": 3
   },
   "file_extension": ".py",
   "mimetype": "text/x-python",
   "name": "python",
   "nbconvert_exporter": "python",
   "pygments_lexer": "ipython3",
   "version": "3.10.7"
  }
 },
 "nbformat": 4,
 "nbformat_minor": 5
}
