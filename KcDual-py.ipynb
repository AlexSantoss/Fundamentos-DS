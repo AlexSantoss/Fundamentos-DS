{
 "cells": [
  {
   "cell_type": "code",
   "execution_count": 22,
   "id": "f64d2e64",
   "metadata": {},
   "outputs": [],
   "source": [
    "import pandas as pd\n",
    "from math import pi, sin, cos, exp, tan, acos, isclose\n",
    "import datetime"
   ]
  },
  {
   "cell_type": "code",
   "execution_count": 2,
   "id": "2e03548a",
   "metadata": {},
   "outputs": [],
   "source": [
    "pi = 3.1412"
   ]
  },
  {
   "cell_type": "markdown",
   "id": "416f901f",
   "metadata": {},
   "source": [
    "# Dicinoário de Dados\n",
    "COEFICIENTE_BASAL    => KCB\\\n",
    "COEFICIENTE_CULTURA  => KC\\\n",
    "COEFICIENTE_EVAPO    => KE\\\n",
    "EVAPO_CULTURA        => ETC\\\n",
    "TRANSP_POTENCIAL     => TRP\\\n",
    "EVAPO                => E\\\n",
    "ARMAZENAMENTO_AGUA   => ARM\\\n",
    "Capacidade de Campo  => TAR\\\n",
    "ARM2                 => ARM2\\\n",
    "EVAPO_REFERENCIA     => ET0\\\n",
    "EVAPO_REAL           => ETR\\\n",
    "TR                   => TR\\\n",
    "TA                   => TA\\\n",
    "DIAJULIANO           => DIAJULIANO\\\n",
    "TARMEDIO             => TAR/2 \\\n",
    "Indice de Satisfação => ISNA\\\n",
    "PLUVIOSIDADE         => P\\\n"
   ]
  },
  {
   "cell_type": "code",
   "execution_count": 29,
   "id": "721c2ec0",
   "metadata": {},
   "outputs": [],
   "source": [
    "#Termo Aerodinâmico    \n",
    "def termoAeroDinamico(params, urx, urn, tx, tn):\n",
    "    tm   = (tx + tn)/2\n",
    "    #Pressão de saturação do vapor d'água do ar - Equação de Tetens [kPa]\n",
    "    es   = (0.6108* exp(17.27*tx/(237.3+tx))+ 0.6108* exp(17.27*tn/(237.3+tn)))/2\n",
    "    #Pressão real do vapor d'água do ar [kPa]   \n",
    "    ea   = (urn * 0.6108* exp(17.27*tx/(237.3+tx))+ urx * 0.6108* exp(17.27*tn/(237.3+tn)))/ 200\n",
    "    #Declividade da curva de pressão de saturação [kPa/oC]\n",
    "    S    = 4098 * 0.6108* exp(17.27*tm/(237.3+tm))/((237.3 + tm)**2)\n",
    "    #Pressão atmosférica [kPa]\n",
    "    Patm = 101.3*((293-0.0065*params.Z)/(293))**5.26\n",
    "    #Calor latente de evaporação [MJ/kg]\n",
    "    lamb = 0.665E-3*Patm\n",
    "    \n",
    "    return S, tm, es, ea, lamb\n",
    "\n",
    "#Termo Radioativo\n",
    "def saldoDeRadiacao(params, doy, qg, tx, tn, ea):\n",
    "    #Radiação solar extraterrestre\n",
    "\n",
    "    #Correção relativa Terra-Sol\n",
    "    dr   = 1 + 0.033 * cos(2*pi/365*doy)\n",
    "    #Declinação Solar \n",
    "    decl = 0.409 * sin((2*pi/365*doy)-1.39)\n",
    "    #Angulo Horário\n",
    "    ws   = acos(-tan(params.FI*pi/180)*tan(decl))\n",
    "    #Radiação Solar Extraterrestre\n",
    "    Qo   = 37.568*dr*((ws*sin(params.FI*pi/180)*sin(decl))+(cos(params.FI*pi/180)*cos(decl)*sin(ws)))\n",
    "\n",
    "    #Balanço de radiação\n",
    "    #Ondas curtas\n",
    "    \n",
    "    #Radiação solar para dia de céu sem nebulosidade\n",
    "    Qso = (0.75 + 2E-5*params.Z)*Qo\n",
    "    Qoc = 0.77 * qg\n",
    "    \n",
    "    #Ondas longas\n",
    "    Qol    = 4.903E-9*((((tx + 273.16)**4)+ ((tn + 273.16)**4))/2)*(0.34-0.14*ea**0.5)*(1.35*(qg/Qso)-0.35)\n",
    "\n",
    "    return Qoc - Qol\n",
    "\n",
    "#Transpiração Potencial\n",
    "def transpiracaoPotencial(params, u2, urn, aETo_PM, t):\n",
    "    if t < params.L_INI:\n",
    "        Kcb = params.KCB_INI\n",
    "    elif t < params.L_INI + params.L_CRES:\n",
    "        Kcb = params.KCB_INI+(t-params.L_INI)/params.L_CRES*(params.KCB_MID-params.KCB_INI)\n",
    "    elif t < params.L_INI + params.L_CRES + params.L_MID:\n",
    "        Kcb = params.KCB_MID\n",
    "    else:\n",
    "        Kcb = params.KCB_MID+(t-(params.L_INI+params.L_CRES+params.L_MID))/params.L_FIM*(params.KCB_FIM-params.KCB_MID)\n",
    "    \n",
    "    trp = Kcb * aETo_PM\n",
    "    h = max((Kcb/params.KCB_MID)*params.HX,params.H)\n",
    "    kcx = max(1.2+(0.04*(u2-2)-0.004*(urn-45))*(h/3)**0.3,Kcb+0.05)\n",
    "\n",
    "    return Kcb, trp, h, kcx\n",
    "\n",
    "#Balanço de água no solo\n",
    "def evaporacao(params, p, Kcb, kcx, ETo_PM, De_f, h, t):\n",
    "    #Camada subsuperfícial - Evaporação\n",
    "    fc = max(abs(((Kcb-params.KCB_INI)/(kcx-params.KCB_INI)))**(1 + 0.5*params.H),0.01)\n",
    "    \n",
    "    if p > 0: fw = 1\n",
    "    else: fw = params.FW_INI\n",
    "    \n",
    "    few = min(1-fc,fw)\n",
    "    TAE = 1000*(params.CC-0.5*params.PM)*params.ZE\n",
    "    \n",
    "    if t == 1: De_i = TAE - params.AFE\n",
    "    else: De_i = max(De_f-p, 0)\n",
    "        \n",
    "    if De_i < params.AFE: kr = 1\n",
    "    else: kr = max((TAE - De_i)/(TAE - params.AFE), 0)\n",
    "            \n",
    "    ke = min(kr*(kcx-Kcb), few*kcx)\n",
    "    E = ke * ETo_PM\n",
    "    \n",
    "    if t == 1:\n",
    "        Dp = max(p, 0)\n",
    "        De_f = min(De_i - p+(E/few) + Dp, TAE)\n",
    "    else:\n",
    "        Dp = max(p-De_f, 0)\n",
    "        De_f = min(De_f - p+(E/few) + Dp, TAE)\n",
    "        \n",
    "    Kc = Kcb + ke\n",
    "    ETc = Kc * ETo_PM\n",
    "\n",
    "    return ETc, ke, De_f, De_i\n",
    "\n",
    "\n",
    "def evapotranspiracaoReal(params, ap, aKcb, aETc, aKe, aETo_PM, De_i, Dr_f, t):\n",
    "    if t <= (params.L_INI + params.L_CRES + params.L_MID):\n",
    "        Zr = ((aKcb - params.KCB_INI)/(params.KCB_MID - params.KCB_INI))*(params.ZRX - params.ZRN) + params.ZRN\n",
    "    else:\n",
    "        Zr = params.ZRN\n",
    "    \n",
    "    TAR = 1000.*(params.CC - params.PM)*Zr\n",
    "    AFR = params.F*TAR\n",
    "    \n",
    "    if t == 1:\n",
    "        Dr_i = min( max((TAR-AFR)-ap+aETc, 0), TAR)\n",
    "        if Dr_i < AFR:\n",
    "            ks = 1\n",
    "        else:\n",
    "            ks = max( (TAR-Dr_i)/(TAR-AFR), 0)\n",
    "\n",
    "        Dp = max( ap-aETc-Dr_i, 0 )\n",
    "        kcr = aKe + ks * aKcb\n",
    "        ETR = kcr * aETo_PM\n",
    "        Tr = ks * aKcb *aETo_PM\n",
    "        Dr_f = max( min((TAR-AFR)-ap+ETR+Dp, TAR), 0 )\n",
    "    else:\n",
    "        Dr_i = min( max(Dr_f-ap+aETc, 0), TAR)\n",
    "        if Dr_i < AFR:\n",
    "            ks = 1\n",
    "        else:\n",
    "            ks = max( (TAR-Dr_i)/(TAR-AFR), 0)\n",
    "        \n",
    "        Dp = max( ap-aETc-Dr_f, 0)\n",
    "        kcr = aKe + ks*aKcb\n",
    "        ETR = kcr * aETo_PM\n",
    "        Tr = ks*aKcb*aETo_PM\n",
    "        Dr_f = min(Dr_f-ap+ETR+Dp, TAR)\n",
    "\n",
    "    return  TAR, Dr_f, ETR"
   ]
  },
  {
   "cell_type": "code",
   "execution_count": 30,
   "id": "ab4c7d50",
   "metadata": {},
   "outputs": [],
   "source": [
    "#Precisa instalar xlrd (\"pip install xlrd\" ou \"conda install xlrd\")\n",
    "dados = pd.read_csv(\"datasets/consolidado.csv\", sep=';', index_col=[1, 2, 3, 4])\n",
    "params = pd.read_excel(\"datasets/ParametrosFeijao.xls\").squeeze()\n",
    "params.index = params.index.str.upper()"
   ]
  },
  {
   "cell_type": "code",
   "execution_count": 51,
   "id": "b7046d9e",
   "metadata": {},
   "outputs": [
    {
     "ename": "OSError",
     "evalue": "Cannot save file into a non-existent directory: 'datasets/isnas'",
     "output_type": "error",
     "traceback": [
      "\u001b[0;31m---------------------------------------------------------------------------\u001b[0m",
      "\u001b[0;31mOSError\u001b[0m                                   Traceback (most recent call last)",
      "Cell \u001b[0;32mIn [51], line 27\u001b[0m\n\u001b[1;32m     25\u001b[0m         \u001b[38;5;28;01melse\u001b[39;00m: isna_array[\u001b[38;5;241m5\u001b[39m] \u001b[38;5;241m+\u001b[39m\u001b[38;5;241m=\u001b[39m \u001b[38;5;241m1\u001b[39m\n\u001b[1;32m     26\u001b[0m     isnas\u001b[38;5;241m.\u001b[39mappend(pd\u001b[38;5;241m.\u001b[39mSeries(isna_array, name\u001b[38;5;241m=\u001b[39m\u001b[38;5;124mf\u001b[39m\u001b[38;5;124m'\u001b[39m\u001b[38;5;132;01m{\u001b[39;00mv\u001b[38;5;241m.\u001b[39miloc[i\u001b[38;5;241m*\u001b[39m\u001b[38;5;241m10\u001b[39m][\u001b[38;5;124m\"\u001b[39m\u001b[38;5;124mData\u001b[39m\u001b[38;5;124m\"\u001b[39m]\u001b[38;5;132;01m}\u001b[39;00m\u001b[38;5;124m-\u001b[39m\u001b[38;5;132;01m{\u001b[39;00mv\u001b[38;5;241m.\u001b[39miloc[\u001b[38;5;241m120\u001b[39m\u001b[38;5;241m+\u001b[39mi\u001b[38;5;241m*\u001b[39m\u001b[38;5;241m10\u001b[39m][\u001b[38;5;124m\"\u001b[39m\u001b[38;5;124mData\u001b[39m\u001b[38;5;124m\"\u001b[39m]\u001b[38;5;132;01m}\u001b[39;00m\u001b[38;5;124m'\u001b[39m, index\u001b[38;5;241m=\u001b[39m[\u001b[38;5;124m'\u001b[39m\u001b[38;5;124mRisco Extremo\u001b[39m\u001b[38;5;124m'\u001b[39m, \u001b[38;5;124m'\u001b[39m\u001b[38;5;124mRisco Alto\u001b[39m\u001b[38;5;124m'\u001b[39m, \u001b[38;5;124m'\u001b[39m\u001b[38;5;124mRisco Baixo\u001b[39m\u001b[38;5;124m'\u001b[39m, \u001b[38;5;124m'\u001b[39m\u001b[38;5;124mRisco Muito Baixo\u001b[39m\u001b[38;5;124m'\u001b[39m, \u001b[38;5;124m'\u001b[39m\u001b[38;5;124mSem Risco\u001b[39m\u001b[38;5;124m'\u001b[39m, \u001b[38;5;124m'\u001b[39m\u001b[38;5;124mErro\u001b[39m\u001b[38;5;124m'\u001b[39m]))\n\u001b[0;32m---> 27\u001b[0m pd\u001b[38;5;241m.\u001b[39mconcat(isnas, axis\u001b[38;5;241m=\u001b[39m\u001b[38;5;241m1\u001b[39m)\u001b[38;5;241m.\u001b[39mto_csv(\u001b[38;5;124m'\u001b[39m\u001b[38;5;124mdatasets/isnas/\u001b[39m\u001b[38;5;124m'\u001b[39m\u001b[38;5;241m+\u001b[39m\u001b[38;5;124m'\u001b[39m\u001b[38;5;124m_\u001b[39m\u001b[38;5;124m'\u001b[39m\u001b[38;5;241m.\u001b[39mjoin(k)\u001b[38;5;241m+\u001b[39m\u001b[38;5;124m'\u001b[39m\u001b[38;5;124m.csv\u001b[39m\u001b[38;5;124m'\u001b[39m)\n",
      "File \u001b[0;32m~/.local/lib/python3.10/site-packages/pandas/core/generic.py:3551\u001b[0m, in \u001b[0;36mNDFrame.to_csv\u001b[0;34m(self, path_or_buf, sep, na_rep, float_format, columns, header, index, index_label, mode, encoding, compression, quoting, quotechar, line_terminator, chunksize, date_format, doublequote, escapechar, decimal, errors, storage_options)\u001b[0m\n\u001b[1;32m   3540\u001b[0m df \u001b[38;5;241m=\u001b[39m \u001b[38;5;28mself\u001b[39m \u001b[38;5;28;01mif\u001b[39;00m \u001b[38;5;28misinstance\u001b[39m(\u001b[38;5;28mself\u001b[39m, ABCDataFrame) \u001b[38;5;28;01melse\u001b[39;00m \u001b[38;5;28mself\u001b[39m\u001b[38;5;241m.\u001b[39mto_frame()\n\u001b[1;32m   3542\u001b[0m formatter \u001b[38;5;241m=\u001b[39m DataFrameFormatter(\n\u001b[1;32m   3543\u001b[0m     frame\u001b[38;5;241m=\u001b[39mdf,\n\u001b[1;32m   3544\u001b[0m     header\u001b[38;5;241m=\u001b[39mheader,\n\u001b[0;32m   (...)\u001b[0m\n\u001b[1;32m   3548\u001b[0m     decimal\u001b[38;5;241m=\u001b[39mdecimal,\n\u001b[1;32m   3549\u001b[0m )\n\u001b[0;32m-> 3551\u001b[0m \u001b[38;5;28;01mreturn\u001b[39;00m \u001b[43mDataFrameRenderer\u001b[49m\u001b[43m(\u001b[49m\u001b[43mformatter\u001b[49m\u001b[43m)\u001b[49m\u001b[38;5;241;43m.\u001b[39;49m\u001b[43mto_csv\u001b[49m\u001b[43m(\u001b[49m\n\u001b[1;32m   3552\u001b[0m \u001b[43m    \u001b[49m\u001b[43mpath_or_buf\u001b[49m\u001b[43m,\u001b[49m\n\u001b[1;32m   3553\u001b[0m \u001b[43m    \u001b[49m\u001b[43mline_terminator\u001b[49m\u001b[38;5;241;43m=\u001b[39;49m\u001b[43mline_terminator\u001b[49m\u001b[43m,\u001b[49m\n\u001b[1;32m   3554\u001b[0m \u001b[43m    \u001b[49m\u001b[43msep\u001b[49m\u001b[38;5;241;43m=\u001b[39;49m\u001b[43msep\u001b[49m\u001b[43m,\u001b[49m\n\u001b[1;32m   3555\u001b[0m \u001b[43m    \u001b[49m\u001b[43mencoding\u001b[49m\u001b[38;5;241;43m=\u001b[39;49m\u001b[43mencoding\u001b[49m\u001b[43m,\u001b[49m\n\u001b[1;32m   3556\u001b[0m \u001b[43m    \u001b[49m\u001b[43merrors\u001b[49m\u001b[38;5;241;43m=\u001b[39;49m\u001b[43merrors\u001b[49m\u001b[43m,\u001b[49m\n\u001b[1;32m   3557\u001b[0m \u001b[43m    \u001b[49m\u001b[43mcompression\u001b[49m\u001b[38;5;241;43m=\u001b[39;49m\u001b[43mcompression\u001b[49m\u001b[43m,\u001b[49m\n\u001b[1;32m   3558\u001b[0m \u001b[43m    \u001b[49m\u001b[43mquoting\u001b[49m\u001b[38;5;241;43m=\u001b[39;49m\u001b[43mquoting\u001b[49m\u001b[43m,\u001b[49m\n\u001b[1;32m   3559\u001b[0m \u001b[43m    \u001b[49m\u001b[43mcolumns\u001b[49m\u001b[38;5;241;43m=\u001b[39;49m\u001b[43mcolumns\u001b[49m\u001b[43m,\u001b[49m\n\u001b[1;32m   3560\u001b[0m \u001b[43m    \u001b[49m\u001b[43mindex_label\u001b[49m\u001b[38;5;241;43m=\u001b[39;49m\u001b[43mindex_label\u001b[49m\u001b[43m,\u001b[49m\n\u001b[1;32m   3561\u001b[0m \u001b[43m    \u001b[49m\u001b[43mmode\u001b[49m\u001b[38;5;241;43m=\u001b[39;49m\u001b[43mmode\u001b[49m\u001b[43m,\u001b[49m\n\u001b[1;32m   3562\u001b[0m \u001b[43m    \u001b[49m\u001b[43mchunksize\u001b[49m\u001b[38;5;241;43m=\u001b[39;49m\u001b[43mchunksize\u001b[49m\u001b[43m,\u001b[49m\n\u001b[1;32m   3563\u001b[0m \u001b[43m    \u001b[49m\u001b[43mquotechar\u001b[49m\u001b[38;5;241;43m=\u001b[39;49m\u001b[43mquotechar\u001b[49m\u001b[43m,\u001b[49m\n\u001b[1;32m   3564\u001b[0m \u001b[43m    \u001b[49m\u001b[43mdate_format\u001b[49m\u001b[38;5;241;43m=\u001b[39;49m\u001b[43mdate_format\u001b[49m\u001b[43m,\u001b[49m\n\u001b[1;32m   3565\u001b[0m \u001b[43m    \u001b[49m\u001b[43mdoublequote\u001b[49m\u001b[38;5;241;43m=\u001b[39;49m\u001b[43mdoublequote\u001b[49m\u001b[43m,\u001b[49m\n\u001b[1;32m   3566\u001b[0m \u001b[43m    \u001b[49m\u001b[43mescapechar\u001b[49m\u001b[38;5;241;43m=\u001b[39;49m\u001b[43mescapechar\u001b[49m\u001b[43m,\u001b[49m\n\u001b[1;32m   3567\u001b[0m \u001b[43m    \u001b[49m\u001b[43mstorage_options\u001b[49m\u001b[38;5;241;43m=\u001b[39;49m\u001b[43mstorage_options\u001b[49m\u001b[43m,\u001b[49m\n\u001b[1;32m   3568\u001b[0m \u001b[43m\u001b[49m\u001b[43m)\u001b[49m\n",
      "File \u001b[0;32m~/.local/lib/python3.10/site-packages/pandas/io/formats/format.py:1180\u001b[0m, in \u001b[0;36mDataFrameRenderer.to_csv\u001b[0;34m(self, path_or_buf, encoding, sep, columns, index_label, mode, compression, quoting, quotechar, line_terminator, chunksize, date_format, doublequote, escapechar, errors, storage_options)\u001b[0m\n\u001b[1;32m   1159\u001b[0m     created_buffer \u001b[38;5;241m=\u001b[39m \u001b[38;5;28;01mFalse\u001b[39;00m\n\u001b[1;32m   1161\u001b[0m csv_formatter \u001b[38;5;241m=\u001b[39m CSVFormatter(\n\u001b[1;32m   1162\u001b[0m     path_or_buf\u001b[38;5;241m=\u001b[39mpath_or_buf,\n\u001b[1;32m   1163\u001b[0m     line_terminator\u001b[38;5;241m=\u001b[39mline_terminator,\n\u001b[0;32m   (...)\u001b[0m\n\u001b[1;32m   1178\u001b[0m     formatter\u001b[38;5;241m=\u001b[39m\u001b[38;5;28mself\u001b[39m\u001b[38;5;241m.\u001b[39mfmt,\n\u001b[1;32m   1179\u001b[0m )\n\u001b[0;32m-> 1180\u001b[0m \u001b[43mcsv_formatter\u001b[49m\u001b[38;5;241;43m.\u001b[39;49m\u001b[43msave\u001b[49m\u001b[43m(\u001b[49m\u001b[43m)\u001b[49m\n\u001b[1;32m   1182\u001b[0m \u001b[38;5;28;01mif\u001b[39;00m created_buffer:\n\u001b[1;32m   1183\u001b[0m     \u001b[38;5;28;01massert\u001b[39;00m \u001b[38;5;28misinstance\u001b[39m(path_or_buf, StringIO)\n",
      "File \u001b[0;32m~/.local/lib/python3.10/site-packages/pandas/io/formats/csvs.py:241\u001b[0m, in \u001b[0;36mCSVFormatter.save\u001b[0;34m(self)\u001b[0m\n\u001b[1;32m    237\u001b[0m \u001b[38;5;124;03m\"\"\"\u001b[39;00m\n\u001b[1;32m    238\u001b[0m \u001b[38;5;124;03mCreate the writer & save.\u001b[39;00m\n\u001b[1;32m    239\u001b[0m \u001b[38;5;124;03m\"\"\"\u001b[39;00m\n\u001b[1;32m    240\u001b[0m \u001b[38;5;66;03m# apply compression and byte/text conversion\u001b[39;00m\n\u001b[0;32m--> 241\u001b[0m \u001b[38;5;28;01mwith\u001b[39;00m \u001b[43mget_handle\u001b[49m\u001b[43m(\u001b[49m\n\u001b[1;32m    242\u001b[0m \u001b[43m    \u001b[49m\u001b[38;5;28;43mself\u001b[39;49m\u001b[38;5;241;43m.\u001b[39;49m\u001b[43mfilepath_or_buffer\u001b[49m\u001b[43m,\u001b[49m\n\u001b[1;32m    243\u001b[0m \u001b[43m    \u001b[49m\u001b[38;5;28;43mself\u001b[39;49m\u001b[38;5;241;43m.\u001b[39;49m\u001b[43mmode\u001b[49m\u001b[43m,\u001b[49m\n\u001b[1;32m    244\u001b[0m \u001b[43m    \u001b[49m\u001b[43mencoding\u001b[49m\u001b[38;5;241;43m=\u001b[39;49m\u001b[38;5;28;43mself\u001b[39;49m\u001b[38;5;241;43m.\u001b[39;49m\u001b[43mencoding\u001b[49m\u001b[43m,\u001b[49m\n\u001b[1;32m    245\u001b[0m \u001b[43m    \u001b[49m\u001b[43merrors\u001b[49m\u001b[38;5;241;43m=\u001b[39;49m\u001b[38;5;28;43mself\u001b[39;49m\u001b[38;5;241;43m.\u001b[39;49m\u001b[43merrors\u001b[49m\u001b[43m,\u001b[49m\n\u001b[1;32m    246\u001b[0m \u001b[43m    \u001b[49m\u001b[43mcompression\u001b[49m\u001b[38;5;241;43m=\u001b[39;49m\u001b[38;5;28;43mself\u001b[39;49m\u001b[38;5;241;43m.\u001b[39;49m\u001b[43mcompression\u001b[49m\u001b[43m,\u001b[49m\n\u001b[1;32m    247\u001b[0m \u001b[43m    \u001b[49m\u001b[43mstorage_options\u001b[49m\u001b[38;5;241;43m=\u001b[39;49m\u001b[38;5;28;43mself\u001b[39;49m\u001b[38;5;241;43m.\u001b[39;49m\u001b[43mstorage_options\u001b[49m\u001b[43m,\u001b[49m\n\u001b[1;32m    248\u001b[0m \u001b[43m\u001b[49m\u001b[43m)\u001b[49m \u001b[38;5;28;01mas\u001b[39;00m handles:\n\u001b[1;32m    249\u001b[0m \n\u001b[1;32m    250\u001b[0m     \u001b[38;5;66;03m# Note: self.encoding is irrelevant here\u001b[39;00m\n\u001b[1;32m    251\u001b[0m     \u001b[38;5;28mself\u001b[39m\u001b[38;5;241m.\u001b[39mwriter \u001b[38;5;241m=\u001b[39m csvlib\u001b[38;5;241m.\u001b[39mwriter(\n\u001b[1;32m    252\u001b[0m         handles\u001b[38;5;241m.\u001b[39mhandle,\n\u001b[1;32m    253\u001b[0m         lineterminator\u001b[38;5;241m=\u001b[39m\u001b[38;5;28mself\u001b[39m\u001b[38;5;241m.\u001b[39mline_terminator,\n\u001b[0;32m   (...)\u001b[0m\n\u001b[1;32m    258\u001b[0m         quotechar\u001b[38;5;241m=\u001b[39m\u001b[38;5;28mself\u001b[39m\u001b[38;5;241m.\u001b[39mquotechar,\n\u001b[1;32m    259\u001b[0m     )\n\u001b[1;32m    261\u001b[0m     \u001b[38;5;28mself\u001b[39m\u001b[38;5;241m.\u001b[39m_save()\n",
      "File \u001b[0;32m~/.local/lib/python3.10/site-packages/pandas/io/common.py:697\u001b[0m, in \u001b[0;36mget_handle\u001b[0;34m(path_or_buf, mode, encoding, compression, memory_map, is_text, errors, storage_options)\u001b[0m\n\u001b[1;32m    695\u001b[0m \u001b[38;5;66;03m# Only for write methods\u001b[39;00m\n\u001b[1;32m    696\u001b[0m \u001b[38;5;28;01mif\u001b[39;00m \u001b[38;5;124m\"\u001b[39m\u001b[38;5;124mr\u001b[39m\u001b[38;5;124m\"\u001b[39m \u001b[38;5;129;01mnot\u001b[39;00m \u001b[38;5;129;01min\u001b[39;00m mode \u001b[38;5;129;01mand\u001b[39;00m is_path:\n\u001b[0;32m--> 697\u001b[0m     \u001b[43mcheck_parent_directory\u001b[49m\u001b[43m(\u001b[49m\u001b[38;5;28;43mstr\u001b[39;49m\u001b[43m(\u001b[49m\u001b[43mhandle\u001b[49m\u001b[43m)\u001b[49m\u001b[43m)\u001b[49m\n\u001b[1;32m    699\u001b[0m \u001b[38;5;28;01mif\u001b[39;00m compression:\n\u001b[1;32m    700\u001b[0m     \u001b[38;5;28;01mif\u001b[39;00m compression \u001b[38;5;241m!=\u001b[39m \u001b[38;5;124m\"\u001b[39m\u001b[38;5;124mzstd\u001b[39m\u001b[38;5;124m\"\u001b[39m:\n\u001b[1;32m    701\u001b[0m         \u001b[38;5;66;03m# compression libraries do not like an explicit text-mode\u001b[39;00m\n",
      "File \u001b[0;32m~/.local/lib/python3.10/site-packages/pandas/io/common.py:571\u001b[0m, in \u001b[0;36mcheck_parent_directory\u001b[0;34m(path)\u001b[0m\n\u001b[1;32m    569\u001b[0m parent \u001b[38;5;241m=\u001b[39m Path(path)\u001b[38;5;241m.\u001b[39mparent\n\u001b[1;32m    570\u001b[0m \u001b[38;5;28;01mif\u001b[39;00m \u001b[38;5;129;01mnot\u001b[39;00m parent\u001b[38;5;241m.\u001b[39mis_dir():\n\u001b[0;32m--> 571\u001b[0m     \u001b[38;5;28;01mraise\u001b[39;00m \u001b[38;5;167;01mOSError\u001b[39;00m(\u001b[38;5;124mrf\u001b[39m\u001b[38;5;124m\"\u001b[39m\u001b[38;5;124mCannot save file into a non-existent directory: \u001b[39m\u001b[38;5;124m'\u001b[39m\u001b[38;5;132;01m{\u001b[39;00mparent\u001b[38;5;132;01m}\u001b[39;00m\u001b[38;5;124m'\u001b[39m\u001b[38;5;124m\"\u001b[39m)\n",
      "\u001b[0;31mOSError\u001b[0m: Cannot save file into a non-existent directory: 'datasets/isnas'"
     ]
    }
   ],
   "source": [
    "for k, v in dados.groupby(level=[0, 1, 2, 3]):\n",
    "    isnas = []\n",
    "    for i in range(10):\n",
    "        De_f = De_i = Dr_f = 0\n",
    "        isna_array = [0, 0, 0, 0, 0, 0]\n",
    "        for idx, (_, (dia, _, _, _, ap, qg, tx, tn, urx, urn, u2)) in enumerate(v.iloc[i*10:121+i*10].iterrows()):\n",
    "            doy = datetime.datetime.strptime(dia, '%Y-%m-%d').timetuple().tm_yday\n",
    "            S, tm, es, ea, lamb = termoAeroDinamico(params, urx, urn, tx, tn) #conferido\n",
    "            #Saldo de Radiação\n",
    "            Qn = saldoDeRadiacao(params, doy, qg, tx, tn, ea) #conferido\n",
    "            #Evapotranspiração de referência [mm/d]\n",
    "            aETo_PM = (0.408*S*(Qn)+lamb*900*u2*(es-ea)/(tm + 273))/(S+lamb*(1+0.34*u2)) #conferido\n",
    "            #Transpiracao Potencial\n",
    "            aKcb, trp, h, kcx = transpiracaoPotencial(params, u2, urn, aETo_PM, idx+1) #conferido\n",
    "            #Evaporação\n",
    "            aETc, aKe, De_f, De_i = evaporacao(params, ap, aKcb, kcx, aETo_PM, De_f, h, idx+1) #conferido\n",
    "            aTAR, Dr_f, ETR = evapotranspiracaoReal(params, ap, aKcb, aETc, aKe, aETo_PM, De_i, Dr_f,idx+1)\n",
    "            \n",
    "            ISNA = ETR/aETc\n",
    "            if ISNA < 0.25: isna_array[0] += 1\n",
    "            elif ISNA < 0.5: isna_array[1] += 1\n",
    "            elif ISNA < 0.75: isna_array[2] += 1\n",
    "            elif ISNA < 0.9: isna_array[3] += 1\n",
    "            elif ISNA <= 1: isna_array[4] += 1\n",
    "            else: isna_array[5] += 1\n",
    "        isnas.append(pd.Series(isna_array, name=f'{v.iloc[i*10][\"Data\"]}-{v.iloc[120+i*10][\"Data\"]}', index=['Risco Extremo', 'Risco Alto', 'Risco Baixo', 'Risco Muito Baixo', 'Sem Risco', 'Erro']))\n",
    "    pd.concat(isnas, axis=1).to_csv('datasets/isnas/'+'_'.join(k)+'.csv')"
   ]
  },
  {
   "cell_type": "code",
   "execution_count": 14,
   "id": "0925efce",
   "metadata": {},
   "outputs": [
    {
     "data": {
      "text/plain": [
       "[14, 19, 13, 12, 63]"
      ]
     },
     "execution_count": 14,
     "metadata": {},
     "output_type": "execute_result"
    }
   ],
   "source": [
    "aARM = []\n",
    "De_f = 0\n",
    "De_i = 0\n",
    "Dr_f = 0\n",
    "isna_array = [0, 0, 0, 0, 0]\n",
    "#for idx, (doy, tx, tn, urx, urn, u2, qg, ap, _, _, _, _, _) in dados.iterrows():\n",
    "for idx, (_, _, doy, _, tx, tn, urx, urn, ap, u2, _, qg, _) in dados.iterrows():\n",
    "    # Termo Aerodinâmico    \n",
    "    S, tm, es, ea, lamb = termoAeroDinamico(params, urx, urn, tx, tn) #conferido\n",
    "    \n",
    "    #Saldo de Radiação\n",
    "    Qn = saldoDeRadiacao(params, doy, qg, tx, tn, ea) #conferido\n",
    "    \n",
    "    #Evapotranspiração de referência [mm/d]\n",
    "    aETo_PM = (0.408*S*(Qn)+lamb*900*u2*(es-ea)/(tm + 273))/(S+lamb*(1+0.34*u2)) #conferido\n",
    "\n",
    "    #Transpiracao Potencial\n",
    "    aKcb, trp, h, kcx = transpiracaoPotencial(params, u2, urn, aETo_PM, idx+1) #conferido\n",
    "    \n",
    "    #Evaporação\n",
    "    aETc, aKe, De_f, De_i = evaporacao(params, ap, aKcb, kcx, aETo_PM, De_f, h, idx+1) #conferido\n",
    "\n",
    "    aTAR, Dr_f, ETR = evapotranspiracaoReal(params, ap, aKcb, aETc, aKe, aETo_PM, De_i, Dr_f,idx+1)\n",
    "    \n",
    "    ISNA = ETR/aETc\n",
    "    if ISNA < 0.25: isna_array[0] += 1\n",
    "    elif ISNA < 0.5: isna_array[1] += 1\n",
    "    elif ISNA < 0.75: isna_array[2] += 1\n",
    "    elif ISNA < 0.9: isna_array[3] += 1\n",
    "    else: isna_array[4] += 1\n",
    "    aARM.append( max(aTAR - Dr_f,0) )\n",
    "    #print(fc, , , De_i)\n",
    "isna_array"
   ]
  },
  {
   "cell_type": "code",
   "execution_count": 32,
   "id": "969081f9",
   "metadata": {},
   "outputs": [
    {
     "data": {
      "text/plain": [
       "Z          127.000000\n",
       "FI          -9.467200\n",
       "L_INI       15.000000\n",
       "L_MID       25.000000\n",
       "L_CRES      25.000000\n",
       "L_FIM       11.000000\n",
       "KCB_INI      0.462095\n",
       "KCB_MID      1.114169\n",
       "KCB_FIM      0.500000\n",
       "HX           0.430000\n",
       "H            0.000000\n",
       "FW_INI       1.000000\n",
       "CC           0.244500\n",
       "PM           0.142500\n",
       "ZE           0.100000\n",
       "ZRN          0.100000\n",
       "ZRX          0.300000\n",
       "AFE         10.000000\n",
       "F            0.000000\n",
       "Name: 0, dtype: float64"
      ]
     },
     "execution_count": 32,
     "metadata": {},
     "output_type": "execute_result"
    }
   ],
   "source": [
    "print(kr x, few x)"
   ]
  },
  {
   "cell_type": "code",
   "execution_count": 33,
   "id": "5ee1df69",
   "metadata": {},
   "outputs": [
    {
     "data": {
      "text/plain": [
       "3.727092492253948"
      ]
     },
     "execution_count": 33,
     "metadata": {},
     "output_type": "execute_result"
    }
   ],
   "source": [
    "aETo_PM"
   ]
  },
  {
   "cell_type": "code",
   "execution_count": null,
   "id": "bcb62736",
   "metadata": {},
   "outputs": [],
   "source": []
  }
 ],
 "metadata": {
  "kernelspec": {
   "display_name": "Python 3",
   "language": "python",
   "name": "python3"
  },
  "language_info": {
   "codemirror_mode": {
    "name": "ipython",
    "version": 3
   },
   "file_extension": ".py",
   "mimetype": "text/x-python",
   "name": "python",
   "nbconvert_exporter": "python",
   "pygments_lexer": "ipython3",
   "version": "3.10.7"
  }
 },
 "nbformat": 4,
 "nbformat_minor": 5
}
